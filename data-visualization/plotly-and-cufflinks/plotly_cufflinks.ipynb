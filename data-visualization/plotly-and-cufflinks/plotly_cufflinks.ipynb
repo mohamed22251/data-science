{
 "cells": [
  {
   "cell_type": "markdown",
   "metadata": {},
   "source": [
    "# Plotly and Cufflinks\n",
    "\n",
    "Plotly is a library that allows you to create ```interactive plots that you can use in dashboards or websites``` (you can save them as html files or static images).\n",
    "\n",
    "## Installation\n",
    "\n",
    "In order for this all to work, you'll need to install plotly and cufflinks to call plots directly off of a pandas dataframe. These libraries are not currently available through conda but are available through pip. Install the libraries at your command line/terminal using:\n",
    "```python\n",
    "pip install plotly\n",
    "pip install cufflinks\n",
    "```\n",
    "#### NOTE: Make sure you only have one installation of Python on your computer when you do this, otherwise the installation may not work.\n",
    "\n",
    "### [Take a look at plotly website](https://plot.ly)\n",
    "### [and for python example with plotly and cufflinks click here](https://plot.ly/python/)\n",
    "\n",
    "## Using Plotly with Pandas depend on another library that connects Plotly with Pandas\n",
    "### [take a closer look at cufflinks](https://github.com/santosjorge/cufflinks)\n",
    "\n",
    "# NOTE: You can also take a look at the tutorial of Plotly from [TutuorialsPoint](https://www.tutorialspoint.com/plotly/plotly_tutorial.pdf)"
   ]
  },
  {
   "cell_type": "code",
   "execution_count": 1,
   "metadata": {},
   "outputs": [],
   "source": [
    "import pandas as pd\n",
    "import numpy as np\n",
    "import seaborn as sns\n",
    "import matplotlib.pyplot as plt\n",
    "%matplotlib inline\n",
    "sns.set()"
   ]
  },
  {
   "cell_type": "code",
   "execution_count": 2,
   "metadata": {},
   "outputs": [
    {
     "name": "stdout",
     "output_type": "stream",
     "text": [
      "4.5.0\n"
     ]
    }
   ],
   "source": [
    "from plotly import __version__\n",
    "from plotly.offline import download_plotlyjs, init_notebook_mode, plot, iplot\n",
    "print(__version__)"
   ]
  },
  {
   "cell_type": "code",
   "execution_count": 3,
   "metadata": {},
   "outputs": [],
   "source": [
    "import cufflinks as cf"
   ]
  },
  {
   "cell_type": "code",
   "execution_count": 4,
   "metadata": {},
   "outputs": [
    {
     "data": {
      "text/html": [
       "        <script type=\"text/javascript\">\n",
       "        window.PlotlyConfig = {MathJaxConfig: 'local'};\n",
       "        if (window.MathJax) {MathJax.Hub.Config({SVG: {font: \"STIX-Web\"}});}\n",
       "        if (typeof require !== 'undefined') {\n",
       "        require.undef(\"plotly\");\n",
       "        requirejs.config({\n",
       "            paths: {\n",
       "                'plotly': ['https://cdn.plot.ly/plotly-latest.min']\n",
       "            }\n",
       "        });\n",
       "        require(['plotly'], function(Plotly) {\n",
       "            window._Plotly = Plotly;\n",
       "        });\n",
       "        }\n",
       "        </script>\n",
       "        "
      ]
     },
     "metadata": {},
     "output_type": "display_data"
    }
   ],
   "source": [
    "# For Notebooks\n",
    "init_notebook_mode(connected=True)"
   ]
  },
  {
   "cell_type": "code",
   "execution_count": 5,
   "metadata": {},
   "outputs": [
    {
     "data": {
      "text/html": [
       "        <script type=\"text/javascript\">\n",
       "        window.PlotlyConfig = {MathJaxConfig: 'local'};\n",
       "        if (window.MathJax) {MathJax.Hub.Config({SVG: {font: \"STIX-Web\"}});}\n",
       "        if (typeof require !== 'undefined') {\n",
       "        require.undef(\"plotly\");\n",
       "        requirejs.config({\n",
       "            paths: {\n",
       "                'plotly': ['https://cdn.plot.ly/plotly-latest.min']\n",
       "            }\n",
       "        });\n",
       "        require(['plotly'], function(Plotly) {\n",
       "            window._Plotly = Plotly;\n",
       "        });\n",
       "        }\n",
       "        </script>\n",
       "        "
      ]
     },
     "metadata": {},
     "output_type": "display_data"
    }
   ],
   "source": [
    "# For offline mode\n",
    "cf.go_offline()"
   ]
  },
  {
   "cell_type": "markdown",
   "metadata": {},
   "source": [
    "### Fake data"
   ]
  },
  {
   "cell_type": "code",
   "execution_count": 6,
   "metadata": {},
   "outputs": [
    {
     "data": {
      "text/html": [
       "<div>\n",
       "<style scoped>\n",
       "    .dataframe tbody tr th:only-of-type {\n",
       "        vertical-align: middle;\n",
       "    }\n",
       "\n",
       "    .dataframe tbody tr th {\n",
       "        vertical-align: top;\n",
       "    }\n",
       "\n",
       "    .dataframe thead th {\n",
       "        text-align: right;\n",
       "    }\n",
       "</style>\n",
       "<table border=\"1\" class=\"dataframe\">\n",
       "  <thead>\n",
       "    <tr style=\"text-align: right;\">\n",
       "      <th></th>\n",
       "      <th>A</th>\n",
       "      <th>B</th>\n",
       "      <th>C</th>\n",
       "      <th>D</th>\n",
       "    </tr>\n",
       "  </thead>\n",
       "  <tbody>\n",
       "    <tr>\n",
       "      <th>0</th>\n",
       "      <td>0.953392</td>\n",
       "      <td>0.069476</td>\n",
       "      <td>0.386242</td>\n",
       "      <td>1.357997</td>\n",
       "    </tr>\n",
       "    <tr>\n",
       "      <th>1</th>\n",
       "      <td>0.796258</td>\n",
       "      <td>-1.160733</td>\n",
       "      <td>-1.103054</td>\n",
       "      <td>0.490314</td>\n",
       "    </tr>\n",
       "    <tr>\n",
       "      <th>2</th>\n",
       "      <td>0.944627</td>\n",
       "      <td>-1.049724</td>\n",
       "      <td>0.874723</td>\n",
       "      <td>0.821790</td>\n",
       "    </tr>\n",
       "    <tr>\n",
       "      <th>3</th>\n",
       "      <td>-0.428641</td>\n",
       "      <td>-1.501972</td>\n",
       "      <td>1.142762</td>\n",
       "      <td>1.848018</td>\n",
       "    </tr>\n",
       "    <tr>\n",
       "      <th>4</th>\n",
       "      <td>-0.690582</td>\n",
       "      <td>-0.352585</td>\n",
       "      <td>1.088477</td>\n",
       "      <td>1.289196</td>\n",
       "    </tr>\n",
       "  </tbody>\n",
       "</table>\n",
       "</div>"
      ],
      "text/plain": [
       "          A         B         C         D\n",
       "0  0.953392  0.069476  0.386242  1.357997\n",
       "1  0.796258 -1.160733 -1.103054  0.490314\n",
       "2  0.944627 -1.049724  0.874723  0.821790\n",
       "3 -0.428641 -1.501972  1.142762  1.848018\n",
       "4 -0.690582 -0.352585  1.088477  1.289196"
      ]
     },
     "execution_count": 6,
     "metadata": {},
     "output_type": "execute_result"
    }
   ],
   "source": [
    "df = pd.DataFrame(data=np.random.randn(100,4), columns='A B C D'.split())\n",
    "df.head()"
   ]
  },
  {
   "cell_type": "code",
   "execution_count": 7,
   "metadata": {},
   "outputs": [
    {
     "data": {
      "text/html": [
       "<div>\n",
       "<style scoped>\n",
       "    .dataframe tbody tr th:only-of-type {\n",
       "        vertical-align: middle;\n",
       "    }\n",
       "\n",
       "    .dataframe tbody tr th {\n",
       "        vertical-align: top;\n",
       "    }\n",
       "\n",
       "    .dataframe thead th {\n",
       "        text-align: right;\n",
       "    }\n",
       "</style>\n",
       "<table border=\"1\" class=\"dataframe\">\n",
       "  <thead>\n",
       "    <tr style=\"text-align: right;\">\n",
       "      <th></th>\n",
       "      <th>Category</th>\n",
       "      <th>Values</th>\n",
       "    </tr>\n",
       "  </thead>\n",
       "  <tbody>\n",
       "    <tr>\n",
       "      <th>0</th>\n",
       "      <td>A</td>\n",
       "      <td>32</td>\n",
       "    </tr>\n",
       "    <tr>\n",
       "      <th>1</th>\n",
       "      <td>B</td>\n",
       "      <td>43</td>\n",
       "    </tr>\n",
       "    <tr>\n",
       "      <th>2</th>\n",
       "      <td>C</td>\n",
       "      <td>50</td>\n",
       "    </tr>\n",
       "  </tbody>\n",
       "</table>\n",
       "</div>"
      ],
      "text/plain": [
       "  Category  Values\n",
       "0        A      32\n",
       "1        B      43\n",
       "2        C      50"
      ]
     },
     "execution_count": 7,
     "metadata": {},
     "output_type": "execute_result"
    }
   ],
   "source": [
    "data = pd.DataFrame(data={'Category': ['A', 'B', 'C'], 'Values':[32,43,50]})\n",
    "data.head()"
   ]
  },
  {
   "cell_type": "markdown",
   "metadata": {},
   "source": [
    "\n",
    "## Using Cufflinks and iplot()\n",
    "\n",
    "   - scatter\n",
    "   - bar\n",
    "   - box\n",
    "   - spread\n",
    "   - ratio\n",
    "   - heatmap\n",
    "   - surface\n",
    "   - histogram\n",
    "   - bubble"
   ]
  },
  {
   "cell_type": "code",
   "execution_count": 8,
   "metadata": {},
   "outputs": [
    {
     "data": {
      "application/vnd.plotly.v1+json": {
       "config": {
        "linkText": "Export to plot.ly",
        "plotlyServerURL": "https://plot.ly",
        "showLink": true
       },
       "data": [
        {
         "line": {
          "color": "rgba(255, 153, 51, 1.0)",
          "dash": "solid",
          "shape": "linear",
          "width": 1.3
         },
         "marker": {
          "size": 10,
          "symbol": "circle"
         },
         "mode": "markers",
         "name": "B",
         "text": "",
         "type": "scatter",
         "x": [
          0.9533923532252154,
          0.7962578503151079,
          0.9446265933015333,
          -0.42864094189536345,
          -0.6905822967359128,
          0.545787353838866,
          -0.7495000133758046,
          -0.3762815578281219,
          0.3338145439069094,
          1.8164322972195024,
          -0.45792968633020076,
          0.37527095200432803,
          1.6257569004557955,
          -1.0553284569165717,
          -1.5696652241668305,
          -0.3228740712113491,
          0.1507472809239381,
          -0.5236479525340905,
          -1.4136103156819133,
          -0.25450762723785664,
          -0.3528814569744451,
          -0.5218846044634726,
          1.4625662999874716,
          -0.29412671346680097,
          1.0894037294964314,
          0.8454922650572088,
          1.1524461039633298,
          -0.3993380856970902,
          1.4481690182844273,
          0.5306664780946375,
          -0.3353654523770128,
          1.0164031310864774,
          0.5688651882963847,
          -0.7526355976340225,
          0.678666989205376,
          -0.676297494024862,
          -0.9994460323512003,
          -0.09574448606538073,
          -0.44460656961300205,
          -0.44951144023012246,
          -1.2048471417206936,
          0.7085546291673673,
          0.6547152374806319,
          -0.7423025231136463,
          -2.1840448982989344,
          -1.0761526288632624,
          -0.8821739194264769,
          0.16686387735840705,
          -1.6161118772902994,
          -2.20726383604153,
          1.0311954284225517,
          -0.242110444341512,
          -0.13962810666291445,
          0.5792425627063781,
          1.7064911400976197,
          1.0447748476017658,
          0.5514204827280627,
          -0.2762503662657573,
          0.7549544200480618,
          0.2775470665053151,
          -0.5982610550270542,
          -0.22943336333057485,
          -0.9634299159356345,
          0.9426435162691165,
          -2.78429824560043,
          -1.0727632114734371,
          -0.6725702929710772,
          -1.3972696238020141,
          -0.09263107503903131,
          -0.0852572909075391,
          1.6541989070099647,
          0.9381501595964749,
          1.0954607253099615,
          0.0963009934795626,
          -0.3485949014755212,
          -0.4694509996304064,
          0.24703932030270714,
          1.4068080908410796,
          -0.6683069699263524,
          1.0235858873351433,
          0.4496249563956825,
          0.39823683814607497,
          1.7915890976254676,
          -1.3276782228531736,
          0.9539407573453836,
          -0.11839409168110034,
          -0.4908515286224764,
          0.7214190615733209,
          -1.2964801667391652,
          0.8113597656016831,
          1.0927746445277344,
          0.15306711543042487,
          0.5150282622650163,
          -0.7743053253986879,
          -1.3428282038945936,
          -0.6916081901577839,
          -0.3848626572878707,
          -0.7531296637862062,
          -0.06521943121422427,
          -0.4175317297317254
         ],
         "y": [
          0.06947627645146132,
          -1.1607331144368884,
          -1.0497237200184943,
          -1.5019722344727746,
          -0.35258467341524236,
          -0.2613228779269877,
          -0.06139124485561016,
          -0.44360043268460614,
          0.5872810423296456,
          1.6453995448818386,
          -0.7900626782826925,
          0.18850992933071747,
          1.7249806781280306,
          1.7419381851834321,
          0.12978630101315522,
          -0.6184924891150716,
          1.3239594395322758,
          -0.8221817143634784,
          0.1729970616350675,
          -0.06451233675875263,
          1.806990957117825,
          -0.07398636085416085,
          0.8577491295231231,
          0.7950606607627105,
          -0.21130922179843403,
          -0.33469796249196276,
          1.4981538840123534,
          -0.37300060573819865,
          -0.6636143565365548,
          0.21665831066383276,
          -0.6704273842363159,
          -0.5419693348508918,
          0.4827874038183322,
          0.11512264384583679,
          -1.995149410421762,
          -0.24652486006627924,
          -2.0379604789618577,
          1.5251422775071708,
          -0.09475683944237748,
          -0.4152216032207558,
          1.0538852176943854,
          0.9601525791285485,
          0.5000010334891224,
          1.2485272427426186,
          0.8235984689487181,
          0.474745927388093,
          -1.4936499081932895,
          0.1426436720132142,
          0.37031345404667415,
          0.31292079605749484,
          0.05974849585601801,
          0.12891917352285698,
          0.6460500265917863,
          0.7892432827025327,
          -0.4842582356008212,
          0.7010336915602854,
          2.0534288048468974,
          -0.675806191857299,
          -0.5346894222900018,
          0.11199315394758796,
          -1.6037419859915685,
          1.4675262838719447,
          -0.7155811026629516,
          -0.5697123833533212,
          0.13424980737666348,
          0.5363928716736676,
          -0.664561078210953,
          -0.5909996720870854,
          -1.1243652440851621,
          2.4349656634141517,
          0.0850612426247251,
          -0.0372770038794375,
          -0.6028590721689905,
          0.9092158213811373,
          1.402430473603624,
          0.41745183831560073,
          -0.20313523445200599,
          1.0764350847389748,
          1.4423102931701026,
          1.218346375994514,
          0.3355120938252802,
          0.4733931746569244,
          -0.2393567851765012,
          1.9489466889539204,
          -0.5848238215674598,
          -1.6455253042673064,
          1.4180247584903094,
          -0.8569693533754201,
          1.0282726134368507,
          -0.515658480873396,
          0.06909637953208433,
          -1.1426104768023915,
          0.051162969647525966,
          -0.1644305552111428,
          0.01357270195562589,
          1.5799064467391917,
          0.1833104094552434,
          -2.323886990231017,
          -0.21440703575713888,
          -0.3262744037676085
         ]
        }
       ],
       "layout": {
        "legend": {
         "bgcolor": "#F5F6F9",
         "font": {
          "color": "#4D5663"
         }
        },
        "paper_bgcolor": "#F5F6F9",
        "plot_bgcolor": "#F5F6F9",
        "template": {
         "data": {
          "bar": [
           {
            "error_x": {
             "color": "#2a3f5f"
            },
            "error_y": {
             "color": "#2a3f5f"
            },
            "marker": {
             "line": {
              "color": "#E5ECF6",
              "width": 0.5
             }
            },
            "type": "bar"
           }
          ],
          "barpolar": [
           {
            "marker": {
             "line": {
              "color": "#E5ECF6",
              "width": 0.5
             }
            },
            "type": "barpolar"
           }
          ],
          "carpet": [
           {
            "aaxis": {
             "endlinecolor": "#2a3f5f",
             "gridcolor": "white",
             "linecolor": "white",
             "minorgridcolor": "white",
             "startlinecolor": "#2a3f5f"
            },
            "baxis": {
             "endlinecolor": "#2a3f5f",
             "gridcolor": "white",
             "linecolor": "white",
             "minorgridcolor": "white",
             "startlinecolor": "#2a3f5f"
            },
            "type": "carpet"
           }
          ],
          "choropleth": [
           {
            "colorbar": {
             "outlinewidth": 0,
             "ticks": ""
            },
            "type": "choropleth"
           }
          ],
          "contour": [
           {
            "colorbar": {
             "outlinewidth": 0,
             "ticks": ""
            },
            "colorscale": [
             [
              0,
              "#0d0887"
             ],
             [
              0.1111111111111111,
              "#46039f"
             ],
             [
              0.2222222222222222,
              "#7201a8"
             ],
             [
              0.3333333333333333,
              "#9c179e"
             ],
             [
              0.4444444444444444,
              "#bd3786"
             ],
             [
              0.5555555555555556,
              "#d8576b"
             ],
             [
              0.6666666666666666,
              "#ed7953"
             ],
             [
              0.7777777777777778,
              "#fb9f3a"
             ],
             [
              0.8888888888888888,
              "#fdca26"
             ],
             [
              1,
              "#f0f921"
             ]
            ],
            "type": "contour"
           }
          ],
          "contourcarpet": [
           {
            "colorbar": {
             "outlinewidth": 0,
             "ticks": ""
            },
            "type": "contourcarpet"
           }
          ],
          "heatmap": [
           {
            "colorbar": {
             "outlinewidth": 0,
             "ticks": ""
            },
            "colorscale": [
             [
              0,
              "#0d0887"
             ],
             [
              0.1111111111111111,
              "#46039f"
             ],
             [
              0.2222222222222222,
              "#7201a8"
             ],
             [
              0.3333333333333333,
              "#9c179e"
             ],
             [
              0.4444444444444444,
              "#bd3786"
             ],
             [
              0.5555555555555556,
              "#d8576b"
             ],
             [
              0.6666666666666666,
              "#ed7953"
             ],
             [
              0.7777777777777778,
              "#fb9f3a"
             ],
             [
              0.8888888888888888,
              "#fdca26"
             ],
             [
              1,
              "#f0f921"
             ]
            ],
            "type": "heatmap"
           }
          ],
          "heatmapgl": [
           {
            "colorbar": {
             "outlinewidth": 0,
             "ticks": ""
            },
            "colorscale": [
             [
              0,
              "#0d0887"
             ],
             [
              0.1111111111111111,
              "#46039f"
             ],
             [
              0.2222222222222222,
              "#7201a8"
             ],
             [
              0.3333333333333333,
              "#9c179e"
             ],
             [
              0.4444444444444444,
              "#bd3786"
             ],
             [
              0.5555555555555556,
              "#d8576b"
             ],
             [
              0.6666666666666666,
              "#ed7953"
             ],
             [
              0.7777777777777778,
              "#fb9f3a"
             ],
             [
              0.8888888888888888,
              "#fdca26"
             ],
             [
              1,
              "#f0f921"
             ]
            ],
            "type": "heatmapgl"
           }
          ],
          "histogram": [
           {
            "marker": {
             "colorbar": {
              "outlinewidth": 0,
              "ticks": ""
             }
            },
            "type": "histogram"
           }
          ],
          "histogram2d": [
           {
            "colorbar": {
             "outlinewidth": 0,
             "ticks": ""
            },
            "colorscale": [
             [
              0,
              "#0d0887"
             ],
             [
              0.1111111111111111,
              "#46039f"
             ],
             [
              0.2222222222222222,
              "#7201a8"
             ],
             [
              0.3333333333333333,
              "#9c179e"
             ],
             [
              0.4444444444444444,
              "#bd3786"
             ],
             [
              0.5555555555555556,
              "#d8576b"
             ],
             [
              0.6666666666666666,
              "#ed7953"
             ],
             [
              0.7777777777777778,
              "#fb9f3a"
             ],
             [
              0.8888888888888888,
              "#fdca26"
             ],
             [
              1,
              "#f0f921"
             ]
            ],
            "type": "histogram2d"
           }
          ],
          "histogram2dcontour": [
           {
            "colorbar": {
             "outlinewidth": 0,
             "ticks": ""
            },
            "colorscale": [
             [
              0,
              "#0d0887"
             ],
             [
              0.1111111111111111,
              "#46039f"
             ],
             [
              0.2222222222222222,
              "#7201a8"
             ],
             [
              0.3333333333333333,
              "#9c179e"
             ],
             [
              0.4444444444444444,
              "#bd3786"
             ],
             [
              0.5555555555555556,
              "#d8576b"
             ],
             [
              0.6666666666666666,
              "#ed7953"
             ],
             [
              0.7777777777777778,
              "#fb9f3a"
             ],
             [
              0.8888888888888888,
              "#fdca26"
             ],
             [
              1,
              "#f0f921"
             ]
            ],
            "type": "histogram2dcontour"
           }
          ],
          "mesh3d": [
           {
            "colorbar": {
             "outlinewidth": 0,
             "ticks": ""
            },
            "type": "mesh3d"
           }
          ],
          "parcoords": [
           {
            "line": {
             "colorbar": {
              "outlinewidth": 0,
              "ticks": ""
             }
            },
            "type": "parcoords"
           }
          ],
          "pie": [
           {
            "automargin": true,
            "type": "pie"
           }
          ],
          "scatter": [
           {
            "marker": {
             "colorbar": {
              "outlinewidth": 0,
              "ticks": ""
             }
            },
            "type": "scatter"
           }
          ],
          "scatter3d": [
           {
            "line": {
             "colorbar": {
              "outlinewidth": 0,
              "ticks": ""
             }
            },
            "marker": {
             "colorbar": {
              "outlinewidth": 0,
              "ticks": ""
             }
            },
            "type": "scatter3d"
           }
          ],
          "scattercarpet": [
           {
            "marker": {
             "colorbar": {
              "outlinewidth": 0,
              "ticks": ""
             }
            },
            "type": "scattercarpet"
           }
          ],
          "scattergeo": [
           {
            "marker": {
             "colorbar": {
              "outlinewidth": 0,
              "ticks": ""
             }
            },
            "type": "scattergeo"
           }
          ],
          "scattergl": [
           {
            "marker": {
             "colorbar": {
              "outlinewidth": 0,
              "ticks": ""
             }
            },
            "type": "scattergl"
           }
          ],
          "scattermapbox": [
           {
            "marker": {
             "colorbar": {
              "outlinewidth": 0,
              "ticks": ""
             }
            },
            "type": "scattermapbox"
           }
          ],
          "scatterpolar": [
           {
            "marker": {
             "colorbar": {
              "outlinewidth": 0,
              "ticks": ""
             }
            },
            "type": "scatterpolar"
           }
          ],
          "scatterpolargl": [
           {
            "marker": {
             "colorbar": {
              "outlinewidth": 0,
              "ticks": ""
             }
            },
            "type": "scatterpolargl"
           }
          ],
          "scatterternary": [
           {
            "marker": {
             "colorbar": {
              "outlinewidth": 0,
              "ticks": ""
             }
            },
            "type": "scatterternary"
           }
          ],
          "surface": [
           {
            "colorbar": {
             "outlinewidth": 0,
             "ticks": ""
            },
            "colorscale": [
             [
              0,
              "#0d0887"
             ],
             [
              0.1111111111111111,
              "#46039f"
             ],
             [
              0.2222222222222222,
              "#7201a8"
             ],
             [
              0.3333333333333333,
              "#9c179e"
             ],
             [
              0.4444444444444444,
              "#bd3786"
             ],
             [
              0.5555555555555556,
              "#d8576b"
             ],
             [
              0.6666666666666666,
              "#ed7953"
             ],
             [
              0.7777777777777778,
              "#fb9f3a"
             ],
             [
              0.8888888888888888,
              "#fdca26"
             ],
             [
              1,
              "#f0f921"
             ]
            ],
            "type": "surface"
           }
          ],
          "table": [
           {
            "cells": {
             "fill": {
              "color": "#EBF0F8"
             },
             "line": {
              "color": "white"
             }
            },
            "header": {
             "fill": {
              "color": "#C8D4E3"
             },
             "line": {
              "color": "white"
             }
            },
            "type": "table"
           }
          ]
         },
         "layout": {
          "annotationdefaults": {
           "arrowcolor": "#2a3f5f",
           "arrowhead": 0,
           "arrowwidth": 1
          },
          "coloraxis": {
           "colorbar": {
            "outlinewidth": 0,
            "ticks": ""
           }
          },
          "colorscale": {
           "diverging": [
            [
             0,
             "#8e0152"
            ],
            [
             0.1,
             "#c51b7d"
            ],
            [
             0.2,
             "#de77ae"
            ],
            [
             0.3,
             "#f1b6da"
            ],
            [
             0.4,
             "#fde0ef"
            ],
            [
             0.5,
             "#f7f7f7"
            ],
            [
             0.6,
             "#e6f5d0"
            ],
            [
             0.7,
             "#b8e186"
            ],
            [
             0.8,
             "#7fbc41"
            ],
            [
             0.9,
             "#4d9221"
            ],
            [
             1,
             "#276419"
            ]
           ],
           "sequential": [
            [
             0,
             "#0d0887"
            ],
            [
             0.1111111111111111,
             "#46039f"
            ],
            [
             0.2222222222222222,
             "#7201a8"
            ],
            [
             0.3333333333333333,
             "#9c179e"
            ],
            [
             0.4444444444444444,
             "#bd3786"
            ],
            [
             0.5555555555555556,
             "#d8576b"
            ],
            [
             0.6666666666666666,
             "#ed7953"
            ],
            [
             0.7777777777777778,
             "#fb9f3a"
            ],
            [
             0.8888888888888888,
             "#fdca26"
            ],
            [
             1,
             "#f0f921"
            ]
           ],
           "sequentialminus": [
            [
             0,
             "#0d0887"
            ],
            [
             0.1111111111111111,
             "#46039f"
            ],
            [
             0.2222222222222222,
             "#7201a8"
            ],
            [
             0.3333333333333333,
             "#9c179e"
            ],
            [
             0.4444444444444444,
             "#bd3786"
            ],
            [
             0.5555555555555556,
             "#d8576b"
            ],
            [
             0.6666666666666666,
             "#ed7953"
            ],
            [
             0.7777777777777778,
             "#fb9f3a"
            ],
            [
             0.8888888888888888,
             "#fdca26"
            ],
            [
             1,
             "#f0f921"
            ]
           ]
          },
          "colorway": [
           "#636efa",
           "#EF553B",
           "#00cc96",
           "#ab63fa",
           "#FFA15A",
           "#19d3f3",
           "#FF6692",
           "#B6E880",
           "#FF97FF",
           "#FECB52"
          ],
          "font": {
           "color": "#2a3f5f"
          },
          "geo": {
           "bgcolor": "white",
           "lakecolor": "white",
           "landcolor": "#E5ECF6",
           "showlakes": true,
           "showland": true,
           "subunitcolor": "white"
          },
          "hoverlabel": {
           "align": "left"
          },
          "hovermode": "closest",
          "mapbox": {
           "style": "light"
          },
          "paper_bgcolor": "white",
          "plot_bgcolor": "#E5ECF6",
          "polar": {
           "angularaxis": {
            "gridcolor": "white",
            "linecolor": "white",
            "ticks": ""
           },
           "bgcolor": "#E5ECF6",
           "radialaxis": {
            "gridcolor": "white",
            "linecolor": "white",
            "ticks": ""
           }
          },
          "scene": {
           "xaxis": {
            "backgroundcolor": "#E5ECF6",
            "gridcolor": "white",
            "gridwidth": 2,
            "linecolor": "white",
            "showbackground": true,
            "ticks": "",
            "zerolinecolor": "white"
           },
           "yaxis": {
            "backgroundcolor": "#E5ECF6",
            "gridcolor": "white",
            "gridwidth": 2,
            "linecolor": "white",
            "showbackground": true,
            "ticks": "",
            "zerolinecolor": "white"
           },
           "zaxis": {
            "backgroundcolor": "#E5ECF6",
            "gridcolor": "white",
            "gridwidth": 2,
            "linecolor": "white",
            "showbackground": true,
            "ticks": "",
            "zerolinecolor": "white"
           }
          },
          "shapedefaults": {
           "line": {
            "color": "#2a3f5f"
           }
          },
          "ternary": {
           "aaxis": {
            "gridcolor": "white",
            "linecolor": "white",
            "ticks": ""
           },
           "baxis": {
            "gridcolor": "white",
            "linecolor": "white",
            "ticks": ""
           },
           "bgcolor": "#E5ECF6",
           "caxis": {
            "gridcolor": "white",
            "linecolor": "white",
            "ticks": ""
           }
          },
          "title": {
           "x": 0.05
          },
          "xaxis": {
           "automargin": true,
           "gridcolor": "white",
           "linecolor": "white",
           "ticks": "",
           "title": {
            "standoff": 15
           },
           "zerolinecolor": "white",
           "zerolinewidth": 2
          },
          "yaxis": {
           "automargin": true,
           "gridcolor": "white",
           "linecolor": "white",
           "ticks": "",
           "title": {
            "standoff": 15
           },
           "zerolinecolor": "white",
           "zerolinewidth": 2
          }
         }
        },
        "title": {
         "font": {
          "color": "#4D5663"
         }
        },
        "xaxis": {
         "gridcolor": "#E1E5ED",
         "showgrid": true,
         "tickfont": {
          "color": "#4D5663"
         },
         "title": {
          "font": {
           "color": "#4D5663"
          },
          "text": ""
         },
         "zerolinecolor": "#E1E5ED"
        },
        "yaxis": {
         "gridcolor": "#E1E5ED",
         "showgrid": true,
         "tickfont": {
          "color": "#4D5663"
         },
         "title": {
          "font": {
           "color": "#4D5663"
          },
          "text": ""
         },
         "zerolinecolor": "#E1E5ED"
        }
       }
      },
      "text/html": [
       "<div>\n",
       "        \n",
       "        \n",
       "            <div id=\"9aaafb4e-a40c-46a4-8d8c-d86c3bda0efe\" class=\"plotly-graph-div\" style=\"height:525px; width:100%;\"></div>\n",
       "            <script type=\"text/javascript\">\n",
       "                require([\"plotly\"], function(Plotly) {\n",
       "                    window.PLOTLYENV=window.PLOTLYENV || {};\n",
       "                    window.PLOTLYENV.BASE_URL='https://plot.ly';\n",
       "                    \n",
       "                if (document.getElementById(\"9aaafb4e-a40c-46a4-8d8c-d86c3bda0efe\")) {\n",
       "                    Plotly.newPlot(\n",
       "                        '9aaafb4e-a40c-46a4-8d8c-d86c3bda0efe',\n",
       "                        [{\"line\": {\"color\": \"rgba(255, 153, 51, 1.0)\", \"dash\": \"solid\", \"shape\": \"linear\", \"width\": 1.3}, \"marker\": {\"size\": 10, \"symbol\": \"circle\"}, \"mode\": \"markers\", \"name\": \"B\", \"text\": \"\", \"type\": \"scatter\", \"x\": [0.9533923532252154, 0.7962578503151079, 0.9446265933015333, -0.42864094189536345, -0.6905822967359128, 0.545787353838866, -0.7495000133758046, -0.3762815578281219, 0.3338145439069094, 1.8164322972195024, -0.45792968633020076, 0.37527095200432803, 1.6257569004557955, -1.0553284569165717, -1.5696652241668305, -0.3228740712113491, 0.1507472809239381, -0.5236479525340905, -1.4136103156819133, -0.25450762723785664, -0.3528814569744451, -0.5218846044634726, 1.4625662999874716, -0.29412671346680097, 1.0894037294964314, 0.8454922650572088, 1.1524461039633298, -0.3993380856970902, 1.4481690182844273, 0.5306664780946375, -0.3353654523770128, 1.0164031310864774, 0.5688651882963847, -0.7526355976340225, 0.678666989205376, -0.676297494024862, -0.9994460323512003, -0.09574448606538073, -0.44460656961300205, -0.44951144023012246, -1.2048471417206936, 0.7085546291673673, 0.6547152374806319, -0.7423025231136463, -2.1840448982989344, -1.0761526288632624, -0.8821739194264769, 0.16686387735840705, -1.6161118772902994, -2.20726383604153, 1.0311954284225517, -0.242110444341512, -0.13962810666291445, 0.5792425627063781, 1.7064911400976197, 1.0447748476017658, 0.5514204827280627, -0.2762503662657573, 0.7549544200480618, 0.2775470665053151, -0.5982610550270542, -0.22943336333057485, -0.9634299159356345, 0.9426435162691165, -2.78429824560043, -1.0727632114734371, -0.6725702929710772, -1.3972696238020141, -0.09263107503903131, -0.0852572909075391, 1.6541989070099647, 0.9381501595964749, 1.0954607253099615, 0.0963009934795626, -0.3485949014755212, -0.4694509996304064, 0.24703932030270714, 1.4068080908410796, -0.6683069699263524, 1.0235858873351433, 0.4496249563956825, 0.39823683814607497, 1.7915890976254676, -1.3276782228531736, 0.9539407573453836, -0.11839409168110034, -0.4908515286224764, 0.7214190615733209, -1.2964801667391652, 0.8113597656016831, 1.0927746445277344, 0.15306711543042487, 0.5150282622650163, -0.7743053253986879, -1.3428282038945936, -0.6916081901577839, -0.3848626572878707, -0.7531296637862062, -0.06521943121422427, -0.4175317297317254], \"y\": [0.06947627645146132, -1.1607331144368884, -1.0497237200184943, -1.5019722344727746, -0.35258467341524236, -0.2613228779269877, -0.06139124485561016, -0.44360043268460614, 0.5872810423296456, 1.6453995448818386, -0.7900626782826925, 0.18850992933071747, 1.7249806781280306, 1.7419381851834321, 0.12978630101315522, -0.6184924891150716, 1.3239594395322758, -0.8221817143634784, 0.1729970616350675, -0.06451233675875263, 1.806990957117825, -0.07398636085416085, 0.8577491295231231, 0.7950606607627105, -0.21130922179843403, -0.33469796249196276, 1.4981538840123534, -0.37300060573819865, -0.6636143565365548, 0.21665831066383276, -0.6704273842363159, -0.5419693348508918, 0.4827874038183322, 0.11512264384583679, -1.995149410421762, -0.24652486006627924, -2.0379604789618577, 1.5251422775071708, -0.09475683944237748, -0.4152216032207558, 1.0538852176943854, 0.9601525791285485, 0.5000010334891224, 1.2485272427426186, 0.8235984689487181, 0.474745927388093, -1.4936499081932895, 0.1426436720132142, 0.37031345404667415, 0.31292079605749484, 0.05974849585601801, 0.12891917352285698, 0.6460500265917863, 0.7892432827025327, -0.4842582356008212, 0.7010336915602854, 2.0534288048468974, -0.675806191857299, -0.5346894222900018, 0.11199315394758796, -1.6037419859915685, 1.4675262838719447, -0.7155811026629516, -0.5697123833533212, 0.13424980737666348, 0.5363928716736676, -0.664561078210953, -0.5909996720870854, -1.1243652440851621, 2.4349656634141517, 0.0850612426247251, -0.0372770038794375, -0.6028590721689905, 0.9092158213811373, 1.402430473603624, 0.41745183831560073, -0.20313523445200599, 1.0764350847389748, 1.4423102931701026, 1.218346375994514, 0.3355120938252802, 0.4733931746569244, -0.2393567851765012, 1.9489466889539204, -0.5848238215674598, -1.6455253042673064, 1.4180247584903094, -0.8569693533754201, 1.0282726134368507, -0.515658480873396, 0.06909637953208433, -1.1426104768023915, 0.051162969647525966, -0.1644305552111428, 0.01357270195562589, 1.5799064467391917, 0.1833104094552434, -2.323886990231017, -0.21440703575713888, -0.3262744037676085]}],\n",
       "                        {\"legend\": {\"bgcolor\": \"#F5F6F9\", \"font\": {\"color\": \"#4D5663\"}}, \"paper_bgcolor\": \"#F5F6F9\", \"plot_bgcolor\": \"#F5F6F9\", \"template\": {\"data\": {\"bar\": [{\"error_x\": {\"color\": \"#2a3f5f\"}, \"error_y\": {\"color\": \"#2a3f5f\"}, \"marker\": {\"line\": {\"color\": \"#E5ECF6\", \"width\": 0.5}}, \"type\": \"bar\"}], \"barpolar\": [{\"marker\": {\"line\": {\"color\": \"#E5ECF6\", \"width\": 0.5}}, \"type\": \"barpolar\"}], \"carpet\": [{\"aaxis\": {\"endlinecolor\": \"#2a3f5f\", \"gridcolor\": \"white\", \"linecolor\": \"white\", \"minorgridcolor\": \"white\", \"startlinecolor\": \"#2a3f5f\"}, \"baxis\": {\"endlinecolor\": \"#2a3f5f\", \"gridcolor\": \"white\", \"linecolor\": \"white\", \"minorgridcolor\": \"white\", \"startlinecolor\": \"#2a3f5f\"}, \"type\": \"carpet\"}], \"choropleth\": [{\"colorbar\": {\"outlinewidth\": 0, \"ticks\": \"\"}, \"type\": \"choropleth\"}], \"contour\": [{\"colorbar\": {\"outlinewidth\": 0, \"ticks\": \"\"}, \"colorscale\": [[0.0, \"#0d0887\"], [0.1111111111111111, \"#46039f\"], [0.2222222222222222, \"#7201a8\"], [0.3333333333333333, \"#9c179e\"], [0.4444444444444444, \"#bd3786\"], [0.5555555555555556, \"#d8576b\"], [0.6666666666666666, \"#ed7953\"], [0.7777777777777778, \"#fb9f3a\"], [0.8888888888888888, \"#fdca26\"], [1.0, \"#f0f921\"]], \"type\": \"contour\"}], \"contourcarpet\": [{\"colorbar\": {\"outlinewidth\": 0, \"ticks\": \"\"}, \"type\": \"contourcarpet\"}], \"heatmap\": [{\"colorbar\": {\"outlinewidth\": 0, \"ticks\": \"\"}, \"colorscale\": [[0.0, \"#0d0887\"], [0.1111111111111111, \"#46039f\"], [0.2222222222222222, \"#7201a8\"], [0.3333333333333333, \"#9c179e\"], [0.4444444444444444, \"#bd3786\"], [0.5555555555555556, \"#d8576b\"], [0.6666666666666666, \"#ed7953\"], [0.7777777777777778, \"#fb9f3a\"], [0.8888888888888888, \"#fdca26\"], [1.0, \"#f0f921\"]], \"type\": \"heatmap\"}], \"heatmapgl\": [{\"colorbar\": {\"outlinewidth\": 0, \"ticks\": \"\"}, \"colorscale\": [[0.0, \"#0d0887\"], [0.1111111111111111, \"#46039f\"], [0.2222222222222222, \"#7201a8\"], [0.3333333333333333, \"#9c179e\"], [0.4444444444444444, \"#bd3786\"], [0.5555555555555556, \"#d8576b\"], [0.6666666666666666, \"#ed7953\"], [0.7777777777777778, \"#fb9f3a\"], [0.8888888888888888, \"#fdca26\"], [1.0, \"#f0f921\"]], \"type\": \"heatmapgl\"}], \"histogram\": [{\"marker\": {\"colorbar\": {\"outlinewidth\": 0, \"ticks\": \"\"}}, \"type\": \"histogram\"}], \"histogram2d\": [{\"colorbar\": {\"outlinewidth\": 0, \"ticks\": \"\"}, \"colorscale\": [[0.0, \"#0d0887\"], [0.1111111111111111, \"#46039f\"], [0.2222222222222222, \"#7201a8\"], [0.3333333333333333, \"#9c179e\"], [0.4444444444444444, \"#bd3786\"], [0.5555555555555556, \"#d8576b\"], [0.6666666666666666, \"#ed7953\"], [0.7777777777777778, \"#fb9f3a\"], [0.8888888888888888, \"#fdca26\"], [1.0, \"#f0f921\"]], \"type\": \"histogram2d\"}], \"histogram2dcontour\": [{\"colorbar\": {\"outlinewidth\": 0, \"ticks\": \"\"}, \"colorscale\": [[0.0, \"#0d0887\"], [0.1111111111111111, \"#46039f\"], [0.2222222222222222, \"#7201a8\"], [0.3333333333333333, \"#9c179e\"], [0.4444444444444444, \"#bd3786\"], [0.5555555555555556, \"#d8576b\"], [0.6666666666666666, \"#ed7953\"], [0.7777777777777778, \"#fb9f3a\"], [0.8888888888888888, \"#fdca26\"], [1.0, \"#f0f921\"]], \"type\": \"histogram2dcontour\"}], \"mesh3d\": [{\"colorbar\": {\"outlinewidth\": 0, \"ticks\": \"\"}, \"type\": \"mesh3d\"}], \"parcoords\": [{\"line\": {\"colorbar\": {\"outlinewidth\": 0, \"ticks\": \"\"}}, \"type\": \"parcoords\"}], \"pie\": [{\"automargin\": true, \"type\": \"pie\"}], \"scatter\": [{\"marker\": {\"colorbar\": {\"outlinewidth\": 0, \"ticks\": \"\"}}, \"type\": \"scatter\"}], \"scatter3d\": [{\"line\": {\"colorbar\": {\"outlinewidth\": 0, \"ticks\": \"\"}}, \"marker\": {\"colorbar\": {\"outlinewidth\": 0, \"ticks\": \"\"}}, \"type\": \"scatter3d\"}], \"scattercarpet\": [{\"marker\": {\"colorbar\": {\"outlinewidth\": 0, \"ticks\": \"\"}}, \"type\": \"scattercarpet\"}], \"scattergeo\": [{\"marker\": {\"colorbar\": {\"outlinewidth\": 0, \"ticks\": \"\"}}, \"type\": \"scattergeo\"}], \"scattergl\": [{\"marker\": {\"colorbar\": {\"outlinewidth\": 0, \"ticks\": \"\"}}, \"type\": \"scattergl\"}], \"scattermapbox\": [{\"marker\": {\"colorbar\": {\"outlinewidth\": 0, \"ticks\": \"\"}}, \"type\": \"scattermapbox\"}], \"scatterpolar\": [{\"marker\": {\"colorbar\": {\"outlinewidth\": 0, \"ticks\": \"\"}}, \"type\": \"scatterpolar\"}], \"scatterpolargl\": [{\"marker\": {\"colorbar\": {\"outlinewidth\": 0, \"ticks\": \"\"}}, \"type\": \"scatterpolargl\"}], \"scatterternary\": [{\"marker\": {\"colorbar\": {\"outlinewidth\": 0, \"ticks\": \"\"}}, \"type\": \"scatterternary\"}], \"surface\": [{\"colorbar\": {\"outlinewidth\": 0, \"ticks\": \"\"}, \"colorscale\": [[0.0, \"#0d0887\"], [0.1111111111111111, \"#46039f\"], [0.2222222222222222, \"#7201a8\"], [0.3333333333333333, \"#9c179e\"], [0.4444444444444444, \"#bd3786\"], [0.5555555555555556, \"#d8576b\"], [0.6666666666666666, \"#ed7953\"], [0.7777777777777778, \"#fb9f3a\"], [0.8888888888888888, \"#fdca26\"], [1.0, \"#f0f921\"]], \"type\": \"surface\"}], \"table\": [{\"cells\": {\"fill\": {\"color\": \"#EBF0F8\"}, \"line\": {\"color\": \"white\"}}, \"header\": {\"fill\": {\"color\": \"#C8D4E3\"}, \"line\": {\"color\": \"white\"}}, \"type\": \"table\"}]}, \"layout\": {\"annotationdefaults\": {\"arrowcolor\": \"#2a3f5f\", \"arrowhead\": 0, \"arrowwidth\": 1}, \"coloraxis\": {\"colorbar\": {\"outlinewidth\": 0, \"ticks\": \"\"}}, \"colorscale\": {\"diverging\": [[0, \"#8e0152\"], [0.1, \"#c51b7d\"], [0.2, \"#de77ae\"], [0.3, \"#f1b6da\"], [0.4, \"#fde0ef\"], [0.5, \"#f7f7f7\"], [0.6, \"#e6f5d0\"], [0.7, \"#b8e186\"], [0.8, \"#7fbc41\"], [0.9, \"#4d9221\"], [1, \"#276419\"]], \"sequential\": [[0.0, \"#0d0887\"], [0.1111111111111111, \"#46039f\"], [0.2222222222222222, \"#7201a8\"], [0.3333333333333333, \"#9c179e\"], [0.4444444444444444, \"#bd3786\"], [0.5555555555555556, \"#d8576b\"], [0.6666666666666666, \"#ed7953\"], [0.7777777777777778, \"#fb9f3a\"], [0.8888888888888888, \"#fdca26\"], [1.0, \"#f0f921\"]], \"sequentialminus\": [[0.0, \"#0d0887\"], [0.1111111111111111, \"#46039f\"], [0.2222222222222222, \"#7201a8\"], [0.3333333333333333, \"#9c179e\"], [0.4444444444444444, \"#bd3786\"], [0.5555555555555556, \"#d8576b\"], [0.6666666666666666, \"#ed7953\"], [0.7777777777777778, \"#fb9f3a\"], [0.8888888888888888, \"#fdca26\"], [1.0, \"#f0f921\"]]}, \"colorway\": [\"#636efa\", \"#EF553B\", \"#00cc96\", \"#ab63fa\", \"#FFA15A\", \"#19d3f3\", \"#FF6692\", \"#B6E880\", \"#FF97FF\", \"#FECB52\"], \"font\": {\"color\": \"#2a3f5f\"}, \"geo\": {\"bgcolor\": \"white\", \"lakecolor\": \"white\", \"landcolor\": \"#E5ECF6\", \"showlakes\": true, \"showland\": true, \"subunitcolor\": \"white\"}, \"hoverlabel\": {\"align\": \"left\"}, \"hovermode\": \"closest\", \"mapbox\": {\"style\": \"light\"}, \"paper_bgcolor\": \"white\", \"plot_bgcolor\": \"#E5ECF6\", \"polar\": {\"angularaxis\": {\"gridcolor\": \"white\", \"linecolor\": \"white\", \"ticks\": \"\"}, \"bgcolor\": \"#E5ECF6\", \"radialaxis\": {\"gridcolor\": \"white\", \"linecolor\": \"white\", \"ticks\": \"\"}}, \"scene\": {\"xaxis\": {\"backgroundcolor\": \"#E5ECF6\", \"gridcolor\": \"white\", \"gridwidth\": 2, \"linecolor\": \"white\", \"showbackground\": true, \"ticks\": \"\", \"zerolinecolor\": \"white\"}, \"yaxis\": {\"backgroundcolor\": \"#E5ECF6\", \"gridcolor\": \"white\", \"gridwidth\": 2, \"linecolor\": \"white\", \"showbackground\": true, \"ticks\": \"\", \"zerolinecolor\": \"white\"}, \"zaxis\": {\"backgroundcolor\": \"#E5ECF6\", \"gridcolor\": \"white\", \"gridwidth\": 2, \"linecolor\": \"white\", \"showbackground\": true, \"ticks\": \"\", \"zerolinecolor\": \"white\"}}, \"shapedefaults\": {\"line\": {\"color\": \"#2a3f5f\"}}, \"ternary\": {\"aaxis\": {\"gridcolor\": \"white\", \"linecolor\": \"white\", \"ticks\": \"\"}, \"baxis\": {\"gridcolor\": \"white\", \"linecolor\": \"white\", \"ticks\": \"\"}, \"bgcolor\": \"#E5ECF6\", \"caxis\": {\"gridcolor\": \"white\", \"linecolor\": \"white\", \"ticks\": \"\"}}, \"title\": {\"x\": 0.05}, \"xaxis\": {\"automargin\": true, \"gridcolor\": \"white\", \"linecolor\": \"white\", \"ticks\": \"\", \"title\": {\"standoff\": 15}, \"zerolinecolor\": \"white\", \"zerolinewidth\": 2}, \"yaxis\": {\"automargin\": true, \"gridcolor\": \"white\", \"linecolor\": \"white\", \"ticks\": \"\", \"title\": {\"standoff\": 15}, \"zerolinecolor\": \"white\", \"zerolinewidth\": 2}}}, \"title\": {\"font\": {\"color\": \"#4D5663\"}}, \"xaxis\": {\"gridcolor\": \"#E1E5ED\", \"showgrid\": true, \"tickfont\": {\"color\": \"#4D5663\"}, \"title\": {\"font\": {\"color\": \"#4D5663\"}, \"text\": \"\"}, \"zerolinecolor\": \"#E1E5ED\"}, \"yaxis\": {\"gridcolor\": \"#E1E5ED\", \"showgrid\": true, \"tickfont\": {\"color\": \"#4D5663\"}, \"title\": {\"font\": {\"color\": \"#4D5663\"}, \"text\": \"\"}, \"zerolinecolor\": \"#E1E5ED\"}},\n",
       "                        {\"showLink\": true, \"linkText\": \"Export to plot.ly\", \"plotlyServerURL\": \"https://plot.ly\", \"responsive\": true}\n",
       "                    ).then(function(){\n",
       "                            \n",
       "var gd = document.getElementById('9aaafb4e-a40c-46a4-8d8c-d86c3bda0efe');\n",
       "var x = new MutationObserver(function (mutations, observer) {{\n",
       "        var display = window.getComputedStyle(gd).display;\n",
       "        if (!display || display === 'none') {{\n",
       "            console.log([gd, 'removed!']);\n",
       "            Plotly.purge(gd);\n",
       "            observer.disconnect();\n",
       "        }}\n",
       "}});\n",
       "\n",
       "// Listen for the removal of the full notebook cells\n",
       "var notebookContainer = gd.closest('#notebook-container');\n",
       "if (notebookContainer) {{\n",
       "    x.observe(notebookContainer, {childList: true});\n",
       "}}\n",
       "\n",
       "// Listen for the clearing of the current output cell\n",
       "var outputEl = gd.closest('.output');\n",
       "if (outputEl) {{\n",
       "    x.observe(outputEl, {childList: true});\n",
       "}}\n",
       "\n",
       "                        })\n",
       "                };\n",
       "                });\n",
       "            </script>\n",
       "        </div>"
      ]
     },
     "metadata": {},
     "output_type": "display_data"
    }
   ],
   "source": [
    "df.iplot(kind='scatter', x='A', y='B', mode='markers', size=10)"
   ]
  },
  {
   "cell_type": "code",
   "execution_count": 9,
   "metadata": {},
   "outputs": [
    {
     "data": {
      "application/vnd.plotly.v1+json": {
       "config": {
        "linkText": "Export to plot.ly",
        "plotlyServerURL": "https://plot.ly",
        "showLink": true
       },
       "data": [
        {
         "marker": {
          "color": "rgba(255, 153, 51, 0.6)",
          "line": {
           "color": "rgba(255, 153, 51, 1.0)",
           "width": 1
          }
         },
         "name": "Values",
         "orientation": "v",
         "text": "",
         "type": "bar",
         "x": [
          "A",
          "B",
          "C"
         ],
         "y": [
          32,
          43,
          50
         ]
        }
       ],
       "layout": {
        "legend": {
         "bgcolor": "#F5F6F9",
         "font": {
          "color": "#4D5663"
         }
        },
        "paper_bgcolor": "#F5F6F9",
        "plot_bgcolor": "#F5F6F9",
        "template": {
         "data": {
          "bar": [
           {
            "error_x": {
             "color": "#2a3f5f"
            },
            "error_y": {
             "color": "#2a3f5f"
            },
            "marker": {
             "line": {
              "color": "#E5ECF6",
              "width": 0.5
             }
            },
            "type": "bar"
           }
          ],
          "barpolar": [
           {
            "marker": {
             "line": {
              "color": "#E5ECF6",
              "width": 0.5
             }
            },
            "type": "barpolar"
           }
          ],
          "carpet": [
           {
            "aaxis": {
             "endlinecolor": "#2a3f5f",
             "gridcolor": "white",
             "linecolor": "white",
             "minorgridcolor": "white",
             "startlinecolor": "#2a3f5f"
            },
            "baxis": {
             "endlinecolor": "#2a3f5f",
             "gridcolor": "white",
             "linecolor": "white",
             "minorgridcolor": "white",
             "startlinecolor": "#2a3f5f"
            },
            "type": "carpet"
           }
          ],
          "choropleth": [
           {
            "colorbar": {
             "outlinewidth": 0,
             "ticks": ""
            },
            "type": "choropleth"
           }
          ],
          "contour": [
           {
            "colorbar": {
             "outlinewidth": 0,
             "ticks": ""
            },
            "colorscale": [
             [
              0,
              "#0d0887"
             ],
             [
              0.1111111111111111,
              "#46039f"
             ],
             [
              0.2222222222222222,
              "#7201a8"
             ],
             [
              0.3333333333333333,
              "#9c179e"
             ],
             [
              0.4444444444444444,
              "#bd3786"
             ],
             [
              0.5555555555555556,
              "#d8576b"
             ],
             [
              0.6666666666666666,
              "#ed7953"
             ],
             [
              0.7777777777777778,
              "#fb9f3a"
             ],
             [
              0.8888888888888888,
              "#fdca26"
             ],
             [
              1,
              "#f0f921"
             ]
            ],
            "type": "contour"
           }
          ],
          "contourcarpet": [
           {
            "colorbar": {
             "outlinewidth": 0,
             "ticks": ""
            },
            "type": "contourcarpet"
           }
          ],
          "heatmap": [
           {
            "colorbar": {
             "outlinewidth": 0,
             "ticks": ""
            },
            "colorscale": [
             [
              0,
              "#0d0887"
             ],
             [
              0.1111111111111111,
              "#46039f"
             ],
             [
              0.2222222222222222,
              "#7201a8"
             ],
             [
              0.3333333333333333,
              "#9c179e"
             ],
             [
              0.4444444444444444,
              "#bd3786"
             ],
             [
              0.5555555555555556,
              "#d8576b"
             ],
             [
              0.6666666666666666,
              "#ed7953"
             ],
             [
              0.7777777777777778,
              "#fb9f3a"
             ],
             [
              0.8888888888888888,
              "#fdca26"
             ],
             [
              1,
              "#f0f921"
             ]
            ],
            "type": "heatmap"
           }
          ],
          "heatmapgl": [
           {
            "colorbar": {
             "outlinewidth": 0,
             "ticks": ""
            },
            "colorscale": [
             [
              0,
              "#0d0887"
             ],
             [
              0.1111111111111111,
              "#46039f"
             ],
             [
              0.2222222222222222,
              "#7201a8"
             ],
             [
              0.3333333333333333,
              "#9c179e"
             ],
             [
              0.4444444444444444,
              "#bd3786"
             ],
             [
              0.5555555555555556,
              "#d8576b"
             ],
             [
              0.6666666666666666,
              "#ed7953"
             ],
             [
              0.7777777777777778,
              "#fb9f3a"
             ],
             [
              0.8888888888888888,
              "#fdca26"
             ],
             [
              1,
              "#f0f921"
             ]
            ],
            "type": "heatmapgl"
           }
          ],
          "histogram": [
           {
            "marker": {
             "colorbar": {
              "outlinewidth": 0,
              "ticks": ""
             }
            },
            "type": "histogram"
           }
          ],
          "histogram2d": [
           {
            "colorbar": {
             "outlinewidth": 0,
             "ticks": ""
            },
            "colorscale": [
             [
              0,
              "#0d0887"
             ],
             [
              0.1111111111111111,
              "#46039f"
             ],
             [
              0.2222222222222222,
              "#7201a8"
             ],
             [
              0.3333333333333333,
              "#9c179e"
             ],
             [
              0.4444444444444444,
              "#bd3786"
             ],
             [
              0.5555555555555556,
              "#d8576b"
             ],
             [
              0.6666666666666666,
              "#ed7953"
             ],
             [
              0.7777777777777778,
              "#fb9f3a"
             ],
             [
              0.8888888888888888,
              "#fdca26"
             ],
             [
              1,
              "#f0f921"
             ]
            ],
            "type": "histogram2d"
           }
          ],
          "histogram2dcontour": [
           {
            "colorbar": {
             "outlinewidth": 0,
             "ticks": ""
            },
            "colorscale": [
             [
              0,
              "#0d0887"
             ],
             [
              0.1111111111111111,
              "#46039f"
             ],
             [
              0.2222222222222222,
              "#7201a8"
             ],
             [
              0.3333333333333333,
              "#9c179e"
             ],
             [
              0.4444444444444444,
              "#bd3786"
             ],
             [
              0.5555555555555556,
              "#d8576b"
             ],
             [
              0.6666666666666666,
              "#ed7953"
             ],
             [
              0.7777777777777778,
              "#fb9f3a"
             ],
             [
              0.8888888888888888,
              "#fdca26"
             ],
             [
              1,
              "#f0f921"
             ]
            ],
            "type": "histogram2dcontour"
           }
          ],
          "mesh3d": [
           {
            "colorbar": {
             "outlinewidth": 0,
             "ticks": ""
            },
            "type": "mesh3d"
           }
          ],
          "parcoords": [
           {
            "line": {
             "colorbar": {
              "outlinewidth": 0,
              "ticks": ""
             }
            },
            "type": "parcoords"
           }
          ],
          "pie": [
           {
            "automargin": true,
            "type": "pie"
           }
          ],
          "scatter": [
           {
            "marker": {
             "colorbar": {
              "outlinewidth": 0,
              "ticks": ""
             }
            },
            "type": "scatter"
           }
          ],
          "scatter3d": [
           {
            "line": {
             "colorbar": {
              "outlinewidth": 0,
              "ticks": ""
             }
            },
            "marker": {
             "colorbar": {
              "outlinewidth": 0,
              "ticks": ""
             }
            },
            "type": "scatter3d"
           }
          ],
          "scattercarpet": [
           {
            "marker": {
             "colorbar": {
              "outlinewidth": 0,
              "ticks": ""
             }
            },
            "type": "scattercarpet"
           }
          ],
          "scattergeo": [
           {
            "marker": {
             "colorbar": {
              "outlinewidth": 0,
              "ticks": ""
             }
            },
            "type": "scattergeo"
           }
          ],
          "scattergl": [
           {
            "marker": {
             "colorbar": {
              "outlinewidth": 0,
              "ticks": ""
             }
            },
            "type": "scattergl"
           }
          ],
          "scattermapbox": [
           {
            "marker": {
             "colorbar": {
              "outlinewidth": 0,
              "ticks": ""
             }
            },
            "type": "scattermapbox"
           }
          ],
          "scatterpolar": [
           {
            "marker": {
             "colorbar": {
              "outlinewidth": 0,
              "ticks": ""
             }
            },
            "type": "scatterpolar"
           }
          ],
          "scatterpolargl": [
           {
            "marker": {
             "colorbar": {
              "outlinewidth": 0,
              "ticks": ""
             }
            },
            "type": "scatterpolargl"
           }
          ],
          "scatterternary": [
           {
            "marker": {
             "colorbar": {
              "outlinewidth": 0,
              "ticks": ""
             }
            },
            "type": "scatterternary"
           }
          ],
          "surface": [
           {
            "colorbar": {
             "outlinewidth": 0,
             "ticks": ""
            },
            "colorscale": [
             [
              0,
              "#0d0887"
             ],
             [
              0.1111111111111111,
              "#46039f"
             ],
             [
              0.2222222222222222,
              "#7201a8"
             ],
             [
              0.3333333333333333,
              "#9c179e"
             ],
             [
              0.4444444444444444,
              "#bd3786"
             ],
             [
              0.5555555555555556,
              "#d8576b"
             ],
             [
              0.6666666666666666,
              "#ed7953"
             ],
             [
              0.7777777777777778,
              "#fb9f3a"
             ],
             [
              0.8888888888888888,
              "#fdca26"
             ],
             [
              1,
              "#f0f921"
             ]
            ],
            "type": "surface"
           }
          ],
          "table": [
           {
            "cells": {
             "fill": {
              "color": "#EBF0F8"
             },
             "line": {
              "color": "white"
             }
            },
            "header": {
             "fill": {
              "color": "#C8D4E3"
             },
             "line": {
              "color": "white"
             }
            },
            "type": "table"
           }
          ]
         },
         "layout": {
          "annotationdefaults": {
           "arrowcolor": "#2a3f5f",
           "arrowhead": 0,
           "arrowwidth": 1
          },
          "coloraxis": {
           "colorbar": {
            "outlinewidth": 0,
            "ticks": ""
           }
          },
          "colorscale": {
           "diverging": [
            [
             0,
             "#8e0152"
            ],
            [
             0.1,
             "#c51b7d"
            ],
            [
             0.2,
             "#de77ae"
            ],
            [
             0.3,
             "#f1b6da"
            ],
            [
             0.4,
             "#fde0ef"
            ],
            [
             0.5,
             "#f7f7f7"
            ],
            [
             0.6,
             "#e6f5d0"
            ],
            [
             0.7,
             "#b8e186"
            ],
            [
             0.8,
             "#7fbc41"
            ],
            [
             0.9,
             "#4d9221"
            ],
            [
             1,
             "#276419"
            ]
           ],
           "sequential": [
            [
             0,
             "#0d0887"
            ],
            [
             0.1111111111111111,
             "#46039f"
            ],
            [
             0.2222222222222222,
             "#7201a8"
            ],
            [
             0.3333333333333333,
             "#9c179e"
            ],
            [
             0.4444444444444444,
             "#bd3786"
            ],
            [
             0.5555555555555556,
             "#d8576b"
            ],
            [
             0.6666666666666666,
             "#ed7953"
            ],
            [
             0.7777777777777778,
             "#fb9f3a"
            ],
            [
             0.8888888888888888,
             "#fdca26"
            ],
            [
             1,
             "#f0f921"
            ]
           ],
           "sequentialminus": [
            [
             0,
             "#0d0887"
            ],
            [
             0.1111111111111111,
             "#46039f"
            ],
            [
             0.2222222222222222,
             "#7201a8"
            ],
            [
             0.3333333333333333,
             "#9c179e"
            ],
            [
             0.4444444444444444,
             "#bd3786"
            ],
            [
             0.5555555555555556,
             "#d8576b"
            ],
            [
             0.6666666666666666,
             "#ed7953"
            ],
            [
             0.7777777777777778,
             "#fb9f3a"
            ],
            [
             0.8888888888888888,
             "#fdca26"
            ],
            [
             1,
             "#f0f921"
            ]
           ]
          },
          "colorway": [
           "#636efa",
           "#EF553B",
           "#00cc96",
           "#ab63fa",
           "#FFA15A",
           "#19d3f3",
           "#FF6692",
           "#B6E880",
           "#FF97FF",
           "#FECB52"
          ],
          "font": {
           "color": "#2a3f5f"
          },
          "geo": {
           "bgcolor": "white",
           "lakecolor": "white",
           "landcolor": "#E5ECF6",
           "showlakes": true,
           "showland": true,
           "subunitcolor": "white"
          },
          "hoverlabel": {
           "align": "left"
          },
          "hovermode": "closest",
          "mapbox": {
           "style": "light"
          },
          "paper_bgcolor": "white",
          "plot_bgcolor": "#E5ECF6",
          "polar": {
           "angularaxis": {
            "gridcolor": "white",
            "linecolor": "white",
            "ticks": ""
           },
           "bgcolor": "#E5ECF6",
           "radialaxis": {
            "gridcolor": "white",
            "linecolor": "white",
            "ticks": ""
           }
          },
          "scene": {
           "xaxis": {
            "backgroundcolor": "#E5ECF6",
            "gridcolor": "white",
            "gridwidth": 2,
            "linecolor": "white",
            "showbackground": true,
            "ticks": "",
            "zerolinecolor": "white"
           },
           "yaxis": {
            "backgroundcolor": "#E5ECF6",
            "gridcolor": "white",
            "gridwidth": 2,
            "linecolor": "white",
            "showbackground": true,
            "ticks": "",
            "zerolinecolor": "white"
           },
           "zaxis": {
            "backgroundcolor": "#E5ECF6",
            "gridcolor": "white",
            "gridwidth": 2,
            "linecolor": "white",
            "showbackground": true,
            "ticks": "",
            "zerolinecolor": "white"
           }
          },
          "shapedefaults": {
           "line": {
            "color": "#2a3f5f"
           }
          },
          "ternary": {
           "aaxis": {
            "gridcolor": "white",
            "linecolor": "white",
            "ticks": ""
           },
           "baxis": {
            "gridcolor": "white",
            "linecolor": "white",
            "ticks": ""
           },
           "bgcolor": "#E5ECF6",
           "caxis": {
            "gridcolor": "white",
            "linecolor": "white",
            "ticks": ""
           }
          },
          "title": {
           "x": 0.05
          },
          "xaxis": {
           "automargin": true,
           "gridcolor": "white",
           "linecolor": "white",
           "ticks": "",
           "title": {
            "standoff": 15
           },
           "zerolinecolor": "white",
           "zerolinewidth": 2
          },
          "yaxis": {
           "automargin": true,
           "gridcolor": "white",
           "linecolor": "white",
           "ticks": "",
           "title": {
            "standoff": 15
           },
           "zerolinecolor": "white",
           "zerolinewidth": 2
          }
         }
        },
        "title": {
         "font": {
          "color": "#4D5663"
         }
        },
        "xaxis": {
         "gridcolor": "#E1E5ED",
         "showgrid": true,
         "tickfont": {
          "color": "#4D5663"
         },
         "title": {
          "font": {
           "color": "#4D5663"
          },
          "text": ""
         },
         "zerolinecolor": "#E1E5ED"
        },
        "yaxis": {
         "gridcolor": "#E1E5ED",
         "showgrid": true,
         "tickfont": {
          "color": "#4D5663"
         },
         "title": {
          "font": {
           "color": "#4D5663"
          },
          "text": ""
         },
         "zerolinecolor": "#E1E5ED"
        }
       }
      },
      "text/html": [
       "<div>\n",
       "        \n",
       "        \n",
       "            <div id=\"f1e52537-b766-4309-9892-d2663216bd70\" class=\"plotly-graph-div\" style=\"height:525px; width:100%;\"></div>\n",
       "            <script type=\"text/javascript\">\n",
       "                require([\"plotly\"], function(Plotly) {\n",
       "                    window.PLOTLYENV=window.PLOTLYENV || {};\n",
       "                    window.PLOTLYENV.BASE_URL='https://plot.ly';\n",
       "                    \n",
       "                if (document.getElementById(\"f1e52537-b766-4309-9892-d2663216bd70\")) {\n",
       "                    Plotly.newPlot(\n",
       "                        'f1e52537-b766-4309-9892-d2663216bd70',\n",
       "                        [{\"marker\": {\"color\": \"rgba(255, 153, 51, 0.6)\", \"line\": {\"color\": \"rgba(255, 153, 51, 1.0)\", \"width\": 1}}, \"name\": \"Values\", \"orientation\": \"v\", \"text\": \"\", \"type\": \"bar\", \"x\": [\"A\", \"B\", \"C\"], \"y\": [32, 43, 50]}],\n",
       "                        {\"legend\": {\"bgcolor\": \"#F5F6F9\", \"font\": {\"color\": \"#4D5663\"}}, \"paper_bgcolor\": \"#F5F6F9\", \"plot_bgcolor\": \"#F5F6F9\", \"template\": {\"data\": {\"bar\": [{\"error_x\": {\"color\": \"#2a3f5f\"}, \"error_y\": {\"color\": \"#2a3f5f\"}, \"marker\": {\"line\": {\"color\": \"#E5ECF6\", \"width\": 0.5}}, \"type\": \"bar\"}], \"barpolar\": [{\"marker\": {\"line\": {\"color\": \"#E5ECF6\", \"width\": 0.5}}, \"type\": \"barpolar\"}], \"carpet\": [{\"aaxis\": {\"endlinecolor\": \"#2a3f5f\", \"gridcolor\": \"white\", \"linecolor\": \"white\", \"minorgridcolor\": \"white\", \"startlinecolor\": \"#2a3f5f\"}, \"baxis\": {\"endlinecolor\": \"#2a3f5f\", \"gridcolor\": \"white\", \"linecolor\": \"white\", \"minorgridcolor\": \"white\", \"startlinecolor\": \"#2a3f5f\"}, \"type\": \"carpet\"}], \"choropleth\": [{\"colorbar\": {\"outlinewidth\": 0, \"ticks\": \"\"}, \"type\": \"choropleth\"}], \"contour\": [{\"colorbar\": {\"outlinewidth\": 0, \"ticks\": \"\"}, \"colorscale\": [[0.0, \"#0d0887\"], [0.1111111111111111, \"#46039f\"], [0.2222222222222222, \"#7201a8\"], [0.3333333333333333, \"#9c179e\"], [0.4444444444444444, \"#bd3786\"], [0.5555555555555556, \"#d8576b\"], [0.6666666666666666, \"#ed7953\"], [0.7777777777777778, \"#fb9f3a\"], [0.8888888888888888, \"#fdca26\"], [1.0, \"#f0f921\"]], \"type\": \"contour\"}], \"contourcarpet\": [{\"colorbar\": {\"outlinewidth\": 0, \"ticks\": \"\"}, \"type\": \"contourcarpet\"}], \"heatmap\": [{\"colorbar\": {\"outlinewidth\": 0, \"ticks\": \"\"}, \"colorscale\": [[0.0, \"#0d0887\"], [0.1111111111111111, \"#46039f\"], [0.2222222222222222, \"#7201a8\"], [0.3333333333333333, \"#9c179e\"], [0.4444444444444444, \"#bd3786\"], [0.5555555555555556, \"#d8576b\"], [0.6666666666666666, \"#ed7953\"], [0.7777777777777778, \"#fb9f3a\"], [0.8888888888888888, \"#fdca26\"], [1.0, \"#f0f921\"]], \"type\": \"heatmap\"}], \"heatmapgl\": [{\"colorbar\": {\"outlinewidth\": 0, \"ticks\": \"\"}, \"colorscale\": [[0.0, \"#0d0887\"], [0.1111111111111111, \"#46039f\"], [0.2222222222222222, \"#7201a8\"], [0.3333333333333333, \"#9c179e\"], [0.4444444444444444, \"#bd3786\"], [0.5555555555555556, \"#d8576b\"], [0.6666666666666666, \"#ed7953\"], [0.7777777777777778, \"#fb9f3a\"], [0.8888888888888888, \"#fdca26\"], [1.0, \"#f0f921\"]], \"type\": \"heatmapgl\"}], \"histogram\": [{\"marker\": {\"colorbar\": {\"outlinewidth\": 0, \"ticks\": \"\"}}, \"type\": \"histogram\"}], \"histogram2d\": [{\"colorbar\": {\"outlinewidth\": 0, \"ticks\": \"\"}, \"colorscale\": [[0.0, \"#0d0887\"], [0.1111111111111111, \"#46039f\"], [0.2222222222222222, \"#7201a8\"], [0.3333333333333333, \"#9c179e\"], [0.4444444444444444, \"#bd3786\"], [0.5555555555555556, \"#d8576b\"], [0.6666666666666666, \"#ed7953\"], [0.7777777777777778, \"#fb9f3a\"], [0.8888888888888888, \"#fdca26\"], [1.0, \"#f0f921\"]], \"type\": \"histogram2d\"}], \"histogram2dcontour\": [{\"colorbar\": {\"outlinewidth\": 0, \"ticks\": \"\"}, \"colorscale\": [[0.0, \"#0d0887\"], [0.1111111111111111, \"#46039f\"], [0.2222222222222222, \"#7201a8\"], [0.3333333333333333, \"#9c179e\"], [0.4444444444444444, \"#bd3786\"], [0.5555555555555556, \"#d8576b\"], [0.6666666666666666, \"#ed7953\"], [0.7777777777777778, \"#fb9f3a\"], [0.8888888888888888, \"#fdca26\"], [1.0, \"#f0f921\"]], \"type\": \"histogram2dcontour\"}], \"mesh3d\": [{\"colorbar\": {\"outlinewidth\": 0, \"ticks\": \"\"}, \"type\": \"mesh3d\"}], \"parcoords\": [{\"line\": {\"colorbar\": {\"outlinewidth\": 0, \"ticks\": \"\"}}, \"type\": \"parcoords\"}], \"pie\": [{\"automargin\": true, \"type\": \"pie\"}], \"scatter\": [{\"marker\": {\"colorbar\": {\"outlinewidth\": 0, \"ticks\": \"\"}}, \"type\": \"scatter\"}], \"scatter3d\": [{\"line\": {\"colorbar\": {\"outlinewidth\": 0, \"ticks\": \"\"}}, \"marker\": {\"colorbar\": {\"outlinewidth\": 0, \"ticks\": \"\"}}, \"type\": \"scatter3d\"}], \"scattercarpet\": [{\"marker\": {\"colorbar\": {\"outlinewidth\": 0, \"ticks\": \"\"}}, \"type\": \"scattercarpet\"}], \"scattergeo\": [{\"marker\": {\"colorbar\": {\"outlinewidth\": 0, \"ticks\": \"\"}}, \"type\": \"scattergeo\"}], \"scattergl\": [{\"marker\": {\"colorbar\": {\"outlinewidth\": 0, \"ticks\": \"\"}}, \"type\": \"scattergl\"}], \"scattermapbox\": [{\"marker\": {\"colorbar\": {\"outlinewidth\": 0, \"ticks\": \"\"}}, \"type\": \"scattermapbox\"}], \"scatterpolar\": [{\"marker\": {\"colorbar\": {\"outlinewidth\": 0, \"ticks\": \"\"}}, \"type\": \"scatterpolar\"}], \"scatterpolargl\": [{\"marker\": {\"colorbar\": {\"outlinewidth\": 0, \"ticks\": \"\"}}, \"type\": \"scatterpolargl\"}], \"scatterternary\": [{\"marker\": {\"colorbar\": {\"outlinewidth\": 0, \"ticks\": \"\"}}, \"type\": \"scatterternary\"}], \"surface\": [{\"colorbar\": {\"outlinewidth\": 0, \"ticks\": \"\"}, \"colorscale\": [[0.0, \"#0d0887\"], [0.1111111111111111, \"#46039f\"], [0.2222222222222222, \"#7201a8\"], [0.3333333333333333, \"#9c179e\"], [0.4444444444444444, \"#bd3786\"], [0.5555555555555556, \"#d8576b\"], [0.6666666666666666, \"#ed7953\"], [0.7777777777777778, \"#fb9f3a\"], [0.8888888888888888, \"#fdca26\"], [1.0, \"#f0f921\"]], \"type\": \"surface\"}], \"table\": [{\"cells\": {\"fill\": {\"color\": \"#EBF0F8\"}, \"line\": {\"color\": \"white\"}}, \"header\": {\"fill\": {\"color\": \"#C8D4E3\"}, \"line\": {\"color\": \"white\"}}, \"type\": \"table\"}]}, \"layout\": {\"annotationdefaults\": {\"arrowcolor\": \"#2a3f5f\", \"arrowhead\": 0, \"arrowwidth\": 1}, \"coloraxis\": {\"colorbar\": {\"outlinewidth\": 0, \"ticks\": \"\"}}, \"colorscale\": {\"diverging\": [[0, \"#8e0152\"], [0.1, \"#c51b7d\"], [0.2, \"#de77ae\"], [0.3, \"#f1b6da\"], [0.4, \"#fde0ef\"], [0.5, \"#f7f7f7\"], [0.6, \"#e6f5d0\"], [0.7, \"#b8e186\"], [0.8, \"#7fbc41\"], [0.9, \"#4d9221\"], [1, \"#276419\"]], \"sequential\": [[0.0, \"#0d0887\"], [0.1111111111111111, \"#46039f\"], [0.2222222222222222, \"#7201a8\"], [0.3333333333333333, \"#9c179e\"], [0.4444444444444444, \"#bd3786\"], [0.5555555555555556, \"#d8576b\"], [0.6666666666666666, \"#ed7953\"], [0.7777777777777778, \"#fb9f3a\"], [0.8888888888888888, \"#fdca26\"], [1.0, \"#f0f921\"]], \"sequentialminus\": [[0.0, \"#0d0887\"], [0.1111111111111111, \"#46039f\"], [0.2222222222222222, \"#7201a8\"], [0.3333333333333333, \"#9c179e\"], [0.4444444444444444, \"#bd3786\"], [0.5555555555555556, \"#d8576b\"], [0.6666666666666666, \"#ed7953\"], [0.7777777777777778, \"#fb9f3a\"], [0.8888888888888888, \"#fdca26\"], [1.0, \"#f0f921\"]]}, \"colorway\": [\"#636efa\", \"#EF553B\", \"#00cc96\", \"#ab63fa\", \"#FFA15A\", \"#19d3f3\", \"#FF6692\", \"#B6E880\", \"#FF97FF\", \"#FECB52\"], \"font\": {\"color\": \"#2a3f5f\"}, \"geo\": {\"bgcolor\": \"white\", \"lakecolor\": \"white\", \"landcolor\": \"#E5ECF6\", \"showlakes\": true, \"showland\": true, \"subunitcolor\": \"white\"}, \"hoverlabel\": {\"align\": \"left\"}, \"hovermode\": \"closest\", \"mapbox\": {\"style\": \"light\"}, \"paper_bgcolor\": \"white\", \"plot_bgcolor\": \"#E5ECF6\", \"polar\": {\"angularaxis\": {\"gridcolor\": \"white\", \"linecolor\": \"white\", \"ticks\": \"\"}, \"bgcolor\": \"#E5ECF6\", \"radialaxis\": {\"gridcolor\": \"white\", \"linecolor\": \"white\", \"ticks\": \"\"}}, \"scene\": {\"xaxis\": {\"backgroundcolor\": \"#E5ECF6\", \"gridcolor\": \"white\", \"gridwidth\": 2, \"linecolor\": \"white\", \"showbackground\": true, \"ticks\": \"\", \"zerolinecolor\": \"white\"}, \"yaxis\": {\"backgroundcolor\": \"#E5ECF6\", \"gridcolor\": \"white\", \"gridwidth\": 2, \"linecolor\": \"white\", \"showbackground\": true, \"ticks\": \"\", \"zerolinecolor\": \"white\"}, \"zaxis\": {\"backgroundcolor\": \"#E5ECF6\", \"gridcolor\": \"white\", \"gridwidth\": 2, \"linecolor\": \"white\", \"showbackground\": true, \"ticks\": \"\", \"zerolinecolor\": \"white\"}}, \"shapedefaults\": {\"line\": {\"color\": \"#2a3f5f\"}}, \"ternary\": {\"aaxis\": {\"gridcolor\": \"white\", \"linecolor\": \"white\", \"ticks\": \"\"}, \"baxis\": {\"gridcolor\": \"white\", \"linecolor\": \"white\", \"ticks\": \"\"}, \"bgcolor\": \"#E5ECF6\", \"caxis\": {\"gridcolor\": \"white\", \"linecolor\": \"white\", \"ticks\": \"\"}}, \"title\": {\"x\": 0.05}, \"xaxis\": {\"automargin\": true, \"gridcolor\": \"white\", \"linecolor\": \"white\", \"ticks\": \"\", \"title\": {\"standoff\": 15}, \"zerolinecolor\": \"white\", \"zerolinewidth\": 2}, \"yaxis\": {\"automargin\": true, \"gridcolor\": \"white\", \"linecolor\": \"white\", \"ticks\": \"\", \"title\": {\"standoff\": 15}, \"zerolinecolor\": \"white\", \"zerolinewidth\": 2}}}, \"title\": {\"font\": {\"color\": \"#4D5663\"}}, \"xaxis\": {\"gridcolor\": \"#E1E5ED\", \"showgrid\": true, \"tickfont\": {\"color\": \"#4D5663\"}, \"title\": {\"font\": {\"color\": \"#4D5663\"}, \"text\": \"\"}, \"zerolinecolor\": \"#E1E5ED\"}, \"yaxis\": {\"gridcolor\": \"#E1E5ED\", \"showgrid\": true, \"tickfont\": {\"color\": \"#4D5663\"}, \"title\": {\"font\": {\"color\": \"#4D5663\"}, \"text\": \"\"}, \"zerolinecolor\": \"#E1E5ED\"}},\n",
       "                        {\"showLink\": true, \"linkText\": \"Export to plot.ly\", \"plotlyServerURL\": \"https://plot.ly\", \"responsive\": true}\n",
       "                    ).then(function(){\n",
       "                            \n",
       "var gd = document.getElementById('f1e52537-b766-4309-9892-d2663216bd70');\n",
       "var x = new MutationObserver(function (mutations, observer) {{\n",
       "        var display = window.getComputedStyle(gd).display;\n",
       "        if (!display || display === 'none') {{\n",
       "            console.log([gd, 'removed!']);\n",
       "            Plotly.purge(gd);\n",
       "            observer.disconnect();\n",
       "        }}\n",
       "}});\n",
       "\n",
       "// Listen for the removal of the full notebook cells\n",
       "var notebookContainer = gd.closest('#notebook-container');\n",
       "if (notebookContainer) {{\n",
       "    x.observe(notebookContainer, {childList: true});\n",
       "}}\n",
       "\n",
       "// Listen for the clearing of the current output cell\n",
       "var outputEl = gd.closest('.output');\n",
       "if (outputEl) {{\n",
       "    x.observe(outputEl, {childList: true});\n",
       "}}\n",
       "\n",
       "                        })\n",
       "                };\n",
       "                });\n",
       "            </script>\n",
       "        </div>"
      ]
     },
     "metadata": {},
     "output_type": "display_data"
    }
   ],
   "source": [
    "data.iplot(kind='bar', x='Category', y='Values')"
   ]
  },
  {
   "cell_type": "code",
   "execution_count": 10,
   "metadata": {},
   "outputs": [
    {
     "data": {
      "application/vnd.plotly.v1+json": {
       "config": {
        "linkText": "Export to plot.ly",
        "plotlyServerURL": "https://plot.ly",
        "showLink": true
       },
       "data": [
        {
         "marker": {
          "color": "rgba(255, 153, 51, 0.6)",
          "line": {
           "color": "rgba(255, 153, 51, 1.0)",
           "width": 1
          }
         },
         "name": "None",
         "orientation": "v",
         "text": "",
         "type": "bar",
         "x": [
          "A",
          "B",
          "C",
          "D"
         ],
         "y": [
          100,
          100,
          100,
          100
         ]
        }
       ],
       "layout": {
        "legend": {
         "bgcolor": "#F5F6F9",
         "font": {
          "color": "#4D5663"
         }
        },
        "paper_bgcolor": "#F5F6F9",
        "plot_bgcolor": "#F5F6F9",
        "template": {
         "data": {
          "bar": [
           {
            "error_x": {
             "color": "#2a3f5f"
            },
            "error_y": {
             "color": "#2a3f5f"
            },
            "marker": {
             "line": {
              "color": "#E5ECF6",
              "width": 0.5
             }
            },
            "type": "bar"
           }
          ],
          "barpolar": [
           {
            "marker": {
             "line": {
              "color": "#E5ECF6",
              "width": 0.5
             }
            },
            "type": "barpolar"
           }
          ],
          "carpet": [
           {
            "aaxis": {
             "endlinecolor": "#2a3f5f",
             "gridcolor": "white",
             "linecolor": "white",
             "minorgridcolor": "white",
             "startlinecolor": "#2a3f5f"
            },
            "baxis": {
             "endlinecolor": "#2a3f5f",
             "gridcolor": "white",
             "linecolor": "white",
             "minorgridcolor": "white",
             "startlinecolor": "#2a3f5f"
            },
            "type": "carpet"
           }
          ],
          "choropleth": [
           {
            "colorbar": {
             "outlinewidth": 0,
             "ticks": ""
            },
            "type": "choropleth"
           }
          ],
          "contour": [
           {
            "colorbar": {
             "outlinewidth": 0,
             "ticks": ""
            },
            "colorscale": [
             [
              0,
              "#0d0887"
             ],
             [
              0.1111111111111111,
              "#46039f"
             ],
             [
              0.2222222222222222,
              "#7201a8"
             ],
             [
              0.3333333333333333,
              "#9c179e"
             ],
             [
              0.4444444444444444,
              "#bd3786"
             ],
             [
              0.5555555555555556,
              "#d8576b"
             ],
             [
              0.6666666666666666,
              "#ed7953"
             ],
             [
              0.7777777777777778,
              "#fb9f3a"
             ],
             [
              0.8888888888888888,
              "#fdca26"
             ],
             [
              1,
              "#f0f921"
             ]
            ],
            "type": "contour"
           }
          ],
          "contourcarpet": [
           {
            "colorbar": {
             "outlinewidth": 0,
             "ticks": ""
            },
            "type": "contourcarpet"
           }
          ],
          "heatmap": [
           {
            "colorbar": {
             "outlinewidth": 0,
             "ticks": ""
            },
            "colorscale": [
             [
              0,
              "#0d0887"
             ],
             [
              0.1111111111111111,
              "#46039f"
             ],
             [
              0.2222222222222222,
              "#7201a8"
             ],
             [
              0.3333333333333333,
              "#9c179e"
             ],
             [
              0.4444444444444444,
              "#bd3786"
             ],
             [
              0.5555555555555556,
              "#d8576b"
             ],
             [
              0.6666666666666666,
              "#ed7953"
             ],
             [
              0.7777777777777778,
              "#fb9f3a"
             ],
             [
              0.8888888888888888,
              "#fdca26"
             ],
             [
              1,
              "#f0f921"
             ]
            ],
            "type": "heatmap"
           }
          ],
          "heatmapgl": [
           {
            "colorbar": {
             "outlinewidth": 0,
             "ticks": ""
            },
            "colorscale": [
             [
              0,
              "#0d0887"
             ],
             [
              0.1111111111111111,
              "#46039f"
             ],
             [
              0.2222222222222222,
              "#7201a8"
             ],
             [
              0.3333333333333333,
              "#9c179e"
             ],
             [
              0.4444444444444444,
              "#bd3786"
             ],
             [
              0.5555555555555556,
              "#d8576b"
             ],
             [
              0.6666666666666666,
              "#ed7953"
             ],
             [
              0.7777777777777778,
              "#fb9f3a"
             ],
             [
              0.8888888888888888,
              "#fdca26"
             ],
             [
              1,
              "#f0f921"
             ]
            ],
            "type": "heatmapgl"
           }
          ],
          "histogram": [
           {
            "marker": {
             "colorbar": {
              "outlinewidth": 0,
              "ticks": ""
             }
            },
            "type": "histogram"
           }
          ],
          "histogram2d": [
           {
            "colorbar": {
             "outlinewidth": 0,
             "ticks": ""
            },
            "colorscale": [
             [
              0,
              "#0d0887"
             ],
             [
              0.1111111111111111,
              "#46039f"
             ],
             [
              0.2222222222222222,
              "#7201a8"
             ],
             [
              0.3333333333333333,
              "#9c179e"
             ],
             [
              0.4444444444444444,
              "#bd3786"
             ],
             [
              0.5555555555555556,
              "#d8576b"
             ],
             [
              0.6666666666666666,
              "#ed7953"
             ],
             [
              0.7777777777777778,
              "#fb9f3a"
             ],
             [
              0.8888888888888888,
              "#fdca26"
             ],
             [
              1,
              "#f0f921"
             ]
            ],
            "type": "histogram2d"
           }
          ],
          "histogram2dcontour": [
           {
            "colorbar": {
             "outlinewidth": 0,
             "ticks": ""
            },
            "colorscale": [
             [
              0,
              "#0d0887"
             ],
             [
              0.1111111111111111,
              "#46039f"
             ],
             [
              0.2222222222222222,
              "#7201a8"
             ],
             [
              0.3333333333333333,
              "#9c179e"
             ],
             [
              0.4444444444444444,
              "#bd3786"
             ],
             [
              0.5555555555555556,
              "#d8576b"
             ],
             [
              0.6666666666666666,
              "#ed7953"
             ],
             [
              0.7777777777777778,
              "#fb9f3a"
             ],
             [
              0.8888888888888888,
              "#fdca26"
             ],
             [
              1,
              "#f0f921"
             ]
            ],
            "type": "histogram2dcontour"
           }
          ],
          "mesh3d": [
           {
            "colorbar": {
             "outlinewidth": 0,
             "ticks": ""
            },
            "type": "mesh3d"
           }
          ],
          "parcoords": [
           {
            "line": {
             "colorbar": {
              "outlinewidth": 0,
              "ticks": ""
             }
            },
            "type": "parcoords"
           }
          ],
          "pie": [
           {
            "automargin": true,
            "type": "pie"
           }
          ],
          "scatter": [
           {
            "marker": {
             "colorbar": {
              "outlinewidth": 0,
              "ticks": ""
             }
            },
            "type": "scatter"
           }
          ],
          "scatter3d": [
           {
            "line": {
             "colorbar": {
              "outlinewidth": 0,
              "ticks": ""
             }
            },
            "marker": {
             "colorbar": {
              "outlinewidth": 0,
              "ticks": ""
             }
            },
            "type": "scatter3d"
           }
          ],
          "scattercarpet": [
           {
            "marker": {
             "colorbar": {
              "outlinewidth": 0,
              "ticks": ""
             }
            },
            "type": "scattercarpet"
           }
          ],
          "scattergeo": [
           {
            "marker": {
             "colorbar": {
              "outlinewidth": 0,
              "ticks": ""
             }
            },
            "type": "scattergeo"
           }
          ],
          "scattergl": [
           {
            "marker": {
             "colorbar": {
              "outlinewidth": 0,
              "ticks": ""
             }
            },
            "type": "scattergl"
           }
          ],
          "scattermapbox": [
           {
            "marker": {
             "colorbar": {
              "outlinewidth": 0,
              "ticks": ""
             }
            },
            "type": "scattermapbox"
           }
          ],
          "scatterpolar": [
           {
            "marker": {
             "colorbar": {
              "outlinewidth": 0,
              "ticks": ""
             }
            },
            "type": "scatterpolar"
           }
          ],
          "scatterpolargl": [
           {
            "marker": {
             "colorbar": {
              "outlinewidth": 0,
              "ticks": ""
             }
            },
            "type": "scatterpolargl"
           }
          ],
          "scatterternary": [
           {
            "marker": {
             "colorbar": {
              "outlinewidth": 0,
              "ticks": ""
             }
            },
            "type": "scatterternary"
           }
          ],
          "surface": [
           {
            "colorbar": {
             "outlinewidth": 0,
             "ticks": ""
            },
            "colorscale": [
             [
              0,
              "#0d0887"
             ],
             [
              0.1111111111111111,
              "#46039f"
             ],
             [
              0.2222222222222222,
              "#7201a8"
             ],
             [
              0.3333333333333333,
              "#9c179e"
             ],
             [
              0.4444444444444444,
              "#bd3786"
             ],
             [
              0.5555555555555556,
              "#d8576b"
             ],
             [
              0.6666666666666666,
              "#ed7953"
             ],
             [
              0.7777777777777778,
              "#fb9f3a"
             ],
             [
              0.8888888888888888,
              "#fdca26"
             ],
             [
              1,
              "#f0f921"
             ]
            ],
            "type": "surface"
           }
          ],
          "table": [
           {
            "cells": {
             "fill": {
              "color": "#EBF0F8"
             },
             "line": {
              "color": "white"
             }
            },
            "header": {
             "fill": {
              "color": "#C8D4E3"
             },
             "line": {
              "color": "white"
             }
            },
            "type": "table"
           }
          ]
         },
         "layout": {
          "annotationdefaults": {
           "arrowcolor": "#2a3f5f",
           "arrowhead": 0,
           "arrowwidth": 1
          },
          "coloraxis": {
           "colorbar": {
            "outlinewidth": 0,
            "ticks": ""
           }
          },
          "colorscale": {
           "diverging": [
            [
             0,
             "#8e0152"
            ],
            [
             0.1,
             "#c51b7d"
            ],
            [
             0.2,
             "#de77ae"
            ],
            [
             0.3,
             "#f1b6da"
            ],
            [
             0.4,
             "#fde0ef"
            ],
            [
             0.5,
             "#f7f7f7"
            ],
            [
             0.6,
             "#e6f5d0"
            ],
            [
             0.7,
             "#b8e186"
            ],
            [
             0.8,
             "#7fbc41"
            ],
            [
             0.9,
             "#4d9221"
            ],
            [
             1,
             "#276419"
            ]
           ],
           "sequential": [
            [
             0,
             "#0d0887"
            ],
            [
             0.1111111111111111,
             "#46039f"
            ],
            [
             0.2222222222222222,
             "#7201a8"
            ],
            [
             0.3333333333333333,
             "#9c179e"
            ],
            [
             0.4444444444444444,
             "#bd3786"
            ],
            [
             0.5555555555555556,
             "#d8576b"
            ],
            [
             0.6666666666666666,
             "#ed7953"
            ],
            [
             0.7777777777777778,
             "#fb9f3a"
            ],
            [
             0.8888888888888888,
             "#fdca26"
            ],
            [
             1,
             "#f0f921"
            ]
           ],
           "sequentialminus": [
            [
             0,
             "#0d0887"
            ],
            [
             0.1111111111111111,
             "#46039f"
            ],
            [
             0.2222222222222222,
             "#7201a8"
            ],
            [
             0.3333333333333333,
             "#9c179e"
            ],
            [
             0.4444444444444444,
             "#bd3786"
            ],
            [
             0.5555555555555556,
             "#d8576b"
            ],
            [
             0.6666666666666666,
             "#ed7953"
            ],
            [
             0.7777777777777778,
             "#fb9f3a"
            ],
            [
             0.8888888888888888,
             "#fdca26"
            ],
            [
             1,
             "#f0f921"
            ]
           ]
          },
          "colorway": [
           "#636efa",
           "#EF553B",
           "#00cc96",
           "#ab63fa",
           "#FFA15A",
           "#19d3f3",
           "#FF6692",
           "#B6E880",
           "#FF97FF",
           "#FECB52"
          ],
          "font": {
           "color": "#2a3f5f"
          },
          "geo": {
           "bgcolor": "white",
           "lakecolor": "white",
           "landcolor": "#E5ECF6",
           "showlakes": true,
           "showland": true,
           "subunitcolor": "white"
          },
          "hoverlabel": {
           "align": "left"
          },
          "hovermode": "closest",
          "mapbox": {
           "style": "light"
          },
          "paper_bgcolor": "white",
          "plot_bgcolor": "#E5ECF6",
          "polar": {
           "angularaxis": {
            "gridcolor": "white",
            "linecolor": "white",
            "ticks": ""
           },
           "bgcolor": "#E5ECF6",
           "radialaxis": {
            "gridcolor": "white",
            "linecolor": "white",
            "ticks": ""
           }
          },
          "scene": {
           "xaxis": {
            "backgroundcolor": "#E5ECF6",
            "gridcolor": "white",
            "gridwidth": 2,
            "linecolor": "white",
            "showbackground": true,
            "ticks": "",
            "zerolinecolor": "white"
           },
           "yaxis": {
            "backgroundcolor": "#E5ECF6",
            "gridcolor": "white",
            "gridwidth": 2,
            "linecolor": "white",
            "showbackground": true,
            "ticks": "",
            "zerolinecolor": "white"
           },
           "zaxis": {
            "backgroundcolor": "#E5ECF6",
            "gridcolor": "white",
            "gridwidth": 2,
            "linecolor": "white",
            "showbackground": true,
            "ticks": "",
            "zerolinecolor": "white"
           }
          },
          "shapedefaults": {
           "line": {
            "color": "#2a3f5f"
           }
          },
          "ternary": {
           "aaxis": {
            "gridcolor": "white",
            "linecolor": "white",
            "ticks": ""
           },
           "baxis": {
            "gridcolor": "white",
            "linecolor": "white",
            "ticks": ""
           },
           "bgcolor": "#E5ECF6",
           "caxis": {
            "gridcolor": "white",
            "linecolor": "white",
            "ticks": ""
           }
          },
          "title": {
           "x": 0.05
          },
          "xaxis": {
           "automargin": true,
           "gridcolor": "white",
           "linecolor": "white",
           "ticks": "",
           "title": {
            "standoff": 15
           },
           "zerolinecolor": "white",
           "zerolinewidth": 2
          },
          "yaxis": {
           "automargin": true,
           "gridcolor": "white",
           "linecolor": "white",
           "ticks": "",
           "title": {
            "standoff": 15
           },
           "zerolinecolor": "white",
           "zerolinewidth": 2
          }
         }
        },
        "title": {
         "font": {
          "color": "#4D5663"
         }
        },
        "xaxis": {
         "gridcolor": "#E1E5ED",
         "showgrid": true,
         "tickfont": {
          "color": "#4D5663"
         },
         "title": {
          "font": {
           "color": "#4D5663"
          },
          "text": ""
         },
         "zerolinecolor": "#E1E5ED"
        },
        "yaxis": {
         "gridcolor": "#E1E5ED",
         "showgrid": true,
         "tickfont": {
          "color": "#4D5663"
         },
         "title": {
          "font": {
           "color": "#4D5663"
          },
          "text": ""
         },
         "zerolinecolor": "#E1E5ED"
        }
       }
      },
      "text/html": [
       "<div>\n",
       "        \n",
       "        \n",
       "            <div id=\"6de0fc5b-b393-4a55-8231-101cb0d776b6\" class=\"plotly-graph-div\" style=\"height:525px; width:100%;\"></div>\n",
       "            <script type=\"text/javascript\">\n",
       "                require([\"plotly\"], function(Plotly) {\n",
       "                    window.PLOTLYENV=window.PLOTLYENV || {};\n",
       "                    window.PLOTLYENV.BASE_URL='https://plot.ly';\n",
       "                    \n",
       "                if (document.getElementById(\"6de0fc5b-b393-4a55-8231-101cb0d776b6\")) {\n",
       "                    Plotly.newPlot(\n",
       "                        '6de0fc5b-b393-4a55-8231-101cb0d776b6',\n",
       "                        [{\"marker\": {\"color\": \"rgba(255, 153, 51, 0.6)\", \"line\": {\"color\": \"rgba(255, 153, 51, 1.0)\", \"width\": 1}}, \"name\": \"None\", \"orientation\": \"v\", \"text\": \"\", \"type\": \"bar\", \"x\": [\"A\", \"B\", \"C\", \"D\"], \"y\": [100, 100, 100, 100]}],\n",
       "                        {\"legend\": {\"bgcolor\": \"#F5F6F9\", \"font\": {\"color\": \"#4D5663\"}}, \"paper_bgcolor\": \"#F5F6F9\", \"plot_bgcolor\": \"#F5F6F9\", \"template\": {\"data\": {\"bar\": [{\"error_x\": {\"color\": \"#2a3f5f\"}, \"error_y\": {\"color\": \"#2a3f5f\"}, \"marker\": {\"line\": {\"color\": \"#E5ECF6\", \"width\": 0.5}}, \"type\": \"bar\"}], \"barpolar\": [{\"marker\": {\"line\": {\"color\": \"#E5ECF6\", \"width\": 0.5}}, \"type\": \"barpolar\"}], \"carpet\": [{\"aaxis\": {\"endlinecolor\": \"#2a3f5f\", \"gridcolor\": \"white\", \"linecolor\": \"white\", \"minorgridcolor\": \"white\", \"startlinecolor\": \"#2a3f5f\"}, \"baxis\": {\"endlinecolor\": \"#2a3f5f\", \"gridcolor\": \"white\", \"linecolor\": \"white\", \"minorgridcolor\": \"white\", \"startlinecolor\": \"#2a3f5f\"}, \"type\": \"carpet\"}], \"choropleth\": [{\"colorbar\": {\"outlinewidth\": 0, \"ticks\": \"\"}, \"type\": \"choropleth\"}], \"contour\": [{\"colorbar\": {\"outlinewidth\": 0, \"ticks\": \"\"}, \"colorscale\": [[0.0, \"#0d0887\"], [0.1111111111111111, \"#46039f\"], [0.2222222222222222, \"#7201a8\"], [0.3333333333333333, \"#9c179e\"], [0.4444444444444444, \"#bd3786\"], [0.5555555555555556, \"#d8576b\"], [0.6666666666666666, \"#ed7953\"], [0.7777777777777778, \"#fb9f3a\"], [0.8888888888888888, \"#fdca26\"], [1.0, \"#f0f921\"]], \"type\": \"contour\"}], \"contourcarpet\": [{\"colorbar\": {\"outlinewidth\": 0, \"ticks\": \"\"}, \"type\": \"contourcarpet\"}], \"heatmap\": [{\"colorbar\": {\"outlinewidth\": 0, \"ticks\": \"\"}, \"colorscale\": [[0.0, \"#0d0887\"], [0.1111111111111111, \"#46039f\"], [0.2222222222222222, \"#7201a8\"], [0.3333333333333333, \"#9c179e\"], [0.4444444444444444, \"#bd3786\"], [0.5555555555555556, \"#d8576b\"], [0.6666666666666666, \"#ed7953\"], [0.7777777777777778, \"#fb9f3a\"], [0.8888888888888888, \"#fdca26\"], [1.0, \"#f0f921\"]], \"type\": \"heatmap\"}], \"heatmapgl\": [{\"colorbar\": {\"outlinewidth\": 0, \"ticks\": \"\"}, \"colorscale\": [[0.0, \"#0d0887\"], [0.1111111111111111, \"#46039f\"], [0.2222222222222222, \"#7201a8\"], [0.3333333333333333, \"#9c179e\"], [0.4444444444444444, \"#bd3786\"], [0.5555555555555556, \"#d8576b\"], [0.6666666666666666, \"#ed7953\"], [0.7777777777777778, \"#fb9f3a\"], [0.8888888888888888, \"#fdca26\"], [1.0, \"#f0f921\"]], \"type\": \"heatmapgl\"}], \"histogram\": [{\"marker\": {\"colorbar\": {\"outlinewidth\": 0, \"ticks\": \"\"}}, \"type\": \"histogram\"}], \"histogram2d\": [{\"colorbar\": {\"outlinewidth\": 0, \"ticks\": \"\"}, \"colorscale\": [[0.0, \"#0d0887\"], [0.1111111111111111, \"#46039f\"], [0.2222222222222222, \"#7201a8\"], [0.3333333333333333, \"#9c179e\"], [0.4444444444444444, \"#bd3786\"], [0.5555555555555556, \"#d8576b\"], [0.6666666666666666, \"#ed7953\"], [0.7777777777777778, \"#fb9f3a\"], [0.8888888888888888, \"#fdca26\"], [1.0, \"#f0f921\"]], \"type\": \"histogram2d\"}], \"histogram2dcontour\": [{\"colorbar\": {\"outlinewidth\": 0, \"ticks\": \"\"}, \"colorscale\": [[0.0, \"#0d0887\"], [0.1111111111111111, \"#46039f\"], [0.2222222222222222, \"#7201a8\"], [0.3333333333333333, \"#9c179e\"], [0.4444444444444444, \"#bd3786\"], [0.5555555555555556, \"#d8576b\"], [0.6666666666666666, \"#ed7953\"], [0.7777777777777778, \"#fb9f3a\"], [0.8888888888888888, \"#fdca26\"], [1.0, \"#f0f921\"]], \"type\": \"histogram2dcontour\"}], \"mesh3d\": [{\"colorbar\": {\"outlinewidth\": 0, \"ticks\": \"\"}, \"type\": \"mesh3d\"}], \"parcoords\": [{\"line\": {\"colorbar\": {\"outlinewidth\": 0, \"ticks\": \"\"}}, \"type\": \"parcoords\"}], \"pie\": [{\"automargin\": true, \"type\": \"pie\"}], \"scatter\": [{\"marker\": {\"colorbar\": {\"outlinewidth\": 0, \"ticks\": \"\"}}, \"type\": \"scatter\"}], \"scatter3d\": [{\"line\": {\"colorbar\": {\"outlinewidth\": 0, \"ticks\": \"\"}}, \"marker\": {\"colorbar\": {\"outlinewidth\": 0, \"ticks\": \"\"}}, \"type\": \"scatter3d\"}], \"scattercarpet\": [{\"marker\": {\"colorbar\": {\"outlinewidth\": 0, \"ticks\": \"\"}}, \"type\": \"scattercarpet\"}], \"scattergeo\": [{\"marker\": {\"colorbar\": {\"outlinewidth\": 0, \"ticks\": \"\"}}, \"type\": \"scattergeo\"}], \"scattergl\": [{\"marker\": {\"colorbar\": {\"outlinewidth\": 0, \"ticks\": \"\"}}, \"type\": \"scattergl\"}], \"scattermapbox\": [{\"marker\": {\"colorbar\": {\"outlinewidth\": 0, \"ticks\": \"\"}}, \"type\": \"scattermapbox\"}], \"scatterpolar\": [{\"marker\": {\"colorbar\": {\"outlinewidth\": 0, \"ticks\": \"\"}}, \"type\": \"scatterpolar\"}], \"scatterpolargl\": [{\"marker\": {\"colorbar\": {\"outlinewidth\": 0, \"ticks\": \"\"}}, \"type\": \"scatterpolargl\"}], \"scatterternary\": [{\"marker\": {\"colorbar\": {\"outlinewidth\": 0, \"ticks\": \"\"}}, \"type\": \"scatterternary\"}], \"surface\": [{\"colorbar\": {\"outlinewidth\": 0, \"ticks\": \"\"}, \"colorscale\": [[0.0, \"#0d0887\"], [0.1111111111111111, \"#46039f\"], [0.2222222222222222, \"#7201a8\"], [0.3333333333333333, \"#9c179e\"], [0.4444444444444444, \"#bd3786\"], [0.5555555555555556, \"#d8576b\"], [0.6666666666666666, \"#ed7953\"], [0.7777777777777778, \"#fb9f3a\"], [0.8888888888888888, \"#fdca26\"], [1.0, \"#f0f921\"]], \"type\": \"surface\"}], \"table\": [{\"cells\": {\"fill\": {\"color\": \"#EBF0F8\"}, \"line\": {\"color\": \"white\"}}, \"header\": {\"fill\": {\"color\": \"#C8D4E3\"}, \"line\": {\"color\": \"white\"}}, \"type\": \"table\"}]}, \"layout\": {\"annotationdefaults\": {\"arrowcolor\": \"#2a3f5f\", \"arrowhead\": 0, \"arrowwidth\": 1}, \"coloraxis\": {\"colorbar\": {\"outlinewidth\": 0, \"ticks\": \"\"}}, \"colorscale\": {\"diverging\": [[0, \"#8e0152\"], [0.1, \"#c51b7d\"], [0.2, \"#de77ae\"], [0.3, \"#f1b6da\"], [0.4, \"#fde0ef\"], [0.5, \"#f7f7f7\"], [0.6, \"#e6f5d0\"], [0.7, \"#b8e186\"], [0.8, \"#7fbc41\"], [0.9, \"#4d9221\"], [1, \"#276419\"]], \"sequential\": [[0.0, \"#0d0887\"], [0.1111111111111111, \"#46039f\"], [0.2222222222222222, \"#7201a8\"], [0.3333333333333333, \"#9c179e\"], [0.4444444444444444, \"#bd3786\"], [0.5555555555555556, \"#d8576b\"], [0.6666666666666666, \"#ed7953\"], [0.7777777777777778, \"#fb9f3a\"], [0.8888888888888888, \"#fdca26\"], [1.0, \"#f0f921\"]], \"sequentialminus\": [[0.0, \"#0d0887\"], [0.1111111111111111, \"#46039f\"], [0.2222222222222222, \"#7201a8\"], [0.3333333333333333, \"#9c179e\"], [0.4444444444444444, \"#bd3786\"], [0.5555555555555556, \"#d8576b\"], [0.6666666666666666, \"#ed7953\"], [0.7777777777777778, \"#fb9f3a\"], [0.8888888888888888, \"#fdca26\"], [1.0, \"#f0f921\"]]}, \"colorway\": [\"#636efa\", \"#EF553B\", \"#00cc96\", \"#ab63fa\", \"#FFA15A\", \"#19d3f3\", \"#FF6692\", \"#B6E880\", \"#FF97FF\", \"#FECB52\"], \"font\": {\"color\": \"#2a3f5f\"}, \"geo\": {\"bgcolor\": \"white\", \"lakecolor\": \"white\", \"landcolor\": \"#E5ECF6\", \"showlakes\": true, \"showland\": true, \"subunitcolor\": \"white\"}, \"hoverlabel\": {\"align\": \"left\"}, \"hovermode\": \"closest\", \"mapbox\": {\"style\": \"light\"}, \"paper_bgcolor\": \"white\", \"plot_bgcolor\": \"#E5ECF6\", \"polar\": {\"angularaxis\": {\"gridcolor\": \"white\", \"linecolor\": \"white\", \"ticks\": \"\"}, \"bgcolor\": \"#E5ECF6\", \"radialaxis\": {\"gridcolor\": \"white\", \"linecolor\": \"white\", \"ticks\": \"\"}}, \"scene\": {\"xaxis\": {\"backgroundcolor\": \"#E5ECF6\", \"gridcolor\": \"white\", \"gridwidth\": 2, \"linecolor\": \"white\", \"showbackground\": true, \"ticks\": \"\", \"zerolinecolor\": \"white\"}, \"yaxis\": {\"backgroundcolor\": \"#E5ECF6\", \"gridcolor\": \"white\", \"gridwidth\": 2, \"linecolor\": \"white\", \"showbackground\": true, \"ticks\": \"\", \"zerolinecolor\": \"white\"}, \"zaxis\": {\"backgroundcolor\": \"#E5ECF6\", \"gridcolor\": \"white\", \"gridwidth\": 2, \"linecolor\": \"white\", \"showbackground\": true, \"ticks\": \"\", \"zerolinecolor\": \"white\"}}, \"shapedefaults\": {\"line\": {\"color\": \"#2a3f5f\"}}, \"ternary\": {\"aaxis\": {\"gridcolor\": \"white\", \"linecolor\": \"white\", \"ticks\": \"\"}, \"baxis\": {\"gridcolor\": \"white\", \"linecolor\": \"white\", \"ticks\": \"\"}, \"bgcolor\": \"#E5ECF6\", \"caxis\": {\"gridcolor\": \"white\", \"linecolor\": \"white\", \"ticks\": \"\"}}, \"title\": {\"x\": 0.05}, \"xaxis\": {\"automargin\": true, \"gridcolor\": \"white\", \"linecolor\": \"white\", \"ticks\": \"\", \"title\": {\"standoff\": 15}, \"zerolinecolor\": \"white\", \"zerolinewidth\": 2}, \"yaxis\": {\"automargin\": true, \"gridcolor\": \"white\", \"linecolor\": \"white\", \"ticks\": \"\", \"title\": {\"standoff\": 15}, \"zerolinecolor\": \"white\", \"zerolinewidth\": 2}}}, \"title\": {\"font\": {\"color\": \"#4D5663\"}}, \"xaxis\": {\"gridcolor\": \"#E1E5ED\", \"showgrid\": true, \"tickfont\": {\"color\": \"#4D5663\"}, \"title\": {\"font\": {\"color\": \"#4D5663\"}, \"text\": \"\"}, \"zerolinecolor\": \"#E1E5ED\"}, \"yaxis\": {\"gridcolor\": \"#E1E5ED\", \"showgrid\": true, \"tickfont\": {\"color\": \"#4D5663\"}, \"title\": {\"font\": {\"color\": \"#4D5663\"}, \"text\": \"\"}, \"zerolinecolor\": \"#E1E5ED\"}},\n",
       "                        {\"showLink\": true, \"linkText\": \"Export to plot.ly\", \"plotlyServerURL\": \"https://plot.ly\", \"responsive\": true}\n",
       "                    ).then(function(){\n",
       "                            \n",
       "var gd = document.getElementById('6de0fc5b-b393-4a55-8231-101cb0d776b6');\n",
       "var x = new MutationObserver(function (mutations, observer) {{\n",
       "        var display = window.getComputedStyle(gd).display;\n",
       "        if (!display || display === 'none') {{\n",
       "            console.log([gd, 'removed!']);\n",
       "            Plotly.purge(gd);\n",
       "            observer.disconnect();\n",
       "        }}\n",
       "}});\n",
       "\n",
       "// Listen for the removal of the full notebook cells\n",
       "var notebookContainer = gd.closest('#notebook-container');\n",
       "if (notebookContainer) {{\n",
       "    x.observe(notebookContainer, {childList: true});\n",
       "}}\n",
       "\n",
       "// Listen for the clearing of the current output cell\n",
       "var outputEl = gd.closest('.output');\n",
       "if (outputEl) {{\n",
       "    x.observe(outputEl, {childList: true});\n",
       "}}\n",
       "\n",
       "                        })\n",
       "                };\n",
       "                });\n",
       "            </script>\n",
       "        </div>"
      ]
     },
     "metadata": {},
     "output_type": "display_data"
    }
   ],
   "source": [
    "df.count().iplot(kind='bar')"
   ]
  },
  {
   "cell_type": "code",
   "execution_count": 11,
   "metadata": {},
   "outputs": [
    {
     "data": {
      "application/vnd.plotly.v1+json": {
       "config": {
        "linkText": "Export to plot.ly",
        "plotlyServerURL": "https://plot.ly",
        "showLink": true
       },
       "data": [
        {
         "boxpoints": false,
         "line": {
          "width": 1.3
         },
         "marker": {
          "color": "rgba(255, 153, 51, 1.0)"
         },
         "name": "A",
         "orientation": "v",
         "type": "box",
         "y": [
          0.9533923532252154,
          0.7962578503151079,
          0.9446265933015333,
          -0.42864094189536345,
          -0.6905822967359128,
          0.545787353838866,
          -0.7495000133758046,
          -0.3762815578281219,
          0.3338145439069094,
          1.8164322972195024,
          -0.45792968633020076,
          0.37527095200432803,
          1.6257569004557955,
          -1.0553284569165717,
          -1.5696652241668305,
          -0.3228740712113491,
          0.1507472809239381,
          -0.5236479525340905,
          -1.4136103156819133,
          -0.25450762723785664,
          -0.3528814569744451,
          -0.5218846044634726,
          1.4625662999874716,
          -0.29412671346680097,
          1.0894037294964314,
          0.8454922650572088,
          1.1524461039633298,
          -0.3993380856970902,
          1.4481690182844273,
          0.5306664780946375,
          -0.3353654523770128,
          1.0164031310864774,
          0.5688651882963847,
          -0.7526355976340225,
          0.678666989205376,
          -0.676297494024862,
          -0.9994460323512003,
          -0.09574448606538073,
          -0.44460656961300205,
          -0.44951144023012246,
          -1.2048471417206936,
          0.7085546291673673,
          0.6547152374806319,
          -0.7423025231136463,
          -2.1840448982989344,
          -1.0761526288632624,
          -0.8821739194264769,
          0.16686387735840705,
          -1.6161118772902994,
          -2.20726383604153,
          1.0311954284225517,
          -0.242110444341512,
          -0.13962810666291445,
          0.5792425627063781,
          1.7064911400976197,
          1.0447748476017658,
          0.5514204827280627,
          -0.2762503662657573,
          0.7549544200480618,
          0.2775470665053151,
          -0.5982610550270542,
          -0.22943336333057485,
          -0.9634299159356345,
          0.9426435162691165,
          -2.78429824560043,
          -1.0727632114734371,
          -0.6725702929710772,
          -1.3972696238020141,
          -0.09263107503903131,
          -0.0852572909075391,
          1.6541989070099647,
          0.9381501595964749,
          1.0954607253099615,
          0.0963009934795626,
          -0.3485949014755212,
          -0.4694509996304064,
          0.24703932030270714,
          1.4068080908410796,
          -0.6683069699263524,
          1.0235858873351433,
          0.4496249563956825,
          0.39823683814607497,
          1.7915890976254676,
          -1.3276782228531736,
          0.9539407573453836,
          -0.11839409168110034,
          -0.4908515286224764,
          0.7214190615733209,
          -1.2964801667391652,
          0.8113597656016831,
          1.0927746445277344,
          0.15306711543042487,
          0.5150282622650163,
          -0.7743053253986879,
          -1.3428282038945936,
          -0.6916081901577839,
          -0.3848626572878707,
          -0.7531296637862062,
          -0.06521943121422427,
          -0.4175317297317254
         ]
        },
        {
         "boxpoints": false,
         "line": {
          "width": 1.3
         },
         "marker": {
          "color": "rgba(55, 128, 191, 1.0)"
         },
         "name": "B",
         "orientation": "v",
         "type": "box",
         "y": [
          0.06947627645146132,
          -1.1607331144368884,
          -1.0497237200184943,
          -1.5019722344727746,
          -0.35258467341524236,
          -0.2613228779269877,
          -0.06139124485561016,
          -0.44360043268460614,
          0.5872810423296456,
          1.6453995448818386,
          -0.7900626782826925,
          0.18850992933071747,
          1.7249806781280306,
          1.7419381851834321,
          0.12978630101315522,
          -0.6184924891150716,
          1.3239594395322758,
          -0.8221817143634784,
          0.1729970616350675,
          -0.06451233675875263,
          1.806990957117825,
          -0.07398636085416085,
          0.8577491295231231,
          0.7950606607627105,
          -0.21130922179843403,
          -0.33469796249196276,
          1.4981538840123534,
          -0.37300060573819865,
          -0.6636143565365548,
          0.21665831066383276,
          -0.6704273842363159,
          -0.5419693348508918,
          0.4827874038183322,
          0.11512264384583679,
          -1.995149410421762,
          -0.24652486006627924,
          -2.0379604789618577,
          1.5251422775071708,
          -0.09475683944237748,
          -0.4152216032207558,
          1.0538852176943854,
          0.9601525791285485,
          0.5000010334891224,
          1.2485272427426186,
          0.8235984689487181,
          0.474745927388093,
          -1.4936499081932895,
          0.1426436720132142,
          0.37031345404667415,
          0.31292079605749484,
          0.05974849585601801,
          0.12891917352285698,
          0.6460500265917863,
          0.7892432827025327,
          -0.4842582356008212,
          0.7010336915602854,
          2.0534288048468974,
          -0.675806191857299,
          -0.5346894222900018,
          0.11199315394758796,
          -1.6037419859915685,
          1.4675262838719447,
          -0.7155811026629516,
          -0.5697123833533212,
          0.13424980737666348,
          0.5363928716736676,
          -0.664561078210953,
          -0.5909996720870854,
          -1.1243652440851621,
          2.4349656634141517,
          0.0850612426247251,
          -0.0372770038794375,
          -0.6028590721689905,
          0.9092158213811373,
          1.402430473603624,
          0.41745183831560073,
          -0.20313523445200599,
          1.0764350847389748,
          1.4423102931701026,
          1.218346375994514,
          0.3355120938252802,
          0.4733931746569244,
          -0.2393567851765012,
          1.9489466889539204,
          -0.5848238215674598,
          -1.6455253042673064,
          1.4180247584903094,
          -0.8569693533754201,
          1.0282726134368507,
          -0.515658480873396,
          0.06909637953208433,
          -1.1426104768023915,
          0.051162969647525966,
          -0.1644305552111428,
          0.01357270195562589,
          1.5799064467391917,
          0.1833104094552434,
          -2.323886990231017,
          -0.21440703575713888,
          -0.3262744037676085
         ]
        },
        {
         "boxpoints": false,
         "line": {
          "width": 1.3
         },
         "marker": {
          "color": "rgba(50, 171, 96, 1.0)"
         },
         "name": "C",
         "orientation": "v",
         "type": "box",
         "y": [
          0.38624200232466965,
          -1.103053781166063,
          0.8747230151714097,
          1.1427618086131146,
          1.0884770767948007,
          0.018359523694216263,
          0.05840997798192588,
          -1.2391290014141552,
          -1.296181045731021,
          -0.8887332871538806,
          -0.23456032680491165,
          0.8331448638773145,
          0.24946389872828809,
          -0.5583851428414339,
          -1.6825339615031922,
          1.1883565952538475,
          0.8553794074661895,
          0.600574420419182,
          0.6322393057773141,
          -0.6111798102511441,
          -0.7129929993343201,
          -0.13191366960066728,
          -2.086549345634095,
          -1.2944282860750111,
          -0.7668382337430868,
          -0.012030414860574743,
          1.0473654903555025,
          -0.677110218515026,
          -0.6909783025399621,
          0.6049468036074455,
          -0.33925801968699215,
          -0.19735030582817678,
          -1.3767593235238877,
          -1.8268986918367425,
          -0.8246164142011257,
          -1.2461764710336531,
          1.0779803445030067,
          0.592753213646832,
          -1.7661736170871576,
          -0.9697867014971933,
          1.662630823447494,
          0.41045393970333455,
          -0.7803868114552753,
          -0.3403884430122021,
          2.0139348199611584,
          -1.5400588993376187,
          -1.2155525186307272,
          -0.3413266240642806,
          0.2688487285658409,
          -0.4547811988897437,
          0.4008500978073652,
          0.5333243966653178,
          1.9293198084109082,
          -1.412673932806497,
          -0.9400824076378804,
          0.48502163853338665,
          0.1491532803026734,
          -0.38116730827138484,
          -0.881039496056569,
          0.3561620126336619,
          1.9636376771967603,
          -0.28098973199069216,
          0.9459807073237207,
          -0.8239976940070456,
          -0.17177805579083164,
          -0.45150497803643086,
          -1.2242830407172463,
          -0.517747453633957,
          -0.36853353096114033,
          -1.2660077556792828,
          0.43153341357301894,
          -2.0148730397232644,
          0.0619611179969558,
          -0.4933547729948514,
          -0.017350503213527536,
          0.39218455393464097,
          -1.0120832654272587,
          0.5137759979125835,
          0.3470347547097227,
          -0.7803624770413473,
          -0.9984240624711453,
          1.1226579397756151,
          -0.9531621899896159,
          -1.1400610100436397,
          0.7227567747392188,
          -1.7986076971636866,
          0.3523808637582861,
          1.5994152665586299,
          0.25776039243829135,
          -1.430537457590503,
          -0.39255184153996725,
          0.4910379010155916,
          2.480487659287149,
          -1.465343791671094,
          -0.9108807912459752,
          -0.07630301283561905,
          1.9404065668343375,
          0.4990136693681264,
          0.3541865406050927,
          -0.6549640067820476
         ]
        },
        {
         "boxpoints": false,
         "line": {
          "width": 1.3
         },
         "marker": {
          "color": "rgba(128, 0, 128, 1.0)"
         },
         "name": "D",
         "orientation": "v",
         "type": "box",
         "y": [
          1.35799650121603,
          0.49031384851341386,
          0.8217900412184245,
          1.8480179079450132,
          1.2891957674160297,
          -1.65365200127266,
          0.10454661884657883,
          0.9506716710464106,
          -0.19641922014168325,
          0.9768571708759514,
          0.14020495319766363,
          -0.12537426752293807,
          0.44930617740675016,
          -2.2208536613578977,
          0.6170470273080931,
          1.185972681436933,
          1.1733625582842218,
          1.2292256810101445,
          0.07450998345320564,
          0.1151458760479426,
          0.28018438840182763,
          0.7223513102801838,
          -0.9954998509921545,
          1.7762467394262884,
          -1.798771758232789,
          -1.1355961233029268,
          1.0336082924616914,
          1.9064446864252091,
          0.8724039750469477,
          0.4739927604174638,
          0.332547688686496,
          -0.7417122895328502,
          -0.1306805505201772,
          0.8269101080866751,
          -1.0850132095479876,
          0.5395081602646972,
          -0.7948842629278595,
          0.46230114848173987,
          1.3988864697472683,
          -0.10820150105426884,
          -0.6364044200995346,
          0.66999827882666,
          0.708590161971385,
          0.5553804699720557,
          0.6816179967639676,
          -0.9941929601339952,
          -0.5808554254498477,
          0.9383726682347696,
          0.3240423424455391,
          -1.0385439846087516,
          -1.539542792561218,
          -0.961406758760432,
          0.02261058611178702,
          1.1002121793781972,
          0.6788455444403805,
          0.4927823986423535,
          0.3060554625276701,
          -0.206657643593115,
          0.12525764004808265,
          -2.0128651495818763,
          1.1276818269886617,
          0.9544309829196077,
          -0.20702002152668894,
          -0.9425080889409485,
          0.8166432279944357,
          0.7917779827298608,
          -0.7773306725417373,
          0.006113206575926991,
          0.2653593473830176,
          0.2968504982679135,
          0.8137227607709042,
          -0.17544034351489765,
          -0.33825098739707593,
          -1.699307948886646,
          0.758732502114384,
          -0.08836103472531166,
          2.251033328323059,
          -0.3242265920860937,
          -1.550932289507223,
          1.416420560331823,
          0.8228168780693008,
          0.3411632332780876,
          1.1235084777975795,
          0.26843534920251977,
          1.2380229735851842,
          -2.31966589624832,
          1.2194283245867084,
          -0.5927184450268074,
          0.12502297443507235,
          -0.520998348360788,
          0.08042225483731544,
          -1.3599580302861842,
          1.3514526144843164,
          -0.8689695804604732,
          0.10737726783367744,
          0.09641323245696796,
          2.285685243349205,
          -0.055633511678821815,
          -0.0018428827838383338,
          0.319891646443404
         ]
        }
       ],
       "layout": {
        "legend": {
         "bgcolor": "#F5F6F9",
         "font": {
          "color": "#4D5663"
         }
        },
        "paper_bgcolor": "#F5F6F9",
        "plot_bgcolor": "#F5F6F9",
        "template": {
         "data": {
          "bar": [
           {
            "error_x": {
             "color": "#2a3f5f"
            },
            "error_y": {
             "color": "#2a3f5f"
            },
            "marker": {
             "line": {
              "color": "#E5ECF6",
              "width": 0.5
             }
            },
            "type": "bar"
           }
          ],
          "barpolar": [
           {
            "marker": {
             "line": {
              "color": "#E5ECF6",
              "width": 0.5
             }
            },
            "type": "barpolar"
           }
          ],
          "carpet": [
           {
            "aaxis": {
             "endlinecolor": "#2a3f5f",
             "gridcolor": "white",
             "linecolor": "white",
             "minorgridcolor": "white",
             "startlinecolor": "#2a3f5f"
            },
            "baxis": {
             "endlinecolor": "#2a3f5f",
             "gridcolor": "white",
             "linecolor": "white",
             "minorgridcolor": "white",
             "startlinecolor": "#2a3f5f"
            },
            "type": "carpet"
           }
          ],
          "choropleth": [
           {
            "colorbar": {
             "outlinewidth": 0,
             "ticks": ""
            },
            "type": "choropleth"
           }
          ],
          "contour": [
           {
            "colorbar": {
             "outlinewidth": 0,
             "ticks": ""
            },
            "colorscale": [
             [
              0,
              "#0d0887"
             ],
             [
              0.1111111111111111,
              "#46039f"
             ],
             [
              0.2222222222222222,
              "#7201a8"
             ],
             [
              0.3333333333333333,
              "#9c179e"
             ],
             [
              0.4444444444444444,
              "#bd3786"
             ],
             [
              0.5555555555555556,
              "#d8576b"
             ],
             [
              0.6666666666666666,
              "#ed7953"
             ],
             [
              0.7777777777777778,
              "#fb9f3a"
             ],
             [
              0.8888888888888888,
              "#fdca26"
             ],
             [
              1,
              "#f0f921"
             ]
            ],
            "type": "contour"
           }
          ],
          "contourcarpet": [
           {
            "colorbar": {
             "outlinewidth": 0,
             "ticks": ""
            },
            "type": "contourcarpet"
           }
          ],
          "heatmap": [
           {
            "colorbar": {
             "outlinewidth": 0,
             "ticks": ""
            },
            "colorscale": [
             [
              0,
              "#0d0887"
             ],
             [
              0.1111111111111111,
              "#46039f"
             ],
             [
              0.2222222222222222,
              "#7201a8"
             ],
             [
              0.3333333333333333,
              "#9c179e"
             ],
             [
              0.4444444444444444,
              "#bd3786"
             ],
             [
              0.5555555555555556,
              "#d8576b"
             ],
             [
              0.6666666666666666,
              "#ed7953"
             ],
             [
              0.7777777777777778,
              "#fb9f3a"
             ],
             [
              0.8888888888888888,
              "#fdca26"
             ],
             [
              1,
              "#f0f921"
             ]
            ],
            "type": "heatmap"
           }
          ],
          "heatmapgl": [
           {
            "colorbar": {
             "outlinewidth": 0,
             "ticks": ""
            },
            "colorscale": [
             [
              0,
              "#0d0887"
             ],
             [
              0.1111111111111111,
              "#46039f"
             ],
             [
              0.2222222222222222,
              "#7201a8"
             ],
             [
              0.3333333333333333,
              "#9c179e"
             ],
             [
              0.4444444444444444,
              "#bd3786"
             ],
             [
              0.5555555555555556,
              "#d8576b"
             ],
             [
              0.6666666666666666,
              "#ed7953"
             ],
             [
              0.7777777777777778,
              "#fb9f3a"
             ],
             [
              0.8888888888888888,
              "#fdca26"
             ],
             [
              1,
              "#f0f921"
             ]
            ],
            "type": "heatmapgl"
           }
          ],
          "histogram": [
           {
            "marker": {
             "colorbar": {
              "outlinewidth": 0,
              "ticks": ""
             }
            },
            "type": "histogram"
           }
          ],
          "histogram2d": [
           {
            "colorbar": {
             "outlinewidth": 0,
             "ticks": ""
            },
            "colorscale": [
             [
              0,
              "#0d0887"
             ],
             [
              0.1111111111111111,
              "#46039f"
             ],
             [
              0.2222222222222222,
              "#7201a8"
             ],
             [
              0.3333333333333333,
              "#9c179e"
             ],
             [
              0.4444444444444444,
              "#bd3786"
             ],
             [
              0.5555555555555556,
              "#d8576b"
             ],
             [
              0.6666666666666666,
              "#ed7953"
             ],
             [
              0.7777777777777778,
              "#fb9f3a"
             ],
             [
              0.8888888888888888,
              "#fdca26"
             ],
             [
              1,
              "#f0f921"
             ]
            ],
            "type": "histogram2d"
           }
          ],
          "histogram2dcontour": [
           {
            "colorbar": {
             "outlinewidth": 0,
             "ticks": ""
            },
            "colorscale": [
             [
              0,
              "#0d0887"
             ],
             [
              0.1111111111111111,
              "#46039f"
             ],
             [
              0.2222222222222222,
              "#7201a8"
             ],
             [
              0.3333333333333333,
              "#9c179e"
             ],
             [
              0.4444444444444444,
              "#bd3786"
             ],
             [
              0.5555555555555556,
              "#d8576b"
             ],
             [
              0.6666666666666666,
              "#ed7953"
             ],
             [
              0.7777777777777778,
              "#fb9f3a"
             ],
             [
              0.8888888888888888,
              "#fdca26"
             ],
             [
              1,
              "#f0f921"
             ]
            ],
            "type": "histogram2dcontour"
           }
          ],
          "mesh3d": [
           {
            "colorbar": {
             "outlinewidth": 0,
             "ticks": ""
            },
            "type": "mesh3d"
           }
          ],
          "parcoords": [
           {
            "line": {
             "colorbar": {
              "outlinewidth": 0,
              "ticks": ""
             }
            },
            "type": "parcoords"
           }
          ],
          "pie": [
           {
            "automargin": true,
            "type": "pie"
           }
          ],
          "scatter": [
           {
            "marker": {
             "colorbar": {
              "outlinewidth": 0,
              "ticks": ""
             }
            },
            "type": "scatter"
           }
          ],
          "scatter3d": [
           {
            "line": {
             "colorbar": {
              "outlinewidth": 0,
              "ticks": ""
             }
            },
            "marker": {
             "colorbar": {
              "outlinewidth": 0,
              "ticks": ""
             }
            },
            "type": "scatter3d"
           }
          ],
          "scattercarpet": [
           {
            "marker": {
             "colorbar": {
              "outlinewidth": 0,
              "ticks": ""
             }
            },
            "type": "scattercarpet"
           }
          ],
          "scattergeo": [
           {
            "marker": {
             "colorbar": {
              "outlinewidth": 0,
              "ticks": ""
             }
            },
            "type": "scattergeo"
           }
          ],
          "scattergl": [
           {
            "marker": {
             "colorbar": {
              "outlinewidth": 0,
              "ticks": ""
             }
            },
            "type": "scattergl"
           }
          ],
          "scattermapbox": [
           {
            "marker": {
             "colorbar": {
              "outlinewidth": 0,
              "ticks": ""
             }
            },
            "type": "scattermapbox"
           }
          ],
          "scatterpolar": [
           {
            "marker": {
             "colorbar": {
              "outlinewidth": 0,
              "ticks": ""
             }
            },
            "type": "scatterpolar"
           }
          ],
          "scatterpolargl": [
           {
            "marker": {
             "colorbar": {
              "outlinewidth": 0,
              "ticks": ""
             }
            },
            "type": "scatterpolargl"
           }
          ],
          "scatterternary": [
           {
            "marker": {
             "colorbar": {
              "outlinewidth": 0,
              "ticks": ""
             }
            },
            "type": "scatterternary"
           }
          ],
          "surface": [
           {
            "colorbar": {
             "outlinewidth": 0,
             "ticks": ""
            },
            "colorscale": [
             [
              0,
              "#0d0887"
             ],
             [
              0.1111111111111111,
              "#46039f"
             ],
             [
              0.2222222222222222,
              "#7201a8"
             ],
             [
              0.3333333333333333,
              "#9c179e"
             ],
             [
              0.4444444444444444,
              "#bd3786"
             ],
             [
              0.5555555555555556,
              "#d8576b"
             ],
             [
              0.6666666666666666,
              "#ed7953"
             ],
             [
              0.7777777777777778,
              "#fb9f3a"
             ],
             [
              0.8888888888888888,
              "#fdca26"
             ],
             [
              1,
              "#f0f921"
             ]
            ],
            "type": "surface"
           }
          ],
          "table": [
           {
            "cells": {
             "fill": {
              "color": "#EBF0F8"
             },
             "line": {
              "color": "white"
             }
            },
            "header": {
             "fill": {
              "color": "#C8D4E3"
             },
             "line": {
              "color": "white"
             }
            },
            "type": "table"
           }
          ]
         },
         "layout": {
          "annotationdefaults": {
           "arrowcolor": "#2a3f5f",
           "arrowhead": 0,
           "arrowwidth": 1
          },
          "coloraxis": {
           "colorbar": {
            "outlinewidth": 0,
            "ticks": ""
           }
          },
          "colorscale": {
           "diverging": [
            [
             0,
             "#8e0152"
            ],
            [
             0.1,
             "#c51b7d"
            ],
            [
             0.2,
             "#de77ae"
            ],
            [
             0.3,
             "#f1b6da"
            ],
            [
             0.4,
             "#fde0ef"
            ],
            [
             0.5,
             "#f7f7f7"
            ],
            [
             0.6,
             "#e6f5d0"
            ],
            [
             0.7,
             "#b8e186"
            ],
            [
             0.8,
             "#7fbc41"
            ],
            [
             0.9,
             "#4d9221"
            ],
            [
             1,
             "#276419"
            ]
           ],
           "sequential": [
            [
             0,
             "#0d0887"
            ],
            [
             0.1111111111111111,
             "#46039f"
            ],
            [
             0.2222222222222222,
             "#7201a8"
            ],
            [
             0.3333333333333333,
             "#9c179e"
            ],
            [
             0.4444444444444444,
             "#bd3786"
            ],
            [
             0.5555555555555556,
             "#d8576b"
            ],
            [
             0.6666666666666666,
             "#ed7953"
            ],
            [
             0.7777777777777778,
             "#fb9f3a"
            ],
            [
             0.8888888888888888,
             "#fdca26"
            ],
            [
             1,
             "#f0f921"
            ]
           ],
           "sequentialminus": [
            [
             0,
             "#0d0887"
            ],
            [
             0.1111111111111111,
             "#46039f"
            ],
            [
             0.2222222222222222,
             "#7201a8"
            ],
            [
             0.3333333333333333,
             "#9c179e"
            ],
            [
             0.4444444444444444,
             "#bd3786"
            ],
            [
             0.5555555555555556,
             "#d8576b"
            ],
            [
             0.6666666666666666,
             "#ed7953"
            ],
            [
             0.7777777777777778,
             "#fb9f3a"
            ],
            [
             0.8888888888888888,
             "#fdca26"
            ],
            [
             1,
             "#f0f921"
            ]
           ]
          },
          "colorway": [
           "#636efa",
           "#EF553B",
           "#00cc96",
           "#ab63fa",
           "#FFA15A",
           "#19d3f3",
           "#FF6692",
           "#B6E880",
           "#FF97FF",
           "#FECB52"
          ],
          "font": {
           "color": "#2a3f5f"
          },
          "geo": {
           "bgcolor": "white",
           "lakecolor": "white",
           "landcolor": "#E5ECF6",
           "showlakes": true,
           "showland": true,
           "subunitcolor": "white"
          },
          "hoverlabel": {
           "align": "left"
          },
          "hovermode": "closest",
          "mapbox": {
           "style": "light"
          },
          "paper_bgcolor": "white",
          "plot_bgcolor": "#E5ECF6",
          "polar": {
           "angularaxis": {
            "gridcolor": "white",
            "linecolor": "white",
            "ticks": ""
           },
           "bgcolor": "#E5ECF6",
           "radialaxis": {
            "gridcolor": "white",
            "linecolor": "white",
            "ticks": ""
           }
          },
          "scene": {
           "xaxis": {
            "backgroundcolor": "#E5ECF6",
            "gridcolor": "white",
            "gridwidth": 2,
            "linecolor": "white",
            "showbackground": true,
            "ticks": "",
            "zerolinecolor": "white"
           },
           "yaxis": {
            "backgroundcolor": "#E5ECF6",
            "gridcolor": "white",
            "gridwidth": 2,
            "linecolor": "white",
            "showbackground": true,
            "ticks": "",
            "zerolinecolor": "white"
           },
           "zaxis": {
            "backgroundcolor": "#E5ECF6",
            "gridcolor": "white",
            "gridwidth": 2,
            "linecolor": "white",
            "showbackground": true,
            "ticks": "",
            "zerolinecolor": "white"
           }
          },
          "shapedefaults": {
           "line": {
            "color": "#2a3f5f"
           }
          },
          "ternary": {
           "aaxis": {
            "gridcolor": "white",
            "linecolor": "white",
            "ticks": ""
           },
           "baxis": {
            "gridcolor": "white",
            "linecolor": "white",
            "ticks": ""
           },
           "bgcolor": "#E5ECF6",
           "caxis": {
            "gridcolor": "white",
            "linecolor": "white",
            "ticks": ""
           }
          },
          "title": {
           "x": 0.05
          },
          "xaxis": {
           "automargin": true,
           "gridcolor": "white",
           "linecolor": "white",
           "ticks": "",
           "title": {
            "standoff": 15
           },
           "zerolinecolor": "white",
           "zerolinewidth": 2
          },
          "yaxis": {
           "automargin": true,
           "gridcolor": "white",
           "linecolor": "white",
           "ticks": "",
           "title": {
            "standoff": 15
           },
           "zerolinecolor": "white",
           "zerolinewidth": 2
          }
         }
        },
        "title": {
         "font": {
          "color": "#4D5663"
         }
        },
        "xaxis": {
         "gridcolor": "#E1E5ED",
         "showgrid": true,
         "tickfont": {
          "color": "#4D5663"
         },
         "title": {
          "font": {
           "color": "#4D5663"
          },
          "text": ""
         },
         "zerolinecolor": "#E1E5ED"
        },
        "yaxis": {
         "gridcolor": "#E1E5ED",
         "showgrid": true,
         "tickfont": {
          "color": "#4D5663"
         },
         "title": {
          "font": {
           "color": "#4D5663"
          },
          "text": ""
         },
         "zerolinecolor": "#E1E5ED"
        }
       }
      },
      "text/html": [
       "<div>\n",
       "        \n",
       "        \n",
       "            <div id=\"d1146f47-89d7-4d42-9e97-b7aa84b6af46\" class=\"plotly-graph-div\" style=\"height:525px; width:100%;\"></div>\n",
       "            <script type=\"text/javascript\">\n",
       "                require([\"plotly\"], function(Plotly) {\n",
       "                    window.PLOTLYENV=window.PLOTLYENV || {};\n",
       "                    window.PLOTLYENV.BASE_URL='https://plot.ly';\n",
       "                    \n",
       "                if (document.getElementById(\"d1146f47-89d7-4d42-9e97-b7aa84b6af46\")) {\n",
       "                    Plotly.newPlot(\n",
       "                        'd1146f47-89d7-4d42-9e97-b7aa84b6af46',\n",
       "                        [{\"boxpoints\": false, \"line\": {\"width\": 1.3}, \"marker\": {\"color\": \"rgba(255, 153, 51, 1.0)\"}, \"name\": \"A\", \"orientation\": \"v\", \"type\": \"box\", \"y\": [0.9533923532252154, 0.7962578503151079, 0.9446265933015333, -0.42864094189536345, -0.6905822967359128, 0.545787353838866, -0.7495000133758046, -0.3762815578281219, 0.3338145439069094, 1.8164322972195024, -0.45792968633020076, 0.37527095200432803, 1.6257569004557955, -1.0553284569165717, -1.5696652241668305, -0.3228740712113491, 0.1507472809239381, -0.5236479525340905, -1.4136103156819133, -0.25450762723785664, -0.3528814569744451, -0.5218846044634726, 1.4625662999874716, -0.29412671346680097, 1.0894037294964314, 0.8454922650572088, 1.1524461039633298, -0.3993380856970902, 1.4481690182844273, 0.5306664780946375, -0.3353654523770128, 1.0164031310864774, 0.5688651882963847, -0.7526355976340225, 0.678666989205376, -0.676297494024862, -0.9994460323512003, -0.09574448606538073, -0.44460656961300205, -0.44951144023012246, -1.2048471417206936, 0.7085546291673673, 0.6547152374806319, -0.7423025231136463, -2.1840448982989344, -1.0761526288632624, -0.8821739194264769, 0.16686387735840705, -1.6161118772902994, -2.20726383604153, 1.0311954284225517, -0.242110444341512, -0.13962810666291445, 0.5792425627063781, 1.7064911400976197, 1.0447748476017658, 0.5514204827280627, -0.2762503662657573, 0.7549544200480618, 0.2775470665053151, -0.5982610550270542, -0.22943336333057485, -0.9634299159356345, 0.9426435162691165, -2.78429824560043, -1.0727632114734371, -0.6725702929710772, -1.3972696238020141, -0.09263107503903131, -0.0852572909075391, 1.6541989070099647, 0.9381501595964749, 1.0954607253099615, 0.0963009934795626, -0.3485949014755212, -0.4694509996304064, 0.24703932030270714, 1.4068080908410796, -0.6683069699263524, 1.0235858873351433, 0.4496249563956825, 0.39823683814607497, 1.7915890976254676, -1.3276782228531736, 0.9539407573453836, -0.11839409168110034, -0.4908515286224764, 0.7214190615733209, -1.2964801667391652, 0.8113597656016831, 1.0927746445277344, 0.15306711543042487, 0.5150282622650163, -0.7743053253986879, -1.3428282038945936, -0.6916081901577839, -0.3848626572878707, -0.7531296637862062, -0.06521943121422427, -0.4175317297317254]}, {\"boxpoints\": false, \"line\": {\"width\": 1.3}, \"marker\": {\"color\": \"rgba(55, 128, 191, 1.0)\"}, \"name\": \"B\", \"orientation\": \"v\", \"type\": \"box\", \"y\": [0.06947627645146132, -1.1607331144368884, -1.0497237200184943, -1.5019722344727746, -0.35258467341524236, -0.2613228779269877, -0.06139124485561016, -0.44360043268460614, 0.5872810423296456, 1.6453995448818386, -0.7900626782826925, 0.18850992933071747, 1.7249806781280306, 1.7419381851834321, 0.12978630101315522, -0.6184924891150716, 1.3239594395322758, -0.8221817143634784, 0.1729970616350675, -0.06451233675875263, 1.806990957117825, -0.07398636085416085, 0.8577491295231231, 0.7950606607627105, -0.21130922179843403, -0.33469796249196276, 1.4981538840123534, -0.37300060573819865, -0.6636143565365548, 0.21665831066383276, -0.6704273842363159, -0.5419693348508918, 0.4827874038183322, 0.11512264384583679, -1.995149410421762, -0.24652486006627924, -2.0379604789618577, 1.5251422775071708, -0.09475683944237748, -0.4152216032207558, 1.0538852176943854, 0.9601525791285485, 0.5000010334891224, 1.2485272427426186, 0.8235984689487181, 0.474745927388093, -1.4936499081932895, 0.1426436720132142, 0.37031345404667415, 0.31292079605749484, 0.05974849585601801, 0.12891917352285698, 0.6460500265917863, 0.7892432827025327, -0.4842582356008212, 0.7010336915602854, 2.0534288048468974, -0.675806191857299, -0.5346894222900018, 0.11199315394758796, -1.6037419859915685, 1.4675262838719447, -0.7155811026629516, -0.5697123833533212, 0.13424980737666348, 0.5363928716736676, -0.664561078210953, -0.5909996720870854, -1.1243652440851621, 2.4349656634141517, 0.0850612426247251, -0.0372770038794375, -0.6028590721689905, 0.9092158213811373, 1.402430473603624, 0.41745183831560073, -0.20313523445200599, 1.0764350847389748, 1.4423102931701026, 1.218346375994514, 0.3355120938252802, 0.4733931746569244, -0.2393567851765012, 1.9489466889539204, -0.5848238215674598, -1.6455253042673064, 1.4180247584903094, -0.8569693533754201, 1.0282726134368507, -0.515658480873396, 0.06909637953208433, -1.1426104768023915, 0.051162969647525966, -0.1644305552111428, 0.01357270195562589, 1.5799064467391917, 0.1833104094552434, -2.323886990231017, -0.21440703575713888, -0.3262744037676085]}, {\"boxpoints\": false, \"line\": {\"width\": 1.3}, \"marker\": {\"color\": \"rgba(50, 171, 96, 1.0)\"}, \"name\": \"C\", \"orientation\": \"v\", \"type\": \"box\", \"y\": [0.38624200232466965, -1.103053781166063, 0.8747230151714097, 1.1427618086131146, 1.0884770767948007, 0.018359523694216263, 0.05840997798192588, -1.2391290014141552, -1.296181045731021, -0.8887332871538806, -0.23456032680491165, 0.8331448638773145, 0.24946389872828809, -0.5583851428414339, -1.6825339615031922, 1.1883565952538475, 0.8553794074661895, 0.600574420419182, 0.6322393057773141, -0.6111798102511441, -0.7129929993343201, -0.13191366960066728, -2.086549345634095, -1.2944282860750111, -0.7668382337430868, -0.012030414860574743, 1.0473654903555025, -0.677110218515026, -0.6909783025399621, 0.6049468036074455, -0.33925801968699215, -0.19735030582817678, -1.3767593235238877, -1.8268986918367425, -0.8246164142011257, -1.2461764710336531, 1.0779803445030067, 0.592753213646832, -1.7661736170871576, -0.9697867014971933, 1.662630823447494, 0.41045393970333455, -0.7803868114552753, -0.3403884430122021, 2.0139348199611584, -1.5400588993376187, -1.2155525186307272, -0.3413266240642806, 0.2688487285658409, -0.4547811988897437, 0.4008500978073652, 0.5333243966653178, 1.9293198084109082, -1.412673932806497, -0.9400824076378804, 0.48502163853338665, 0.1491532803026734, -0.38116730827138484, -0.881039496056569, 0.3561620126336619, 1.9636376771967603, -0.28098973199069216, 0.9459807073237207, -0.8239976940070456, -0.17177805579083164, -0.45150497803643086, -1.2242830407172463, -0.517747453633957, -0.36853353096114033, -1.2660077556792828, 0.43153341357301894, -2.0148730397232644, 0.0619611179969558, -0.4933547729948514, -0.017350503213527536, 0.39218455393464097, -1.0120832654272587, 0.5137759979125835, 0.3470347547097227, -0.7803624770413473, -0.9984240624711453, 1.1226579397756151, -0.9531621899896159, -1.1400610100436397, 0.7227567747392188, -1.7986076971636866, 0.3523808637582861, 1.5994152665586299, 0.25776039243829135, -1.430537457590503, -0.39255184153996725, 0.4910379010155916, 2.480487659287149, -1.465343791671094, -0.9108807912459752, -0.07630301283561905, 1.9404065668343375, 0.4990136693681264, 0.3541865406050927, -0.6549640067820476]}, {\"boxpoints\": false, \"line\": {\"width\": 1.3}, \"marker\": {\"color\": \"rgba(128, 0, 128, 1.0)\"}, \"name\": \"D\", \"orientation\": \"v\", \"type\": \"box\", \"y\": [1.35799650121603, 0.49031384851341386, 0.8217900412184245, 1.8480179079450132, 1.2891957674160297, -1.65365200127266, 0.10454661884657883, 0.9506716710464106, -0.19641922014168325, 0.9768571708759514, 0.14020495319766363, -0.12537426752293807, 0.44930617740675016, -2.2208536613578977, 0.6170470273080931, 1.185972681436933, 1.1733625582842218, 1.2292256810101445, 0.07450998345320564, 0.1151458760479426, 0.28018438840182763, 0.7223513102801838, -0.9954998509921545, 1.7762467394262884, -1.798771758232789, -1.1355961233029268, 1.0336082924616914, 1.9064446864252091, 0.8724039750469477, 0.4739927604174638, 0.332547688686496, -0.7417122895328502, -0.1306805505201772, 0.8269101080866751, -1.0850132095479876, 0.5395081602646972, -0.7948842629278595, 0.46230114848173987, 1.3988864697472683, -0.10820150105426884, -0.6364044200995346, 0.66999827882666, 0.708590161971385, 0.5553804699720557, 0.6816179967639676, -0.9941929601339952, -0.5808554254498477, 0.9383726682347696, 0.3240423424455391, -1.0385439846087516, -1.539542792561218, -0.961406758760432, 0.02261058611178702, 1.1002121793781972, 0.6788455444403805, 0.4927823986423535, 0.3060554625276701, -0.206657643593115, 0.12525764004808265, -2.0128651495818763, 1.1276818269886617, 0.9544309829196077, -0.20702002152668894, -0.9425080889409485, 0.8166432279944357, 0.7917779827298608, -0.7773306725417373, 0.006113206575926991, 0.2653593473830176, 0.2968504982679135, 0.8137227607709042, -0.17544034351489765, -0.33825098739707593, -1.699307948886646, 0.758732502114384, -0.08836103472531166, 2.251033328323059, -0.3242265920860937, -1.550932289507223, 1.416420560331823, 0.8228168780693008, 0.3411632332780876, 1.1235084777975795, 0.26843534920251977, 1.2380229735851842, -2.31966589624832, 1.2194283245867084, -0.5927184450268074, 0.12502297443507235, -0.520998348360788, 0.08042225483731544, -1.3599580302861842, 1.3514526144843164, -0.8689695804604732, 0.10737726783367744, 0.09641323245696796, 2.285685243349205, -0.055633511678821815, -0.0018428827838383338, 0.319891646443404]}],\n",
       "                        {\"legend\": {\"bgcolor\": \"#F5F6F9\", \"font\": {\"color\": \"#4D5663\"}}, \"paper_bgcolor\": \"#F5F6F9\", \"plot_bgcolor\": \"#F5F6F9\", \"template\": {\"data\": {\"bar\": [{\"error_x\": {\"color\": \"#2a3f5f\"}, \"error_y\": {\"color\": \"#2a3f5f\"}, \"marker\": {\"line\": {\"color\": \"#E5ECF6\", \"width\": 0.5}}, \"type\": \"bar\"}], \"barpolar\": [{\"marker\": {\"line\": {\"color\": \"#E5ECF6\", \"width\": 0.5}}, \"type\": \"barpolar\"}], \"carpet\": [{\"aaxis\": {\"endlinecolor\": \"#2a3f5f\", \"gridcolor\": \"white\", \"linecolor\": \"white\", \"minorgridcolor\": \"white\", \"startlinecolor\": \"#2a3f5f\"}, \"baxis\": {\"endlinecolor\": \"#2a3f5f\", \"gridcolor\": \"white\", \"linecolor\": \"white\", \"minorgridcolor\": \"white\", \"startlinecolor\": \"#2a3f5f\"}, \"type\": \"carpet\"}], \"choropleth\": [{\"colorbar\": {\"outlinewidth\": 0, \"ticks\": \"\"}, \"type\": \"choropleth\"}], \"contour\": [{\"colorbar\": {\"outlinewidth\": 0, \"ticks\": \"\"}, \"colorscale\": [[0.0, \"#0d0887\"], [0.1111111111111111, \"#46039f\"], [0.2222222222222222, \"#7201a8\"], [0.3333333333333333, \"#9c179e\"], [0.4444444444444444, \"#bd3786\"], [0.5555555555555556, \"#d8576b\"], [0.6666666666666666, \"#ed7953\"], [0.7777777777777778, \"#fb9f3a\"], [0.8888888888888888, \"#fdca26\"], [1.0, \"#f0f921\"]], \"type\": \"contour\"}], \"contourcarpet\": [{\"colorbar\": {\"outlinewidth\": 0, \"ticks\": \"\"}, \"type\": \"contourcarpet\"}], \"heatmap\": [{\"colorbar\": {\"outlinewidth\": 0, \"ticks\": \"\"}, \"colorscale\": [[0.0, \"#0d0887\"], [0.1111111111111111, \"#46039f\"], [0.2222222222222222, \"#7201a8\"], [0.3333333333333333, \"#9c179e\"], [0.4444444444444444, \"#bd3786\"], [0.5555555555555556, \"#d8576b\"], [0.6666666666666666, \"#ed7953\"], [0.7777777777777778, \"#fb9f3a\"], [0.8888888888888888, \"#fdca26\"], [1.0, \"#f0f921\"]], \"type\": \"heatmap\"}], \"heatmapgl\": [{\"colorbar\": {\"outlinewidth\": 0, \"ticks\": \"\"}, \"colorscale\": [[0.0, \"#0d0887\"], [0.1111111111111111, \"#46039f\"], [0.2222222222222222, \"#7201a8\"], [0.3333333333333333, \"#9c179e\"], [0.4444444444444444, \"#bd3786\"], [0.5555555555555556, \"#d8576b\"], [0.6666666666666666, \"#ed7953\"], [0.7777777777777778, \"#fb9f3a\"], [0.8888888888888888, \"#fdca26\"], [1.0, \"#f0f921\"]], \"type\": \"heatmapgl\"}], \"histogram\": [{\"marker\": {\"colorbar\": {\"outlinewidth\": 0, \"ticks\": \"\"}}, \"type\": \"histogram\"}], \"histogram2d\": [{\"colorbar\": {\"outlinewidth\": 0, \"ticks\": \"\"}, \"colorscale\": [[0.0, \"#0d0887\"], [0.1111111111111111, \"#46039f\"], [0.2222222222222222, \"#7201a8\"], [0.3333333333333333, \"#9c179e\"], [0.4444444444444444, \"#bd3786\"], [0.5555555555555556, \"#d8576b\"], [0.6666666666666666, \"#ed7953\"], [0.7777777777777778, \"#fb9f3a\"], [0.8888888888888888, \"#fdca26\"], [1.0, \"#f0f921\"]], \"type\": \"histogram2d\"}], \"histogram2dcontour\": [{\"colorbar\": {\"outlinewidth\": 0, \"ticks\": \"\"}, \"colorscale\": [[0.0, \"#0d0887\"], [0.1111111111111111, \"#46039f\"], [0.2222222222222222, \"#7201a8\"], [0.3333333333333333, \"#9c179e\"], [0.4444444444444444, \"#bd3786\"], [0.5555555555555556, \"#d8576b\"], [0.6666666666666666, \"#ed7953\"], [0.7777777777777778, \"#fb9f3a\"], [0.8888888888888888, \"#fdca26\"], [1.0, \"#f0f921\"]], \"type\": \"histogram2dcontour\"}], \"mesh3d\": [{\"colorbar\": {\"outlinewidth\": 0, \"ticks\": \"\"}, \"type\": \"mesh3d\"}], \"parcoords\": [{\"line\": {\"colorbar\": {\"outlinewidth\": 0, \"ticks\": \"\"}}, \"type\": \"parcoords\"}], \"pie\": [{\"automargin\": true, \"type\": \"pie\"}], \"scatter\": [{\"marker\": {\"colorbar\": {\"outlinewidth\": 0, \"ticks\": \"\"}}, \"type\": \"scatter\"}], \"scatter3d\": [{\"line\": {\"colorbar\": {\"outlinewidth\": 0, \"ticks\": \"\"}}, \"marker\": {\"colorbar\": {\"outlinewidth\": 0, \"ticks\": \"\"}}, \"type\": \"scatter3d\"}], \"scattercarpet\": [{\"marker\": {\"colorbar\": {\"outlinewidth\": 0, \"ticks\": \"\"}}, \"type\": \"scattercarpet\"}], \"scattergeo\": [{\"marker\": {\"colorbar\": {\"outlinewidth\": 0, \"ticks\": \"\"}}, \"type\": \"scattergeo\"}], \"scattergl\": [{\"marker\": {\"colorbar\": {\"outlinewidth\": 0, \"ticks\": \"\"}}, \"type\": \"scattergl\"}], \"scattermapbox\": [{\"marker\": {\"colorbar\": {\"outlinewidth\": 0, \"ticks\": \"\"}}, \"type\": \"scattermapbox\"}], \"scatterpolar\": [{\"marker\": {\"colorbar\": {\"outlinewidth\": 0, \"ticks\": \"\"}}, \"type\": \"scatterpolar\"}], \"scatterpolargl\": [{\"marker\": {\"colorbar\": {\"outlinewidth\": 0, \"ticks\": \"\"}}, \"type\": \"scatterpolargl\"}], \"scatterternary\": [{\"marker\": {\"colorbar\": {\"outlinewidth\": 0, \"ticks\": \"\"}}, \"type\": \"scatterternary\"}], \"surface\": [{\"colorbar\": {\"outlinewidth\": 0, \"ticks\": \"\"}, \"colorscale\": [[0.0, \"#0d0887\"], [0.1111111111111111, \"#46039f\"], [0.2222222222222222, \"#7201a8\"], [0.3333333333333333, \"#9c179e\"], [0.4444444444444444, \"#bd3786\"], [0.5555555555555556, \"#d8576b\"], [0.6666666666666666, \"#ed7953\"], [0.7777777777777778, \"#fb9f3a\"], [0.8888888888888888, \"#fdca26\"], [1.0, \"#f0f921\"]], \"type\": \"surface\"}], \"table\": [{\"cells\": {\"fill\": {\"color\": \"#EBF0F8\"}, \"line\": {\"color\": \"white\"}}, \"header\": {\"fill\": {\"color\": \"#C8D4E3\"}, \"line\": {\"color\": \"white\"}}, \"type\": \"table\"}]}, \"layout\": {\"annotationdefaults\": {\"arrowcolor\": \"#2a3f5f\", \"arrowhead\": 0, \"arrowwidth\": 1}, \"coloraxis\": {\"colorbar\": {\"outlinewidth\": 0, \"ticks\": \"\"}}, \"colorscale\": {\"diverging\": [[0, \"#8e0152\"], [0.1, \"#c51b7d\"], [0.2, \"#de77ae\"], [0.3, \"#f1b6da\"], [0.4, \"#fde0ef\"], [0.5, \"#f7f7f7\"], [0.6, \"#e6f5d0\"], [0.7, \"#b8e186\"], [0.8, \"#7fbc41\"], [0.9, \"#4d9221\"], [1, \"#276419\"]], \"sequential\": [[0.0, \"#0d0887\"], [0.1111111111111111, \"#46039f\"], [0.2222222222222222, \"#7201a8\"], [0.3333333333333333, \"#9c179e\"], [0.4444444444444444, \"#bd3786\"], [0.5555555555555556, \"#d8576b\"], [0.6666666666666666, \"#ed7953\"], [0.7777777777777778, \"#fb9f3a\"], [0.8888888888888888, \"#fdca26\"], [1.0, \"#f0f921\"]], \"sequentialminus\": [[0.0, \"#0d0887\"], [0.1111111111111111, \"#46039f\"], [0.2222222222222222, \"#7201a8\"], [0.3333333333333333, \"#9c179e\"], [0.4444444444444444, \"#bd3786\"], [0.5555555555555556, \"#d8576b\"], [0.6666666666666666, \"#ed7953\"], [0.7777777777777778, \"#fb9f3a\"], [0.8888888888888888, \"#fdca26\"], [1.0, \"#f0f921\"]]}, \"colorway\": [\"#636efa\", \"#EF553B\", \"#00cc96\", \"#ab63fa\", \"#FFA15A\", \"#19d3f3\", \"#FF6692\", \"#B6E880\", \"#FF97FF\", \"#FECB52\"], \"font\": {\"color\": \"#2a3f5f\"}, \"geo\": {\"bgcolor\": \"white\", \"lakecolor\": \"white\", \"landcolor\": \"#E5ECF6\", \"showlakes\": true, \"showland\": true, \"subunitcolor\": \"white\"}, \"hoverlabel\": {\"align\": \"left\"}, \"hovermode\": \"closest\", \"mapbox\": {\"style\": \"light\"}, \"paper_bgcolor\": \"white\", \"plot_bgcolor\": \"#E5ECF6\", \"polar\": {\"angularaxis\": {\"gridcolor\": \"white\", \"linecolor\": \"white\", \"ticks\": \"\"}, \"bgcolor\": \"#E5ECF6\", \"radialaxis\": {\"gridcolor\": \"white\", \"linecolor\": \"white\", \"ticks\": \"\"}}, \"scene\": {\"xaxis\": {\"backgroundcolor\": \"#E5ECF6\", \"gridcolor\": \"white\", \"gridwidth\": 2, \"linecolor\": \"white\", \"showbackground\": true, \"ticks\": \"\", \"zerolinecolor\": \"white\"}, \"yaxis\": {\"backgroundcolor\": \"#E5ECF6\", \"gridcolor\": \"white\", \"gridwidth\": 2, \"linecolor\": \"white\", \"showbackground\": true, \"ticks\": \"\", \"zerolinecolor\": \"white\"}, \"zaxis\": {\"backgroundcolor\": \"#E5ECF6\", \"gridcolor\": \"white\", \"gridwidth\": 2, \"linecolor\": \"white\", \"showbackground\": true, \"ticks\": \"\", \"zerolinecolor\": \"white\"}}, \"shapedefaults\": {\"line\": {\"color\": \"#2a3f5f\"}}, \"ternary\": {\"aaxis\": {\"gridcolor\": \"white\", \"linecolor\": \"white\", \"ticks\": \"\"}, \"baxis\": {\"gridcolor\": \"white\", \"linecolor\": \"white\", \"ticks\": \"\"}, \"bgcolor\": \"#E5ECF6\", \"caxis\": {\"gridcolor\": \"white\", \"linecolor\": \"white\", \"ticks\": \"\"}}, \"title\": {\"x\": 0.05}, \"xaxis\": {\"automargin\": true, \"gridcolor\": \"white\", \"linecolor\": \"white\", \"ticks\": \"\", \"title\": {\"standoff\": 15}, \"zerolinecolor\": \"white\", \"zerolinewidth\": 2}, \"yaxis\": {\"automargin\": true, \"gridcolor\": \"white\", \"linecolor\": \"white\", \"ticks\": \"\", \"title\": {\"standoff\": 15}, \"zerolinecolor\": \"white\", \"zerolinewidth\": 2}}}, \"title\": {\"font\": {\"color\": \"#4D5663\"}}, \"xaxis\": {\"gridcolor\": \"#E1E5ED\", \"showgrid\": true, \"tickfont\": {\"color\": \"#4D5663\"}, \"title\": {\"font\": {\"color\": \"#4D5663\"}, \"text\": \"\"}, \"zerolinecolor\": \"#E1E5ED\"}, \"yaxis\": {\"gridcolor\": \"#E1E5ED\", \"showgrid\": true, \"tickfont\": {\"color\": \"#4D5663\"}, \"title\": {\"font\": {\"color\": \"#4D5663\"}, \"text\": \"\"}, \"zerolinecolor\": \"#E1E5ED\"}},\n",
       "                        {\"showLink\": true, \"linkText\": \"Export to plot.ly\", \"plotlyServerURL\": \"https://plot.ly\", \"responsive\": true}\n",
       "                    ).then(function(){\n",
       "                            \n",
       "var gd = document.getElementById('d1146f47-89d7-4d42-9e97-b7aa84b6af46');\n",
       "var x = new MutationObserver(function (mutations, observer) {{\n",
       "        var display = window.getComputedStyle(gd).display;\n",
       "        if (!display || display === 'none') {{\n",
       "            console.log([gd, 'removed!']);\n",
       "            Plotly.purge(gd);\n",
       "            observer.disconnect();\n",
       "        }}\n",
       "}});\n",
       "\n",
       "// Listen for the removal of the full notebook cells\n",
       "var notebookContainer = gd.closest('#notebook-container');\n",
       "if (notebookContainer) {{\n",
       "    x.observe(notebookContainer, {childList: true});\n",
       "}}\n",
       "\n",
       "// Listen for the clearing of the current output cell\n",
       "var outputEl = gd.closest('.output');\n",
       "if (outputEl) {{\n",
       "    x.observe(outputEl, {childList: true});\n",
       "}}\n",
       "\n",
       "                        })\n",
       "                };\n",
       "                });\n",
       "            </script>\n",
       "        </div>"
      ]
     },
     "metadata": {},
     "output_type": "display_data"
    }
   ],
   "source": [
    "df.iplot(kind='box')"
   ]
  },
  {
   "cell_type": "code",
   "execution_count": 12,
   "metadata": {},
   "outputs": [
    {
     "data": {
      "application/vnd.plotly.v1+json": {
       "config": {
        "linkText": "Export to plot.ly",
        "plotlyServerURL": "https://plot.ly",
        "showLink": true
       },
       "data": [
        {
         "colorscale": [
          [
           0,
           "rgb(255, 153, 51)"
          ],
          [
           0.1111111111111111,
           "rgb(55, 128, 191)"
          ],
          [
           0.2222222222222222,
           "rgb(50, 171, 96)"
          ],
          [
           0.3333333333333333,
           "rgb(128, 0, 128)"
          ],
          [
           0.4444444444444444,
           "rgb(219, 64, 82)"
          ],
          [
           0.5555555555555556,
           "rgb(0, 128, 128)"
          ],
          [
           0.6666666666666666,
           "rgb(255, 255, 51)"
          ],
          [
           0.7777777777777778,
           "rgb(128, 128, 0)"
          ],
          [
           0.8888888888888888,
           "rgb(251, 128, 114)"
          ],
          [
           1,
           "rgb(128, 177, 211)"
          ]
         ],
         "type": "surface",
         "x": [
          0,
          1,
          2,
          3,
          4
         ],
         "y": [
          "x",
          "y",
          "z"
         ],
         "z": [
          [
           1,
           2,
           3,
           4,
           5
          ],
          [
           10,
           20,
           30,
           20,
           10
          ],
          [
           5,
           4,
           3,
           2,
           1
          ]
         ]
        }
       ],
       "layout": {
        "legend": {
         "bgcolor": "#F5F6F9",
         "font": {
          "color": "#4D5663"
         }
        },
        "paper_bgcolor": "#F5F6F9",
        "plot_bgcolor": "#F5F6F9",
        "template": {
         "data": {
          "bar": [
           {
            "error_x": {
             "color": "#2a3f5f"
            },
            "error_y": {
             "color": "#2a3f5f"
            },
            "marker": {
             "line": {
              "color": "#E5ECF6",
              "width": 0.5
             }
            },
            "type": "bar"
           }
          ],
          "barpolar": [
           {
            "marker": {
             "line": {
              "color": "#E5ECF6",
              "width": 0.5
             }
            },
            "type": "barpolar"
           }
          ],
          "carpet": [
           {
            "aaxis": {
             "endlinecolor": "#2a3f5f",
             "gridcolor": "white",
             "linecolor": "white",
             "minorgridcolor": "white",
             "startlinecolor": "#2a3f5f"
            },
            "baxis": {
             "endlinecolor": "#2a3f5f",
             "gridcolor": "white",
             "linecolor": "white",
             "minorgridcolor": "white",
             "startlinecolor": "#2a3f5f"
            },
            "type": "carpet"
           }
          ],
          "choropleth": [
           {
            "colorbar": {
             "outlinewidth": 0,
             "ticks": ""
            },
            "type": "choropleth"
           }
          ],
          "contour": [
           {
            "colorbar": {
             "outlinewidth": 0,
             "ticks": ""
            },
            "colorscale": [
             [
              0,
              "#0d0887"
             ],
             [
              0.1111111111111111,
              "#46039f"
             ],
             [
              0.2222222222222222,
              "#7201a8"
             ],
             [
              0.3333333333333333,
              "#9c179e"
             ],
             [
              0.4444444444444444,
              "#bd3786"
             ],
             [
              0.5555555555555556,
              "#d8576b"
             ],
             [
              0.6666666666666666,
              "#ed7953"
             ],
             [
              0.7777777777777778,
              "#fb9f3a"
             ],
             [
              0.8888888888888888,
              "#fdca26"
             ],
             [
              1,
              "#f0f921"
             ]
            ],
            "type": "contour"
           }
          ],
          "contourcarpet": [
           {
            "colorbar": {
             "outlinewidth": 0,
             "ticks": ""
            },
            "type": "contourcarpet"
           }
          ],
          "heatmap": [
           {
            "colorbar": {
             "outlinewidth": 0,
             "ticks": ""
            },
            "colorscale": [
             [
              0,
              "#0d0887"
             ],
             [
              0.1111111111111111,
              "#46039f"
             ],
             [
              0.2222222222222222,
              "#7201a8"
             ],
             [
              0.3333333333333333,
              "#9c179e"
             ],
             [
              0.4444444444444444,
              "#bd3786"
             ],
             [
              0.5555555555555556,
              "#d8576b"
             ],
             [
              0.6666666666666666,
              "#ed7953"
             ],
             [
              0.7777777777777778,
              "#fb9f3a"
             ],
             [
              0.8888888888888888,
              "#fdca26"
             ],
             [
              1,
              "#f0f921"
             ]
            ],
            "type": "heatmap"
           }
          ],
          "heatmapgl": [
           {
            "colorbar": {
             "outlinewidth": 0,
             "ticks": ""
            },
            "colorscale": [
             [
              0,
              "#0d0887"
             ],
             [
              0.1111111111111111,
              "#46039f"
             ],
             [
              0.2222222222222222,
              "#7201a8"
             ],
             [
              0.3333333333333333,
              "#9c179e"
             ],
             [
              0.4444444444444444,
              "#bd3786"
             ],
             [
              0.5555555555555556,
              "#d8576b"
             ],
             [
              0.6666666666666666,
              "#ed7953"
             ],
             [
              0.7777777777777778,
              "#fb9f3a"
             ],
             [
              0.8888888888888888,
              "#fdca26"
             ],
             [
              1,
              "#f0f921"
             ]
            ],
            "type": "heatmapgl"
           }
          ],
          "histogram": [
           {
            "marker": {
             "colorbar": {
              "outlinewidth": 0,
              "ticks": ""
             }
            },
            "type": "histogram"
           }
          ],
          "histogram2d": [
           {
            "colorbar": {
             "outlinewidth": 0,
             "ticks": ""
            },
            "colorscale": [
             [
              0,
              "#0d0887"
             ],
             [
              0.1111111111111111,
              "#46039f"
             ],
             [
              0.2222222222222222,
              "#7201a8"
             ],
             [
              0.3333333333333333,
              "#9c179e"
             ],
             [
              0.4444444444444444,
              "#bd3786"
             ],
             [
              0.5555555555555556,
              "#d8576b"
             ],
             [
              0.6666666666666666,
              "#ed7953"
             ],
             [
              0.7777777777777778,
              "#fb9f3a"
             ],
             [
              0.8888888888888888,
              "#fdca26"
             ],
             [
              1,
              "#f0f921"
             ]
            ],
            "type": "histogram2d"
           }
          ],
          "histogram2dcontour": [
           {
            "colorbar": {
             "outlinewidth": 0,
             "ticks": ""
            },
            "colorscale": [
             [
              0,
              "#0d0887"
             ],
             [
              0.1111111111111111,
              "#46039f"
             ],
             [
              0.2222222222222222,
              "#7201a8"
             ],
             [
              0.3333333333333333,
              "#9c179e"
             ],
             [
              0.4444444444444444,
              "#bd3786"
             ],
             [
              0.5555555555555556,
              "#d8576b"
             ],
             [
              0.6666666666666666,
              "#ed7953"
             ],
             [
              0.7777777777777778,
              "#fb9f3a"
             ],
             [
              0.8888888888888888,
              "#fdca26"
             ],
             [
              1,
              "#f0f921"
             ]
            ],
            "type": "histogram2dcontour"
           }
          ],
          "mesh3d": [
           {
            "colorbar": {
             "outlinewidth": 0,
             "ticks": ""
            },
            "type": "mesh3d"
           }
          ],
          "parcoords": [
           {
            "line": {
             "colorbar": {
              "outlinewidth": 0,
              "ticks": ""
             }
            },
            "type": "parcoords"
           }
          ],
          "pie": [
           {
            "automargin": true,
            "type": "pie"
           }
          ],
          "scatter": [
           {
            "marker": {
             "colorbar": {
              "outlinewidth": 0,
              "ticks": ""
             }
            },
            "type": "scatter"
           }
          ],
          "scatter3d": [
           {
            "line": {
             "colorbar": {
              "outlinewidth": 0,
              "ticks": ""
             }
            },
            "marker": {
             "colorbar": {
              "outlinewidth": 0,
              "ticks": ""
             }
            },
            "type": "scatter3d"
           }
          ],
          "scattercarpet": [
           {
            "marker": {
             "colorbar": {
              "outlinewidth": 0,
              "ticks": ""
             }
            },
            "type": "scattercarpet"
           }
          ],
          "scattergeo": [
           {
            "marker": {
             "colorbar": {
              "outlinewidth": 0,
              "ticks": ""
             }
            },
            "type": "scattergeo"
           }
          ],
          "scattergl": [
           {
            "marker": {
             "colorbar": {
              "outlinewidth": 0,
              "ticks": ""
             }
            },
            "type": "scattergl"
           }
          ],
          "scattermapbox": [
           {
            "marker": {
             "colorbar": {
              "outlinewidth": 0,
              "ticks": ""
             }
            },
            "type": "scattermapbox"
           }
          ],
          "scatterpolar": [
           {
            "marker": {
             "colorbar": {
              "outlinewidth": 0,
              "ticks": ""
             }
            },
            "type": "scatterpolar"
           }
          ],
          "scatterpolargl": [
           {
            "marker": {
             "colorbar": {
              "outlinewidth": 0,
              "ticks": ""
             }
            },
            "type": "scatterpolargl"
           }
          ],
          "scatterternary": [
           {
            "marker": {
             "colorbar": {
              "outlinewidth": 0,
              "ticks": ""
             }
            },
            "type": "scatterternary"
           }
          ],
          "surface": [
           {
            "colorbar": {
             "outlinewidth": 0,
             "ticks": ""
            },
            "colorscale": [
             [
              0,
              "#0d0887"
             ],
             [
              0.1111111111111111,
              "#46039f"
             ],
             [
              0.2222222222222222,
              "#7201a8"
             ],
             [
              0.3333333333333333,
              "#9c179e"
             ],
             [
              0.4444444444444444,
              "#bd3786"
             ],
             [
              0.5555555555555556,
              "#d8576b"
             ],
             [
              0.6666666666666666,
              "#ed7953"
             ],
             [
              0.7777777777777778,
              "#fb9f3a"
             ],
             [
              0.8888888888888888,
              "#fdca26"
             ],
             [
              1,
              "#f0f921"
             ]
            ],
            "type": "surface"
           }
          ],
          "table": [
           {
            "cells": {
             "fill": {
              "color": "#EBF0F8"
             },
             "line": {
              "color": "white"
             }
            },
            "header": {
             "fill": {
              "color": "#C8D4E3"
             },
             "line": {
              "color": "white"
             }
            },
            "type": "table"
           }
          ]
         },
         "layout": {
          "annotationdefaults": {
           "arrowcolor": "#2a3f5f",
           "arrowhead": 0,
           "arrowwidth": 1
          },
          "coloraxis": {
           "colorbar": {
            "outlinewidth": 0,
            "ticks": ""
           }
          },
          "colorscale": {
           "diverging": [
            [
             0,
             "#8e0152"
            ],
            [
             0.1,
             "#c51b7d"
            ],
            [
             0.2,
             "#de77ae"
            ],
            [
             0.3,
             "#f1b6da"
            ],
            [
             0.4,
             "#fde0ef"
            ],
            [
             0.5,
             "#f7f7f7"
            ],
            [
             0.6,
             "#e6f5d0"
            ],
            [
             0.7,
             "#b8e186"
            ],
            [
             0.8,
             "#7fbc41"
            ],
            [
             0.9,
             "#4d9221"
            ],
            [
             1,
             "#276419"
            ]
           ],
           "sequential": [
            [
             0,
             "#0d0887"
            ],
            [
             0.1111111111111111,
             "#46039f"
            ],
            [
             0.2222222222222222,
             "#7201a8"
            ],
            [
             0.3333333333333333,
             "#9c179e"
            ],
            [
             0.4444444444444444,
             "#bd3786"
            ],
            [
             0.5555555555555556,
             "#d8576b"
            ],
            [
             0.6666666666666666,
             "#ed7953"
            ],
            [
             0.7777777777777778,
             "#fb9f3a"
            ],
            [
             0.8888888888888888,
             "#fdca26"
            ],
            [
             1,
             "#f0f921"
            ]
           ],
           "sequentialminus": [
            [
             0,
             "#0d0887"
            ],
            [
             0.1111111111111111,
             "#46039f"
            ],
            [
             0.2222222222222222,
             "#7201a8"
            ],
            [
             0.3333333333333333,
             "#9c179e"
            ],
            [
             0.4444444444444444,
             "#bd3786"
            ],
            [
             0.5555555555555556,
             "#d8576b"
            ],
            [
             0.6666666666666666,
             "#ed7953"
            ],
            [
             0.7777777777777778,
             "#fb9f3a"
            ],
            [
             0.8888888888888888,
             "#fdca26"
            ],
            [
             1,
             "#f0f921"
            ]
           ]
          },
          "colorway": [
           "#636efa",
           "#EF553B",
           "#00cc96",
           "#ab63fa",
           "#FFA15A",
           "#19d3f3",
           "#FF6692",
           "#B6E880",
           "#FF97FF",
           "#FECB52"
          ],
          "font": {
           "color": "#2a3f5f"
          },
          "geo": {
           "bgcolor": "white",
           "lakecolor": "white",
           "landcolor": "#E5ECF6",
           "showlakes": true,
           "showland": true,
           "subunitcolor": "white"
          },
          "hoverlabel": {
           "align": "left"
          },
          "hovermode": "closest",
          "mapbox": {
           "style": "light"
          },
          "paper_bgcolor": "white",
          "plot_bgcolor": "#E5ECF6",
          "polar": {
           "angularaxis": {
            "gridcolor": "white",
            "linecolor": "white",
            "ticks": ""
           },
           "bgcolor": "#E5ECF6",
           "radialaxis": {
            "gridcolor": "white",
            "linecolor": "white",
            "ticks": ""
           }
          },
          "scene": {
           "xaxis": {
            "backgroundcolor": "#E5ECF6",
            "gridcolor": "white",
            "gridwidth": 2,
            "linecolor": "white",
            "showbackground": true,
            "ticks": "",
            "zerolinecolor": "white"
           },
           "yaxis": {
            "backgroundcolor": "#E5ECF6",
            "gridcolor": "white",
            "gridwidth": 2,
            "linecolor": "white",
            "showbackground": true,
            "ticks": "",
            "zerolinecolor": "white"
           },
           "zaxis": {
            "backgroundcolor": "#E5ECF6",
            "gridcolor": "white",
            "gridwidth": 2,
            "linecolor": "white",
            "showbackground": true,
            "ticks": "",
            "zerolinecolor": "white"
           }
          },
          "shapedefaults": {
           "line": {
            "color": "#2a3f5f"
           }
          },
          "ternary": {
           "aaxis": {
            "gridcolor": "white",
            "linecolor": "white",
            "ticks": ""
           },
           "baxis": {
            "gridcolor": "white",
            "linecolor": "white",
            "ticks": ""
           },
           "bgcolor": "#E5ECF6",
           "caxis": {
            "gridcolor": "white",
            "linecolor": "white",
            "ticks": ""
           }
          },
          "title": {
           "x": 0.05
          },
          "xaxis": {
           "automargin": true,
           "gridcolor": "white",
           "linecolor": "white",
           "ticks": "",
           "title": {
            "standoff": 15
           },
           "zerolinecolor": "white",
           "zerolinewidth": 2
          },
          "yaxis": {
           "automargin": true,
           "gridcolor": "white",
           "linecolor": "white",
           "ticks": "",
           "title": {
            "standoff": 15
           },
           "zerolinecolor": "white",
           "zerolinewidth": 2
          }
         }
        },
        "title": {
         "font": {
          "color": "#4D5663"
         }
        },
        "xaxis": {
         "gridcolor": "#E1E5ED",
         "showgrid": true,
         "tickfont": {
          "color": "#4D5663"
         },
         "title": {
          "font": {
           "color": "#4D5663"
          },
          "text": ""
         },
         "zerolinecolor": "#E1E5ED"
        },
        "yaxis": {
         "gridcolor": "#E1E5ED",
         "showgrid": true,
         "tickfont": {
          "color": "#4D5663"
         },
         "title": {
          "font": {
           "color": "#4D5663"
          },
          "text": ""
         },
         "zerolinecolor": "#E1E5ED"
        }
       }
      },
      "text/html": [
       "<div>\n",
       "        \n",
       "        \n",
       "            <div id=\"861fd75b-1894-4074-8fb3-eb4770310549\" class=\"plotly-graph-div\" style=\"height:525px; width:100%;\"></div>\n",
       "            <script type=\"text/javascript\">\n",
       "                require([\"plotly\"], function(Plotly) {\n",
       "                    window.PLOTLYENV=window.PLOTLYENV || {};\n",
       "                    window.PLOTLYENV.BASE_URL='https://plot.ly';\n",
       "                    \n",
       "                if (document.getElementById(\"861fd75b-1894-4074-8fb3-eb4770310549\")) {\n",
       "                    Plotly.newPlot(\n",
       "                        '861fd75b-1894-4074-8fb3-eb4770310549',\n",
       "                        [{\"colorscale\": [[0.0, \"rgb(255, 153, 51)\"], [0.1111111111111111, \"rgb(55, 128, 191)\"], [0.2222222222222222, \"rgb(50, 171, 96)\"], [0.3333333333333333, \"rgb(128, 0, 128)\"], [0.4444444444444444, \"rgb(219, 64, 82)\"], [0.5555555555555556, \"rgb(0, 128, 128)\"], [0.6666666666666666, \"rgb(255, 255, 51)\"], [0.7777777777777778, \"rgb(128, 128, 0)\"], [0.8888888888888888, \"rgb(251, 128, 114)\"], [1.0, \"rgb(128, 177, 211)\"]], \"type\": \"surface\", \"x\": [0, 1, 2, 3, 4], \"y\": [\"x\", \"y\", \"z\"], \"z\": [[1, 2, 3, 4, 5], [10, 20, 30, 20, 10], [5, 4, 3, 2, 1]]}],\n",
       "                        {\"legend\": {\"bgcolor\": \"#F5F6F9\", \"font\": {\"color\": \"#4D5663\"}}, \"paper_bgcolor\": \"#F5F6F9\", \"plot_bgcolor\": \"#F5F6F9\", \"template\": {\"data\": {\"bar\": [{\"error_x\": {\"color\": \"#2a3f5f\"}, \"error_y\": {\"color\": \"#2a3f5f\"}, \"marker\": {\"line\": {\"color\": \"#E5ECF6\", \"width\": 0.5}}, \"type\": \"bar\"}], \"barpolar\": [{\"marker\": {\"line\": {\"color\": \"#E5ECF6\", \"width\": 0.5}}, \"type\": \"barpolar\"}], \"carpet\": [{\"aaxis\": {\"endlinecolor\": \"#2a3f5f\", \"gridcolor\": \"white\", \"linecolor\": \"white\", \"minorgridcolor\": \"white\", \"startlinecolor\": \"#2a3f5f\"}, \"baxis\": {\"endlinecolor\": \"#2a3f5f\", \"gridcolor\": \"white\", \"linecolor\": \"white\", \"minorgridcolor\": \"white\", \"startlinecolor\": \"#2a3f5f\"}, \"type\": \"carpet\"}], \"choropleth\": [{\"colorbar\": {\"outlinewidth\": 0, \"ticks\": \"\"}, \"type\": \"choropleth\"}], \"contour\": [{\"colorbar\": {\"outlinewidth\": 0, \"ticks\": \"\"}, \"colorscale\": [[0.0, \"#0d0887\"], [0.1111111111111111, \"#46039f\"], [0.2222222222222222, \"#7201a8\"], [0.3333333333333333, \"#9c179e\"], [0.4444444444444444, \"#bd3786\"], [0.5555555555555556, \"#d8576b\"], [0.6666666666666666, \"#ed7953\"], [0.7777777777777778, \"#fb9f3a\"], [0.8888888888888888, \"#fdca26\"], [1.0, \"#f0f921\"]], \"type\": \"contour\"}], \"contourcarpet\": [{\"colorbar\": {\"outlinewidth\": 0, \"ticks\": \"\"}, \"type\": \"contourcarpet\"}], \"heatmap\": [{\"colorbar\": {\"outlinewidth\": 0, \"ticks\": \"\"}, \"colorscale\": [[0.0, \"#0d0887\"], [0.1111111111111111, \"#46039f\"], [0.2222222222222222, \"#7201a8\"], [0.3333333333333333, \"#9c179e\"], [0.4444444444444444, \"#bd3786\"], [0.5555555555555556, \"#d8576b\"], [0.6666666666666666, \"#ed7953\"], [0.7777777777777778, \"#fb9f3a\"], [0.8888888888888888, \"#fdca26\"], [1.0, \"#f0f921\"]], \"type\": \"heatmap\"}], \"heatmapgl\": [{\"colorbar\": {\"outlinewidth\": 0, \"ticks\": \"\"}, \"colorscale\": [[0.0, \"#0d0887\"], [0.1111111111111111, \"#46039f\"], [0.2222222222222222, \"#7201a8\"], [0.3333333333333333, \"#9c179e\"], [0.4444444444444444, \"#bd3786\"], [0.5555555555555556, \"#d8576b\"], [0.6666666666666666, \"#ed7953\"], [0.7777777777777778, \"#fb9f3a\"], [0.8888888888888888, \"#fdca26\"], [1.0, \"#f0f921\"]], \"type\": \"heatmapgl\"}], \"histogram\": [{\"marker\": {\"colorbar\": {\"outlinewidth\": 0, \"ticks\": \"\"}}, \"type\": \"histogram\"}], \"histogram2d\": [{\"colorbar\": {\"outlinewidth\": 0, \"ticks\": \"\"}, \"colorscale\": [[0.0, \"#0d0887\"], [0.1111111111111111, \"#46039f\"], [0.2222222222222222, \"#7201a8\"], [0.3333333333333333, \"#9c179e\"], [0.4444444444444444, \"#bd3786\"], [0.5555555555555556, \"#d8576b\"], [0.6666666666666666, \"#ed7953\"], [0.7777777777777778, \"#fb9f3a\"], [0.8888888888888888, \"#fdca26\"], [1.0, \"#f0f921\"]], \"type\": \"histogram2d\"}], \"histogram2dcontour\": [{\"colorbar\": {\"outlinewidth\": 0, \"ticks\": \"\"}, \"colorscale\": [[0.0, \"#0d0887\"], [0.1111111111111111, \"#46039f\"], [0.2222222222222222, \"#7201a8\"], [0.3333333333333333, \"#9c179e\"], [0.4444444444444444, \"#bd3786\"], [0.5555555555555556, \"#d8576b\"], [0.6666666666666666, \"#ed7953\"], [0.7777777777777778, \"#fb9f3a\"], [0.8888888888888888, \"#fdca26\"], [1.0, \"#f0f921\"]], \"type\": \"histogram2dcontour\"}], \"mesh3d\": [{\"colorbar\": {\"outlinewidth\": 0, \"ticks\": \"\"}, \"type\": \"mesh3d\"}], \"parcoords\": [{\"line\": {\"colorbar\": {\"outlinewidth\": 0, \"ticks\": \"\"}}, \"type\": \"parcoords\"}], \"pie\": [{\"automargin\": true, \"type\": \"pie\"}], \"scatter\": [{\"marker\": {\"colorbar\": {\"outlinewidth\": 0, \"ticks\": \"\"}}, \"type\": \"scatter\"}], \"scatter3d\": [{\"line\": {\"colorbar\": {\"outlinewidth\": 0, \"ticks\": \"\"}}, \"marker\": {\"colorbar\": {\"outlinewidth\": 0, \"ticks\": \"\"}}, \"type\": \"scatter3d\"}], \"scattercarpet\": [{\"marker\": {\"colorbar\": {\"outlinewidth\": 0, \"ticks\": \"\"}}, \"type\": \"scattercarpet\"}], \"scattergeo\": [{\"marker\": {\"colorbar\": {\"outlinewidth\": 0, \"ticks\": \"\"}}, \"type\": \"scattergeo\"}], \"scattergl\": [{\"marker\": {\"colorbar\": {\"outlinewidth\": 0, \"ticks\": \"\"}}, \"type\": \"scattergl\"}], \"scattermapbox\": [{\"marker\": {\"colorbar\": {\"outlinewidth\": 0, \"ticks\": \"\"}}, \"type\": \"scattermapbox\"}], \"scatterpolar\": [{\"marker\": {\"colorbar\": {\"outlinewidth\": 0, \"ticks\": \"\"}}, \"type\": \"scatterpolar\"}], \"scatterpolargl\": [{\"marker\": {\"colorbar\": {\"outlinewidth\": 0, \"ticks\": \"\"}}, \"type\": \"scatterpolargl\"}], \"scatterternary\": [{\"marker\": {\"colorbar\": {\"outlinewidth\": 0, \"ticks\": \"\"}}, \"type\": \"scatterternary\"}], \"surface\": [{\"colorbar\": {\"outlinewidth\": 0, \"ticks\": \"\"}, \"colorscale\": [[0.0, \"#0d0887\"], [0.1111111111111111, \"#46039f\"], [0.2222222222222222, \"#7201a8\"], [0.3333333333333333, \"#9c179e\"], [0.4444444444444444, \"#bd3786\"], [0.5555555555555556, \"#d8576b\"], [0.6666666666666666, \"#ed7953\"], [0.7777777777777778, \"#fb9f3a\"], [0.8888888888888888, \"#fdca26\"], [1.0, \"#f0f921\"]], \"type\": \"surface\"}], \"table\": [{\"cells\": {\"fill\": {\"color\": \"#EBF0F8\"}, \"line\": {\"color\": \"white\"}}, \"header\": {\"fill\": {\"color\": \"#C8D4E3\"}, \"line\": {\"color\": \"white\"}}, \"type\": \"table\"}]}, \"layout\": {\"annotationdefaults\": {\"arrowcolor\": \"#2a3f5f\", \"arrowhead\": 0, \"arrowwidth\": 1}, \"coloraxis\": {\"colorbar\": {\"outlinewidth\": 0, \"ticks\": \"\"}}, \"colorscale\": {\"diverging\": [[0, \"#8e0152\"], [0.1, \"#c51b7d\"], [0.2, \"#de77ae\"], [0.3, \"#f1b6da\"], [0.4, \"#fde0ef\"], [0.5, \"#f7f7f7\"], [0.6, \"#e6f5d0\"], [0.7, \"#b8e186\"], [0.8, \"#7fbc41\"], [0.9, \"#4d9221\"], [1, \"#276419\"]], \"sequential\": [[0.0, \"#0d0887\"], [0.1111111111111111, \"#46039f\"], [0.2222222222222222, \"#7201a8\"], [0.3333333333333333, \"#9c179e\"], [0.4444444444444444, \"#bd3786\"], [0.5555555555555556, \"#d8576b\"], [0.6666666666666666, \"#ed7953\"], [0.7777777777777778, \"#fb9f3a\"], [0.8888888888888888, \"#fdca26\"], [1.0, \"#f0f921\"]], \"sequentialminus\": [[0.0, \"#0d0887\"], [0.1111111111111111, \"#46039f\"], [0.2222222222222222, \"#7201a8\"], [0.3333333333333333, \"#9c179e\"], [0.4444444444444444, \"#bd3786\"], [0.5555555555555556, \"#d8576b\"], [0.6666666666666666, \"#ed7953\"], [0.7777777777777778, \"#fb9f3a\"], [0.8888888888888888, \"#fdca26\"], [1.0, \"#f0f921\"]]}, \"colorway\": [\"#636efa\", \"#EF553B\", \"#00cc96\", \"#ab63fa\", \"#FFA15A\", \"#19d3f3\", \"#FF6692\", \"#B6E880\", \"#FF97FF\", \"#FECB52\"], \"font\": {\"color\": \"#2a3f5f\"}, \"geo\": {\"bgcolor\": \"white\", \"lakecolor\": \"white\", \"landcolor\": \"#E5ECF6\", \"showlakes\": true, \"showland\": true, \"subunitcolor\": \"white\"}, \"hoverlabel\": {\"align\": \"left\"}, \"hovermode\": \"closest\", \"mapbox\": {\"style\": \"light\"}, \"paper_bgcolor\": \"white\", \"plot_bgcolor\": \"#E5ECF6\", \"polar\": {\"angularaxis\": {\"gridcolor\": \"white\", \"linecolor\": \"white\", \"ticks\": \"\"}, \"bgcolor\": \"#E5ECF6\", \"radialaxis\": {\"gridcolor\": \"white\", \"linecolor\": \"white\", \"ticks\": \"\"}}, \"scene\": {\"xaxis\": {\"backgroundcolor\": \"#E5ECF6\", \"gridcolor\": \"white\", \"gridwidth\": 2, \"linecolor\": \"white\", \"showbackground\": true, \"ticks\": \"\", \"zerolinecolor\": \"white\"}, \"yaxis\": {\"backgroundcolor\": \"#E5ECF6\", \"gridcolor\": \"white\", \"gridwidth\": 2, \"linecolor\": \"white\", \"showbackground\": true, \"ticks\": \"\", \"zerolinecolor\": \"white\"}, \"zaxis\": {\"backgroundcolor\": \"#E5ECF6\", \"gridcolor\": \"white\", \"gridwidth\": 2, \"linecolor\": \"white\", \"showbackground\": true, \"ticks\": \"\", \"zerolinecolor\": \"white\"}}, \"shapedefaults\": {\"line\": {\"color\": \"#2a3f5f\"}}, \"ternary\": {\"aaxis\": {\"gridcolor\": \"white\", \"linecolor\": \"white\", \"ticks\": \"\"}, \"baxis\": {\"gridcolor\": \"white\", \"linecolor\": \"white\", \"ticks\": \"\"}, \"bgcolor\": \"#E5ECF6\", \"caxis\": {\"gridcolor\": \"white\", \"linecolor\": \"white\", \"ticks\": \"\"}}, \"title\": {\"x\": 0.05}, \"xaxis\": {\"automargin\": true, \"gridcolor\": \"white\", \"linecolor\": \"white\", \"ticks\": \"\", \"title\": {\"standoff\": 15}, \"zerolinecolor\": \"white\", \"zerolinewidth\": 2}, \"yaxis\": {\"automargin\": true, \"gridcolor\": \"white\", \"linecolor\": \"white\", \"ticks\": \"\", \"title\": {\"standoff\": 15}, \"zerolinecolor\": \"white\", \"zerolinewidth\": 2}}}, \"title\": {\"font\": {\"color\": \"#4D5663\"}}, \"xaxis\": {\"gridcolor\": \"#E1E5ED\", \"showgrid\": true, \"tickfont\": {\"color\": \"#4D5663\"}, \"title\": {\"font\": {\"color\": \"#4D5663\"}, \"text\": \"\"}, \"zerolinecolor\": \"#E1E5ED\"}, \"yaxis\": {\"gridcolor\": \"#E1E5ED\", \"showgrid\": true, \"tickfont\": {\"color\": \"#4D5663\"}, \"title\": {\"font\": {\"color\": \"#4D5663\"}, \"text\": \"\"}, \"zerolinecolor\": \"#E1E5ED\"}},\n",
       "                        {\"showLink\": true, \"linkText\": \"Export to plot.ly\", \"plotlyServerURL\": \"https://plot.ly\", \"responsive\": true}\n",
       "                    ).then(function(){\n",
       "                            \n",
       "var gd = document.getElementById('861fd75b-1894-4074-8fb3-eb4770310549');\n",
       "var x = new MutationObserver(function (mutations, observer) {{\n",
       "        var display = window.getComputedStyle(gd).display;\n",
       "        if (!display || display === 'none') {{\n",
       "            console.log([gd, 'removed!']);\n",
       "            Plotly.purge(gd);\n",
       "            observer.disconnect();\n",
       "        }}\n",
       "}});\n",
       "\n",
       "// Listen for the removal of the full notebook cells\n",
       "var notebookContainer = gd.closest('#notebook-container');\n",
       "if (notebookContainer) {{\n",
       "    x.observe(notebookContainer, {childList: true});\n",
       "}}\n",
       "\n",
       "// Listen for the clearing of the current output cell\n",
       "var outputEl = gd.closest('.output');\n",
       "if (outputEl) {{\n",
       "    x.observe(outputEl, {childList: true});\n",
       "}}\n",
       "\n",
       "                        })\n",
       "                };\n",
       "                });\n",
       "            </script>\n",
       "        </div>"
      ]
     },
     "metadata": {},
     "output_type": "display_data"
    }
   ],
   "source": [
    "### 4-3d surface\n",
    "lisa = pd.DataFrame(data={'x':[1,2,3,4,5], 'y':[10,20,30,20,10], 'z':[5,4,3,2,1]})\n",
    "lisa.iplot(kind='surface')"
   ]
  },
  {
   "cell_type": "code",
   "execution_count": 13,
   "metadata": {},
   "outputs": [
    {
     "data": {
      "text/plain": [
       "<matplotlib.axes._subplots.AxesSubplot at 0x7f3b808a2c50>"
      ]
     },
     "execution_count": 13,
     "metadata": {},
     "output_type": "execute_result"
    },
    {
     "data": {
      "image/png": "[encoded data removed]",
      "text/plain": [
       "<Figure size 432x288 with 1 Axes>"
      ]
     },
     "metadata": {},
     "output_type": "display_data"
    }
   ],
   "source": [
    "df['A'].plot(kind='hist', bins=50) # this is to plot a histogram"
   ]
  },
  {
   "cell_type": "code",
   "execution_count": 14,
   "metadata": {},
   "outputs": [
    {
     "data": {
      "application/vnd.plotly.v1+json": {
       "config": {
        "linkText": "Export to plot.ly",
        "plotlyServerURL": "https://plot.ly",
        "showLink": true
       },
       "data": [
        {
         "histfunc": "count",
         "histnorm": "",
         "marker": {
          "color": "rgba(255, 153, 51, 1.0)",
          "line": {
           "color": "#4D5663",
           "width": 1.3
          }
         },
         "name": "A",
         "opacity": 0.8,
         "orientation": "v",
         "type": "histogram",
         "x": [
          0.9533923532252154,
          0.7962578503151079,
          0.9446265933015333,
          -0.42864094189536345,
          -0.6905822967359128,
          0.545787353838866,
          -0.7495000133758046,
          -0.3762815578281219,
          0.3338145439069094,
          1.8164322972195024,
          -0.45792968633020076,
          0.37527095200432803,
          1.6257569004557955,
          -1.0553284569165717,
          -1.5696652241668305,
          -0.3228740712113491,
          0.1507472809239381,
          -0.5236479525340905,
          -1.4136103156819133,
          -0.25450762723785664,
          -0.3528814569744451,
          -0.5218846044634726,
          1.4625662999874716,
          -0.29412671346680097,
          1.0894037294964314,
          0.8454922650572088,
          1.1524461039633298,
          -0.3993380856970902,
          1.4481690182844273,
          0.5306664780946375,
          -0.3353654523770128,
          1.0164031310864774,
          0.5688651882963847,
          -0.7526355976340225,
          0.678666989205376,
          -0.676297494024862,
          -0.9994460323512003,
          -0.09574448606538073,
          -0.44460656961300205,
          -0.44951144023012246,
          -1.2048471417206936,
          0.7085546291673673,
          0.6547152374806319,
          -0.7423025231136463,
          -2.1840448982989344,
          -1.0761526288632624,
          -0.8821739194264769,
          0.16686387735840705,
          -1.6161118772902994,
          -2.20726383604153,
          1.0311954284225517,
          -0.242110444341512,
          -0.13962810666291445,
          0.5792425627063781,
          1.7064911400976197,
          1.0447748476017658,
          0.5514204827280627,
          -0.2762503662657573,
          0.7549544200480618,
          0.2775470665053151,
          -0.5982610550270542,
          -0.22943336333057485,
          -0.9634299159356345,
          0.9426435162691165,
          -2.78429824560043,
          -1.0727632114734371,
          -0.6725702929710772,
          -1.3972696238020141,
          -0.09263107503903131,
          -0.0852572909075391,
          1.6541989070099647,
          0.9381501595964749,
          1.0954607253099615,
          0.0963009934795626,
          -0.3485949014755212,
          -0.4694509996304064,
          0.24703932030270714,
          1.4068080908410796,
          -0.6683069699263524,
          1.0235858873351433,
          0.4496249563956825,
          0.39823683814607497,
          1.7915890976254676,
          -1.3276782228531736,
          0.9539407573453836,
          -0.11839409168110034,
          -0.4908515286224764,
          0.7214190615733209,
          -1.2964801667391652,
          0.8113597656016831,
          1.0927746445277344,
          0.15306711543042487,
          0.5150282622650163,
          -0.7743053253986879,
          -1.3428282038945936,
          -0.6916081901577839,
          -0.3848626572878707,
          -0.7531296637862062,
          -0.06521943121422427,
          -0.4175317297317254
         ]
        },
        {
         "histfunc": "count",
         "histnorm": "",
         "marker": {
          "color": "rgba(55, 128, 191, 1.0)",
          "line": {
           "color": "#4D5663",
           "width": 1.3
          }
         },
         "name": "B",
         "opacity": 0.8,
         "orientation": "v",
         "type": "histogram",
         "x": [
          0.06947627645146132,
          -1.1607331144368884,
          -1.0497237200184943,
          -1.5019722344727746,
          -0.35258467341524236,
          -0.2613228779269877,
          -0.06139124485561016,
          -0.44360043268460614,
          0.5872810423296456,
          1.6453995448818386,
          -0.7900626782826925,
          0.18850992933071747,
          1.7249806781280306,
          1.7419381851834321,
          0.12978630101315522,
          -0.6184924891150716,
          1.3239594395322758,
          -0.8221817143634784,
          0.1729970616350675,
          -0.06451233675875263,
          1.806990957117825,
          -0.07398636085416085,
          0.8577491295231231,
          0.7950606607627105,
          -0.21130922179843403,
          -0.33469796249196276,
          1.4981538840123534,
          -0.37300060573819865,
          -0.6636143565365548,
          0.21665831066383276,
          -0.6704273842363159,
          -0.5419693348508918,
          0.4827874038183322,
          0.11512264384583679,
          -1.995149410421762,
          -0.24652486006627924,
          -2.0379604789618577,
          1.5251422775071708,
          -0.09475683944237748,
          -0.4152216032207558,
          1.0538852176943854,
          0.9601525791285485,
          0.5000010334891224,
          1.2485272427426186,
          0.8235984689487181,
          0.474745927388093,
          -1.4936499081932895,
          0.1426436720132142,
          0.37031345404667415,
          0.31292079605749484,
          0.05974849585601801,
          0.12891917352285698,
          0.6460500265917863,
          0.7892432827025327,
          -0.4842582356008212,
          0.7010336915602854,
          2.0534288048468974,
          -0.675806191857299,
          -0.5346894222900018,
          0.11199315394758796,
          -1.6037419859915685,
          1.4675262838719447,
          -0.7155811026629516,
          -0.5697123833533212,
          0.13424980737666348,
          0.5363928716736676,
          -0.664561078210953,
          -0.5909996720870854,
          -1.1243652440851621,
          2.4349656634141517,
          0.0850612426247251,
          -0.0372770038794375,
          -0.6028590721689905,
          0.9092158213811373,
          1.402430473603624,
          0.41745183831560073,
          -0.20313523445200599,
          1.0764350847389748,
          1.4423102931701026,
          1.218346375994514,
          0.3355120938252802,
          0.4733931746569244,
          -0.2393567851765012,
          1.9489466889539204,
          -0.5848238215674598,
          -1.6455253042673064,
          1.4180247584903094,
          -0.8569693533754201,
          1.0282726134368507,
          -0.515658480873396,
          0.06909637953208433,
          -1.1426104768023915,
          0.051162969647525966,
          -0.1644305552111428,
          0.01357270195562589,
          1.5799064467391917,
          0.1833104094552434,
          -2.323886990231017,
          -0.21440703575713888,
          -0.3262744037676085
         ]
        },
        {
         "histfunc": "count",
         "histnorm": "",
         "marker": {
          "color": "rgba(50, 171, 96, 1.0)",
          "line": {
           "color": "#4D5663",
           "width": 1.3
          }
         },
         "name": "C",
         "opacity": 0.8,
         "orientation": "v",
         "type": "histogram",
         "x": [
          0.38624200232466965,
          -1.103053781166063,
          0.8747230151714097,
          1.1427618086131146,
          1.0884770767948007,
          0.018359523694216263,
          0.05840997798192588,
          -1.2391290014141552,
          -1.296181045731021,
          -0.8887332871538806,
          -0.23456032680491165,
          0.8331448638773145,
          0.24946389872828809,
          -0.5583851428414339,
          -1.6825339615031922,
          1.1883565952538475,
          0.8553794074661895,
          0.600574420419182,
          0.6322393057773141,
          -0.6111798102511441,
          -0.7129929993343201,
          -0.13191366960066728,
          -2.086549345634095,
          -1.2944282860750111,
          -0.7668382337430868,
          -0.012030414860574743,
          1.0473654903555025,
          -0.677110218515026,
          -0.6909783025399621,
          0.6049468036074455,
          -0.33925801968699215,
          -0.19735030582817678,
          -1.3767593235238877,
          -1.8268986918367425,
          -0.8246164142011257,
          -1.2461764710336531,
          1.0779803445030067,
          0.592753213646832,
          -1.7661736170871576,
          -0.9697867014971933,
          1.662630823447494,
          0.41045393970333455,
          -0.7803868114552753,
          -0.3403884430122021,
          2.0139348199611584,
          -1.5400588993376187,
          -1.2155525186307272,
          -0.3413266240642806,
          0.2688487285658409,
          -0.4547811988897437,
          0.4008500978073652,
          0.5333243966653178,
          1.9293198084109082,
          -1.412673932806497,
          -0.9400824076378804,
          0.48502163853338665,
          0.1491532803026734,
          -0.38116730827138484,
          -0.881039496056569,
          0.3561620126336619,
          1.9636376771967603,
          -0.28098973199069216,
          0.9459807073237207,
          -0.8239976940070456,
          -0.17177805579083164,
          -0.45150497803643086,
          -1.2242830407172463,
          -0.517747453633957,
          -0.36853353096114033,
          -1.2660077556792828,
          0.43153341357301894,
          -2.0148730397232644,
          0.0619611179969558,
          -0.4933547729948514,
          -0.017350503213527536,
          0.39218455393464097,
          -1.0120832654272587,
          0.5137759979125835,
          0.3470347547097227,
          -0.7803624770413473,
          -0.9984240624711453,
          1.1226579397756151,
          -0.9531621899896159,
          -1.1400610100436397,
          0.7227567747392188,
          -1.7986076971636866,
          0.3523808637582861,
          1.5994152665586299,
          0.25776039243829135,
          -1.430537457590503,
          -0.39255184153996725,
          0.4910379010155916,
          2.480487659287149,
          -1.465343791671094,
          -0.9108807912459752,
          -0.07630301283561905,
          1.9404065668343375,
          0.4990136693681264,
          0.3541865406050927,
          -0.6549640067820476
         ]
        },
        {
         "histfunc": "count",
         "histnorm": "",
         "marker": {
          "color": "rgba(128, 0, 128, 1.0)",
          "line": {
           "color": "#4D5663",
           "width": 1.3
          }
         },
         "name": "D",
         "opacity": 0.8,
         "orientation": "v",
         "type": "histogram",
         "x": [
          1.35799650121603,
          0.49031384851341386,
          0.8217900412184245,
          1.8480179079450132,
          1.2891957674160297,
          -1.65365200127266,
          0.10454661884657883,
          0.9506716710464106,
          -0.19641922014168325,
          0.9768571708759514,
          0.14020495319766363,
          -0.12537426752293807,
          0.44930617740675016,
          -2.2208536613578977,
          0.6170470273080931,
          1.185972681436933,
          1.1733625582842218,
          1.2292256810101445,
          0.07450998345320564,
          0.1151458760479426,
          0.28018438840182763,
          0.7223513102801838,
          -0.9954998509921545,
          1.7762467394262884,
          -1.798771758232789,
          -1.1355961233029268,
          1.0336082924616914,
          1.9064446864252091,
          0.8724039750469477,
          0.4739927604174638,
          0.332547688686496,
          -0.7417122895328502,
          -0.1306805505201772,
          0.8269101080866751,
          -1.0850132095479876,
          0.5395081602646972,
          -0.7948842629278595,
          0.46230114848173987,
          1.3988864697472683,
          -0.10820150105426884,
          -0.6364044200995346,
          0.66999827882666,
          0.708590161971385,
          0.5553804699720557,
          0.6816179967639676,
          -0.9941929601339952,
          -0.5808554254498477,
          0.9383726682347696,
          0.3240423424455391,
          -1.0385439846087516,
          -1.539542792561218,
          -0.961406758760432,
          0.02261058611178702,
          1.1002121793781972,
          0.6788455444403805,
          0.4927823986423535,
          0.3060554625276701,
          -0.206657643593115,
          0.12525764004808265,
          -2.0128651495818763,
          1.1276818269886617,
          0.9544309829196077,
          -0.20702002152668894,
          -0.9425080889409485,
          0.8166432279944357,
          0.7917779827298608,
          -0.7773306725417373,
          0.006113206575926991,
          0.2653593473830176,
          0.2968504982679135,
          0.8137227607709042,
          -0.17544034351489765,
          -0.33825098739707593,
          -1.699307948886646,
          0.758732502114384,
          -0.08836103472531166,
          2.251033328323059,
          -0.3242265920860937,
          -1.550932289507223,
          1.416420560331823,
          0.8228168780693008,
          0.3411632332780876,
          1.1235084777975795,
          0.26843534920251977,
          1.2380229735851842,
          -2.31966589624832,
          1.2194283245867084,
          -0.5927184450268074,
          0.12502297443507235,
          -0.520998348360788,
          0.08042225483731544,
          -1.3599580302861842,
          1.3514526144843164,
          -0.8689695804604732,
          0.10737726783367744,
          0.09641323245696796,
          2.285685243349205,
          -0.055633511678821815,
          -0.0018428827838383338,
          0.319891646443404
         ]
        }
       ],
       "layout": {
        "barmode": "overlay",
        "legend": {
         "bgcolor": "#F5F6F9",
         "font": {
          "color": "#4D5663"
         }
        },
        "paper_bgcolor": "#F5F6F9",
        "plot_bgcolor": "#F5F6F9",
        "template": {
         "data": {
          "bar": [
           {
            "error_x": {
             "color": "#2a3f5f"
            },
            "error_y": {
             "color": "#2a3f5f"
            },
            "marker": {
             "line": {
              "color": "#E5ECF6",
              "width": 0.5
             }
            },
            "type": "bar"
           }
          ],
          "barpolar": [
           {
            "marker": {
             "line": {
              "color": "#E5ECF6",
              "width": 0.5
             }
            },
            "type": "barpolar"
           }
          ],
          "carpet": [
           {
            "aaxis": {
             "endlinecolor": "#2a3f5f",
             "gridcolor": "white",
             "linecolor": "white",
             "minorgridcolor": "white",
             "startlinecolor": "#2a3f5f"
            },
            "baxis": {
             "endlinecolor": "#2a3f5f",
             "gridcolor": "white",
             "linecolor": "white",
             "minorgridcolor": "white",
             "startlinecolor": "#2a3f5f"
            },
            "type": "carpet"
           }
          ],
          "choropleth": [
           {
            "colorbar": {
             "outlinewidth": 0,
             "ticks": ""
            },
            "type": "choropleth"
           }
          ],
          "contour": [
           {
            "colorbar": {
             "outlinewidth": 0,
             "ticks": ""
            },
            "colorscale": [
             [
              0,
              "#0d0887"
             ],
             [
              0.1111111111111111,
              "#46039f"
             ],
             [
              0.2222222222222222,
              "#7201a8"
             ],
             [
              0.3333333333333333,
              "#9c179e"
             ],
             [
              0.4444444444444444,
              "#bd3786"
             ],
             [
              0.5555555555555556,
              "#d8576b"
             ],
             [
              0.6666666666666666,
              "#ed7953"
             ],
             [
              0.7777777777777778,
              "#fb9f3a"
             ],
             [
              0.8888888888888888,
              "#fdca26"
             ],
             [
              1,
              "#f0f921"
             ]
            ],
            "type": "contour"
           }
          ],
          "contourcarpet": [
           {
            "colorbar": {
             "outlinewidth": 0,
             "ticks": ""
            },
            "type": "contourcarpet"
           }
          ],
          "heatmap": [
           {
            "colorbar": {
             "outlinewidth": 0,
             "ticks": ""
            },
            "colorscale": [
             [
              0,
              "#0d0887"
             ],
             [
              0.1111111111111111,
              "#46039f"
             ],
             [
              0.2222222222222222,
              "#7201a8"
             ],
             [
              0.3333333333333333,
              "#9c179e"
             ],
             [
              0.4444444444444444,
              "#bd3786"
             ],
             [
              0.5555555555555556,
              "#d8576b"
             ],
             [
              0.6666666666666666,
              "#ed7953"
             ],
             [
              0.7777777777777778,
              "#fb9f3a"
             ],
             [
              0.8888888888888888,
              "#fdca26"
             ],
             [
              1,
              "#f0f921"
             ]
            ],
            "type": "heatmap"
           }
          ],
          "heatmapgl": [
           {
            "colorbar": {
             "outlinewidth": 0,
             "ticks": ""
            },
            "colorscale": [
             [
              0,
              "#0d0887"
             ],
             [
              0.1111111111111111,
              "#46039f"
             ],
             [
              0.2222222222222222,
              "#7201a8"
             ],
             [
              0.3333333333333333,
              "#9c179e"
             ],
             [
              0.4444444444444444,
              "#bd3786"
             ],
             [
              0.5555555555555556,
              "#d8576b"
             ],
             [
              0.6666666666666666,
              "#ed7953"
             ],
             [
              0.7777777777777778,
              "#fb9f3a"
             ],
             [
              0.8888888888888888,
              "#fdca26"
             ],
             [
              1,
              "#f0f921"
             ]
            ],
            "type": "heatmapgl"
           }
          ],
          "histogram": [
           {
            "marker": {
             "colorbar": {
              "outlinewidth": 0,
              "ticks": ""
             }
            },
            "type": "histogram"
           }
          ],
          "histogram2d": [
           {
            "colorbar": {
             "outlinewidth": 0,
             "ticks": ""
            },
            "colorscale": [
             [
              0,
              "#0d0887"
             ],
             [
              0.1111111111111111,
              "#46039f"
             ],
             [
              0.2222222222222222,
              "#7201a8"
             ],
             [
              0.3333333333333333,
              "#9c179e"
             ],
             [
              0.4444444444444444,
              "#bd3786"
             ],
             [
              0.5555555555555556,
              "#d8576b"
             ],
             [
              0.6666666666666666,
              "#ed7953"
             ],
             [
              0.7777777777777778,
              "#fb9f3a"
             ],
             [
              0.8888888888888888,
              "#fdca26"
             ],
             [
              1,
              "#f0f921"
             ]
            ],
            "type": "histogram2d"
           }
          ],
          "histogram2dcontour": [
           {
            "colorbar": {
             "outlinewidth": 0,
             "ticks": ""
            },
            "colorscale": [
             [
              0,
              "#0d0887"
             ],
             [
              0.1111111111111111,
              "#46039f"
             ],
             [
              0.2222222222222222,
              "#7201a8"
             ],
             [
              0.3333333333333333,
              "#9c179e"
             ],
             [
              0.4444444444444444,
              "#bd3786"
             ],
             [
              0.5555555555555556,
              "#d8576b"
             ],
             [
              0.6666666666666666,
              "#ed7953"
             ],
             [
              0.7777777777777778,
              "#fb9f3a"
             ],
             [
              0.8888888888888888,
              "#fdca26"
             ],
             [
              1,
              "#f0f921"
             ]
            ],
            "type": "histogram2dcontour"
           }
          ],
          "mesh3d": [
           {
            "colorbar": {
             "outlinewidth": 0,
             "ticks": ""
            },
            "type": "mesh3d"
           }
          ],
          "parcoords": [
           {
            "line": {
             "colorbar": {
              "outlinewidth": 0,
              "ticks": ""
             }
            },
            "type": "parcoords"
           }
          ],
          "pie": [
           {
            "automargin": true,
            "type": "pie"
           }
          ],
          "scatter": [
           {
            "marker": {
             "colorbar": {
              "outlinewidth": 0,
              "ticks": ""
             }
            },
            "type": "scatter"
           }
          ],
          "scatter3d": [
           {
            "line": {
             "colorbar": {
              "outlinewidth": 0,
              "ticks": ""
             }
            },
            "marker": {
             "colorbar": {
              "outlinewidth": 0,
              "ticks": ""
             }
            },
            "type": "scatter3d"
           }
          ],
          "scattercarpet": [
           {
            "marker": {
             "colorbar": {
              "outlinewidth": 0,
              "ticks": ""
             }
            },
            "type": "scattercarpet"
           }
          ],
          "scattergeo": [
           {
            "marker": {
             "colorbar": {
              "outlinewidth": 0,
              "ticks": ""
             }
            },
            "type": "scattergeo"
           }
          ],
          "scattergl": [
           {
            "marker": {
             "colorbar": {
              "outlinewidth": 0,
              "ticks": ""
             }
            },
            "type": "scattergl"
           }
          ],
          "scattermapbox": [
           {
            "marker": {
             "colorbar": {
              "outlinewidth": 0,
              "ticks": ""
             }
            },
            "type": "scattermapbox"
           }
          ],
          "scatterpolar": [
           {
            "marker": {
             "colorbar": {
              "outlinewidth": 0,
              "ticks": ""
             }
            },
            "type": "scatterpolar"
           }
          ],
          "scatterpolargl": [
           {
            "marker": {
             "colorbar": {
              "outlinewidth": 0,
              "ticks": ""
             }
            },
            "type": "scatterpolargl"
           }
          ],
          "scatterternary": [
           {
            "marker": {
             "colorbar": {
              "outlinewidth": 0,
              "ticks": ""
             }
            },
            "type": "scatterternary"
           }
          ],
          "surface": [
           {
            "colorbar": {
             "outlinewidth": 0,
             "ticks": ""
            },
            "colorscale": [
             [
              0,
              "#0d0887"
             ],
             [
              0.1111111111111111,
              "#46039f"
             ],
             [
              0.2222222222222222,
              "#7201a8"
             ],
             [
              0.3333333333333333,
              "#9c179e"
             ],
             [
              0.4444444444444444,
              "#bd3786"
             ],
             [
              0.5555555555555556,
              "#d8576b"
             ],
             [
              0.6666666666666666,
              "#ed7953"
             ],
             [
              0.7777777777777778,
              "#fb9f3a"
             ],
             [
              0.8888888888888888,
              "#fdca26"
             ],
             [
              1,
              "#f0f921"
             ]
            ],
            "type": "surface"
           }
          ],
          "table": [
           {
            "cells": {
             "fill": {
              "color": "#EBF0F8"
             },
             "line": {
              "color": "white"
             }
            },
            "header": {
             "fill": {
              "color": "#C8D4E3"
             },
             "line": {
              "color": "white"
             }
            },
            "type": "table"
           }
          ]
         },
         "layout": {
          "annotationdefaults": {
           "arrowcolor": "#2a3f5f",
           "arrowhead": 0,
           "arrowwidth": 1
          },
          "coloraxis": {
           "colorbar": {
            "outlinewidth": 0,
            "ticks": ""
           }
          },
          "colorscale": {
           "diverging": [
            [
             0,
             "#8e0152"
            ],
            [
             0.1,
             "#c51b7d"
            ],
            [
             0.2,
             "#de77ae"
            ],
            [
             0.3,
             "#f1b6da"
            ],
            [
             0.4,
             "#fde0ef"
            ],
            [
             0.5,
             "#f7f7f7"
            ],
            [
             0.6,
             "#e6f5d0"
            ],
            [
             0.7,
             "#b8e186"
            ],
            [
             0.8,
             "#7fbc41"
            ],
            [
             0.9,
             "#4d9221"
            ],
            [
             1,
             "#276419"
            ]
           ],
           "sequential": [
            [
             0,
             "#0d0887"
            ],
            [
             0.1111111111111111,
             "#46039f"
            ],
            [
             0.2222222222222222,
             "#7201a8"
            ],
            [
             0.3333333333333333,
             "#9c179e"
            ],
            [
             0.4444444444444444,
             "#bd3786"
            ],
            [
             0.5555555555555556,
             "#d8576b"
            ],
            [
             0.6666666666666666,
             "#ed7953"
            ],
            [
             0.7777777777777778,
             "#fb9f3a"
            ],
            [
             0.8888888888888888,
             "#fdca26"
            ],
            [
             1,
             "#f0f921"
            ]
           ],
           "sequentialminus": [
            [
             0,
             "#0d0887"
            ],
            [
             0.1111111111111111,
             "#46039f"
            ],
            [
             0.2222222222222222,
             "#7201a8"
            ],
            [
             0.3333333333333333,
             "#9c179e"
            ],
            [
             0.4444444444444444,
             "#bd3786"
            ],
            [
             0.5555555555555556,
             "#d8576b"
            ],
            [
             0.6666666666666666,
             "#ed7953"
            ],
            [
             0.7777777777777778,
             "#fb9f3a"
            ],
            [
             0.8888888888888888,
             "#fdca26"
            ],
            [
             1,
             "#f0f921"
            ]
           ]
          },
          "colorway": [
           "#636efa",
           "#EF553B",
           "#00cc96",
           "#ab63fa",
           "#FFA15A",
           "#19d3f3",
           "#FF6692",
           "#B6E880",
           "#FF97FF",
           "#FECB52"
          ],
          "font": {
           "color": "#2a3f5f"
          },
          "geo": {
           "bgcolor": "white",
           "lakecolor": "white",
           "landcolor": "#E5ECF6",
           "showlakes": true,
           "showland": true,
           "subunitcolor": "white"
          },
          "hoverlabel": {
           "align": "left"
          },
          "hovermode": "closest",
          "mapbox": {
           "style": "light"
          },
          "paper_bgcolor": "white",
          "plot_bgcolor": "#E5ECF6",
          "polar": {
           "angularaxis": {
            "gridcolor": "white",
            "linecolor": "white",
            "ticks": ""
           },
           "bgcolor": "#E5ECF6",
           "radialaxis": {
            "gridcolor": "white",
            "linecolor": "white",
            "ticks": ""
           }
          },
          "scene": {
           "xaxis": {
            "backgroundcolor": "#E5ECF6",
            "gridcolor": "white",
            "gridwidth": 2,
            "linecolor": "white",
            "showbackground": true,
            "ticks": "",
            "zerolinecolor": "white"
           },
           "yaxis": {
            "backgroundcolor": "#E5ECF6",
            "gridcolor": "white",
            "gridwidth": 2,
            "linecolor": "white",
            "showbackground": true,
            "ticks": "",
            "zerolinecolor": "white"
           },
           "zaxis": {
            "backgroundcolor": "#E5ECF6",
            "gridcolor": "white",
            "gridwidth": 2,
            "linecolor": "white",
            "showbackground": true,
            "ticks": "",
            "zerolinecolor": "white"
           }
          },
          "shapedefaults": {
           "line": {
            "color": "#2a3f5f"
           }
          },
          "ternary": {
           "aaxis": {
            "gridcolor": "white",
            "linecolor": "white",
            "ticks": ""
           },
           "baxis": {
            "gridcolor": "white",
            "linecolor": "white",
            "ticks": ""
           },
           "bgcolor": "#E5ECF6",
           "caxis": {
            "gridcolor": "white",
            "linecolor": "white",
            "ticks": ""
           }
          },
          "title": {
           "x": 0.05
          },
          "xaxis": {
           "automargin": true,
           "gridcolor": "white",
           "linecolor": "white",
           "ticks": "",
           "title": {
            "standoff": 15
           },
           "zerolinecolor": "white",
           "zerolinewidth": 2
          },
          "yaxis": {
           "automargin": true,
           "gridcolor": "white",
           "linecolor": "white",
           "ticks": "",
           "title": {
            "standoff": 15
           },
           "zerolinecolor": "white",
           "zerolinewidth": 2
          }
         }
        },
        "title": {
         "font": {
          "color": "#4D5663"
         }
        },
        "xaxis": {
         "gridcolor": "#E1E5ED",
         "showgrid": true,
         "tickfont": {
          "color": "#4D5663"
         },
         "title": {
          "font": {
           "color": "#4D5663"
          },
          "text": ""
         },
         "zerolinecolor": "#E1E5ED"
        },
        "yaxis": {
         "gridcolor": "#E1E5ED",
         "showgrid": true,
         "tickfont": {
          "color": "#4D5663"
         },
         "title": {
          "font": {
           "color": "#4D5663"
          },
          "text": ""
         },
         "zerolinecolor": "#E1E5ED"
        }
       }
      },
      "text/html": [
       "<div>\n",
       "        \n",
       "        \n",
       "            <div id=\"2f92b6fd-ea58-446c-a597-b4d0a67523d8\" class=\"plotly-graph-div\" style=\"height:525px; width:100%;\"></div>\n",
       "            <script type=\"text/javascript\">\n",
       "                require([\"plotly\"], function(Plotly) {\n",
       "                    window.PLOTLYENV=window.PLOTLYENV || {};\n",
       "                    window.PLOTLYENV.BASE_URL='https://plot.ly';\n",
       "                    \n",
       "                if (document.getElementById(\"2f92b6fd-ea58-446c-a597-b4d0a67523d8\")) {\n",
       "                    Plotly.newPlot(\n",
       "                        '2f92b6fd-ea58-446c-a597-b4d0a67523d8',\n",
       "                        [{\"histfunc\": \"count\", \"histnorm\": \"\", \"marker\": {\"color\": \"rgba(255, 153, 51, 1.0)\", \"line\": {\"color\": \"#4D5663\", \"width\": 1.3}}, \"name\": \"A\", \"opacity\": 0.8, \"orientation\": \"v\", \"type\": \"histogram\", \"x\": [0.9533923532252154, 0.7962578503151079, 0.9446265933015333, -0.42864094189536345, -0.6905822967359128, 0.545787353838866, -0.7495000133758046, -0.3762815578281219, 0.3338145439069094, 1.8164322972195024, -0.45792968633020076, 0.37527095200432803, 1.6257569004557955, -1.0553284569165717, -1.5696652241668305, -0.3228740712113491, 0.1507472809239381, -0.5236479525340905, -1.4136103156819133, -0.25450762723785664, -0.3528814569744451, -0.5218846044634726, 1.4625662999874716, -0.29412671346680097, 1.0894037294964314, 0.8454922650572088, 1.1524461039633298, -0.3993380856970902, 1.4481690182844273, 0.5306664780946375, -0.3353654523770128, 1.0164031310864774, 0.5688651882963847, -0.7526355976340225, 0.678666989205376, -0.676297494024862, -0.9994460323512003, -0.09574448606538073, -0.44460656961300205, -0.44951144023012246, -1.2048471417206936, 0.7085546291673673, 0.6547152374806319, -0.7423025231136463, -2.1840448982989344, -1.0761526288632624, -0.8821739194264769, 0.16686387735840705, -1.6161118772902994, -2.20726383604153, 1.0311954284225517, -0.242110444341512, -0.13962810666291445, 0.5792425627063781, 1.7064911400976197, 1.0447748476017658, 0.5514204827280627, -0.2762503662657573, 0.7549544200480618, 0.2775470665053151, -0.5982610550270542, -0.22943336333057485, -0.9634299159356345, 0.9426435162691165, -2.78429824560043, -1.0727632114734371, -0.6725702929710772, -1.3972696238020141, -0.09263107503903131, -0.0852572909075391, 1.6541989070099647, 0.9381501595964749, 1.0954607253099615, 0.0963009934795626, -0.3485949014755212, -0.4694509996304064, 0.24703932030270714, 1.4068080908410796, -0.6683069699263524, 1.0235858873351433, 0.4496249563956825, 0.39823683814607497, 1.7915890976254676, -1.3276782228531736, 0.9539407573453836, -0.11839409168110034, -0.4908515286224764, 0.7214190615733209, -1.2964801667391652, 0.8113597656016831, 1.0927746445277344, 0.15306711543042487, 0.5150282622650163, -0.7743053253986879, -1.3428282038945936, -0.6916081901577839, -0.3848626572878707, -0.7531296637862062, -0.06521943121422427, -0.4175317297317254]}, {\"histfunc\": \"count\", \"histnorm\": \"\", \"marker\": {\"color\": \"rgba(55, 128, 191, 1.0)\", \"line\": {\"color\": \"#4D5663\", \"width\": 1.3}}, \"name\": \"B\", \"opacity\": 0.8, \"orientation\": \"v\", \"type\": \"histogram\", \"x\": [0.06947627645146132, -1.1607331144368884, -1.0497237200184943, -1.5019722344727746, -0.35258467341524236, -0.2613228779269877, -0.06139124485561016, -0.44360043268460614, 0.5872810423296456, 1.6453995448818386, -0.7900626782826925, 0.18850992933071747, 1.7249806781280306, 1.7419381851834321, 0.12978630101315522, -0.6184924891150716, 1.3239594395322758, -0.8221817143634784, 0.1729970616350675, -0.06451233675875263, 1.806990957117825, -0.07398636085416085, 0.8577491295231231, 0.7950606607627105, -0.21130922179843403, -0.33469796249196276, 1.4981538840123534, -0.37300060573819865, -0.6636143565365548, 0.21665831066383276, -0.6704273842363159, -0.5419693348508918, 0.4827874038183322, 0.11512264384583679, -1.995149410421762, -0.24652486006627924, -2.0379604789618577, 1.5251422775071708, -0.09475683944237748, -0.4152216032207558, 1.0538852176943854, 0.9601525791285485, 0.5000010334891224, 1.2485272427426186, 0.8235984689487181, 0.474745927388093, -1.4936499081932895, 0.1426436720132142, 0.37031345404667415, 0.31292079605749484, 0.05974849585601801, 0.12891917352285698, 0.6460500265917863, 0.7892432827025327, -0.4842582356008212, 0.7010336915602854, 2.0534288048468974, -0.675806191857299, -0.5346894222900018, 0.11199315394758796, -1.6037419859915685, 1.4675262838719447, -0.7155811026629516, -0.5697123833533212, 0.13424980737666348, 0.5363928716736676, -0.664561078210953, -0.5909996720870854, -1.1243652440851621, 2.4349656634141517, 0.0850612426247251, -0.0372770038794375, -0.6028590721689905, 0.9092158213811373, 1.402430473603624, 0.41745183831560073, -0.20313523445200599, 1.0764350847389748, 1.4423102931701026, 1.218346375994514, 0.3355120938252802, 0.4733931746569244, -0.2393567851765012, 1.9489466889539204, -0.5848238215674598, -1.6455253042673064, 1.4180247584903094, -0.8569693533754201, 1.0282726134368507, -0.515658480873396, 0.06909637953208433, -1.1426104768023915, 0.051162969647525966, -0.1644305552111428, 0.01357270195562589, 1.5799064467391917, 0.1833104094552434, -2.323886990231017, -0.21440703575713888, -0.3262744037676085]}, {\"histfunc\": \"count\", \"histnorm\": \"\", \"marker\": {\"color\": \"rgba(50, 171, 96, 1.0)\", \"line\": {\"color\": \"#4D5663\", \"width\": 1.3}}, \"name\": \"C\", \"opacity\": 0.8, \"orientation\": \"v\", \"type\": \"histogram\", \"x\": [0.38624200232466965, -1.103053781166063, 0.8747230151714097, 1.1427618086131146, 1.0884770767948007, 0.018359523694216263, 0.05840997798192588, -1.2391290014141552, -1.296181045731021, -0.8887332871538806, -0.23456032680491165, 0.8331448638773145, 0.24946389872828809, -0.5583851428414339, -1.6825339615031922, 1.1883565952538475, 0.8553794074661895, 0.600574420419182, 0.6322393057773141, -0.6111798102511441, -0.7129929993343201, -0.13191366960066728, -2.086549345634095, -1.2944282860750111, -0.7668382337430868, -0.012030414860574743, 1.0473654903555025, -0.677110218515026, -0.6909783025399621, 0.6049468036074455, -0.33925801968699215, -0.19735030582817678, -1.3767593235238877, -1.8268986918367425, -0.8246164142011257, -1.2461764710336531, 1.0779803445030067, 0.592753213646832, -1.7661736170871576, -0.9697867014971933, 1.662630823447494, 0.41045393970333455, -0.7803868114552753, -0.3403884430122021, 2.0139348199611584, -1.5400588993376187, -1.2155525186307272, -0.3413266240642806, 0.2688487285658409, -0.4547811988897437, 0.4008500978073652, 0.5333243966653178, 1.9293198084109082, -1.412673932806497, -0.9400824076378804, 0.48502163853338665, 0.1491532803026734, -0.38116730827138484, -0.881039496056569, 0.3561620126336619, 1.9636376771967603, -0.28098973199069216, 0.9459807073237207, -0.8239976940070456, -0.17177805579083164, -0.45150497803643086, -1.2242830407172463, -0.517747453633957, -0.36853353096114033, -1.2660077556792828, 0.43153341357301894, -2.0148730397232644, 0.0619611179969558, -0.4933547729948514, -0.017350503213527536, 0.39218455393464097, -1.0120832654272587, 0.5137759979125835, 0.3470347547097227, -0.7803624770413473, -0.9984240624711453, 1.1226579397756151, -0.9531621899896159, -1.1400610100436397, 0.7227567747392188, -1.7986076971636866, 0.3523808637582861, 1.5994152665586299, 0.25776039243829135, -1.430537457590503, -0.39255184153996725, 0.4910379010155916, 2.480487659287149, -1.465343791671094, -0.9108807912459752, -0.07630301283561905, 1.9404065668343375, 0.4990136693681264, 0.3541865406050927, -0.6549640067820476]}, {\"histfunc\": \"count\", \"histnorm\": \"\", \"marker\": {\"color\": \"rgba(128, 0, 128, 1.0)\", \"line\": {\"color\": \"#4D5663\", \"width\": 1.3}}, \"name\": \"D\", \"opacity\": 0.8, \"orientation\": \"v\", \"type\": \"histogram\", \"x\": [1.35799650121603, 0.49031384851341386, 0.8217900412184245, 1.8480179079450132, 1.2891957674160297, -1.65365200127266, 0.10454661884657883, 0.9506716710464106, -0.19641922014168325, 0.9768571708759514, 0.14020495319766363, -0.12537426752293807, 0.44930617740675016, -2.2208536613578977, 0.6170470273080931, 1.185972681436933, 1.1733625582842218, 1.2292256810101445, 0.07450998345320564, 0.1151458760479426, 0.28018438840182763, 0.7223513102801838, -0.9954998509921545, 1.7762467394262884, -1.798771758232789, -1.1355961233029268, 1.0336082924616914, 1.9064446864252091, 0.8724039750469477, 0.4739927604174638, 0.332547688686496, -0.7417122895328502, -0.1306805505201772, 0.8269101080866751, -1.0850132095479876, 0.5395081602646972, -0.7948842629278595, 0.46230114848173987, 1.3988864697472683, -0.10820150105426884, -0.6364044200995346, 0.66999827882666, 0.708590161971385, 0.5553804699720557, 0.6816179967639676, -0.9941929601339952, -0.5808554254498477, 0.9383726682347696, 0.3240423424455391, -1.0385439846087516, -1.539542792561218, -0.961406758760432, 0.02261058611178702, 1.1002121793781972, 0.6788455444403805, 0.4927823986423535, 0.3060554625276701, -0.206657643593115, 0.12525764004808265, -2.0128651495818763, 1.1276818269886617, 0.9544309829196077, -0.20702002152668894, -0.9425080889409485, 0.8166432279944357, 0.7917779827298608, -0.7773306725417373, 0.006113206575926991, 0.2653593473830176, 0.2968504982679135, 0.8137227607709042, -0.17544034351489765, -0.33825098739707593, -1.699307948886646, 0.758732502114384, -0.08836103472531166, 2.251033328323059, -0.3242265920860937, -1.550932289507223, 1.416420560331823, 0.8228168780693008, 0.3411632332780876, 1.1235084777975795, 0.26843534920251977, 1.2380229735851842, -2.31966589624832, 1.2194283245867084, -0.5927184450268074, 0.12502297443507235, -0.520998348360788, 0.08042225483731544, -1.3599580302861842, 1.3514526144843164, -0.8689695804604732, 0.10737726783367744, 0.09641323245696796, 2.285685243349205, -0.055633511678821815, -0.0018428827838383338, 0.319891646443404]}],\n",
       "                        {\"barmode\": \"overlay\", \"legend\": {\"bgcolor\": \"#F5F6F9\", \"font\": {\"color\": \"#4D5663\"}}, \"paper_bgcolor\": \"#F5F6F9\", \"plot_bgcolor\": \"#F5F6F9\", \"template\": {\"data\": {\"bar\": [{\"error_x\": {\"color\": \"#2a3f5f\"}, \"error_y\": {\"color\": \"#2a3f5f\"}, \"marker\": {\"line\": {\"color\": \"#E5ECF6\", \"width\": 0.5}}, \"type\": \"bar\"}], \"barpolar\": [{\"marker\": {\"line\": {\"color\": \"#E5ECF6\", \"width\": 0.5}}, \"type\": \"barpolar\"}], \"carpet\": [{\"aaxis\": {\"endlinecolor\": \"#2a3f5f\", \"gridcolor\": \"white\", \"linecolor\": \"white\", \"minorgridcolor\": \"white\", \"startlinecolor\": \"#2a3f5f\"}, \"baxis\": {\"endlinecolor\": \"#2a3f5f\", \"gridcolor\": \"white\", \"linecolor\": \"white\", \"minorgridcolor\": \"white\", \"startlinecolor\": \"#2a3f5f\"}, \"type\": \"carpet\"}], \"choropleth\": [{\"colorbar\": {\"outlinewidth\": 0, \"ticks\": \"\"}, \"type\": \"choropleth\"}], \"contour\": [{\"colorbar\": {\"outlinewidth\": 0, \"ticks\": \"\"}, \"colorscale\": [[0.0, \"#0d0887\"], [0.1111111111111111, \"#46039f\"], [0.2222222222222222, \"#7201a8\"], [0.3333333333333333, \"#9c179e\"], [0.4444444444444444, \"#bd3786\"], [0.5555555555555556, \"#d8576b\"], [0.6666666666666666, \"#ed7953\"], [0.7777777777777778, \"#fb9f3a\"], [0.8888888888888888, \"#fdca26\"], [1.0, \"#f0f921\"]], \"type\": \"contour\"}], \"contourcarpet\": [{\"colorbar\": {\"outlinewidth\": 0, \"ticks\": \"\"}, \"type\": \"contourcarpet\"}], \"heatmap\": [{\"colorbar\": {\"outlinewidth\": 0, \"ticks\": \"\"}, \"colorscale\": [[0.0, \"#0d0887\"], [0.1111111111111111, \"#46039f\"], [0.2222222222222222, \"#7201a8\"], [0.3333333333333333, \"#9c179e\"], [0.4444444444444444, \"#bd3786\"], [0.5555555555555556, \"#d8576b\"], [0.6666666666666666, \"#ed7953\"], [0.7777777777777778, \"#fb9f3a\"], [0.8888888888888888, \"#fdca26\"], [1.0, \"#f0f921\"]], \"type\": \"heatmap\"}], \"heatmapgl\": [{\"colorbar\": {\"outlinewidth\": 0, \"ticks\": \"\"}, \"colorscale\": [[0.0, \"#0d0887\"], [0.1111111111111111, \"#46039f\"], [0.2222222222222222, \"#7201a8\"], [0.3333333333333333, \"#9c179e\"], [0.4444444444444444, \"#bd3786\"], [0.5555555555555556, \"#d8576b\"], [0.6666666666666666, \"#ed7953\"], [0.7777777777777778, \"#fb9f3a\"], [0.8888888888888888, \"#fdca26\"], [1.0, \"#f0f921\"]], \"type\": \"heatmapgl\"}], \"histogram\": [{\"marker\": {\"colorbar\": {\"outlinewidth\": 0, \"ticks\": \"\"}}, \"type\": \"histogram\"}], \"histogram2d\": [{\"colorbar\": {\"outlinewidth\": 0, \"ticks\": \"\"}, \"colorscale\": [[0.0, \"#0d0887\"], [0.1111111111111111, \"#46039f\"], [0.2222222222222222, \"#7201a8\"], [0.3333333333333333, \"#9c179e\"], [0.4444444444444444, \"#bd3786\"], [0.5555555555555556, \"#d8576b\"], [0.6666666666666666, \"#ed7953\"], [0.7777777777777778, \"#fb9f3a\"], [0.8888888888888888, \"#fdca26\"], [1.0, \"#f0f921\"]], \"type\": \"histogram2d\"}], \"histogram2dcontour\": [{\"colorbar\": {\"outlinewidth\": 0, \"ticks\": \"\"}, \"colorscale\": [[0.0, \"#0d0887\"], [0.1111111111111111, \"#46039f\"], [0.2222222222222222, \"#7201a8\"], [0.3333333333333333, \"#9c179e\"], [0.4444444444444444, \"#bd3786\"], [0.5555555555555556, \"#d8576b\"], [0.6666666666666666, \"#ed7953\"], [0.7777777777777778, \"#fb9f3a\"], [0.8888888888888888, \"#fdca26\"], [1.0, \"#f0f921\"]], \"type\": \"histogram2dcontour\"}], \"mesh3d\": [{\"colorbar\": {\"outlinewidth\": 0, \"ticks\": \"\"}, \"type\": \"mesh3d\"}], \"parcoords\": [{\"line\": {\"colorbar\": {\"outlinewidth\": 0, \"ticks\": \"\"}}, \"type\": \"parcoords\"}], \"pie\": [{\"automargin\": true, \"type\": \"pie\"}], \"scatter\": [{\"marker\": {\"colorbar\": {\"outlinewidth\": 0, \"ticks\": \"\"}}, \"type\": \"scatter\"}], \"scatter3d\": [{\"line\": {\"colorbar\": {\"outlinewidth\": 0, \"ticks\": \"\"}}, \"marker\": {\"colorbar\": {\"outlinewidth\": 0, \"ticks\": \"\"}}, \"type\": \"scatter3d\"}], \"scattercarpet\": [{\"marker\": {\"colorbar\": {\"outlinewidth\": 0, \"ticks\": \"\"}}, \"type\": \"scattercarpet\"}], \"scattergeo\": [{\"marker\": {\"colorbar\": {\"outlinewidth\": 0, \"ticks\": \"\"}}, \"type\": \"scattergeo\"}], \"scattergl\": [{\"marker\": {\"colorbar\": {\"outlinewidth\": 0, \"ticks\": \"\"}}, \"type\": \"scattergl\"}], \"scattermapbox\": [{\"marker\": {\"colorbar\": {\"outlinewidth\": 0, \"ticks\": \"\"}}, \"type\": \"scattermapbox\"}], \"scatterpolar\": [{\"marker\": {\"colorbar\": {\"outlinewidth\": 0, \"ticks\": \"\"}}, \"type\": \"scatterpolar\"}], \"scatterpolargl\": [{\"marker\": {\"colorbar\": {\"outlinewidth\": 0, \"ticks\": \"\"}}, \"type\": \"scatterpolargl\"}], \"scatterternary\": [{\"marker\": {\"colorbar\": {\"outlinewidth\": 0, \"ticks\": \"\"}}, \"type\": \"scatterternary\"}], \"surface\": [{\"colorbar\": {\"outlinewidth\": 0, \"ticks\": \"\"}, \"colorscale\": [[0.0, \"#0d0887\"], [0.1111111111111111, \"#46039f\"], [0.2222222222222222, \"#7201a8\"], [0.3333333333333333, \"#9c179e\"], [0.4444444444444444, \"#bd3786\"], [0.5555555555555556, \"#d8576b\"], [0.6666666666666666, \"#ed7953\"], [0.7777777777777778, \"#fb9f3a\"], [0.8888888888888888, \"#fdca26\"], [1.0, \"#f0f921\"]], \"type\": \"surface\"}], \"table\": [{\"cells\": {\"fill\": {\"color\": \"#EBF0F8\"}, \"line\": {\"color\": \"white\"}}, \"header\": {\"fill\": {\"color\": \"#C8D4E3\"}, \"line\": {\"color\": \"white\"}}, \"type\": \"table\"}]}, \"layout\": {\"annotationdefaults\": {\"arrowcolor\": \"#2a3f5f\", \"arrowhead\": 0, \"arrowwidth\": 1}, \"coloraxis\": {\"colorbar\": {\"outlinewidth\": 0, \"ticks\": \"\"}}, \"colorscale\": {\"diverging\": [[0, \"#8e0152\"], [0.1, \"#c51b7d\"], [0.2, \"#de77ae\"], [0.3, \"#f1b6da\"], [0.4, \"#fde0ef\"], [0.5, \"#f7f7f7\"], [0.6, \"#e6f5d0\"], [0.7, \"#b8e186\"], [0.8, \"#7fbc41\"], [0.9, \"#4d9221\"], [1, \"#276419\"]], \"sequential\": [[0.0, \"#0d0887\"], [0.1111111111111111, \"#46039f\"], [0.2222222222222222, \"#7201a8\"], [0.3333333333333333, \"#9c179e\"], [0.4444444444444444, \"#bd3786\"], [0.5555555555555556, \"#d8576b\"], [0.6666666666666666, \"#ed7953\"], [0.7777777777777778, \"#fb9f3a\"], [0.8888888888888888, \"#fdca26\"], [1.0, \"#f0f921\"]], \"sequentialminus\": [[0.0, \"#0d0887\"], [0.1111111111111111, \"#46039f\"], [0.2222222222222222, \"#7201a8\"], [0.3333333333333333, \"#9c179e\"], [0.4444444444444444, \"#bd3786\"], [0.5555555555555556, \"#d8576b\"], [0.6666666666666666, \"#ed7953\"], [0.7777777777777778, \"#fb9f3a\"], [0.8888888888888888, \"#fdca26\"], [1.0, \"#f0f921\"]]}, \"colorway\": [\"#636efa\", \"#EF553B\", \"#00cc96\", \"#ab63fa\", \"#FFA15A\", \"#19d3f3\", \"#FF6692\", \"#B6E880\", \"#FF97FF\", \"#FECB52\"], \"font\": {\"color\": \"#2a3f5f\"}, \"geo\": {\"bgcolor\": \"white\", \"lakecolor\": \"white\", \"landcolor\": \"#E5ECF6\", \"showlakes\": true, \"showland\": true, \"subunitcolor\": \"white\"}, \"hoverlabel\": {\"align\": \"left\"}, \"hovermode\": \"closest\", \"mapbox\": {\"style\": \"light\"}, \"paper_bgcolor\": \"white\", \"plot_bgcolor\": \"#E5ECF6\", \"polar\": {\"angularaxis\": {\"gridcolor\": \"white\", \"linecolor\": \"white\", \"ticks\": \"\"}, \"bgcolor\": \"#E5ECF6\", \"radialaxis\": {\"gridcolor\": \"white\", \"linecolor\": \"white\", \"ticks\": \"\"}}, \"scene\": {\"xaxis\": {\"backgroundcolor\": \"#E5ECF6\", \"gridcolor\": \"white\", \"gridwidth\": 2, \"linecolor\": \"white\", \"showbackground\": true, \"ticks\": \"\", \"zerolinecolor\": \"white\"}, \"yaxis\": {\"backgroundcolor\": \"#E5ECF6\", \"gridcolor\": \"white\", \"gridwidth\": 2, \"linecolor\": \"white\", \"showbackground\": true, \"ticks\": \"\", \"zerolinecolor\": \"white\"}, \"zaxis\": {\"backgroundcolor\": \"#E5ECF6\", \"gridcolor\": \"white\", \"gridwidth\": 2, \"linecolor\": \"white\", \"showbackground\": true, \"ticks\": \"\", \"zerolinecolor\": \"white\"}}, \"shapedefaults\": {\"line\": {\"color\": \"#2a3f5f\"}}, \"ternary\": {\"aaxis\": {\"gridcolor\": \"white\", \"linecolor\": \"white\", \"ticks\": \"\"}, \"baxis\": {\"gridcolor\": \"white\", \"linecolor\": \"white\", \"ticks\": \"\"}, \"bgcolor\": \"#E5ECF6\", \"caxis\": {\"gridcolor\": \"white\", \"linecolor\": \"white\", \"ticks\": \"\"}}, \"title\": {\"x\": 0.05}, \"xaxis\": {\"automargin\": true, \"gridcolor\": \"white\", \"linecolor\": \"white\", \"ticks\": \"\", \"title\": {\"standoff\": 15}, \"zerolinecolor\": \"white\", \"zerolinewidth\": 2}, \"yaxis\": {\"automargin\": true, \"gridcolor\": \"white\", \"linecolor\": \"white\", \"ticks\": \"\", \"title\": {\"standoff\": 15}, \"zerolinecolor\": \"white\", \"zerolinewidth\": 2}}}, \"title\": {\"font\": {\"color\": \"#4D5663\"}}, \"xaxis\": {\"gridcolor\": \"#E1E5ED\", \"showgrid\": true, \"tickfont\": {\"color\": \"#4D5663\"}, \"title\": {\"font\": {\"color\": \"#4D5663\"}, \"text\": \"\"}, \"zerolinecolor\": \"#E1E5ED\"}, \"yaxis\": {\"gridcolor\": \"#E1E5ED\", \"showgrid\": true, \"tickfont\": {\"color\": \"#4D5663\"}, \"title\": {\"font\": {\"color\": \"#4D5663\"}, \"text\": \"\"}, \"zerolinecolor\": \"#E1E5ED\"}},\n",
       "                        {\"showLink\": true, \"linkText\": \"Export to plot.ly\", \"plotlyServerURL\": \"https://plot.ly\", \"responsive\": true}\n",
       "                    ).then(function(){\n",
       "                            \n",
       "var gd = document.getElementById('2f92b6fd-ea58-446c-a597-b4d0a67523d8');\n",
       "var x = new MutationObserver(function (mutations, observer) {{\n",
       "        var display = window.getComputedStyle(gd).display;\n",
       "        if (!display || display === 'none') {{\n",
       "            console.log([gd, 'removed!']);\n",
       "            Plotly.purge(gd);\n",
       "            observer.disconnect();\n",
       "        }}\n",
       "}});\n",
       "\n",
       "// Listen for the removal of the full notebook cells\n",
       "var notebookContainer = gd.closest('#notebook-container');\n",
       "if (notebookContainer) {{\n",
       "    x.observe(notebookContainer, {childList: true});\n",
       "}}\n",
       "\n",
       "// Listen for the clearing of the current output cell\n",
       "var outputEl = gd.closest('.output');\n",
       "if (outputEl) {{\n",
       "    x.observe(outputEl, {childList: true});\n",
       "}}\n",
       "\n",
       "                        })\n",
       "                };\n",
       "                });\n",
       "            </script>\n",
       "        </div>"
      ]
     },
     "metadata": {},
     "output_type": "display_data"
    }
   ],
   "source": [
    "df.iplot(kind='hist') # this is gonna plot all the column stacked on each other."
   ]
  },
  {
   "cell_type": "code",
   "execution_count": 18,
   "metadata": {},
   "outputs": [
    {
     "data": {
      "application/vnd.plotly.v1+json": {
       "config": {
        "linkText": "Export to plot.ly",
        "plotlyServerURL": "https://plot.ly",
        "showLink": true
       },
       "data": [
        {
         "line": {
          "color": "rgba(255, 153, 51, 1.0)",
          "dash": "solid",
          "shape": "linear",
          "width": 1.3
         },
         "mode": "lines",
         "name": "A",
         "text": "",
         "type": "scatter",
         "x": [
          0,
          1,
          2,
          3,
          4,
          5,
          6,
          7,
          8,
          9,
          10,
          11,
          12,
          13,
          14,
          15,
          16,
          17,
          18,
          19,
          20,
          21,
          22,
          23,
          24,
          25,
          26,
          27,
          28,
          29,
          30,
          31,
          32,
          33,
          34,
          35,
          36,
          37,
          38,
          39,
          40,
          41,
          42,
          43,
          44,
          45,
          46,
          47,
          48,
          49,
          50,
          51,
          52,
          53,
          54,
          55,
          56,
          57,
          58,
          59,
          60,
          61,
          62,
          63,
          64,
          65,
          66,
          67,
          68,
          69,
          70,
          71,
          72,
          73,
          74,
          75,
          76,
          77,
          78,
          79,
          80,
          81,
          82,
          83,
          84,
          85,
          86,
          87,
          88,
          89,
          90,
          91,
          92,
          93,
          94,
          95,
          96,
          97,
          98,
          99
         ],
         "y": [
          0.9533923532252154,
          0.7962578503151079,
          0.9446265933015333,
          -0.42864094189536345,
          -0.6905822967359128,
          0.545787353838866,
          -0.7495000133758046,
          -0.3762815578281219,
          0.3338145439069094,
          1.8164322972195024,
          -0.45792968633020076,
          0.37527095200432803,
          1.6257569004557955,
          -1.0553284569165717,
          -1.5696652241668305,
          -0.3228740712113491,
          0.1507472809239381,
          -0.5236479525340905,
          -1.4136103156819133,
          -0.25450762723785664,
          -0.3528814569744451,
          -0.5218846044634726,
          1.4625662999874716,
          -0.29412671346680097,
          1.0894037294964314,
          0.8454922650572088,
          1.1524461039633298,
          -0.3993380856970902,
          1.4481690182844273,
          0.5306664780946375,
          -0.3353654523770128,
          1.0164031310864774,
          0.5688651882963847,
          -0.7526355976340225,
          0.678666989205376,
          -0.676297494024862,
          -0.9994460323512003,
          -0.09574448606538073,
          -0.44460656961300205,
          -0.44951144023012246,
          -1.2048471417206936,
          0.7085546291673673,
          0.6547152374806319,
          -0.7423025231136463,
          -2.1840448982989344,
          -1.0761526288632624,
          -0.8821739194264769,
          0.16686387735840705,
          -1.6161118772902994,
          -2.20726383604153,
          1.0311954284225517,
          -0.242110444341512,
          -0.13962810666291445,
          0.5792425627063781,
          1.7064911400976197,
          1.0447748476017658,
          0.5514204827280627,
          -0.2762503662657573,
          0.7549544200480618,
          0.2775470665053151,
          -0.5982610550270542,
          -0.22943336333057485,
          -0.9634299159356345,
          0.9426435162691165,
          -2.78429824560043,
          -1.0727632114734371,
          -0.6725702929710772,
          -1.3972696238020141,
          -0.09263107503903131,
          -0.0852572909075391,
          1.6541989070099647,
          0.9381501595964749,
          1.0954607253099615,
          0.0963009934795626,
          -0.3485949014755212,
          -0.4694509996304064,
          0.24703932030270714,
          1.4068080908410796,
          -0.6683069699263524,
          1.0235858873351433,
          0.4496249563956825,
          0.39823683814607497,
          1.7915890976254676,
          -1.3276782228531736,
          0.9539407573453836,
          -0.11839409168110034,
          -0.4908515286224764,
          0.7214190615733209,
          -1.2964801667391652,
          0.8113597656016831,
          1.0927746445277344,
          0.15306711543042487,
          0.5150282622650163,
          -0.7743053253986879,
          -1.3428282038945936,
          -0.6916081901577839,
          -0.3848626572878707,
          -0.7531296637862062,
          -0.06521943121422427,
          -0.4175317297317254
         ]
        },
        {
         "line": {
          "color": "rgba(55, 128, 191, 1.0)",
          "dash": "solid",
          "shape": "linear",
          "width": 1.3
         },
         "mode": "lines",
         "name": "B",
         "text": "",
         "type": "scatter",
         "x": [
          0,
          1,
          2,
          3,
          4,
          5,
          6,
          7,
          8,
          9,
          10,
          11,
          12,
          13,
          14,
          15,
          16,
          17,
          18,
          19,
          20,
          21,
          22,
          23,
          24,
          25,
          26,
          27,
          28,
          29,
          30,
          31,
          32,
          33,
          34,
          35,
          36,
          37,
          38,
          39,
          40,
          41,
          42,
          43,
          44,
          45,
          46,
          47,
          48,
          49,
          50,
          51,
          52,
          53,
          54,
          55,
          56,
          57,
          58,
          59,
          60,
          61,
          62,
          63,
          64,
          65,
          66,
          67,
          68,
          69,
          70,
          71,
          72,
          73,
          74,
          75,
          76,
          77,
          78,
          79,
          80,
          81,
          82,
          83,
          84,
          85,
          86,
          87,
          88,
          89,
          90,
          91,
          92,
          93,
          94,
          95,
          96,
          97,
          98,
          99
         ],
         "y": [
          0.06947627645146132,
          -1.1607331144368884,
          -1.0497237200184943,
          -1.5019722344727746,
          -0.35258467341524236,
          -0.2613228779269877,
          -0.06139124485561016,
          -0.44360043268460614,
          0.5872810423296456,
          1.6453995448818386,
          -0.7900626782826925,
          0.18850992933071747,
          1.7249806781280306,
          1.7419381851834321,
          0.12978630101315522,
          -0.6184924891150716,
          1.3239594395322758,
          -0.8221817143634784,
          0.1729970616350675,
          -0.06451233675875263,
          1.806990957117825,
          -0.07398636085416085,
          0.8577491295231231,
          0.7950606607627105,
          -0.21130922179843403,
          -0.33469796249196276,
          1.4981538840123534,
          -0.37300060573819865,
          -0.6636143565365548,
          0.21665831066383276,
          -0.6704273842363159,
          -0.5419693348508918,
          0.4827874038183322,
          0.11512264384583679,
          -1.995149410421762,
          -0.24652486006627924,
          -2.0379604789618577,
          1.5251422775071708,
          -0.09475683944237748,
          -0.4152216032207558,
          1.0538852176943854,
          0.9601525791285485,
          0.5000010334891224,
          1.2485272427426186,
          0.8235984689487181,
          0.474745927388093,
          -1.4936499081932895,
          0.1426436720132142,
          0.37031345404667415,
          0.31292079605749484,
          0.05974849585601801,
          0.12891917352285698,
          0.6460500265917863,
          0.7892432827025327,
          -0.4842582356008212,
          0.7010336915602854,
          2.0534288048468974,
          -0.675806191857299,
          -0.5346894222900018,
          0.11199315394758796,
          -1.6037419859915685,
          1.4675262838719447,
          -0.7155811026629516,
          -0.5697123833533212,
          0.13424980737666348,
          0.5363928716736676,
          -0.664561078210953,
          -0.5909996720870854,
          -1.1243652440851621,
          2.4349656634141517,
          0.0850612426247251,
          -0.0372770038794375,
          -0.6028590721689905,
          0.9092158213811373,
          1.402430473603624,
          0.41745183831560073,
          -0.20313523445200599,
          1.0764350847389748,
          1.4423102931701026,
          1.218346375994514,
          0.3355120938252802,
          0.4733931746569244,
          -0.2393567851765012,
          1.9489466889539204,
          -0.5848238215674598,
          -1.6455253042673064,
          1.4180247584903094,
          -0.8569693533754201,
          1.0282726134368507,
          -0.515658480873396,
          0.06909637953208433,
          -1.1426104768023915,
          0.051162969647525966,
          -0.1644305552111428,
          0.01357270195562589,
          1.5799064467391917,
          0.1833104094552434,
          -2.323886990231017,
          -0.21440703575713888,
          -0.3262744037676085
         ]
        },
        {
         "connectgaps": false,
         "fill": "tozeroy",
         "line": {
          "color": "green",
          "dash": "solid",
          "shape": "linear",
          "width": 0.5
         },
         "mode": "lines",
         "name": "Spread",
         "showlegend": false,
         "type": "scatter",
         "x": [
          0,
          1,
          2,
          3,
          4,
          5,
          6,
          7,
          8,
          9,
          10,
          11,
          12,
          13,
          14,
          15,
          16,
          17,
          18,
          19,
          20,
          21,
          22,
          23,
          24,
          25,
          26,
          27,
          28,
          29,
          30,
          31,
          32,
          33,
          34,
          35,
          36,
          37,
          38,
          39,
          40,
          41,
          42,
          43,
          44,
          45,
          46,
          47,
          48,
          49,
          50,
          51,
          52,
          53,
          54,
          55,
          56,
          57,
          58,
          59,
          60,
          61,
          62,
          63,
          64,
          65,
          66,
          67,
          68,
          69,
          70,
          71,
          72,
          73,
          74,
          75,
          76,
          77,
          78,
          79,
          80,
          81,
          82,
          83,
          84,
          85,
          86,
          87,
          88,
          89,
          90,
          91,
          92,
          93,
          94,
          95,
          96,
          97,
          98,
          99
         ],
         "xaxis": "x2",
         "y": [
          0.8839160767737542,
          1.9569909647519963,
          1.9943503133200275,
          1.0733312925774112,
          "",
          0.8071102317658537,
          "",
          0.06731887485648425,
          "",
          0.1710327523376638,
          0.33213299195249174,
          0.18676102267361055,
          "",
          "",
          "",
          0.2956184179037225,
          "",
          0.29853376182938796,
          "",
          "",
          "",
          "",
          0.6048171704643485,
          "",
          1.3007129512948654,
          1.1801902275491716,
          "",
          "",
          2.111783374820982,
          0.31400816743080473,
          0.33506193185930305,
          1.5583724659373692,
          0.08607778447805248,
          "",
          2.673816399627138,
          "",
          1.0385144466106575,
          "",
          "",
          "",
          "",
          "",
          0.15471420399150948,
          "",
          "",
          "",
          0.6114759887668125,
          0.02422020534519284,
          "",
          "",
          0.9714469325665337,
          "",
          "",
          "",
          2.190749375698441,
          0.34374115604148037,
          "",
          0.3995558255915417,
          1.2896438423380636,
          0.1655539125577271,
          1.0054809309645143,
          "",
          "",
          1.5123558996224378,
          "",
          "",
          "",
          "",
          1.0317341690461308,
          "",
          1.5691376643852397,
          0.9754271634759124,
          1.698319797478952,
          "",
          "",
          "",
          0.45017455475471313,
          0.33037300610210485,
          "",
          "",
          0.11411286257040232,
          "",
          2.030945882801969,
          "",
          1.5387645789128435,
          1.527131212586206,
          "",
          1.578388414948741,
          "",
          1.3270182464750793,
          1.0236782649956502,
          1.2956775922328163,
          0.4638652926174903,
          "",
          "",
          "",
          "",
          1.570757326444811,
          0.1491876045429146,
          ""
         ],
         "yaxis": "y2"
        },
        {
         "connectgaps": false,
         "fill": "tozeroy",
         "line": {
          "color": "red",
          "dash": "solid",
          "shape": "linear",
          "width": 0.5
         },
         "mode": "lines",
         "name": "Spread",
         "showlegend": false,
         "type": "scatter",
         "x": [
          0,
          1,
          2,
          3,
          4,
          5,
          6,
          7,
          8,
          9,
          10,
          11,
          12,
          13,
          14,
          15,
          16,
          17,
          18,
          19,
          20,
          21,
          22,
          23,
          24,
          25,
          26,
          27,
          28,
          29,
          30,
          31,
          32,
          33,
          34,
          35,
          36,
          37,
          38,
          39,
          40,
          41,
          42,
          43,
          44,
          45,
          46,
          47,
          48,
          49,
          50,
          51,
          52,
          53,
          54,
          55,
          56,
          57,
          58,
          59,
          60,
          61,
          62,
          63,
          64,
          65,
          66,
          67,
          68,
          69,
          70,
          71,
          72,
          73,
          74,
          75,
          76,
          77,
          78,
          79,
          80,
          81,
          82,
          83,
          84,
          85,
          86,
          87,
          88,
          89,
          90,
          91,
          92,
          93,
          94,
          95,
          96,
          97,
          98,
          99
         ],
         "xaxis": "x2",
         "y": [
          "",
          "",
          "",
          "",
          -0.3379976233206704,
          "",
          -0.6881087685201944,
          "",
          -0.2534664984227362,
          "",
          "",
          "",
          -0.09922377767223511,
          -2.797266642100004,
          -1.6994515251799858,
          "",
          -1.1732121586083377,
          "",
          -1.5866073773169809,
          -0.18999529047910402,
          -2.1598724140922703,
          -0.44789824360931174,
          "",
          -1.0891873742295115,
          "",
          "",
          -0.3457077800490236,
          -0.02633747995889152,
          "",
          "",
          "",
          "",
          "",
          -0.8677582414798594,
          "",
          -0.4297726339585827,
          "",
          -1.6208867635725515,
          -0.3498497301706246,
          -0.034289837009366664,
          -2.258732359415079,
          -0.2515979499611811,
          "",
          -1.9908297658562648,
          -3.0076433672476526,
          -1.5508985562513553,
          "",
          "",
          -1.9864253313369735,
          -2.5201846320990247,
          "",
          -0.37102961786436894,
          -0.7856781332547008,
          -0.21000071999615466,
          "",
          "",
          -1.5020083221188347,
          "",
          "",
          "",
          "",
          -1.6969596472025197,
          -0.24784881327268293,
          "",
          -2.9185480529770933,
          -1.6091560831471048,
          -0.008009214760124173,
          -0.8062699517149288,
          "",
          -2.520222954321691,
          "",
          "",
          "",
          -0.8129148279015748,
          -1.7510253750791451,
          -0.8869028379460071,
          "",
          "",
          -2.1106172630964553,
          -0.19476048865937057,
          "",
          -0.07515633651084941,
          "",
          -3.276624911807094,
          "",
          "",
          -1.9088762871127858,
          "",
          -2.324752780176016,
          "",
          "",
          "",
          "",
          -0.6098747701875451,
          -1.3564009058502196,
          -2.2715146368969754,
          -0.5681730667431142,
          "",
          "",
          -0.0912573259641169
         ],
         "yaxis": "y2"
        }
       ],
       "layout": {
        "hovermode": "x",
        "legend": {
         "bgcolor": "#F5F6F9",
         "font": {
          "color": "#4D5663"
         }
        },
        "paper_bgcolor": "#F5F6F9",
        "plot_bgcolor": "#F5F6F9",
        "template": {
         "data": {
          "bar": [
           {
            "error_x": {
             "color": "#2a3f5f"
            },
            "error_y": {
             "color": "#2a3f5f"
            },
            "marker": {
             "line": {
              "color": "#E5ECF6",
              "width": 0.5
             }
            },
            "type": "bar"
           }
          ],
          "barpolar": [
           {
            "marker": {
             "line": {
              "color": "#E5ECF6",
              "width": 0.5
             }
            },
            "type": "barpolar"
           }
          ],
          "carpet": [
           {
            "aaxis": {
             "endlinecolor": "#2a3f5f",
             "gridcolor": "white",
             "linecolor": "white",
             "minorgridcolor": "white",
             "startlinecolor": "#2a3f5f"
            },
            "baxis": {
             "endlinecolor": "#2a3f5f",
             "gridcolor": "white",
             "linecolor": "white",
             "minorgridcolor": "white",
             "startlinecolor": "#2a3f5f"
            },
            "type": "carpet"
           }
          ],
          "choropleth": [
           {
            "colorbar": {
             "outlinewidth": 0,
             "ticks": ""
            },
            "type": "choropleth"
           }
          ],
          "contour": [
           {
            "colorbar": {
             "outlinewidth": 0,
             "ticks": ""
            },
            "colorscale": [
             [
              0,
              "#0d0887"
             ],
             [
              0.1111111111111111,
              "#46039f"
             ],
             [
              0.2222222222222222,
              "#7201a8"
             ],
             [
              0.3333333333333333,
              "#9c179e"
             ],
             [
              0.4444444444444444,
              "#bd3786"
             ],
             [
              0.5555555555555556,
              "#d8576b"
             ],
             [
              0.6666666666666666,
              "#ed7953"
             ],
             [
              0.7777777777777778,
              "#fb9f3a"
             ],
             [
              0.8888888888888888,
              "#fdca26"
             ],
             [
              1,
              "#f0f921"
             ]
            ],
            "type": "contour"
           }
          ],
          "contourcarpet": [
           {
            "colorbar": {
             "outlinewidth": 0,
             "ticks": ""
            },
            "type": "contourcarpet"
           }
          ],
          "heatmap": [
           {
            "colorbar": {
             "outlinewidth": 0,
             "ticks": ""
            },
            "colorscale": [
             [
              0,
              "#0d0887"
             ],
             [
              0.1111111111111111,
              "#46039f"
             ],
             [
              0.2222222222222222,
              "#7201a8"
             ],
             [
              0.3333333333333333,
              "#9c179e"
             ],
             [
              0.4444444444444444,
              "#bd3786"
             ],
             [
              0.5555555555555556,
              "#d8576b"
             ],
             [
              0.6666666666666666,
              "#ed7953"
             ],
             [
              0.7777777777777778,
              "#fb9f3a"
             ],
             [
              0.8888888888888888,
              "#fdca26"
             ],
             [
              1,
              "#f0f921"
             ]
            ],
            "type": "heatmap"
           }
          ],
          "heatmapgl": [
           {
            "colorbar": {
             "outlinewidth": 0,
             "ticks": ""
            },
            "colorscale": [
             [
              0,
              "#0d0887"
             ],
             [
              0.1111111111111111,
              "#46039f"
             ],
             [
              0.2222222222222222,
              "#7201a8"
             ],
             [
              0.3333333333333333,
              "#9c179e"
             ],
             [
              0.4444444444444444,
              "#bd3786"
             ],
             [
              0.5555555555555556,
              "#d8576b"
             ],
             [
              0.6666666666666666,
              "#ed7953"
             ],
             [
              0.7777777777777778,
              "#fb9f3a"
             ],
             [
              0.8888888888888888,
              "#fdca26"
             ],
             [
              1,
              "#f0f921"
             ]
            ],
            "type": "heatmapgl"
           }
          ],
          "histogram": [
           {
            "marker": {
             "colorbar": {
              "outlinewidth": 0,
              "ticks": ""
             }
            },
            "type": "histogram"
           }
          ],
          "histogram2d": [
           {
            "colorbar": {
             "outlinewidth": 0,
             "ticks": ""
            },
            "colorscale": [
             [
              0,
              "#0d0887"
             ],
             [
              0.1111111111111111,
              "#46039f"
             ],
             [
              0.2222222222222222,
              "#7201a8"
             ],
             [
              0.3333333333333333,
              "#9c179e"
             ],
             [
              0.4444444444444444,
              "#bd3786"
             ],
             [
              0.5555555555555556,
              "#d8576b"
             ],
             [
              0.6666666666666666,
              "#ed7953"
             ],
             [
              0.7777777777777778,
              "#fb9f3a"
             ],
             [
              0.8888888888888888,
              "#fdca26"
             ],
             [
              1,
              "#f0f921"
             ]
            ],
            "type": "histogram2d"
           }
          ],
          "histogram2dcontour": [
           {
            "colorbar": {
             "outlinewidth": 0,
             "ticks": ""
            },
            "colorscale": [
             [
              0,
              "#0d0887"
             ],
             [
              0.1111111111111111,
              "#46039f"
             ],
             [
              0.2222222222222222,
              "#7201a8"
             ],
             [
              0.3333333333333333,
              "#9c179e"
             ],
             [
              0.4444444444444444,
              "#bd3786"
             ],
             [
              0.5555555555555556,
              "#d8576b"
             ],
             [
              0.6666666666666666,
              "#ed7953"
             ],
             [
              0.7777777777777778,
              "#fb9f3a"
             ],
             [
              0.8888888888888888,
              "#fdca26"
             ],
             [
              1,
              "#f0f921"
             ]
            ],
            "type": "histogram2dcontour"
           }
          ],
          "mesh3d": [
           {
            "colorbar": {
             "outlinewidth": 0,
             "ticks": ""
            },
            "type": "mesh3d"
           }
          ],
          "parcoords": [
           {
            "line": {
             "colorbar": {
              "outlinewidth": 0,
              "ticks": ""
             }
            },
            "type": "parcoords"
           }
          ],
          "pie": [
           {
            "automargin": true,
            "type": "pie"
           }
          ],
          "scatter": [
           {
            "marker": {
             "colorbar": {
              "outlinewidth": 0,
              "ticks": ""
             }
            },
            "type": "scatter"
           }
          ],
          "scatter3d": [
           {
            "line": {
             "colorbar": {
              "outlinewidth": 0,
              "ticks": ""
             }
            },
            "marker": {
             "colorbar": {
              "outlinewidth": 0,
              "ticks": ""
             }
            },
            "type": "scatter3d"
           }
          ],
          "scattercarpet": [
           {
            "marker": {
             "colorbar": {
              "outlinewidth": 0,
              "ticks": ""
             }
            },
            "type": "scattercarpet"
           }
          ],
          "scattergeo": [
           {
            "marker": {
             "colorbar": {
              "outlinewidth": 0,
              "ticks": ""
             }
            },
            "type": "scattergeo"
           }
          ],
          "scattergl": [
           {
            "marker": {
             "colorbar": {
              "outlinewidth": 0,
              "ticks": ""
             }
            },
            "type": "scattergl"
           }
          ],
          "scattermapbox": [
           {
            "marker": {
             "colorbar": {
              "outlinewidth": 0,
              "ticks": ""
             }
            },
            "type": "scattermapbox"
           }
          ],
          "scatterpolar": [
           {
            "marker": {
             "colorbar": {
              "outlinewidth": 0,
              "ticks": ""
             }
            },
            "type": "scatterpolar"
           }
          ],
          "scatterpolargl": [
           {
            "marker": {
             "colorbar": {
              "outlinewidth": 0,
              "ticks": ""
             }
            },
            "type": "scatterpolargl"
           }
          ],
          "scatterternary": [
           {
            "marker": {
             "colorbar": {
              "outlinewidth": 0,
              "ticks": ""
             }
            },
            "type": "scatterternary"
           }
          ],
          "surface": [
           {
            "colorbar": {
             "outlinewidth": 0,
             "ticks": ""
            },
            "colorscale": [
             [
              0,
              "#0d0887"
             ],
             [
              0.1111111111111111,
              "#46039f"
             ],
             [
              0.2222222222222222,
              "#7201a8"
             ],
             [
              0.3333333333333333,
              "#9c179e"
             ],
             [
              0.4444444444444444,
              "#bd3786"
             ],
             [
              0.5555555555555556,
              "#d8576b"
             ],
             [
              0.6666666666666666,
              "#ed7953"
             ],
             [
              0.7777777777777778,
              "#fb9f3a"
             ],
             [
              0.8888888888888888,
              "#fdca26"
             ],
             [
              1,
              "#f0f921"
             ]
            ],
            "type": "surface"
           }
          ],
          "table": [
           {
            "cells": {
             "fill": {
              "color": "#EBF0F8"
             },
             "line": {
              "color": "white"
             }
            },
            "header": {
             "fill": {
              "color": "#C8D4E3"
             },
             "line": {
              "color": "white"
             }
            },
            "type": "table"
           }
          ]
         },
         "layout": {
          "annotationdefaults": {
           "arrowcolor": "#2a3f5f",
           "arrowhead": 0,
           "arrowwidth": 1
          },
          "coloraxis": {
           "colorbar": {
            "outlinewidth": 0,
            "ticks": ""
           }
          },
          "colorscale": {
           "diverging": [
            [
             0,
             "#8e0152"
            ],
            [
             0.1,
             "#c51b7d"
            ],
            [
             0.2,
             "#de77ae"
            ],
            [
             0.3,
             "#f1b6da"
            ],
            [
             0.4,
             "#fde0ef"
            ],
            [
             0.5,
             "#f7f7f7"
            ],
            [
             0.6,
             "#e6f5d0"
            ],
            [
             0.7,
             "#b8e186"
            ],
            [
             0.8,
             "#7fbc41"
            ],
            [
             0.9,
             "#4d9221"
            ],
            [
             1,
             "#276419"
            ]
           ],
           "sequential": [
            [
             0,
             "#0d0887"
            ],
            [
             0.1111111111111111,
             "#46039f"
            ],
            [
             0.2222222222222222,
             "#7201a8"
            ],
            [
             0.3333333333333333,
             "#9c179e"
            ],
            [
             0.4444444444444444,
             "#bd3786"
            ],
            [
             0.5555555555555556,
             "#d8576b"
            ],
            [
             0.6666666666666666,
             "#ed7953"
            ],
            [
             0.7777777777777778,
             "#fb9f3a"
            ],
            [
             0.8888888888888888,
             "#fdca26"
            ],
            [
             1,
             "#f0f921"
            ]
           ],
           "sequentialminus": [
            [
             0,
             "#0d0887"
            ],
            [
             0.1111111111111111,
             "#46039f"
            ],
            [
             0.2222222222222222,
             "#7201a8"
            ],
            [
             0.3333333333333333,
             "#9c179e"
            ],
            [
             0.4444444444444444,
             "#bd3786"
            ],
            [
             0.5555555555555556,
             "#d8576b"
            ],
            [
             0.6666666666666666,
             "#ed7953"
            ],
            [
             0.7777777777777778,
             "#fb9f3a"
            ],
            [
             0.8888888888888888,
             "#fdca26"
            ],
            [
             1,
             "#f0f921"
            ]
           ]
          },
          "colorway": [
           "#636efa",
           "#EF553B",
           "#00cc96",
           "#ab63fa",
           "#FFA15A",
           "#19d3f3",
           "#FF6692",
           "#B6E880",
           "#FF97FF",
           "#FECB52"
          ],
          "font": {
           "color": "#2a3f5f"
          },
          "geo": {
           "bgcolor": "white",
           "lakecolor": "white",
           "landcolor": "#E5ECF6",
           "showlakes": true,
           "showland": true,
           "subunitcolor": "white"
          },
          "hoverlabel": {
           "align": "left"
          },
          "hovermode": "closest",
          "mapbox": {
           "style": "light"
          },
          "paper_bgcolor": "white",
          "plot_bgcolor": "#E5ECF6",
          "polar": {
           "angularaxis": {
            "gridcolor": "white",
            "linecolor": "white",
            "ticks": ""
           },
           "bgcolor": "#E5ECF6",
           "radialaxis": {
            "gridcolor": "white",
            "linecolor": "white",
            "ticks": ""
           }
          },
          "scene": {
           "xaxis": {
            "backgroundcolor": "#E5ECF6",
            "gridcolor": "white",
            "gridwidth": 2,
            "linecolor": "white",
            "showbackground": true,
            "ticks": "",
            "zerolinecolor": "white"
           },
           "yaxis": {
            "backgroundcolor": "#E5ECF6",
            "gridcolor": "white",
            "gridwidth": 2,
            "linecolor": "white",
            "showbackground": true,
            "ticks": "",
            "zerolinecolor": "white"
           },
           "zaxis": {
            "backgroundcolor": "#E5ECF6",
            "gridcolor": "white",
            "gridwidth": 2,
            "linecolor": "white",
            "showbackground": true,
            "ticks": "",
            "zerolinecolor": "white"
           }
          },
          "shapedefaults": {
           "line": {
            "color": "#2a3f5f"
           }
          },
          "ternary": {
           "aaxis": {
            "gridcolor": "white",
            "linecolor": "white",
            "ticks": ""
           },
           "baxis": {
            "gridcolor": "white",
            "linecolor": "white",
            "ticks": ""
           },
           "bgcolor": "#E5ECF6",
           "caxis": {
            "gridcolor": "white",
            "linecolor": "white",
            "ticks": ""
           }
          },
          "title": {
           "x": 0.05
          },
          "xaxis": {
           "automargin": true,
           "gridcolor": "white",
           "linecolor": "white",
           "ticks": "",
           "title": {
            "standoff": 15
           },
           "zerolinecolor": "white",
           "zerolinewidth": 2
          },
          "yaxis": {
           "automargin": true,
           "gridcolor": "white",
           "linecolor": "white",
           "ticks": "",
           "title": {
            "standoff": 15
           },
           "zerolinecolor": "white",
           "zerolinewidth": 2
          }
         }
        },
        "title": {
         "font": {
          "color": "#4D5663"
         }
        },
        "xaxis": {
         "gridcolor": "#E1E5ED",
         "showgrid": true,
         "tickfont": {
          "color": "#4D5663"
         },
         "title": {
          "font": {
           "color": "#4D5663"
          },
          "text": ""
         },
         "zerolinecolor": "#E1E5ED"
        },
        "xaxis2": {
         "anchor": "y2",
         "gridcolor": "#E1E5ED",
         "showgrid": true,
         "showticklabels": false,
         "tickfont": {
          "color": "#4D5663"
         },
         "title": {
          "font": {
           "color": "#4D5663"
          },
          "text": ""
         },
         "zerolinecolor": "#E1E5ED"
        },
        "yaxis": {
         "domain": [
          0.3,
          1
         ],
         "gridcolor": "#E1E5ED",
         "showgrid": true,
         "tickfont": {
          "color": "#4D5663"
         },
         "title": {
          "font": {
           "color": "#4D5663"
          },
          "text": ""
         },
         "zerolinecolor": "#E1E5ED"
        },
        "yaxis2": {
         "domain": [
          0,
          0.25
         ],
         "gridcolor": "#E1E5ED",
         "showgrid": true,
         "tickfont": {
          "color": "#4D5663"
         },
         "title": {
          "font": {
           "color": "#4D5663"
          },
          "text": "Spread"
         },
         "zerolinecolor": "#E1E5ED"
        }
       }
      },
      "text/html": [
       "<div>\n",
       "        \n",
       "        \n",
       "            <div id=\"d956ca1f-749f-44a3-ac04-b151e5089fac\" class=\"plotly-graph-div\" style=\"height:525px; width:100%;\"></div>\n",
       "            <script type=\"text/javascript\">\n",
       "                require([\"plotly\"], function(Plotly) {\n",
       "                    window.PLOTLYENV=window.PLOTLYENV || {};\n",
       "                    window.PLOTLYENV.BASE_URL='https://plot.ly';\n",
       "                    \n",
       "                if (document.getElementById(\"d956ca1f-749f-44a3-ac04-b151e5089fac\")) {\n",
       "                    Plotly.newPlot(\n",
       "                        'd956ca1f-749f-44a3-ac04-b151e5089fac',\n",
       "                        [{\"line\": {\"color\": \"rgba(255, 153, 51, 1.0)\", \"dash\": \"solid\", \"shape\": \"linear\", \"width\": 1.3}, \"mode\": \"lines\", \"name\": \"A\", \"text\": \"\", \"type\": \"scatter\", \"x\": [0, 1, 2, 3, 4, 5, 6, 7, 8, 9, 10, 11, 12, 13, 14, 15, 16, 17, 18, 19, 20, 21, 22, 23, 24, 25, 26, 27, 28, 29, 30, 31, 32, 33, 34, 35, 36, 37, 38, 39, 40, 41, 42, 43, 44, 45, 46, 47, 48, 49, 50, 51, 52, 53, 54, 55, 56, 57, 58, 59, 60, 61, 62, 63, 64, 65, 66, 67, 68, 69, 70, 71, 72, 73, 74, 75, 76, 77, 78, 79, 80, 81, 82, 83, 84, 85, 86, 87, 88, 89, 90, 91, 92, 93, 94, 95, 96, 97, 98, 99], \"y\": [0.9533923532252154, 0.7962578503151079, 0.9446265933015333, -0.42864094189536345, -0.6905822967359128, 0.545787353838866, -0.7495000133758046, -0.3762815578281219, 0.3338145439069094, 1.8164322972195024, -0.45792968633020076, 0.37527095200432803, 1.6257569004557955, -1.0553284569165717, -1.5696652241668305, -0.3228740712113491, 0.1507472809239381, -0.5236479525340905, -1.4136103156819133, -0.25450762723785664, -0.3528814569744451, -0.5218846044634726, 1.4625662999874716, -0.29412671346680097, 1.0894037294964314, 0.8454922650572088, 1.1524461039633298, -0.3993380856970902, 1.4481690182844273, 0.5306664780946375, -0.3353654523770128, 1.0164031310864774, 0.5688651882963847, -0.7526355976340225, 0.678666989205376, -0.676297494024862, -0.9994460323512003, -0.09574448606538073, -0.44460656961300205, -0.44951144023012246, -1.2048471417206936, 0.7085546291673673, 0.6547152374806319, -0.7423025231136463, -2.1840448982989344, -1.0761526288632624, -0.8821739194264769, 0.16686387735840705, -1.6161118772902994, -2.20726383604153, 1.0311954284225517, -0.242110444341512, -0.13962810666291445, 0.5792425627063781, 1.7064911400976197, 1.0447748476017658, 0.5514204827280627, -0.2762503662657573, 0.7549544200480618, 0.2775470665053151, -0.5982610550270542, -0.22943336333057485, -0.9634299159356345, 0.9426435162691165, -2.78429824560043, -1.0727632114734371, -0.6725702929710772, -1.3972696238020141, -0.09263107503903131, -0.0852572909075391, 1.6541989070099647, 0.9381501595964749, 1.0954607253099615, 0.0963009934795626, -0.3485949014755212, -0.4694509996304064, 0.24703932030270714, 1.4068080908410796, -0.6683069699263524, 1.0235858873351433, 0.4496249563956825, 0.39823683814607497, 1.7915890976254676, -1.3276782228531736, 0.9539407573453836, -0.11839409168110034, -0.4908515286224764, 0.7214190615733209, -1.2964801667391652, 0.8113597656016831, 1.0927746445277344, 0.15306711543042487, 0.5150282622650163, -0.7743053253986879, -1.3428282038945936, -0.6916081901577839, -0.3848626572878707, -0.7531296637862062, -0.06521943121422427, -0.4175317297317254]}, {\"line\": {\"color\": \"rgba(55, 128, 191, 1.0)\", \"dash\": \"solid\", \"shape\": \"linear\", \"width\": 1.3}, \"mode\": \"lines\", \"name\": \"B\", \"text\": \"\", \"type\": \"scatter\", \"x\": [0, 1, 2, 3, 4, 5, 6, 7, 8, 9, 10, 11, 12, 13, 14, 15, 16, 17, 18, 19, 20, 21, 22, 23, 24, 25, 26, 27, 28, 29, 30, 31, 32, 33, 34, 35, 36, 37, 38, 39, 40, 41, 42, 43, 44, 45, 46, 47, 48, 49, 50, 51, 52, 53, 54, 55, 56, 57, 58, 59, 60, 61, 62, 63, 64, 65, 66, 67, 68, 69, 70, 71, 72, 73, 74, 75, 76, 77, 78, 79, 80, 81, 82, 83, 84, 85, 86, 87, 88, 89, 90, 91, 92, 93, 94, 95, 96, 97, 98, 99], \"y\": [0.06947627645146132, -1.1607331144368884, -1.0497237200184943, -1.5019722344727746, -0.35258467341524236, -0.2613228779269877, -0.06139124485561016, -0.44360043268460614, 0.5872810423296456, 1.6453995448818386, -0.7900626782826925, 0.18850992933071747, 1.7249806781280306, 1.7419381851834321, 0.12978630101315522, -0.6184924891150716, 1.3239594395322758, -0.8221817143634784, 0.1729970616350675, -0.06451233675875263, 1.806990957117825, -0.07398636085416085, 0.8577491295231231, 0.7950606607627105, -0.21130922179843403, -0.33469796249196276, 1.4981538840123534, -0.37300060573819865, -0.6636143565365548, 0.21665831066383276, -0.6704273842363159, -0.5419693348508918, 0.4827874038183322, 0.11512264384583679, -1.995149410421762, -0.24652486006627924, -2.0379604789618577, 1.5251422775071708, -0.09475683944237748, -0.4152216032207558, 1.0538852176943854, 0.9601525791285485, 0.5000010334891224, 1.2485272427426186, 0.8235984689487181, 0.474745927388093, -1.4936499081932895, 0.1426436720132142, 0.37031345404667415, 0.31292079605749484, 0.05974849585601801, 0.12891917352285698, 0.6460500265917863, 0.7892432827025327, -0.4842582356008212, 0.7010336915602854, 2.0534288048468974, -0.675806191857299, -0.5346894222900018, 0.11199315394758796, -1.6037419859915685, 1.4675262838719447, -0.7155811026629516, -0.5697123833533212, 0.13424980737666348, 0.5363928716736676, -0.664561078210953, -0.5909996720870854, -1.1243652440851621, 2.4349656634141517, 0.0850612426247251, -0.0372770038794375, -0.6028590721689905, 0.9092158213811373, 1.402430473603624, 0.41745183831560073, -0.20313523445200599, 1.0764350847389748, 1.4423102931701026, 1.218346375994514, 0.3355120938252802, 0.4733931746569244, -0.2393567851765012, 1.9489466889539204, -0.5848238215674598, -1.6455253042673064, 1.4180247584903094, -0.8569693533754201, 1.0282726134368507, -0.515658480873396, 0.06909637953208433, -1.1426104768023915, 0.051162969647525966, -0.1644305552111428, 0.01357270195562589, 1.5799064467391917, 0.1833104094552434, -2.323886990231017, -0.21440703575713888, -0.3262744037676085]}, {\"connectgaps\": false, \"fill\": \"tozeroy\", \"line\": {\"color\": \"green\", \"dash\": \"solid\", \"shape\": \"linear\", \"width\": 0.5}, \"mode\": \"lines\", \"name\": \"Spread\", \"showlegend\": false, \"type\": \"scatter\", \"x\": [0, 1, 2, 3, 4, 5, 6, 7, 8, 9, 10, 11, 12, 13, 14, 15, 16, 17, 18, 19, 20, 21, 22, 23, 24, 25, 26, 27, 28, 29, 30, 31, 32, 33, 34, 35, 36, 37, 38, 39, 40, 41, 42, 43, 44, 45, 46, 47, 48, 49, 50, 51, 52, 53, 54, 55, 56, 57, 58, 59, 60, 61, 62, 63, 64, 65, 66, 67, 68, 69, 70, 71, 72, 73, 74, 75, 76, 77, 78, 79, 80, 81, 82, 83, 84, 85, 86, 87, 88, 89, 90, 91, 92, 93, 94, 95, 96, 97, 98, 99], \"xaxis\": \"x2\", \"y\": [0.8839160767737542, 1.9569909647519963, 1.9943503133200275, 1.0733312925774112, \"\", 0.8071102317658537, \"\", 0.06731887485648425, \"\", 0.1710327523376638, 0.33213299195249174, 0.18676102267361055, \"\", \"\", \"\", 0.2956184179037225, \"\", 0.29853376182938796, \"\", \"\", \"\", \"\", 0.6048171704643485, \"\", 1.3007129512948654, 1.1801902275491716, \"\", \"\", 2.111783374820982, 0.31400816743080473, 0.33506193185930305, 1.5583724659373692, 0.08607778447805248, \"\", 2.673816399627138, \"\", 1.0385144466106575, \"\", \"\", \"\", \"\", \"\", 0.15471420399150948, \"\", \"\", \"\", 0.6114759887668125, 0.02422020534519284, \"\", \"\", 0.9714469325665337, \"\", \"\", \"\", 2.190749375698441, 0.34374115604148037, \"\", 0.3995558255915417, 1.2896438423380636, 0.1655539125577271, 1.0054809309645143, \"\", \"\", 1.5123558996224378, \"\", \"\", \"\", \"\", 1.0317341690461308, \"\", 1.5691376643852397, 0.9754271634759124, 1.698319797478952, \"\", \"\", \"\", 0.45017455475471313, 0.33037300610210485, \"\", \"\", 0.11411286257040232, \"\", 2.030945882801969, \"\", 1.5387645789128435, 1.527131212586206, \"\", 1.578388414948741, \"\", 1.3270182464750793, 1.0236782649956502, 1.2956775922328163, 0.4638652926174903, \"\", \"\", \"\", \"\", 1.570757326444811, 0.1491876045429146, \"\"], \"yaxis\": \"y2\"}, {\"connectgaps\": false, \"fill\": \"tozeroy\", \"line\": {\"color\": \"red\", \"dash\": \"solid\", \"shape\": \"linear\", \"width\": 0.5}, \"mode\": \"lines\", \"name\": \"Spread\", \"showlegend\": false, \"type\": \"scatter\", \"x\": [0, 1, 2, 3, 4, 5, 6, 7, 8, 9, 10, 11, 12, 13, 14, 15, 16, 17, 18, 19, 20, 21, 22, 23, 24, 25, 26, 27, 28, 29, 30, 31, 32, 33, 34, 35, 36, 37, 38, 39, 40, 41, 42, 43, 44, 45, 46, 47, 48, 49, 50, 51, 52, 53, 54, 55, 56, 57, 58, 59, 60, 61, 62, 63, 64, 65, 66, 67, 68, 69, 70, 71, 72, 73, 74, 75, 76, 77, 78, 79, 80, 81, 82, 83, 84, 85, 86, 87, 88, 89, 90, 91, 92, 93, 94, 95, 96, 97, 98, 99], \"xaxis\": \"x2\", \"y\": [\"\", \"\", \"\", \"\", -0.3379976233206704, \"\", -0.6881087685201944, \"\", -0.2534664984227362, \"\", \"\", \"\", -0.09922377767223511, -2.797266642100004, -1.6994515251799858, \"\", -1.1732121586083377, \"\", -1.5866073773169809, -0.18999529047910402, -2.1598724140922703, -0.44789824360931174, \"\", -1.0891873742295115, \"\", \"\", -0.3457077800490236, -0.02633747995889152, \"\", \"\", \"\", \"\", \"\", -0.8677582414798594, \"\", -0.4297726339585827, \"\", -1.6208867635725515, -0.3498497301706246, -0.034289837009366664, -2.258732359415079, -0.2515979499611811, \"\", -1.9908297658562648, -3.0076433672476526, -1.5508985562513553, \"\", \"\", -1.9864253313369735, -2.5201846320990247, \"\", -0.37102961786436894, -0.7856781332547008, -0.21000071999615466, \"\", \"\", -1.5020083221188347, \"\", \"\", \"\", \"\", -1.6969596472025197, -0.24784881327268293, \"\", -2.9185480529770933, -1.6091560831471048, -0.008009214760124173, -0.8062699517149288, \"\", -2.520222954321691, \"\", \"\", \"\", -0.8129148279015748, -1.7510253750791451, -0.8869028379460071, \"\", \"\", -2.1106172630964553, -0.19476048865937057, \"\", -0.07515633651084941, \"\", -3.276624911807094, \"\", \"\", -1.9088762871127858, \"\", -2.324752780176016, \"\", \"\", \"\", \"\", -0.6098747701875451, -1.3564009058502196, -2.2715146368969754, -0.5681730667431142, \"\", \"\", -0.0912573259641169], \"yaxis\": \"y2\"}],\n",
       "                        {\"hovermode\": \"x\", \"legend\": {\"bgcolor\": \"#F5F6F9\", \"font\": {\"color\": \"#4D5663\"}}, \"paper_bgcolor\": \"#F5F6F9\", \"plot_bgcolor\": \"#F5F6F9\", \"template\": {\"data\": {\"bar\": [{\"error_x\": {\"color\": \"#2a3f5f\"}, \"error_y\": {\"color\": \"#2a3f5f\"}, \"marker\": {\"line\": {\"color\": \"#E5ECF6\", \"width\": 0.5}}, \"type\": \"bar\"}], \"barpolar\": [{\"marker\": {\"line\": {\"color\": \"#E5ECF6\", \"width\": 0.5}}, \"type\": \"barpolar\"}], \"carpet\": [{\"aaxis\": {\"endlinecolor\": \"#2a3f5f\", \"gridcolor\": \"white\", \"linecolor\": \"white\", \"minorgridcolor\": \"white\", \"startlinecolor\": \"#2a3f5f\"}, \"baxis\": {\"endlinecolor\": \"#2a3f5f\", \"gridcolor\": \"white\", \"linecolor\": \"white\", \"minorgridcolor\": \"white\", \"startlinecolor\": \"#2a3f5f\"}, \"type\": \"carpet\"}], \"choropleth\": [{\"colorbar\": {\"outlinewidth\": 0, \"ticks\": \"\"}, \"type\": \"choropleth\"}], \"contour\": [{\"colorbar\": {\"outlinewidth\": 0, \"ticks\": \"\"}, \"colorscale\": [[0.0, \"#0d0887\"], [0.1111111111111111, \"#46039f\"], [0.2222222222222222, \"#7201a8\"], [0.3333333333333333, \"#9c179e\"], [0.4444444444444444, \"#bd3786\"], [0.5555555555555556, \"#d8576b\"], [0.6666666666666666, \"#ed7953\"], [0.7777777777777778, \"#fb9f3a\"], [0.8888888888888888, \"#fdca26\"], [1.0, \"#f0f921\"]], \"type\": \"contour\"}], \"contourcarpet\": [{\"colorbar\": {\"outlinewidth\": 0, \"ticks\": \"\"}, \"type\": \"contourcarpet\"}], \"heatmap\": [{\"colorbar\": {\"outlinewidth\": 0, \"ticks\": \"\"}, \"colorscale\": [[0.0, \"#0d0887\"], [0.1111111111111111, \"#46039f\"], [0.2222222222222222, \"#7201a8\"], [0.3333333333333333, \"#9c179e\"], [0.4444444444444444, \"#bd3786\"], [0.5555555555555556, \"#d8576b\"], [0.6666666666666666, \"#ed7953\"], [0.7777777777777778, \"#fb9f3a\"], [0.8888888888888888, \"#fdca26\"], [1.0, \"#f0f921\"]], \"type\": \"heatmap\"}], \"heatmapgl\": [{\"colorbar\": {\"outlinewidth\": 0, \"ticks\": \"\"}, \"colorscale\": [[0.0, \"#0d0887\"], [0.1111111111111111, \"#46039f\"], [0.2222222222222222, \"#7201a8\"], [0.3333333333333333, \"#9c179e\"], [0.4444444444444444, \"#bd3786\"], [0.5555555555555556, \"#d8576b\"], [0.6666666666666666, \"#ed7953\"], [0.7777777777777778, \"#fb9f3a\"], [0.8888888888888888, \"#fdca26\"], [1.0, \"#f0f921\"]], \"type\": \"heatmapgl\"}], \"histogram\": [{\"marker\": {\"colorbar\": {\"outlinewidth\": 0, \"ticks\": \"\"}}, \"type\": \"histogram\"}], \"histogram2d\": [{\"colorbar\": {\"outlinewidth\": 0, \"ticks\": \"\"}, \"colorscale\": [[0.0, \"#0d0887\"], [0.1111111111111111, \"#46039f\"], [0.2222222222222222, \"#7201a8\"], [0.3333333333333333, \"#9c179e\"], [0.4444444444444444, \"#bd3786\"], [0.5555555555555556, \"#d8576b\"], [0.6666666666666666, \"#ed7953\"], [0.7777777777777778, \"#fb9f3a\"], [0.8888888888888888, \"#fdca26\"], [1.0, \"#f0f921\"]], \"type\": \"histogram2d\"}], \"histogram2dcontour\": [{\"colorbar\": {\"outlinewidth\": 0, \"ticks\": \"\"}, \"colorscale\": [[0.0, \"#0d0887\"], [0.1111111111111111, \"#46039f\"], [0.2222222222222222, \"#7201a8\"], [0.3333333333333333, \"#9c179e\"], [0.4444444444444444, \"#bd3786\"], [0.5555555555555556, \"#d8576b\"], [0.6666666666666666, \"#ed7953\"], [0.7777777777777778, \"#fb9f3a\"], [0.8888888888888888, \"#fdca26\"], [1.0, \"#f0f921\"]], \"type\": \"histogram2dcontour\"}], \"mesh3d\": [{\"colorbar\": {\"outlinewidth\": 0, \"ticks\": \"\"}, \"type\": \"mesh3d\"}], \"parcoords\": [{\"line\": {\"colorbar\": {\"outlinewidth\": 0, \"ticks\": \"\"}}, \"type\": \"parcoords\"}], \"pie\": [{\"automargin\": true, \"type\": \"pie\"}], \"scatter\": [{\"marker\": {\"colorbar\": {\"outlinewidth\": 0, \"ticks\": \"\"}}, \"type\": \"scatter\"}], \"scatter3d\": [{\"line\": {\"colorbar\": {\"outlinewidth\": 0, \"ticks\": \"\"}}, \"marker\": {\"colorbar\": {\"outlinewidth\": 0, \"ticks\": \"\"}}, \"type\": \"scatter3d\"}], \"scattercarpet\": [{\"marker\": {\"colorbar\": {\"outlinewidth\": 0, \"ticks\": \"\"}}, \"type\": \"scattercarpet\"}], \"scattergeo\": [{\"marker\": {\"colorbar\": {\"outlinewidth\": 0, \"ticks\": \"\"}}, \"type\": \"scattergeo\"}], \"scattergl\": [{\"marker\": {\"colorbar\": {\"outlinewidth\": 0, \"ticks\": \"\"}}, \"type\": \"scattergl\"}], \"scattermapbox\": [{\"marker\": {\"colorbar\": {\"outlinewidth\": 0, \"ticks\": \"\"}}, \"type\": \"scattermapbox\"}], \"scatterpolar\": [{\"marker\": {\"colorbar\": {\"outlinewidth\": 0, \"ticks\": \"\"}}, \"type\": \"scatterpolar\"}], \"scatterpolargl\": [{\"marker\": {\"colorbar\": {\"outlinewidth\": 0, \"ticks\": \"\"}}, \"type\": \"scatterpolargl\"}], \"scatterternary\": [{\"marker\": {\"colorbar\": {\"outlinewidth\": 0, \"ticks\": \"\"}}, \"type\": \"scatterternary\"}], \"surface\": [{\"colorbar\": {\"outlinewidth\": 0, \"ticks\": \"\"}, \"colorscale\": [[0.0, \"#0d0887\"], [0.1111111111111111, \"#46039f\"], [0.2222222222222222, \"#7201a8\"], [0.3333333333333333, \"#9c179e\"], [0.4444444444444444, \"#bd3786\"], [0.5555555555555556, \"#d8576b\"], [0.6666666666666666, \"#ed7953\"], [0.7777777777777778, \"#fb9f3a\"], [0.8888888888888888, \"#fdca26\"], [1.0, \"#f0f921\"]], \"type\": \"surface\"}], \"table\": [{\"cells\": {\"fill\": {\"color\": \"#EBF0F8\"}, \"line\": {\"color\": \"white\"}}, \"header\": {\"fill\": {\"color\": \"#C8D4E3\"}, \"line\": {\"color\": \"white\"}}, \"type\": \"table\"}]}, \"layout\": {\"annotationdefaults\": {\"arrowcolor\": \"#2a3f5f\", \"arrowhead\": 0, \"arrowwidth\": 1}, \"coloraxis\": {\"colorbar\": {\"outlinewidth\": 0, \"ticks\": \"\"}}, \"colorscale\": {\"diverging\": [[0, \"#8e0152\"], [0.1, \"#c51b7d\"], [0.2, \"#de77ae\"], [0.3, \"#f1b6da\"], [0.4, \"#fde0ef\"], [0.5, \"#f7f7f7\"], [0.6, \"#e6f5d0\"], [0.7, \"#b8e186\"], [0.8, \"#7fbc41\"], [0.9, \"#4d9221\"], [1, \"#276419\"]], \"sequential\": [[0.0, \"#0d0887\"], [0.1111111111111111, \"#46039f\"], [0.2222222222222222, \"#7201a8\"], [0.3333333333333333, \"#9c179e\"], [0.4444444444444444, \"#bd3786\"], [0.5555555555555556, \"#d8576b\"], [0.6666666666666666, \"#ed7953\"], [0.7777777777777778, \"#fb9f3a\"], [0.8888888888888888, \"#fdca26\"], [1.0, \"#f0f921\"]], \"sequentialminus\": [[0.0, \"#0d0887\"], [0.1111111111111111, \"#46039f\"], [0.2222222222222222, \"#7201a8\"], [0.3333333333333333, \"#9c179e\"], [0.4444444444444444, \"#bd3786\"], [0.5555555555555556, \"#d8576b\"], [0.6666666666666666, \"#ed7953\"], [0.7777777777777778, \"#fb9f3a\"], [0.8888888888888888, \"#fdca26\"], [1.0, \"#f0f921\"]]}, \"colorway\": [\"#636efa\", \"#EF553B\", \"#00cc96\", \"#ab63fa\", \"#FFA15A\", \"#19d3f3\", \"#FF6692\", \"#B6E880\", \"#FF97FF\", \"#FECB52\"], \"font\": {\"color\": \"#2a3f5f\"}, \"geo\": {\"bgcolor\": \"white\", \"lakecolor\": \"white\", \"landcolor\": \"#E5ECF6\", \"showlakes\": true, \"showland\": true, \"subunitcolor\": \"white\"}, \"hoverlabel\": {\"align\": \"left\"}, \"hovermode\": \"closest\", \"mapbox\": {\"style\": \"light\"}, \"paper_bgcolor\": \"white\", \"plot_bgcolor\": \"#E5ECF6\", \"polar\": {\"angularaxis\": {\"gridcolor\": \"white\", \"linecolor\": \"white\", \"ticks\": \"\"}, \"bgcolor\": \"#E5ECF6\", \"radialaxis\": {\"gridcolor\": \"white\", \"linecolor\": \"white\", \"ticks\": \"\"}}, \"scene\": {\"xaxis\": {\"backgroundcolor\": \"#E5ECF6\", \"gridcolor\": \"white\", \"gridwidth\": 2, \"linecolor\": \"white\", \"showbackground\": true, \"ticks\": \"\", \"zerolinecolor\": \"white\"}, \"yaxis\": {\"backgroundcolor\": \"#E5ECF6\", \"gridcolor\": \"white\", \"gridwidth\": 2, \"linecolor\": \"white\", \"showbackground\": true, \"ticks\": \"\", \"zerolinecolor\": \"white\"}, \"zaxis\": {\"backgroundcolor\": \"#E5ECF6\", \"gridcolor\": \"white\", \"gridwidth\": 2, \"linecolor\": \"white\", \"showbackground\": true, \"ticks\": \"\", \"zerolinecolor\": \"white\"}}, \"shapedefaults\": {\"line\": {\"color\": \"#2a3f5f\"}}, \"ternary\": {\"aaxis\": {\"gridcolor\": \"white\", \"linecolor\": \"white\", \"ticks\": \"\"}, \"baxis\": {\"gridcolor\": \"white\", \"linecolor\": \"white\", \"ticks\": \"\"}, \"bgcolor\": \"#E5ECF6\", \"caxis\": {\"gridcolor\": \"white\", \"linecolor\": \"white\", \"ticks\": \"\"}}, \"title\": {\"x\": 0.05}, \"xaxis\": {\"automargin\": true, \"gridcolor\": \"white\", \"linecolor\": \"white\", \"ticks\": \"\", \"title\": {\"standoff\": 15}, \"zerolinecolor\": \"white\", \"zerolinewidth\": 2}, \"yaxis\": {\"automargin\": true, \"gridcolor\": \"white\", \"linecolor\": \"white\", \"ticks\": \"\", \"title\": {\"standoff\": 15}, \"zerolinecolor\": \"white\", \"zerolinewidth\": 2}}}, \"title\": {\"font\": {\"color\": \"#4D5663\"}}, \"xaxis\": {\"gridcolor\": \"#E1E5ED\", \"showgrid\": true, \"tickfont\": {\"color\": \"#4D5663\"}, \"title\": {\"font\": {\"color\": \"#4D5663\"}, \"text\": \"\"}, \"zerolinecolor\": \"#E1E5ED\"}, \"xaxis2\": {\"anchor\": \"y2\", \"gridcolor\": \"#E1E5ED\", \"showgrid\": true, \"showticklabels\": false, \"tickfont\": {\"color\": \"#4D5663\"}, \"title\": {\"font\": {\"color\": \"#4D5663\"}, \"text\": \"\"}, \"zerolinecolor\": \"#E1E5ED\"}, \"yaxis\": {\"domain\": [0.3, 1], \"gridcolor\": \"#E1E5ED\", \"showgrid\": true, \"tickfont\": {\"color\": \"#4D5663\"}, \"title\": {\"font\": {\"color\": \"#4D5663\"}, \"text\": \"\"}, \"zerolinecolor\": \"#E1E5ED\"}, \"yaxis2\": {\"domain\": [0, 0.25], \"gridcolor\": \"#E1E5ED\", \"showgrid\": true, \"tickfont\": {\"color\": \"#4D5663\"}, \"title\": {\"font\": {\"color\": \"#4D5663\"}, \"text\": \"Spread\"}, \"zerolinecolor\": \"#E1E5ED\"}},\n",
       "                        {\"showLink\": true, \"linkText\": \"Export to plot.ly\", \"plotlyServerURL\": \"https://plot.ly\", \"responsive\": true}\n",
       "                    ).then(function(){\n",
       "                            \n",
       "var gd = document.getElementById('d956ca1f-749f-44a3-ac04-b151e5089fac');\n",
       "var x = new MutationObserver(function (mutations, observer) {{\n",
       "        var display = window.getComputedStyle(gd).display;\n",
       "        if (!display || display === 'none') {{\n",
       "            console.log([gd, 'removed!']);\n",
       "            Plotly.purge(gd);\n",
       "            observer.disconnect();\n",
       "        }}\n",
       "}});\n",
       "\n",
       "// Listen for the removal of the full notebook cells\n",
       "var notebookContainer = gd.closest('#notebook-container');\n",
       "if (notebookContainer) {{\n",
       "    x.observe(notebookContainer, {childList: true});\n",
       "}}\n",
       "\n",
       "// Listen for the clearing of the current output cell\n",
       "var outputEl = gd.closest('.output');\n",
       "if (outputEl) {{\n",
       "    x.observe(outputEl, {childList: true});\n",
       "}}\n",
       "\n",
       "                        })\n",
       "                };\n",
       "                });\n",
       "            </script>\n",
       "        </div>"
      ]
     },
     "metadata": {},
     "output_type": "display_data"
    }
   ],
   "source": [
    "# Spread Plot\n",
    "df[['A', 'B']].iplot(kind='spread')"
   ]
  },
  {
   "cell_type": "code",
   "execution_count": 16,
   "metadata": {},
   "outputs": [
    {
     "data": {
      "application/vnd.plotly.v1+json": {
       "config": {
        "linkText": "Export to plot.ly",
        "plotlyServerURL": "https://plot.ly",
        "showLink": true
       },
       "data": [
        {
         "marker": {
          "color": [
           "rgb(255, 153, 51)",
           "rgb(55, 128, 191)",
           "rgb(50, 171, 96)",
           "rgb(128, 0, 128)",
           "rgb(219, 64, 82)",
           "rgb(0, 128, 128)",
           "rgb(255, 255, 51)",
           "rgb(128, 128, 0)",
           "rgb(251, 128, 114)",
           "rgb(128, 177, 211)"
          ],
          "line": {
           "width": 1.3
          },
          "size": [
           66,
           33,
           76,
           82,
           81,
           58,
           58,
           30,
           29,
           38,
           52,
           75,
           63,
           45,
           20,
           83,
           76,
           70,
           71,
           44,
           42,
           54,
           12,
           29,
           40,
           57,
           80,
           42,
           42,
           70,
           50,
           53,
           27,
           17,
           39,
           30,
           81,
           70,
           19,
           36,
           94,
           66,
           40,
           50,
           101,
           23,
           31,
           50,
           63,
           47,
           66,
           69,
           99,
           26,
           37,
           68,
           60,
           49,
           38,
           65,
           100,
           51,
           78,
           39,
           53,
           47,
           30,
           46,
           49,
           29,
           67,
           13,
           59,
           46,
           57,
           66,
           35,
           68,
           65,
           40,
           35,
           82,
           36,
           32,
           73,
           18,
           65,
           92,
           63,
           26,
           49,
           68,
           112,
           25,
           37,
           56,
           100,
           68,
           65,
           43
          ],
          "symbol": "circle"
         },
         "mode": "markers",
         "text": "",
         "type": "scatter",
         "x": [
          0.9533923532252154,
          0.7962578503151079,
          0.9446265933015333,
          -0.42864094189536345,
          -0.6905822967359128,
          0.545787353838866,
          -0.7495000133758046,
          -0.3762815578281219,
          0.3338145439069094,
          1.8164322972195024,
          -0.45792968633020076,
          0.37527095200432803,
          1.6257569004557955,
          -1.0553284569165717,
          -1.5696652241668305,
          -0.3228740712113491,
          0.1507472809239381,
          -0.5236479525340905,
          -1.4136103156819133,
          -0.25450762723785664,
          -0.3528814569744451,
          -0.5218846044634726,
          1.4625662999874716,
          -0.29412671346680097,
          1.0894037294964314,
          0.8454922650572088,
          1.1524461039633298,
          -0.3993380856970902,
          1.4481690182844273,
          0.5306664780946375,
          -0.3353654523770128,
          1.0164031310864774,
          0.5688651882963847,
          -0.7526355976340225,
          0.678666989205376,
          -0.676297494024862,
          -0.9994460323512003,
          -0.09574448606538073,
          -0.44460656961300205,
          -0.44951144023012246,
          -1.2048471417206936,
          0.7085546291673673,
          0.6547152374806319,
          -0.7423025231136463,
          -2.1840448982989344,
          -1.0761526288632624,
          -0.8821739194264769,
          0.16686387735840705,
          -1.6161118772902994,
          -2.20726383604153,
          1.0311954284225517,
          -0.242110444341512,
          -0.13962810666291445,
          0.5792425627063781,
          1.7064911400976197,
          1.0447748476017658,
          0.5514204827280627,
          -0.2762503662657573,
          0.7549544200480618,
          0.2775470665053151,
          -0.5982610550270542,
          -0.22943336333057485,
          -0.9634299159356345,
          0.9426435162691165,
          -2.78429824560043,
          -1.0727632114734371,
          -0.6725702929710772,
          -1.3972696238020141,
          -0.09263107503903131,
          -0.0852572909075391,
          1.6541989070099647,
          0.9381501595964749,
          1.0954607253099615,
          0.0963009934795626,
          -0.3485949014755212,
          -0.4694509996304064,
          0.24703932030270714,
          1.4068080908410796,
          -0.6683069699263524,
          1.0235858873351433,
          0.4496249563956825,
          0.39823683814607497,
          1.7915890976254676,
          -1.3276782228531736,
          0.9539407573453836,
          -0.11839409168110034,
          -0.4908515286224764,
          0.7214190615733209,
          -1.2964801667391652,
          0.8113597656016831,
          1.0927746445277344,
          0.15306711543042487,
          0.5150282622650163,
          -0.7743053253986879,
          -1.3428282038945936,
          -0.6916081901577839,
          -0.3848626572878707,
          -0.7531296637862062,
          -0.06521943121422427,
          -0.4175317297317254
         ],
         "y": [
          0.06947627645146132,
          -1.1607331144368884,
          -1.0497237200184943,
          -1.5019722344727746,
          -0.35258467341524236,
          -0.2613228779269877,
          -0.06139124485561016,
          -0.44360043268460614,
          0.5872810423296456,
          1.6453995448818386,
          -0.7900626782826925,
          0.18850992933071747,
          1.7249806781280306,
          1.7419381851834321,
          0.12978630101315522,
          -0.6184924891150716,
          1.3239594395322758,
          -0.8221817143634784,
          0.1729970616350675,
          -0.06451233675875263,
          1.806990957117825,
          -0.07398636085416085,
          0.8577491295231231,
          0.7950606607627105,
          -0.21130922179843403,
          -0.33469796249196276,
          1.4981538840123534,
          -0.37300060573819865,
          -0.6636143565365548,
          0.21665831066383276,
          -0.6704273842363159,
          -0.5419693348508918,
          0.4827874038183322,
          0.11512264384583679,
          -1.995149410421762,
          -0.24652486006627924,
          -2.0379604789618577,
          1.5251422775071708,
          -0.09475683944237748,
          -0.4152216032207558,
          1.0538852176943854,
          0.9601525791285485,
          0.5000010334891224,
          1.2485272427426186,
          0.8235984689487181,
          0.474745927388093,
          -1.4936499081932895,
          0.1426436720132142,
          0.37031345404667415,
          0.31292079605749484,
          0.05974849585601801,
          0.12891917352285698,
          0.6460500265917863,
          0.7892432827025327,
          -0.4842582356008212,
          0.7010336915602854,
          2.0534288048468974,
          -0.675806191857299,
          -0.5346894222900018,
          0.11199315394758796,
          -1.6037419859915685,
          1.4675262838719447,
          -0.7155811026629516,
          -0.5697123833533212,
          0.13424980737666348,
          0.5363928716736676,
          -0.664561078210953,
          -0.5909996720870854,
          -1.1243652440851621,
          2.4349656634141517,
          0.0850612426247251,
          -0.0372770038794375,
          -0.6028590721689905,
          0.9092158213811373,
          1.402430473603624,
          0.41745183831560073,
          -0.20313523445200599,
          1.0764350847389748,
          1.4423102931701026,
          1.218346375994514,
          0.3355120938252802,
          0.4733931746569244,
          -0.2393567851765012,
          1.9489466889539204,
          -0.5848238215674598,
          -1.6455253042673064,
          1.4180247584903094,
          -0.8569693533754201,
          1.0282726134368507,
          -0.515658480873396,
          0.06909637953208433,
          -1.1426104768023915,
          0.051162969647525966,
          -0.1644305552111428,
          0.01357270195562589,
          1.5799064467391917,
          0.1833104094552434,
          -2.323886990231017,
          -0.21440703575713888,
          -0.3262744037676085
         ]
        }
       ],
       "layout": {
        "legend": {
         "bgcolor": "#F5F6F9",
         "font": {
          "color": "#4D5663"
         }
        },
        "paper_bgcolor": "#F5F6F9",
        "plot_bgcolor": "#F5F6F9",
        "template": {
         "data": {
          "bar": [
           {
            "error_x": {
             "color": "#2a3f5f"
            },
            "error_y": {
             "color": "#2a3f5f"
            },
            "marker": {
             "line": {
              "color": "#E5ECF6",
              "width": 0.5
             }
            },
            "type": "bar"
           }
          ],
          "barpolar": [
           {
            "marker": {
             "line": {
              "color": "#E5ECF6",
              "width": 0.5
             }
            },
            "type": "barpolar"
           }
          ],
          "carpet": [
           {
            "aaxis": {
             "endlinecolor": "#2a3f5f",
             "gridcolor": "white",
             "linecolor": "white",
             "minorgridcolor": "white",
             "startlinecolor": "#2a3f5f"
            },
            "baxis": {
             "endlinecolor": "#2a3f5f",
             "gridcolor": "white",
             "linecolor": "white",
             "minorgridcolor": "white",
             "startlinecolor": "#2a3f5f"
            },
            "type": "carpet"
           }
          ],
          "choropleth": [
           {
            "colorbar": {
             "outlinewidth": 0,
             "ticks": ""
            },
            "type": "choropleth"
           }
          ],
          "contour": [
           {
            "colorbar": {
             "outlinewidth": 0,
             "ticks": ""
            },
            "colorscale": [
             [
              0,
              "#0d0887"
             ],
             [
              0.1111111111111111,
              "#46039f"
             ],
             [
              0.2222222222222222,
              "#7201a8"
             ],
             [
              0.3333333333333333,
              "#9c179e"
             ],
             [
              0.4444444444444444,
              "#bd3786"
             ],
             [
              0.5555555555555556,
              "#d8576b"
             ],
             [
              0.6666666666666666,
              "#ed7953"
             ],
             [
              0.7777777777777778,
              "#fb9f3a"
             ],
             [
              0.8888888888888888,
              "#fdca26"
             ],
             [
              1,
              "#f0f921"
             ]
            ],
            "type": "contour"
           }
          ],
          "contourcarpet": [
           {
            "colorbar": {
             "outlinewidth": 0,
             "ticks": ""
            },
            "type": "contourcarpet"
           }
          ],
          "heatmap": [
           {
            "colorbar": {
             "outlinewidth": 0,
             "ticks": ""
            },
            "colorscale": [
             [
              0,
              "#0d0887"
             ],
             [
              0.1111111111111111,
              "#46039f"
             ],
             [
              0.2222222222222222,
              "#7201a8"
             ],
             [
              0.3333333333333333,
              "#9c179e"
             ],
             [
              0.4444444444444444,
              "#bd3786"
             ],
             [
              0.5555555555555556,
              "#d8576b"
             ],
             [
              0.6666666666666666,
              "#ed7953"
             ],
             [
              0.7777777777777778,
              "#fb9f3a"
             ],
             [
              0.8888888888888888,
              "#fdca26"
             ],
             [
              1,
              "#f0f921"
             ]
            ],
            "type": "heatmap"
           }
          ],
          "heatmapgl": [
           {
            "colorbar": {
             "outlinewidth": 0,
             "ticks": ""
            },
            "colorscale": [
             [
              0,
              "#0d0887"
             ],
             [
              0.1111111111111111,
              "#46039f"
             ],
             [
              0.2222222222222222,
              "#7201a8"
             ],
             [
              0.3333333333333333,
              "#9c179e"
             ],
             [
              0.4444444444444444,
              "#bd3786"
             ],
             [
              0.5555555555555556,
              "#d8576b"
             ],
             [
              0.6666666666666666,
              "#ed7953"
             ],
             [
              0.7777777777777778,
              "#fb9f3a"
             ],
             [
              0.8888888888888888,
              "#fdca26"
             ],
             [
              1,
              "#f0f921"
             ]
            ],
            "type": "heatmapgl"
           }
          ],
          "histogram": [
           {
            "marker": {
             "colorbar": {
              "outlinewidth": 0,
              "ticks": ""
             }
            },
            "type": "histogram"
           }
          ],
          "histogram2d": [
           {
            "colorbar": {
             "outlinewidth": 0,
             "ticks": ""
            },
            "colorscale": [
             [
              0,
              "#0d0887"
             ],
             [
              0.1111111111111111,
              "#46039f"
             ],
             [
              0.2222222222222222,
              "#7201a8"
             ],
             [
              0.3333333333333333,
              "#9c179e"
             ],
             [
              0.4444444444444444,
              "#bd3786"
             ],
             [
              0.5555555555555556,
              "#d8576b"
             ],
             [
              0.6666666666666666,
              "#ed7953"
             ],
             [
              0.7777777777777778,
              "#fb9f3a"
             ],
             [
              0.8888888888888888,
              "#fdca26"
             ],
             [
              1,
              "#f0f921"
             ]
            ],
            "type": "histogram2d"
           }
          ],
          "histogram2dcontour": [
           {
            "colorbar": {
             "outlinewidth": 0,
             "ticks": ""
            },
            "colorscale": [
             [
              0,
              "#0d0887"
             ],
             [
              0.1111111111111111,
              "#46039f"
             ],
             [
              0.2222222222222222,
              "#7201a8"
             ],
             [
              0.3333333333333333,
              "#9c179e"
             ],
             [
              0.4444444444444444,
              "#bd3786"
             ],
             [
              0.5555555555555556,
              "#d8576b"
             ],
             [
              0.6666666666666666,
              "#ed7953"
             ],
             [
              0.7777777777777778,
              "#fb9f3a"
             ],
             [
              0.8888888888888888,
              "#fdca26"
             ],
             [
              1,
              "#f0f921"
             ]
            ],
            "type": "histogram2dcontour"
           }
          ],
          "mesh3d": [
           {
            "colorbar": {
             "outlinewidth": 0,
             "ticks": ""
            },
            "type": "mesh3d"
           }
          ],
          "parcoords": [
           {
            "line": {
             "colorbar": {
              "outlinewidth": 0,
              "ticks": ""
             }
            },
            "type": "parcoords"
           }
          ],
          "pie": [
           {
            "automargin": true,
            "type": "pie"
           }
          ],
          "scatter": [
           {
            "marker": {
             "colorbar": {
              "outlinewidth": 0,
              "ticks": ""
             }
            },
            "type": "scatter"
           }
          ],
          "scatter3d": [
           {
            "line": {
             "colorbar": {
              "outlinewidth": 0,
              "ticks": ""
             }
            },
            "marker": {
             "colorbar": {
              "outlinewidth": 0,
              "ticks": ""
             }
            },
            "type": "scatter3d"
           }
          ],
          "scattercarpet": [
           {
            "marker": {
             "colorbar": {
              "outlinewidth": 0,
              "ticks": ""
             }
            },
            "type": "scattercarpet"
           }
          ],
          "scattergeo": [
           {
            "marker": {
             "colorbar": {
              "outlinewidth": 0,
              "ticks": ""
             }
            },
            "type": "scattergeo"
           }
          ],
          "scattergl": [
           {
            "marker": {
             "colorbar": {
              "outlinewidth": 0,
              "ticks": ""
             }
            },
            "type": "scattergl"
           }
          ],
          "scattermapbox": [
           {
            "marker": {
             "colorbar": {
              "outlinewidth": 0,
              "ticks": ""
             }
            },
            "type": "scattermapbox"
           }
          ],
          "scatterpolar": [
           {
            "marker": {
             "colorbar": {
              "outlinewidth": 0,
              "ticks": ""
             }
            },
            "type": "scatterpolar"
           }
          ],
          "scatterpolargl": [
           {
            "marker": {
             "colorbar": {
              "outlinewidth": 0,
              "ticks": ""
             }
            },
            "type": "scatterpolargl"
           }
          ],
          "scatterternary": [
           {
            "marker": {
             "colorbar": {
              "outlinewidth": 0,
              "ticks": ""
             }
            },
            "type": "scatterternary"
           }
          ],
          "surface": [
           {
            "colorbar": {
             "outlinewidth": 0,
             "ticks": ""
            },
            "colorscale": [
             [
              0,
              "#0d0887"
             ],
             [
              0.1111111111111111,
              "#46039f"
             ],
             [
              0.2222222222222222,
              "#7201a8"
             ],
             [
              0.3333333333333333,
              "#9c179e"
             ],
             [
              0.4444444444444444,
              "#bd3786"
             ],
             [
              0.5555555555555556,
              "#d8576b"
             ],
             [
              0.6666666666666666,
              "#ed7953"
             ],
             [
              0.7777777777777778,
              "#fb9f3a"
             ],
             [
              0.8888888888888888,
              "#fdca26"
             ],
             [
              1,
              "#f0f921"
             ]
            ],
            "type": "surface"
           }
          ],
          "table": [
           {
            "cells": {
             "fill": {
              "color": "#EBF0F8"
             },
             "line": {
              "color": "white"
             }
            },
            "header": {
             "fill": {
              "color": "#C8D4E3"
             },
             "line": {
              "color": "white"
             }
            },
            "type": "table"
           }
          ]
         },
         "layout": {
          "annotationdefaults": {
           "arrowcolor": "#2a3f5f",
           "arrowhead": 0,
           "arrowwidth": 1
          },
          "coloraxis": {
           "colorbar": {
            "outlinewidth": 0,
            "ticks": ""
           }
          },
          "colorscale": {
           "diverging": [
            [
             0,
             "#8e0152"
            ],
            [
             0.1,
             "#c51b7d"
            ],
            [
             0.2,
             "#de77ae"
            ],
            [
             0.3,
             "#f1b6da"
            ],
            [
             0.4,
             "#fde0ef"
            ],
            [
             0.5,
             "#f7f7f7"
            ],
            [
             0.6,
             "#e6f5d0"
            ],
            [
             0.7,
             "#b8e186"
            ],
            [
             0.8,
             "#7fbc41"
            ],
            [
             0.9,
             "#4d9221"
            ],
            [
             1,
             "#276419"
            ]
           ],
           "sequential": [
            [
             0,
             "#0d0887"
            ],
            [
             0.1111111111111111,
             "#46039f"
            ],
            [
             0.2222222222222222,
             "#7201a8"
            ],
            [
             0.3333333333333333,
             "#9c179e"
            ],
            [
             0.4444444444444444,
             "#bd3786"
            ],
            [
             0.5555555555555556,
             "#d8576b"
            ],
            [
             0.6666666666666666,
             "#ed7953"
            ],
            [
             0.7777777777777778,
             "#fb9f3a"
            ],
            [
             0.8888888888888888,
             "#fdca26"
            ],
            [
             1,
             "#f0f921"
            ]
           ],
           "sequentialminus": [
            [
             0,
             "#0d0887"
            ],
            [
             0.1111111111111111,
             "#46039f"
            ],
            [
             0.2222222222222222,
             "#7201a8"
            ],
            [
             0.3333333333333333,
             "#9c179e"
            ],
            [
             0.4444444444444444,
             "#bd3786"
            ],
            [
             0.5555555555555556,
             "#d8576b"
            ],
            [
             0.6666666666666666,
             "#ed7953"
            ],
            [
             0.7777777777777778,
             "#fb9f3a"
            ],
            [
             0.8888888888888888,
             "#fdca26"
            ],
            [
             1,
             "#f0f921"
            ]
           ]
          },
          "colorway": [
           "#636efa",
           "#EF553B",
           "#00cc96",
           "#ab63fa",
           "#FFA15A",
           "#19d3f3",
           "#FF6692",
           "#B6E880",
           "#FF97FF",
           "#FECB52"
          ],
          "font": {
           "color": "#2a3f5f"
          },
          "geo": {
           "bgcolor": "white",
           "lakecolor": "white",
           "landcolor": "#E5ECF6",
           "showlakes": true,
           "showland": true,
           "subunitcolor": "white"
          },
          "hoverlabel": {
           "align": "left"
          },
          "hovermode": "closest",
          "mapbox": {
           "style": "light"
          },
          "paper_bgcolor": "white",
          "plot_bgcolor": "#E5ECF6",
          "polar": {
           "angularaxis": {
            "gridcolor": "white",
            "linecolor": "white",
            "ticks": ""
           },
           "bgcolor": "#E5ECF6",
           "radialaxis": {
            "gridcolor": "white",
            "linecolor": "white",
            "ticks": ""
           }
          },
          "scene": {
           "xaxis": {
            "backgroundcolor": "#E5ECF6",
            "gridcolor": "white",
            "gridwidth": 2,
            "linecolor": "white",
            "showbackground": true,
            "ticks": "",
            "zerolinecolor": "white"
           },
           "yaxis": {
            "backgroundcolor": "#E5ECF6",
            "gridcolor": "white",
            "gridwidth": 2,
            "linecolor": "white",
            "showbackground": true,
            "ticks": "",
            "zerolinecolor": "white"
           },
           "zaxis": {
            "backgroundcolor": "#E5ECF6",
            "gridcolor": "white",
            "gridwidth": 2,
            "linecolor": "white",
            "showbackground": true,
            "ticks": "",
            "zerolinecolor": "white"
           }
          },
          "shapedefaults": {
           "line": {
            "color": "#2a3f5f"
           }
          },
          "ternary": {
           "aaxis": {
            "gridcolor": "white",
            "linecolor": "white",
            "ticks": ""
           },
           "baxis": {
            "gridcolor": "white",
            "linecolor": "white",
            "ticks": ""
           },
           "bgcolor": "#E5ECF6",
           "caxis": {
            "gridcolor": "white",
            "linecolor": "white",
            "ticks": ""
           }
          },
          "title": {
           "x": 0.05
          },
          "xaxis": {
           "automargin": true,
           "gridcolor": "white",
           "linecolor": "white",
           "ticks": "",
           "title": {
            "standoff": 15
           },
           "zerolinecolor": "white",
           "zerolinewidth": 2
          },
          "yaxis": {
           "automargin": true,
           "gridcolor": "white",
           "linecolor": "white",
           "ticks": "",
           "title": {
            "standoff": 15
           },
           "zerolinecolor": "white",
           "zerolinewidth": 2
          }
         }
        },
        "title": {
         "font": {
          "color": "#4D5663"
         }
        },
        "xaxis": {
         "gridcolor": "#E1E5ED",
         "showgrid": true,
         "tickfont": {
          "color": "#4D5663"
         },
         "title": {
          "font": {
           "color": "#4D5663"
          },
          "text": ""
         },
         "zerolinecolor": "#E1E5ED"
        },
        "yaxis": {
         "gridcolor": "#E1E5ED",
         "showgrid": true,
         "tickfont": {
          "color": "#4D5663"
         },
         "title": {
          "font": {
           "color": "#4D5663"
          },
          "text": ""
         },
         "zerolinecolor": "#E1E5ED"
        }
       }
      },
      "text/html": [
       "<div>\n",
       "        \n",
       "        \n",
       "            <div id=\"30524b0c-dbfe-4da3-9f46-d109950c93a1\" class=\"plotly-graph-div\" style=\"height:525px; width:100%;\"></div>\n",
       "            <script type=\"text/javascript\">\n",
       "                require([\"plotly\"], function(Plotly) {\n",
       "                    window.PLOTLYENV=window.PLOTLYENV || {};\n",
       "                    window.PLOTLYENV.BASE_URL='https://plot.ly';\n",
       "                    \n",
       "                if (document.getElementById(\"30524b0c-dbfe-4da3-9f46-d109950c93a1\")) {\n",
       "                    Plotly.newPlot(\n",
       "                        '30524b0c-dbfe-4da3-9f46-d109950c93a1',\n",
       "                        [{\"marker\": {\"color\": [\"rgb(255, 153, 51)\", \"rgb(55, 128, 191)\", \"rgb(50, 171, 96)\", \"rgb(128, 0, 128)\", \"rgb(219, 64, 82)\", \"rgb(0, 128, 128)\", \"rgb(255, 255, 51)\", \"rgb(128, 128, 0)\", \"rgb(251, 128, 114)\", \"rgb(128, 177, 211)\"], \"line\": {\"width\": 1.3}, \"size\": [66, 33, 76, 82, 81, 58, 58, 30, 29, 38, 52, 75, 63, 45, 20, 83, 76, 70, 71, 44, 42, 54, 12, 29, 40, 57, 80, 42, 42, 70, 50, 53, 27, 17, 39, 30, 81, 70, 19, 36, 94, 66, 40, 50, 101, 23, 31, 50, 63, 47, 66, 69, 99, 26, 37, 68, 60, 49, 38, 65, 100, 51, 78, 39, 53, 47, 30, 46, 49, 29, 67, 13, 59, 46, 57, 66, 35, 68, 65, 40, 35, 82, 36, 32, 73, 18, 65, 92, 63, 26, 49, 68, 112, 25, 37, 56, 100, 68, 65, 43], \"symbol\": \"circle\"}, \"mode\": \"markers\", \"text\": \"\", \"type\": \"scatter\", \"x\": [0.9533923532252154, 0.7962578503151079, 0.9446265933015333, -0.42864094189536345, -0.6905822967359128, 0.545787353838866, -0.7495000133758046, -0.3762815578281219, 0.3338145439069094, 1.8164322972195024, -0.45792968633020076, 0.37527095200432803, 1.6257569004557955, -1.0553284569165717, -1.5696652241668305, -0.3228740712113491, 0.1507472809239381, -0.5236479525340905, -1.4136103156819133, -0.25450762723785664, -0.3528814569744451, -0.5218846044634726, 1.4625662999874716, -0.29412671346680097, 1.0894037294964314, 0.8454922650572088, 1.1524461039633298, -0.3993380856970902, 1.4481690182844273, 0.5306664780946375, -0.3353654523770128, 1.0164031310864774, 0.5688651882963847, -0.7526355976340225, 0.678666989205376, -0.676297494024862, -0.9994460323512003, -0.09574448606538073, -0.44460656961300205, -0.44951144023012246, -1.2048471417206936, 0.7085546291673673, 0.6547152374806319, -0.7423025231136463, -2.1840448982989344, -1.0761526288632624, -0.8821739194264769, 0.16686387735840705, -1.6161118772902994, -2.20726383604153, 1.0311954284225517, -0.242110444341512, -0.13962810666291445, 0.5792425627063781, 1.7064911400976197, 1.0447748476017658, 0.5514204827280627, -0.2762503662657573, 0.7549544200480618, 0.2775470665053151, -0.5982610550270542, -0.22943336333057485, -0.9634299159356345, 0.9426435162691165, -2.78429824560043, -1.0727632114734371, -0.6725702929710772, -1.3972696238020141, -0.09263107503903131, -0.0852572909075391, 1.6541989070099647, 0.9381501595964749, 1.0954607253099615, 0.0963009934795626, -0.3485949014755212, -0.4694509996304064, 0.24703932030270714, 1.4068080908410796, -0.6683069699263524, 1.0235858873351433, 0.4496249563956825, 0.39823683814607497, 1.7915890976254676, -1.3276782228531736, 0.9539407573453836, -0.11839409168110034, -0.4908515286224764, 0.7214190615733209, -1.2964801667391652, 0.8113597656016831, 1.0927746445277344, 0.15306711543042487, 0.5150282622650163, -0.7743053253986879, -1.3428282038945936, -0.6916081901577839, -0.3848626572878707, -0.7531296637862062, -0.06521943121422427, -0.4175317297317254], \"y\": [0.06947627645146132, -1.1607331144368884, -1.0497237200184943, -1.5019722344727746, -0.35258467341524236, -0.2613228779269877, -0.06139124485561016, -0.44360043268460614, 0.5872810423296456, 1.6453995448818386, -0.7900626782826925, 0.18850992933071747, 1.7249806781280306, 1.7419381851834321, 0.12978630101315522, -0.6184924891150716, 1.3239594395322758, -0.8221817143634784, 0.1729970616350675, -0.06451233675875263, 1.806990957117825, -0.07398636085416085, 0.8577491295231231, 0.7950606607627105, -0.21130922179843403, -0.33469796249196276, 1.4981538840123534, -0.37300060573819865, -0.6636143565365548, 0.21665831066383276, -0.6704273842363159, -0.5419693348508918, 0.4827874038183322, 0.11512264384583679, -1.995149410421762, -0.24652486006627924, -2.0379604789618577, 1.5251422775071708, -0.09475683944237748, -0.4152216032207558, 1.0538852176943854, 0.9601525791285485, 0.5000010334891224, 1.2485272427426186, 0.8235984689487181, 0.474745927388093, -1.4936499081932895, 0.1426436720132142, 0.37031345404667415, 0.31292079605749484, 0.05974849585601801, 0.12891917352285698, 0.6460500265917863, 0.7892432827025327, -0.4842582356008212, 0.7010336915602854, 2.0534288048468974, -0.675806191857299, -0.5346894222900018, 0.11199315394758796, -1.6037419859915685, 1.4675262838719447, -0.7155811026629516, -0.5697123833533212, 0.13424980737666348, 0.5363928716736676, -0.664561078210953, -0.5909996720870854, -1.1243652440851621, 2.4349656634141517, 0.0850612426247251, -0.0372770038794375, -0.6028590721689905, 0.9092158213811373, 1.402430473603624, 0.41745183831560073, -0.20313523445200599, 1.0764350847389748, 1.4423102931701026, 1.218346375994514, 0.3355120938252802, 0.4733931746569244, -0.2393567851765012, 1.9489466889539204, -0.5848238215674598, -1.6455253042673064, 1.4180247584903094, -0.8569693533754201, 1.0282726134368507, -0.515658480873396, 0.06909637953208433, -1.1426104768023915, 0.051162969647525966, -0.1644305552111428, 0.01357270195562589, 1.5799064467391917, 0.1833104094552434, -2.323886990231017, -0.21440703575713888, -0.3262744037676085]}],\n",
       "                        {\"legend\": {\"bgcolor\": \"#F5F6F9\", \"font\": {\"color\": \"#4D5663\"}}, \"paper_bgcolor\": \"#F5F6F9\", \"plot_bgcolor\": \"#F5F6F9\", \"template\": {\"data\": {\"bar\": [{\"error_x\": {\"color\": \"#2a3f5f\"}, \"error_y\": {\"color\": \"#2a3f5f\"}, \"marker\": {\"line\": {\"color\": \"#E5ECF6\", \"width\": 0.5}}, \"type\": \"bar\"}], \"barpolar\": [{\"marker\": {\"line\": {\"color\": \"#E5ECF6\", \"width\": 0.5}}, \"type\": \"barpolar\"}], \"carpet\": [{\"aaxis\": {\"endlinecolor\": \"#2a3f5f\", \"gridcolor\": \"white\", \"linecolor\": \"white\", \"minorgridcolor\": \"white\", \"startlinecolor\": \"#2a3f5f\"}, \"baxis\": {\"endlinecolor\": \"#2a3f5f\", \"gridcolor\": \"white\", \"linecolor\": \"white\", \"minorgridcolor\": \"white\", \"startlinecolor\": \"#2a3f5f\"}, \"type\": \"carpet\"}], \"choropleth\": [{\"colorbar\": {\"outlinewidth\": 0, \"ticks\": \"\"}, \"type\": \"choropleth\"}], \"contour\": [{\"colorbar\": {\"outlinewidth\": 0, \"ticks\": \"\"}, \"colorscale\": [[0.0, \"#0d0887\"], [0.1111111111111111, \"#46039f\"], [0.2222222222222222, \"#7201a8\"], [0.3333333333333333, \"#9c179e\"], [0.4444444444444444, \"#bd3786\"], [0.5555555555555556, \"#d8576b\"], [0.6666666666666666, \"#ed7953\"], [0.7777777777777778, \"#fb9f3a\"], [0.8888888888888888, \"#fdca26\"], [1.0, \"#f0f921\"]], \"type\": \"contour\"}], \"contourcarpet\": [{\"colorbar\": {\"outlinewidth\": 0, \"ticks\": \"\"}, \"type\": \"contourcarpet\"}], \"heatmap\": [{\"colorbar\": {\"outlinewidth\": 0, \"ticks\": \"\"}, \"colorscale\": [[0.0, \"#0d0887\"], [0.1111111111111111, \"#46039f\"], [0.2222222222222222, \"#7201a8\"], [0.3333333333333333, \"#9c179e\"], [0.4444444444444444, \"#bd3786\"], [0.5555555555555556, \"#d8576b\"], [0.6666666666666666, \"#ed7953\"], [0.7777777777777778, \"#fb9f3a\"], [0.8888888888888888, \"#fdca26\"], [1.0, \"#f0f921\"]], \"type\": \"heatmap\"}], \"heatmapgl\": [{\"colorbar\": {\"outlinewidth\": 0, \"ticks\": \"\"}, \"colorscale\": [[0.0, \"#0d0887\"], [0.1111111111111111, \"#46039f\"], [0.2222222222222222, \"#7201a8\"], [0.3333333333333333, \"#9c179e\"], [0.4444444444444444, \"#bd3786\"], [0.5555555555555556, \"#d8576b\"], [0.6666666666666666, \"#ed7953\"], [0.7777777777777778, \"#fb9f3a\"], [0.8888888888888888, \"#fdca26\"], [1.0, \"#f0f921\"]], \"type\": \"heatmapgl\"}], \"histogram\": [{\"marker\": {\"colorbar\": {\"outlinewidth\": 0, \"ticks\": \"\"}}, \"type\": \"histogram\"}], \"histogram2d\": [{\"colorbar\": {\"outlinewidth\": 0, \"ticks\": \"\"}, \"colorscale\": [[0.0, \"#0d0887\"], [0.1111111111111111, \"#46039f\"], [0.2222222222222222, \"#7201a8\"], [0.3333333333333333, \"#9c179e\"], [0.4444444444444444, \"#bd3786\"], [0.5555555555555556, \"#d8576b\"], [0.6666666666666666, \"#ed7953\"], [0.7777777777777778, \"#fb9f3a\"], [0.8888888888888888, \"#fdca26\"], [1.0, \"#f0f921\"]], \"type\": \"histogram2d\"}], \"histogram2dcontour\": [{\"colorbar\": {\"outlinewidth\": 0, \"ticks\": \"\"}, \"colorscale\": [[0.0, \"#0d0887\"], [0.1111111111111111, \"#46039f\"], [0.2222222222222222, \"#7201a8\"], [0.3333333333333333, \"#9c179e\"], [0.4444444444444444, \"#bd3786\"], [0.5555555555555556, \"#d8576b\"], [0.6666666666666666, \"#ed7953\"], [0.7777777777777778, \"#fb9f3a\"], [0.8888888888888888, \"#fdca26\"], [1.0, \"#f0f921\"]], \"type\": \"histogram2dcontour\"}], \"mesh3d\": [{\"colorbar\": {\"outlinewidth\": 0, \"ticks\": \"\"}, \"type\": \"mesh3d\"}], \"parcoords\": [{\"line\": {\"colorbar\": {\"outlinewidth\": 0, \"ticks\": \"\"}}, \"type\": \"parcoords\"}], \"pie\": [{\"automargin\": true, \"type\": \"pie\"}], \"scatter\": [{\"marker\": {\"colorbar\": {\"outlinewidth\": 0, \"ticks\": \"\"}}, \"type\": \"scatter\"}], \"scatter3d\": [{\"line\": {\"colorbar\": {\"outlinewidth\": 0, \"ticks\": \"\"}}, \"marker\": {\"colorbar\": {\"outlinewidth\": 0, \"ticks\": \"\"}}, \"type\": \"scatter3d\"}], \"scattercarpet\": [{\"marker\": {\"colorbar\": {\"outlinewidth\": 0, \"ticks\": \"\"}}, \"type\": \"scattercarpet\"}], \"scattergeo\": [{\"marker\": {\"colorbar\": {\"outlinewidth\": 0, \"ticks\": \"\"}}, \"type\": \"scattergeo\"}], \"scattergl\": [{\"marker\": {\"colorbar\": {\"outlinewidth\": 0, \"ticks\": \"\"}}, \"type\": \"scattergl\"}], \"scattermapbox\": [{\"marker\": {\"colorbar\": {\"outlinewidth\": 0, \"ticks\": \"\"}}, \"type\": \"scattermapbox\"}], \"scatterpolar\": [{\"marker\": {\"colorbar\": {\"outlinewidth\": 0, \"ticks\": \"\"}}, \"type\": \"scatterpolar\"}], \"scatterpolargl\": [{\"marker\": {\"colorbar\": {\"outlinewidth\": 0, \"ticks\": \"\"}}, \"type\": \"scatterpolargl\"}], \"scatterternary\": [{\"marker\": {\"colorbar\": {\"outlinewidth\": 0, \"ticks\": \"\"}}, \"type\": \"scatterternary\"}], \"surface\": [{\"colorbar\": {\"outlinewidth\": 0, \"ticks\": \"\"}, \"colorscale\": [[0.0, \"#0d0887\"], [0.1111111111111111, \"#46039f\"], [0.2222222222222222, \"#7201a8\"], [0.3333333333333333, \"#9c179e\"], [0.4444444444444444, \"#bd3786\"], [0.5555555555555556, \"#d8576b\"], [0.6666666666666666, \"#ed7953\"], [0.7777777777777778, \"#fb9f3a\"], [0.8888888888888888, \"#fdca26\"], [1.0, \"#f0f921\"]], \"type\": \"surface\"}], \"table\": [{\"cells\": {\"fill\": {\"color\": \"#EBF0F8\"}, \"line\": {\"color\": \"white\"}}, \"header\": {\"fill\": {\"color\": \"#C8D4E3\"}, \"line\": {\"color\": \"white\"}}, \"type\": \"table\"}]}, \"layout\": {\"annotationdefaults\": {\"arrowcolor\": \"#2a3f5f\", \"arrowhead\": 0, \"arrowwidth\": 1}, \"coloraxis\": {\"colorbar\": {\"outlinewidth\": 0, \"ticks\": \"\"}}, \"colorscale\": {\"diverging\": [[0, \"#8e0152\"], [0.1, \"#c51b7d\"], [0.2, \"#de77ae\"], [0.3, \"#f1b6da\"], [0.4, \"#fde0ef\"], [0.5, \"#f7f7f7\"], [0.6, \"#e6f5d0\"], [0.7, \"#b8e186\"], [0.8, \"#7fbc41\"], [0.9, \"#4d9221\"], [1, \"#276419\"]], \"sequential\": [[0.0, \"#0d0887\"], [0.1111111111111111, \"#46039f\"], [0.2222222222222222, \"#7201a8\"], [0.3333333333333333, \"#9c179e\"], [0.4444444444444444, \"#bd3786\"], [0.5555555555555556, \"#d8576b\"], [0.6666666666666666, \"#ed7953\"], [0.7777777777777778, \"#fb9f3a\"], [0.8888888888888888, \"#fdca26\"], [1.0, \"#f0f921\"]], \"sequentialminus\": [[0.0, \"#0d0887\"], [0.1111111111111111, \"#46039f\"], [0.2222222222222222, \"#7201a8\"], [0.3333333333333333, \"#9c179e\"], [0.4444444444444444, \"#bd3786\"], [0.5555555555555556, \"#d8576b\"], [0.6666666666666666, \"#ed7953\"], [0.7777777777777778, \"#fb9f3a\"], [0.8888888888888888, \"#fdca26\"], [1.0, \"#f0f921\"]]}, \"colorway\": [\"#636efa\", \"#EF553B\", \"#00cc96\", \"#ab63fa\", \"#FFA15A\", \"#19d3f3\", \"#FF6692\", \"#B6E880\", \"#FF97FF\", \"#FECB52\"], \"font\": {\"color\": \"#2a3f5f\"}, \"geo\": {\"bgcolor\": \"white\", \"lakecolor\": \"white\", \"landcolor\": \"#E5ECF6\", \"showlakes\": true, \"showland\": true, \"subunitcolor\": \"white\"}, \"hoverlabel\": {\"align\": \"left\"}, \"hovermode\": \"closest\", \"mapbox\": {\"style\": \"light\"}, \"paper_bgcolor\": \"white\", \"plot_bgcolor\": \"#E5ECF6\", \"polar\": {\"angularaxis\": {\"gridcolor\": \"white\", \"linecolor\": \"white\", \"ticks\": \"\"}, \"bgcolor\": \"#E5ECF6\", \"radialaxis\": {\"gridcolor\": \"white\", \"linecolor\": \"white\", \"ticks\": \"\"}}, \"scene\": {\"xaxis\": {\"backgroundcolor\": \"#E5ECF6\", \"gridcolor\": \"white\", \"gridwidth\": 2, \"linecolor\": \"white\", \"showbackground\": true, \"ticks\": \"\", \"zerolinecolor\": \"white\"}, \"yaxis\": {\"backgroundcolor\": \"#E5ECF6\", \"gridcolor\": \"white\", \"gridwidth\": 2, \"linecolor\": \"white\", \"showbackground\": true, \"ticks\": \"\", \"zerolinecolor\": \"white\"}, \"zaxis\": {\"backgroundcolor\": \"#E5ECF6\", \"gridcolor\": \"white\", \"gridwidth\": 2, \"linecolor\": \"white\", \"showbackground\": true, \"ticks\": \"\", \"zerolinecolor\": \"white\"}}, \"shapedefaults\": {\"line\": {\"color\": \"#2a3f5f\"}}, \"ternary\": {\"aaxis\": {\"gridcolor\": \"white\", \"linecolor\": \"white\", \"ticks\": \"\"}, \"baxis\": {\"gridcolor\": \"white\", \"linecolor\": \"white\", \"ticks\": \"\"}, \"bgcolor\": \"#E5ECF6\", \"caxis\": {\"gridcolor\": \"white\", \"linecolor\": \"white\", \"ticks\": \"\"}}, \"title\": {\"x\": 0.05}, \"xaxis\": {\"automargin\": true, \"gridcolor\": \"white\", \"linecolor\": \"white\", \"ticks\": \"\", \"title\": {\"standoff\": 15}, \"zerolinecolor\": \"white\", \"zerolinewidth\": 2}, \"yaxis\": {\"automargin\": true, \"gridcolor\": \"white\", \"linecolor\": \"white\", \"ticks\": \"\", \"title\": {\"standoff\": 15}, \"zerolinecolor\": \"white\", \"zerolinewidth\": 2}}}, \"title\": {\"font\": {\"color\": \"#4D5663\"}}, \"xaxis\": {\"gridcolor\": \"#E1E5ED\", \"showgrid\": true, \"tickfont\": {\"color\": \"#4D5663\"}, \"title\": {\"font\": {\"color\": \"#4D5663\"}, \"text\": \"\"}, \"zerolinecolor\": \"#E1E5ED\"}, \"yaxis\": {\"gridcolor\": \"#E1E5ED\", \"showgrid\": true, \"tickfont\": {\"color\": \"#4D5663\"}, \"title\": {\"font\": {\"color\": \"#4D5663\"}, \"text\": \"\"}, \"zerolinecolor\": \"#E1E5ED\"}},\n",
       "                        {\"showLink\": true, \"linkText\": \"Export to plot.ly\", \"plotlyServerURL\": \"https://plot.ly\", \"responsive\": true}\n",
       "                    ).then(function(){\n",
       "                            \n",
       "var gd = document.getElementById('30524b0c-dbfe-4da3-9f46-d109950c93a1');\n",
       "var x = new MutationObserver(function (mutations, observer) {{\n",
       "        var display = window.getComputedStyle(gd).display;\n",
       "        if (!display || display === 'none') {{\n",
       "            console.log([gd, 'removed!']);\n",
       "            Plotly.purge(gd);\n",
       "            observer.disconnect();\n",
       "        }}\n",
       "}});\n",
       "\n",
       "// Listen for the removal of the full notebook cells\n",
       "var notebookContainer = gd.closest('#notebook-container');\n",
       "if (notebookContainer) {{\n",
       "    x.observe(notebookContainer, {childList: true});\n",
       "}}\n",
       "\n",
       "// Listen for the clearing of the current output cell\n",
       "var outputEl = gd.closest('.output');\n",
       "if (outputEl) {{\n",
       "    x.observe(outputEl, {childList: true});\n",
       "}}\n",
       "\n",
       "                        })\n",
       "                };\n",
       "                });\n",
       "            </script>\n",
       "        </div>"
      ]
     },
     "metadata": {},
     "output_type": "display_data"
    }
   ],
   "source": [
    "# Bubble plot\n",
    "df.iplot(kind='bubble', x='A', y='B', size='C') # in this bubble plot the size is based on the values of column 'C'"
   ]
  },
  {
   "cell_type": "code",
   "execution_count": 17,
   "metadata": {},
   "outputs": [
    {
     "data": {
      "application/vnd.plotly.v1+json": {
       "config": {
        "linkText": "Export to plot.ly",
        "plotlyServerURL": "https://plot.ly",
        "showLink": true
       },
       "data": [
        {
         "histfunc": "count",
         "histnorm": "",
         "marker": {
          "color": "rgba(255, 153, 51, 1.0)",
          "line": {
           "color": "#4D5663",
           "width": 1.3
          }
         },
         "name": "A",
         "nbinsx": 10,
         "opacity": 0.8,
         "orientation": "v",
         "type": "histogram",
         "x": [
          0.9533923532252154,
          0.7962578503151079,
          0.9446265933015333,
          -0.42864094189536345,
          -0.6905822967359128,
          0.545787353838866,
          -0.7495000133758046,
          -0.3762815578281219,
          0.3338145439069094,
          1.8164322972195024,
          -0.45792968633020076,
          0.37527095200432803,
          1.6257569004557955,
          -1.0553284569165717,
          -1.5696652241668305,
          -0.3228740712113491,
          0.1507472809239381,
          -0.5236479525340905,
          -1.4136103156819133,
          -0.25450762723785664,
          -0.3528814569744451,
          -0.5218846044634726,
          1.4625662999874716,
          -0.29412671346680097,
          1.0894037294964314,
          0.8454922650572088,
          1.1524461039633298,
          -0.3993380856970902,
          1.4481690182844273,
          0.5306664780946375,
          -0.3353654523770128,
          1.0164031310864774,
          0.5688651882963847,
          -0.7526355976340225,
          0.678666989205376,
          -0.676297494024862,
          -0.9994460323512003,
          -0.09574448606538073,
          -0.44460656961300205,
          -0.44951144023012246,
          -1.2048471417206936,
          0.7085546291673673,
          0.6547152374806319,
          -0.7423025231136463,
          -2.1840448982989344,
          -1.0761526288632624,
          -0.8821739194264769,
          0.16686387735840705,
          -1.6161118772902994,
          -2.20726383604153,
          1.0311954284225517,
          -0.242110444341512,
          -0.13962810666291445,
          0.5792425627063781,
          1.7064911400976197,
          1.0447748476017658,
          0.5514204827280627,
          -0.2762503662657573,
          0.7549544200480618,
          0.2775470665053151,
          -0.5982610550270542,
          -0.22943336333057485,
          -0.9634299159356345,
          0.9426435162691165,
          -2.78429824560043,
          -1.0727632114734371,
          -0.6725702929710772,
          -1.3972696238020141,
          -0.09263107503903131,
          -0.0852572909075391,
          1.6541989070099647,
          0.9381501595964749,
          1.0954607253099615,
          0.0963009934795626,
          -0.3485949014755212,
          -0.4694509996304064,
          0.24703932030270714,
          1.4068080908410796,
          -0.6683069699263524,
          1.0235858873351433,
          0.4496249563956825,
          0.39823683814607497,
          1.7915890976254676,
          -1.3276782228531736,
          0.9539407573453836,
          -0.11839409168110034,
          -0.4908515286224764,
          0.7214190615733209,
          -1.2964801667391652,
          0.8113597656016831,
          1.0927746445277344,
          0.15306711543042487,
          0.5150282622650163,
          -0.7743053253986879,
          -1.3428282038945936,
          -0.6916081901577839,
          -0.3848626572878707,
          -0.7531296637862062,
          -0.06521943121422427,
          -0.4175317297317254
         ],
         "xaxis": "x",
         "yaxis": "y"
        },
        {
         "line": {
          "color": "rgba(128, 128, 128, 1.0)",
          "dash": "solid",
          "shape": "linear",
          "width": 1.3
         },
         "marker": {
          "size": 2,
          "symbol": "circle"
         },
         "mode": "markers",
         "name": "A",
         "text": "",
         "type": "scatter",
         "x": [
          0.06947627645146132,
          -1.1607331144368884,
          -1.0497237200184943,
          -1.5019722344727746,
          -0.35258467341524236,
          -0.2613228779269877,
          -0.06139124485561016,
          -0.44360043268460614,
          0.5872810423296456,
          1.6453995448818386,
          -0.7900626782826925,
          0.18850992933071747,
          1.7249806781280306,
          1.7419381851834321,
          0.12978630101315522,
          -0.6184924891150716,
          1.3239594395322758,
          -0.8221817143634784,
          0.1729970616350675,
          -0.06451233675875263,
          1.806990957117825,
          -0.07398636085416085,
          0.8577491295231231,
          0.7950606607627105,
          -0.21130922179843403,
          -0.33469796249196276,
          1.4981538840123534,
          -0.37300060573819865,
          -0.6636143565365548,
          0.21665831066383276,
          -0.6704273842363159,
          -0.5419693348508918,
          0.4827874038183322,
          0.11512264384583679,
          -1.995149410421762,
          -0.24652486006627924,
          -2.0379604789618577,
          1.5251422775071708,
          -0.09475683944237748,
          -0.4152216032207558,
          1.0538852176943854,
          0.9601525791285485,
          0.5000010334891224,
          1.2485272427426186,
          0.8235984689487181,
          0.474745927388093,
          -1.4936499081932895,
          0.1426436720132142,
          0.37031345404667415,
          0.31292079605749484,
          0.05974849585601801,
          0.12891917352285698,
          0.6460500265917863,
          0.7892432827025327,
          -0.4842582356008212,
          0.7010336915602854,
          2.0534288048468974,
          -0.675806191857299,
          -0.5346894222900018,
          0.11199315394758796,
          -1.6037419859915685,
          1.4675262838719447,
          -0.7155811026629516,
          -0.5697123833533212,
          0.13424980737666348,
          0.5363928716736676,
          -0.664561078210953,
          -0.5909996720870854,
          -1.1243652440851621,
          2.4349656634141517,
          0.0850612426247251,
          -0.0372770038794375,
          -0.6028590721689905,
          0.9092158213811373,
          1.402430473603624,
          0.41745183831560073,
          -0.20313523445200599,
          1.0764350847389748,
          1.4423102931701026,
          1.218346375994514,
          0.3355120938252802,
          0.4733931746569244,
          -0.2393567851765012,
          1.9489466889539204,
          -0.5848238215674598,
          -1.6455253042673064,
          1.4180247584903094,
          -0.8569693533754201,
          1.0282726134368507,
          -0.515658480873396,
          0.06909637953208433,
          -1.1426104768023915,
          0.051162969647525966,
          -0.1644305552111428,
          0.01357270195562589,
          1.5799064467391917,
          0.1833104094552434,
          -2.323886990231017,
          -0.21440703575713888,
          -0.3262744037676085
         ],
         "xaxis": "x2",
         "y": [
          0.9533923532252154,
          0.7962578503151079,
          0.9446265933015333,
          -0.42864094189536345,
          -0.6905822967359128,
          0.545787353838866,
          -0.7495000133758046,
          -0.3762815578281219,
          0.3338145439069094,
          1.8164322972195024,
          -0.45792968633020076,
          0.37527095200432803,
          1.6257569004557955,
          -1.0553284569165717,
          -1.5696652241668305,
          -0.3228740712113491,
          0.1507472809239381,
          -0.5236479525340905,
          -1.4136103156819133,
          -0.25450762723785664,
          -0.3528814569744451,
          -0.5218846044634726,
          1.4625662999874716,
          -0.29412671346680097,
          1.0894037294964314,
          0.8454922650572088,
          1.1524461039633298,
          -0.3993380856970902,
          1.4481690182844273,
          0.5306664780946375,
          -0.3353654523770128,
          1.0164031310864774,
          0.5688651882963847,
          -0.7526355976340225,
          0.678666989205376,
          -0.676297494024862,
          -0.9994460323512003,
          -0.09574448606538073,
          -0.44460656961300205,
          -0.44951144023012246,
          -1.2048471417206936,
          0.7085546291673673,
          0.6547152374806319,
          -0.7423025231136463,
          -2.1840448982989344,
          -1.0761526288632624,
          -0.8821739194264769,
          0.16686387735840705,
          -1.6161118772902994,
          -2.20726383604153,
          1.0311954284225517,
          -0.242110444341512,
          -0.13962810666291445,
          0.5792425627063781,
          1.7064911400976197,
          1.0447748476017658,
          0.5514204827280627,
          -0.2762503662657573,
          0.7549544200480618,
          0.2775470665053151,
          -0.5982610550270542,
          -0.22943336333057485,
          -0.9634299159356345,
          0.9426435162691165,
          -2.78429824560043,
          -1.0727632114734371,
          -0.6725702929710772,
          -1.3972696238020141,
          -0.09263107503903131,
          -0.0852572909075391,
          1.6541989070099647,
          0.9381501595964749,
          1.0954607253099615,
          0.0963009934795626,
          -0.3485949014755212,
          -0.4694509996304064,
          0.24703932030270714,
          1.4068080908410796,
          -0.6683069699263524,
          1.0235858873351433,
          0.4496249563956825,
          0.39823683814607497,
          1.7915890976254676,
          -1.3276782228531736,
          0.9539407573453836,
          -0.11839409168110034,
          -0.4908515286224764,
          0.7214190615733209,
          -1.2964801667391652,
          0.8113597656016831,
          1.0927746445277344,
          0.15306711543042487,
          0.5150282622650163,
          -0.7743053253986879,
          -1.3428282038945936,
          -0.6916081901577839,
          -0.3848626572878707,
          -0.7531296637862062,
          -0.06521943121422427,
          -0.4175317297317254
         ],
         "yaxis": "y2"
        },
        {
         "line": {
          "color": "rgba(128, 128, 128, 1.0)",
          "dash": "solid",
          "shape": "linear",
          "width": 1.3
         },
         "marker": {
          "size": 2,
          "symbol": "circle"
         },
         "mode": "markers",
         "name": "A",
         "text": "",
         "type": "scatter",
         "x": [
          0.38624200232466965,
          -1.103053781166063,
          0.8747230151714097,
          1.1427618086131146,
          1.0884770767948007,
          0.018359523694216263,
          0.05840997798192588,
          -1.2391290014141552,
          -1.296181045731021,
          -0.8887332871538806,
          -0.23456032680491165,
          0.8331448638773145,
          0.24946389872828809,
          -0.5583851428414339,
          -1.6825339615031922,
          1.1883565952538475,
          0.8553794074661895,
          0.600574420419182,
          0.6322393057773141,
          -0.6111798102511441,
          -0.7129929993343201,
          -0.13191366960066728,
          -2.086549345634095,
          -1.2944282860750111,
          -0.7668382337430868,
          -0.012030414860574743,
          1.0473654903555025,
          -0.677110218515026,
          -0.6909783025399621,
          0.6049468036074455,
          -0.33925801968699215,
          -0.19735030582817678,
          -1.3767593235238877,
          -1.8268986918367425,
          -0.8246164142011257,
          -1.2461764710336531,
          1.0779803445030067,
          0.592753213646832,
          -1.7661736170871576,
          -0.9697867014971933,
          1.662630823447494,
          0.41045393970333455,
          -0.7803868114552753,
          -0.3403884430122021,
          2.0139348199611584,
          -1.5400588993376187,
          -1.2155525186307272,
          -0.3413266240642806,
          0.2688487285658409,
          -0.4547811988897437,
          0.4008500978073652,
          0.5333243966653178,
          1.9293198084109082,
          -1.412673932806497,
          -0.9400824076378804,
          0.48502163853338665,
          0.1491532803026734,
          -0.38116730827138484,
          -0.881039496056569,
          0.3561620126336619,
          1.9636376771967603,
          -0.28098973199069216,
          0.9459807073237207,
          -0.8239976940070456,
          -0.17177805579083164,
          -0.45150497803643086,
          -1.2242830407172463,
          -0.517747453633957,
          -0.36853353096114033,
          -1.2660077556792828,
          0.43153341357301894,
          -2.0148730397232644,
          0.0619611179969558,
          -0.4933547729948514,
          -0.017350503213527536,
          0.39218455393464097,
          -1.0120832654272587,
          0.5137759979125835,
          0.3470347547097227,
          -0.7803624770413473,
          -0.9984240624711453,
          1.1226579397756151,
          -0.9531621899896159,
          -1.1400610100436397,
          0.7227567747392188,
          -1.7986076971636866,
          0.3523808637582861,
          1.5994152665586299,
          0.25776039243829135,
          -1.430537457590503,
          -0.39255184153996725,
          0.4910379010155916,
          2.480487659287149,
          -1.465343791671094,
          -0.9108807912459752,
          -0.07630301283561905,
          1.9404065668343375,
          0.4990136693681264,
          0.3541865406050927,
          -0.6549640067820476
         ],
         "xaxis": "x3",
         "y": [
          0.9533923532252154,
          0.7962578503151079,
          0.9446265933015333,
          -0.42864094189536345,
          -0.6905822967359128,
          0.545787353838866,
          -0.7495000133758046,
          -0.3762815578281219,
          0.3338145439069094,
          1.8164322972195024,
          -0.45792968633020076,
          0.37527095200432803,
          1.6257569004557955,
          -1.0553284569165717,
          -1.5696652241668305,
          -0.3228740712113491,
          0.1507472809239381,
          -0.5236479525340905,
          -1.4136103156819133,
          -0.25450762723785664,
          -0.3528814569744451,
          -0.5218846044634726,
          1.4625662999874716,
          -0.29412671346680097,
          1.0894037294964314,
          0.8454922650572088,
          1.1524461039633298,
          -0.3993380856970902,
          1.4481690182844273,
          0.5306664780946375,
          -0.3353654523770128,
          1.0164031310864774,
          0.5688651882963847,
          -0.7526355976340225,
          0.678666989205376,
          -0.676297494024862,
          -0.9994460323512003,
          -0.09574448606538073,
          -0.44460656961300205,
          -0.44951144023012246,
          -1.2048471417206936,
          0.7085546291673673,
          0.6547152374806319,
          -0.7423025231136463,
          -2.1840448982989344,
          -1.0761526288632624,
          -0.8821739194264769,
          0.16686387735840705,
          -1.6161118772902994,
          -2.20726383604153,
          1.0311954284225517,
          -0.242110444341512,
          -0.13962810666291445,
          0.5792425627063781,
          1.7064911400976197,
          1.0447748476017658,
          0.5514204827280627,
          -0.2762503662657573,
          0.7549544200480618,
          0.2775470665053151,
          -0.5982610550270542,
          -0.22943336333057485,
          -0.9634299159356345,
          0.9426435162691165,
          -2.78429824560043,
          -1.0727632114734371,
          -0.6725702929710772,
          -1.3972696238020141,
          -0.09263107503903131,
          -0.0852572909075391,
          1.6541989070099647,
          0.9381501595964749,
          1.0954607253099615,
          0.0963009934795626,
          -0.3485949014755212,
          -0.4694509996304064,
          0.24703932030270714,
          1.4068080908410796,
          -0.6683069699263524,
          1.0235858873351433,
          0.4496249563956825,
          0.39823683814607497,
          1.7915890976254676,
          -1.3276782228531736,
          0.9539407573453836,
          -0.11839409168110034,
          -0.4908515286224764,
          0.7214190615733209,
          -1.2964801667391652,
          0.8113597656016831,
          1.0927746445277344,
          0.15306711543042487,
          0.5150282622650163,
          -0.7743053253986879,
          -1.3428282038945936,
          -0.6916081901577839,
          -0.3848626572878707,
          -0.7531296637862062,
          -0.06521943121422427,
          -0.4175317297317254
         ],
         "yaxis": "y3"
        },
        {
         "line": {
          "color": "rgba(128, 128, 128, 1.0)",
          "dash": "solid",
          "shape": "linear",
          "width": 1.3
         },
         "marker": {
          "size": 2,
          "symbol": "circle"
         },
         "mode": "markers",
         "name": "A",
         "text": "",
         "type": "scatter",
         "x": [
          1.35799650121603,
          0.49031384851341386,
          0.8217900412184245,
          1.8480179079450132,
          1.2891957674160297,
          -1.65365200127266,
          0.10454661884657883,
          0.9506716710464106,
          -0.19641922014168325,
          0.9768571708759514,
          0.14020495319766363,
          -0.12537426752293807,
          0.44930617740675016,
          -2.2208536613578977,
          0.6170470273080931,
          1.185972681436933,
          1.1733625582842218,
          1.2292256810101445,
          0.07450998345320564,
          0.1151458760479426,
          0.28018438840182763,
          0.7223513102801838,
          -0.9954998509921545,
          1.7762467394262884,
          -1.798771758232789,
          -1.1355961233029268,
          1.0336082924616914,
          1.9064446864252091,
          0.8724039750469477,
          0.4739927604174638,
          0.332547688686496,
          -0.7417122895328502,
          -0.1306805505201772,
          0.8269101080866751,
          -1.0850132095479876,
          0.5395081602646972,
          -0.7948842629278595,
          0.46230114848173987,
          1.3988864697472683,
          -0.10820150105426884,
          -0.6364044200995346,
          0.66999827882666,
          0.708590161971385,
          0.5553804699720557,
          0.6816179967639676,
          -0.9941929601339952,
          -0.5808554254498477,
          0.9383726682347696,
          0.3240423424455391,
          -1.0385439846087516,
          -1.539542792561218,
          -0.961406758760432,
          0.02261058611178702,
          1.1002121793781972,
          0.6788455444403805,
          0.4927823986423535,
          0.3060554625276701,
          -0.206657643593115,
          0.12525764004808265,
          -2.0128651495818763,
          1.1276818269886617,
          0.9544309829196077,
          -0.20702002152668894,
          -0.9425080889409485,
          0.8166432279944357,
          0.7917779827298608,
          -0.7773306725417373,
          0.006113206575926991,
          0.2653593473830176,
          0.2968504982679135,
          0.8137227607709042,
          -0.17544034351489765,
          -0.33825098739707593,
          -1.699307948886646,
          0.758732502114384,
          -0.08836103472531166,
          2.251033328323059,
          -0.3242265920860937,
          -1.550932289507223,
          1.416420560331823,
          0.8228168780693008,
          0.3411632332780876,
          1.1235084777975795,
          0.26843534920251977,
          1.2380229735851842,
          -2.31966589624832,
          1.2194283245867084,
          -0.5927184450268074,
          0.12502297443507235,
          -0.520998348360788,
          0.08042225483731544,
          -1.3599580302861842,
          1.3514526144843164,
          -0.8689695804604732,
          0.10737726783367744,
          0.09641323245696796,
          2.285685243349205,
          -0.055633511678821815,
          -0.0018428827838383338,
          0.319891646443404
         ],
         "xaxis": "x4",
         "y": [
          0.9533923532252154,
          0.7962578503151079,
          0.9446265933015333,
          -0.42864094189536345,
          -0.6905822967359128,
          0.545787353838866,
          -0.7495000133758046,
          -0.3762815578281219,
          0.3338145439069094,
          1.8164322972195024,
          -0.45792968633020076,
          0.37527095200432803,
          1.6257569004557955,
          -1.0553284569165717,
          -1.5696652241668305,
          -0.3228740712113491,
          0.1507472809239381,
          -0.5236479525340905,
          -1.4136103156819133,
          -0.25450762723785664,
          -0.3528814569744451,
          -0.5218846044634726,
          1.4625662999874716,
          -0.29412671346680097,
          1.0894037294964314,
          0.8454922650572088,
          1.1524461039633298,
          -0.3993380856970902,
          1.4481690182844273,
          0.5306664780946375,
          -0.3353654523770128,
          1.0164031310864774,
          0.5688651882963847,
          -0.7526355976340225,
          0.678666989205376,
          -0.676297494024862,
          -0.9994460323512003,
          -0.09574448606538073,
          -0.44460656961300205,
          -0.44951144023012246,
          -1.2048471417206936,
          0.7085546291673673,
          0.6547152374806319,
          -0.7423025231136463,
          -2.1840448982989344,
          -1.0761526288632624,
          -0.8821739194264769,
          0.16686387735840705,
          -1.6161118772902994,
          -2.20726383604153,
          1.0311954284225517,
          -0.242110444341512,
          -0.13962810666291445,
          0.5792425627063781,
          1.7064911400976197,
          1.0447748476017658,
          0.5514204827280627,
          -0.2762503662657573,
          0.7549544200480618,
          0.2775470665053151,
          -0.5982610550270542,
          -0.22943336333057485,
          -0.9634299159356345,
          0.9426435162691165,
          -2.78429824560043,
          -1.0727632114734371,
          -0.6725702929710772,
          -1.3972696238020141,
          -0.09263107503903131,
          -0.0852572909075391,
          1.6541989070099647,
          0.9381501595964749,
          1.0954607253099615,
          0.0963009934795626,
          -0.3485949014755212,
          -0.4694509996304064,
          0.24703932030270714,
          1.4068080908410796,
          -0.6683069699263524,
          1.0235858873351433,
          0.4496249563956825,
          0.39823683814607497,
          1.7915890976254676,
          -1.3276782228531736,
          0.9539407573453836,
          -0.11839409168110034,
          -0.4908515286224764,
          0.7214190615733209,
          -1.2964801667391652,
          0.8113597656016831,
          1.0927746445277344,
          0.15306711543042487,
          0.5150282622650163,
          -0.7743053253986879,
          -1.3428282038945936,
          -0.6916081901577839,
          -0.3848626572878707,
          -0.7531296637862062,
          -0.06521943121422427,
          -0.4175317297317254
         ],
         "yaxis": "y4"
        },
        {
         "line": {
          "color": "rgba(128, 128, 128, 1.0)",
          "dash": "solid",
          "shape": "linear",
          "width": 1.3
         },
         "marker": {
          "size": 2,
          "symbol": "circle"
         },
         "mode": "markers",
         "name": "B",
         "text": "",
         "type": "scatter",
         "x": [
          0.9533923532252154,
          0.7962578503151079,
          0.9446265933015333,
          -0.42864094189536345,
          -0.6905822967359128,
          0.545787353838866,
          -0.7495000133758046,
          -0.3762815578281219,
          0.3338145439069094,
          1.8164322972195024,
          -0.45792968633020076,
          0.37527095200432803,
          1.6257569004557955,
          -1.0553284569165717,
          -1.5696652241668305,
          -0.3228740712113491,
          0.1507472809239381,
          -0.5236479525340905,
          -1.4136103156819133,
          -0.25450762723785664,
          -0.3528814569744451,
          -0.5218846044634726,
          1.4625662999874716,
          -0.29412671346680097,
          1.0894037294964314,
          0.8454922650572088,
          1.1524461039633298,
          -0.3993380856970902,
          1.4481690182844273,
          0.5306664780946375,
          -0.3353654523770128,
          1.0164031310864774,
          0.5688651882963847,
          -0.7526355976340225,
          0.678666989205376,
          -0.676297494024862,
          -0.9994460323512003,
          -0.09574448606538073,
          -0.44460656961300205,
          -0.44951144023012246,
          -1.2048471417206936,
          0.7085546291673673,
          0.6547152374806319,
          -0.7423025231136463,
          -2.1840448982989344,
          -1.0761526288632624,
          -0.8821739194264769,
          0.16686387735840705,
          -1.6161118772902994,
          -2.20726383604153,
          1.0311954284225517,
          -0.242110444341512,
          -0.13962810666291445,
          0.5792425627063781,
          1.7064911400976197,
          1.0447748476017658,
          0.5514204827280627,
          -0.2762503662657573,
          0.7549544200480618,
          0.2775470665053151,
          -0.5982610550270542,
          -0.22943336333057485,
          -0.9634299159356345,
          0.9426435162691165,
          -2.78429824560043,
          -1.0727632114734371,
          -0.6725702929710772,
          -1.3972696238020141,
          -0.09263107503903131,
          -0.0852572909075391,
          1.6541989070099647,
          0.9381501595964749,
          1.0954607253099615,
          0.0963009934795626,
          -0.3485949014755212,
          -0.4694509996304064,
          0.24703932030270714,
          1.4068080908410796,
          -0.6683069699263524,
          1.0235858873351433,
          0.4496249563956825,
          0.39823683814607497,
          1.7915890976254676,
          -1.3276782228531736,
          0.9539407573453836,
          -0.11839409168110034,
          -0.4908515286224764,
          0.7214190615733209,
          -1.2964801667391652,
          0.8113597656016831,
          1.0927746445277344,
          0.15306711543042487,
          0.5150282622650163,
          -0.7743053253986879,
          -1.3428282038945936,
          -0.6916081901577839,
          -0.3848626572878707,
          -0.7531296637862062,
          -0.06521943121422427,
          -0.4175317297317254
         ],
         "xaxis": "x5",
         "y": [
          0.06947627645146132,
          -1.1607331144368884,
          -1.0497237200184943,
          -1.5019722344727746,
          -0.35258467341524236,
          -0.2613228779269877,
          -0.06139124485561016,
          -0.44360043268460614,
          0.5872810423296456,
          1.6453995448818386,
          -0.7900626782826925,
          0.18850992933071747,
          1.7249806781280306,
          1.7419381851834321,
          0.12978630101315522,
          -0.6184924891150716,
          1.3239594395322758,
          -0.8221817143634784,
          0.1729970616350675,
          -0.06451233675875263,
          1.806990957117825,
          -0.07398636085416085,
          0.8577491295231231,
          0.7950606607627105,
          -0.21130922179843403,
          -0.33469796249196276,
          1.4981538840123534,
          -0.37300060573819865,
          -0.6636143565365548,
          0.21665831066383276,
          -0.6704273842363159,
          -0.5419693348508918,
          0.4827874038183322,
          0.11512264384583679,
          -1.995149410421762,
          -0.24652486006627924,
          -2.0379604789618577,
          1.5251422775071708,
          -0.09475683944237748,
          -0.4152216032207558,
          1.0538852176943854,
          0.9601525791285485,
          0.5000010334891224,
          1.2485272427426186,
          0.8235984689487181,
          0.474745927388093,
          -1.4936499081932895,
          0.1426436720132142,
          0.37031345404667415,
          0.31292079605749484,
          0.05974849585601801,
          0.12891917352285698,
          0.6460500265917863,
          0.7892432827025327,
          -0.4842582356008212,
          0.7010336915602854,
          2.0534288048468974,
          -0.675806191857299,
          -0.5346894222900018,
          0.11199315394758796,
          -1.6037419859915685,
          1.4675262838719447,
          -0.7155811026629516,
          -0.5697123833533212,
          0.13424980737666348,
          0.5363928716736676,
          -0.664561078210953,
          -0.5909996720870854,
          -1.1243652440851621,
          2.4349656634141517,
          0.0850612426247251,
          -0.0372770038794375,
          -0.6028590721689905,
          0.9092158213811373,
          1.402430473603624,
          0.41745183831560073,
          -0.20313523445200599,
          1.0764350847389748,
          1.4423102931701026,
          1.218346375994514,
          0.3355120938252802,
          0.4733931746569244,
          -0.2393567851765012,
          1.9489466889539204,
          -0.5848238215674598,
          -1.6455253042673064,
          1.4180247584903094,
          -0.8569693533754201,
          1.0282726134368507,
          -0.515658480873396,
          0.06909637953208433,
          -1.1426104768023915,
          0.051162969647525966,
          -0.1644305552111428,
          0.01357270195562589,
          1.5799064467391917,
          0.1833104094552434,
          -2.323886990231017,
          -0.21440703575713888,
          -0.3262744037676085
         ],
         "yaxis": "y5"
        },
        {
         "histfunc": "count",
         "histnorm": "",
         "marker": {
          "color": "rgba(55, 128, 191, 1.0)",
          "line": {
           "color": "#4D5663",
           "width": 1.3
          }
         },
         "name": "B",
         "nbinsx": 10,
         "opacity": 0.8,
         "orientation": "v",
         "type": "histogram",
         "x": [
          0.06947627645146132,
          -1.1607331144368884,
          -1.0497237200184943,
          -1.5019722344727746,
          -0.35258467341524236,
          -0.2613228779269877,
          -0.06139124485561016,
          -0.44360043268460614,
          0.5872810423296456,
          1.6453995448818386,
          -0.7900626782826925,
          0.18850992933071747,
          1.7249806781280306,
          1.7419381851834321,
          0.12978630101315522,
          -0.6184924891150716,
          1.3239594395322758,
          -0.8221817143634784,
          0.1729970616350675,
          -0.06451233675875263,
          1.806990957117825,
          -0.07398636085416085,
          0.8577491295231231,
          0.7950606607627105,
          -0.21130922179843403,
          -0.33469796249196276,
          1.4981538840123534,
          -0.37300060573819865,
          -0.6636143565365548,
          0.21665831066383276,
          -0.6704273842363159,
          -0.5419693348508918,
          0.4827874038183322,
          0.11512264384583679,
          -1.995149410421762,
          -0.24652486006627924,
          -2.0379604789618577,
          1.5251422775071708,
          -0.09475683944237748,
          -0.4152216032207558,
          1.0538852176943854,
          0.9601525791285485,
          0.5000010334891224,
          1.2485272427426186,
          0.8235984689487181,
          0.474745927388093,
          -1.4936499081932895,
          0.1426436720132142,
          0.37031345404667415,
          0.31292079605749484,
          0.05974849585601801,
          0.12891917352285698,
          0.6460500265917863,
          0.7892432827025327,
          -0.4842582356008212,
          0.7010336915602854,
          2.0534288048468974,
          -0.675806191857299,
          -0.5346894222900018,
          0.11199315394758796,
          -1.6037419859915685,
          1.4675262838719447,
          -0.7155811026629516,
          -0.5697123833533212,
          0.13424980737666348,
          0.5363928716736676,
          -0.664561078210953,
          -0.5909996720870854,
          -1.1243652440851621,
          2.4349656634141517,
          0.0850612426247251,
          -0.0372770038794375,
          -0.6028590721689905,
          0.9092158213811373,
          1.402430473603624,
          0.41745183831560073,
          -0.20313523445200599,
          1.0764350847389748,
          1.4423102931701026,
          1.218346375994514,
          0.3355120938252802,
          0.4733931746569244,
          -0.2393567851765012,
          1.9489466889539204,
          -0.5848238215674598,
          -1.6455253042673064,
          1.4180247584903094,
          -0.8569693533754201,
          1.0282726134368507,
          -0.515658480873396,
          0.06909637953208433,
          -1.1426104768023915,
          0.051162969647525966,
          -0.1644305552111428,
          0.01357270195562589,
          1.5799064467391917,
          0.1833104094552434,
          -2.323886990231017,
          -0.21440703575713888,
          -0.3262744037676085
         ],
         "xaxis": "x6",
         "yaxis": "y6"
        },
        {
         "line": {
          "color": "rgba(128, 128, 128, 1.0)",
          "dash": "solid",
          "shape": "linear",
          "width": 1.3
         },
         "marker": {
          "size": 2,
          "symbol": "circle"
         },
         "mode": "markers",
         "name": "B",
         "text": "",
         "type": "scatter",
         "x": [
          0.38624200232466965,
          -1.103053781166063,
          0.8747230151714097,
          1.1427618086131146,
          1.0884770767948007,
          0.018359523694216263,
          0.05840997798192588,
          -1.2391290014141552,
          -1.296181045731021,
          -0.8887332871538806,
          -0.23456032680491165,
          0.8331448638773145,
          0.24946389872828809,
          -0.5583851428414339,
          -1.6825339615031922,
          1.1883565952538475,
          0.8553794074661895,
          0.600574420419182,
          0.6322393057773141,
          -0.6111798102511441,
          -0.7129929993343201,
          -0.13191366960066728,
          -2.086549345634095,
          -1.2944282860750111,
          -0.7668382337430868,
          -0.012030414860574743,
          1.0473654903555025,
          -0.677110218515026,
          -0.6909783025399621,
          0.6049468036074455,
          -0.33925801968699215,
          -0.19735030582817678,
          -1.3767593235238877,
          -1.8268986918367425,
          -0.8246164142011257,
          -1.2461764710336531,
          1.0779803445030067,
          0.592753213646832,
          -1.7661736170871576,
          -0.9697867014971933,
          1.662630823447494,
          0.41045393970333455,
          -0.7803868114552753,
          -0.3403884430122021,
          2.0139348199611584,
          -1.5400588993376187,
          -1.2155525186307272,
          -0.3413266240642806,
          0.2688487285658409,
          -0.4547811988897437,
          0.4008500978073652,
          0.5333243966653178,
          1.9293198084109082,
          -1.412673932806497,
          -0.9400824076378804,
          0.48502163853338665,
          0.1491532803026734,
          -0.38116730827138484,
          -0.881039496056569,
          0.3561620126336619,
          1.9636376771967603,
          -0.28098973199069216,
          0.9459807073237207,
          -0.8239976940070456,
          -0.17177805579083164,
          -0.45150497803643086,
          -1.2242830407172463,
          -0.517747453633957,
          -0.36853353096114033,
          -1.2660077556792828,
          0.43153341357301894,
          -2.0148730397232644,
          0.0619611179969558,
          -0.4933547729948514,
          -0.017350503213527536,
          0.39218455393464097,
          -1.0120832654272587,
          0.5137759979125835,
          0.3470347547097227,
          -0.7803624770413473,
          -0.9984240624711453,
          1.1226579397756151,
          -0.9531621899896159,
          -1.1400610100436397,
          0.7227567747392188,
          -1.7986076971636866,
          0.3523808637582861,
          1.5994152665586299,
          0.25776039243829135,
          -1.430537457590503,
          -0.39255184153996725,
          0.4910379010155916,
          2.480487659287149,
          -1.465343791671094,
          -0.9108807912459752,
          -0.07630301283561905,
          1.9404065668343375,
          0.4990136693681264,
          0.3541865406050927,
          -0.6549640067820476
         ],
         "xaxis": "x7",
         "y": [
          0.06947627645146132,
          -1.1607331144368884,
          -1.0497237200184943,
          -1.5019722344727746,
          -0.35258467341524236,
          -0.2613228779269877,
          -0.06139124485561016,
          -0.44360043268460614,
          0.5872810423296456,
          1.6453995448818386,
          -0.7900626782826925,
          0.18850992933071747,
          1.7249806781280306,
          1.7419381851834321,
          0.12978630101315522,
          -0.6184924891150716,
          1.3239594395322758,
          -0.8221817143634784,
          0.1729970616350675,
          -0.06451233675875263,
          1.806990957117825,
          -0.07398636085416085,
          0.8577491295231231,
          0.7950606607627105,
          -0.21130922179843403,
          -0.33469796249196276,
          1.4981538840123534,
          -0.37300060573819865,
          -0.6636143565365548,
          0.21665831066383276,
          -0.6704273842363159,
          -0.5419693348508918,
          0.4827874038183322,
          0.11512264384583679,
          -1.995149410421762,
          -0.24652486006627924,
          -2.0379604789618577,
          1.5251422775071708,
          -0.09475683944237748,
          -0.4152216032207558,
          1.0538852176943854,
          0.9601525791285485,
          0.5000010334891224,
          1.2485272427426186,
          0.8235984689487181,
          0.474745927388093,
          -1.4936499081932895,
          0.1426436720132142,
          0.37031345404667415,
          0.31292079605749484,
          0.05974849585601801,
          0.12891917352285698,
          0.6460500265917863,
          0.7892432827025327,
          -0.4842582356008212,
          0.7010336915602854,
          2.0534288048468974,
          -0.675806191857299,
          -0.5346894222900018,
          0.11199315394758796,
          -1.6037419859915685,
          1.4675262838719447,
          -0.7155811026629516,
          -0.5697123833533212,
          0.13424980737666348,
          0.5363928716736676,
          -0.664561078210953,
          -0.5909996720870854,
          -1.1243652440851621,
          2.4349656634141517,
          0.0850612426247251,
          -0.0372770038794375,
          -0.6028590721689905,
          0.9092158213811373,
          1.402430473603624,
          0.41745183831560073,
          -0.20313523445200599,
          1.0764350847389748,
          1.4423102931701026,
          1.218346375994514,
          0.3355120938252802,
          0.4733931746569244,
          -0.2393567851765012,
          1.9489466889539204,
          -0.5848238215674598,
          -1.6455253042673064,
          1.4180247584903094,
          -0.8569693533754201,
          1.0282726134368507,
          -0.515658480873396,
          0.06909637953208433,
          -1.1426104768023915,
          0.051162969647525966,
          -0.1644305552111428,
          0.01357270195562589,
          1.5799064467391917,
          0.1833104094552434,
          -2.323886990231017,
          -0.21440703575713888,
          -0.3262744037676085
         ],
         "yaxis": "y7"
        },
        {
         "line": {
          "color": "rgba(128, 128, 128, 1.0)",
          "dash": "solid",
          "shape": "linear",
          "width": 1.3
         },
         "marker": {
          "size": 2,
          "symbol": "circle"
         },
         "mode": "markers",
         "name": "B",
         "text": "",
         "type": "scatter",
         "x": [
          1.35799650121603,
          0.49031384851341386,
          0.8217900412184245,
          1.8480179079450132,
          1.2891957674160297,
          -1.65365200127266,
          0.10454661884657883,
          0.9506716710464106,
          -0.19641922014168325,
          0.9768571708759514,
          0.14020495319766363,
          -0.12537426752293807,
          0.44930617740675016,
          -2.2208536613578977,
          0.6170470273080931,
          1.185972681436933,
          1.1733625582842218,
          1.2292256810101445,
          0.07450998345320564,
          0.1151458760479426,
          0.28018438840182763,
          0.7223513102801838,
          -0.9954998509921545,
          1.7762467394262884,
          -1.798771758232789,
          -1.1355961233029268,
          1.0336082924616914,
          1.9064446864252091,
          0.8724039750469477,
          0.4739927604174638,
          0.332547688686496,
          -0.7417122895328502,
          -0.1306805505201772,
          0.8269101080866751,
          -1.0850132095479876,
          0.5395081602646972,
          -0.7948842629278595,
          0.46230114848173987,
          1.3988864697472683,
          -0.10820150105426884,
          -0.6364044200995346,
          0.66999827882666,
          0.708590161971385,
          0.5553804699720557,
          0.6816179967639676,
          -0.9941929601339952,
          -0.5808554254498477,
          0.9383726682347696,
          0.3240423424455391,
          -1.0385439846087516,
          -1.539542792561218,
          -0.961406758760432,
          0.02261058611178702,
          1.1002121793781972,
          0.6788455444403805,
          0.4927823986423535,
          0.3060554625276701,
          -0.206657643593115,
          0.12525764004808265,
          -2.0128651495818763,
          1.1276818269886617,
          0.9544309829196077,
          -0.20702002152668894,
          -0.9425080889409485,
          0.8166432279944357,
          0.7917779827298608,
          -0.7773306725417373,
          0.006113206575926991,
          0.2653593473830176,
          0.2968504982679135,
          0.8137227607709042,
          -0.17544034351489765,
          -0.33825098739707593,
          -1.699307948886646,
          0.758732502114384,
          -0.08836103472531166,
          2.251033328323059,
          -0.3242265920860937,
          -1.550932289507223,
          1.416420560331823,
          0.8228168780693008,
          0.3411632332780876,
          1.1235084777975795,
          0.26843534920251977,
          1.2380229735851842,
          -2.31966589624832,
          1.2194283245867084,
          -0.5927184450268074,
          0.12502297443507235,
          -0.520998348360788,
          0.08042225483731544,
          -1.3599580302861842,
          1.3514526144843164,
          -0.8689695804604732,
          0.10737726783367744,
          0.09641323245696796,
          2.285685243349205,
          -0.055633511678821815,
          -0.0018428827838383338,
          0.319891646443404
         ],
         "xaxis": "x8",
         "y": [
          0.06947627645146132,
          -1.1607331144368884,
          -1.0497237200184943,
          -1.5019722344727746,
          -0.35258467341524236,
          -0.2613228779269877,
          -0.06139124485561016,
          -0.44360043268460614,
          0.5872810423296456,
          1.6453995448818386,
          -0.7900626782826925,
          0.18850992933071747,
          1.7249806781280306,
          1.7419381851834321,
          0.12978630101315522,
          -0.6184924891150716,
          1.3239594395322758,
          -0.8221817143634784,
          0.1729970616350675,
          -0.06451233675875263,
          1.806990957117825,
          -0.07398636085416085,
          0.8577491295231231,
          0.7950606607627105,
          -0.21130922179843403,
          -0.33469796249196276,
          1.4981538840123534,
          -0.37300060573819865,
          -0.6636143565365548,
          0.21665831066383276,
          -0.6704273842363159,
          -0.5419693348508918,
          0.4827874038183322,
          0.11512264384583679,
          -1.995149410421762,
          -0.24652486006627924,
          -2.0379604789618577,
          1.5251422775071708,
          -0.09475683944237748,
          -0.4152216032207558,
          1.0538852176943854,
          0.9601525791285485,
          0.5000010334891224,
          1.2485272427426186,
          0.8235984689487181,
          0.474745927388093,
          -1.4936499081932895,
          0.1426436720132142,
          0.37031345404667415,
          0.31292079605749484,
          0.05974849585601801,
          0.12891917352285698,
          0.6460500265917863,
          0.7892432827025327,
          -0.4842582356008212,
          0.7010336915602854,
          2.0534288048468974,
          -0.675806191857299,
          -0.5346894222900018,
          0.11199315394758796,
          -1.6037419859915685,
          1.4675262838719447,
          -0.7155811026629516,
          -0.5697123833533212,
          0.13424980737666348,
          0.5363928716736676,
          -0.664561078210953,
          -0.5909996720870854,
          -1.1243652440851621,
          2.4349656634141517,
          0.0850612426247251,
          -0.0372770038794375,
          -0.6028590721689905,
          0.9092158213811373,
          1.402430473603624,
          0.41745183831560073,
          -0.20313523445200599,
          1.0764350847389748,
          1.4423102931701026,
          1.218346375994514,
          0.3355120938252802,
          0.4733931746569244,
          -0.2393567851765012,
          1.9489466889539204,
          -0.5848238215674598,
          -1.6455253042673064,
          1.4180247584903094,
          -0.8569693533754201,
          1.0282726134368507,
          -0.515658480873396,
          0.06909637953208433,
          -1.1426104768023915,
          0.051162969647525966,
          -0.1644305552111428,
          0.01357270195562589,
          1.5799064467391917,
          0.1833104094552434,
          -2.323886990231017,
          -0.21440703575713888,
          -0.3262744037676085
         ],
         "yaxis": "y8"
        },
        {
         "line": {
          "color": "rgba(128, 128, 128, 1.0)",
          "dash": "solid",
          "shape": "linear",
          "width": 1.3
         },
         "marker": {
          "size": 2,
          "symbol": "circle"
         },
         "mode": "markers",
         "name": "C",
         "text": "",
         "type": "scatter",
         "x": [
          0.9533923532252154,
          0.7962578503151079,
          0.9446265933015333,
          -0.42864094189536345,
          -0.6905822967359128,
          0.545787353838866,
          -0.7495000133758046,
          -0.3762815578281219,
          0.3338145439069094,
          1.8164322972195024,
          -0.45792968633020076,
          0.37527095200432803,
          1.6257569004557955,
          -1.0553284569165717,
          -1.5696652241668305,
          -0.3228740712113491,
          0.1507472809239381,
          -0.5236479525340905,
          -1.4136103156819133,
          -0.25450762723785664,
          -0.3528814569744451,
          -0.5218846044634726,
          1.4625662999874716,
          -0.29412671346680097,
          1.0894037294964314,
          0.8454922650572088,
          1.1524461039633298,
          -0.3993380856970902,
          1.4481690182844273,
          0.5306664780946375,
          -0.3353654523770128,
          1.0164031310864774,
          0.5688651882963847,
          -0.7526355976340225,
          0.678666989205376,
          -0.676297494024862,
          -0.9994460323512003,
          -0.09574448606538073,
          -0.44460656961300205,
          -0.44951144023012246,
          -1.2048471417206936,
          0.7085546291673673,
          0.6547152374806319,
          -0.7423025231136463,
          -2.1840448982989344,
          -1.0761526288632624,
          -0.8821739194264769,
          0.16686387735840705,
          -1.6161118772902994,
          -2.20726383604153,
          1.0311954284225517,
          -0.242110444341512,
          -0.13962810666291445,
          0.5792425627063781,
          1.7064911400976197,
          1.0447748476017658,
          0.5514204827280627,
          -0.2762503662657573,
          0.7549544200480618,
          0.2775470665053151,
          -0.5982610550270542,
          -0.22943336333057485,
          -0.9634299159356345,
          0.9426435162691165,
          -2.78429824560043,
          -1.0727632114734371,
          -0.6725702929710772,
          -1.3972696238020141,
          -0.09263107503903131,
          -0.0852572909075391,
          1.6541989070099647,
          0.9381501595964749,
          1.0954607253099615,
          0.0963009934795626,
          -0.3485949014755212,
          -0.4694509996304064,
          0.24703932030270714,
          1.4068080908410796,
          -0.6683069699263524,
          1.0235858873351433,
          0.4496249563956825,
          0.39823683814607497,
          1.7915890976254676,
          -1.3276782228531736,
          0.9539407573453836,
          -0.11839409168110034,
          -0.4908515286224764,
          0.7214190615733209,
          -1.2964801667391652,
          0.8113597656016831,
          1.0927746445277344,
          0.15306711543042487,
          0.5150282622650163,
          -0.7743053253986879,
          -1.3428282038945936,
          -0.6916081901577839,
          -0.3848626572878707,
          -0.7531296637862062,
          -0.06521943121422427,
          -0.4175317297317254
         ],
         "xaxis": "x9",
         "y": [
          0.38624200232466965,
          -1.103053781166063,
          0.8747230151714097,
          1.1427618086131146,
          1.0884770767948007,
          0.018359523694216263,
          0.05840997798192588,
          -1.2391290014141552,
          -1.296181045731021,
          -0.8887332871538806,
          -0.23456032680491165,
          0.8331448638773145,
          0.24946389872828809,
          -0.5583851428414339,
          -1.6825339615031922,
          1.1883565952538475,
          0.8553794074661895,
          0.600574420419182,
          0.6322393057773141,
          -0.6111798102511441,
          -0.7129929993343201,
          -0.13191366960066728,
          -2.086549345634095,
          -1.2944282860750111,
          -0.7668382337430868,
          -0.012030414860574743,
          1.0473654903555025,
          -0.677110218515026,
          -0.6909783025399621,
          0.6049468036074455,
          -0.33925801968699215,
          -0.19735030582817678,
          -1.3767593235238877,
          -1.8268986918367425,
          -0.8246164142011257,
          -1.2461764710336531,
          1.0779803445030067,
          0.592753213646832,
          -1.7661736170871576,
          -0.9697867014971933,
          1.662630823447494,
          0.41045393970333455,
          -0.7803868114552753,
          -0.3403884430122021,
          2.0139348199611584,
          -1.5400588993376187,
          -1.2155525186307272,
          -0.3413266240642806,
          0.2688487285658409,
          -0.4547811988897437,
          0.4008500978073652,
          0.5333243966653178,
          1.9293198084109082,
          -1.412673932806497,
          -0.9400824076378804,
          0.48502163853338665,
          0.1491532803026734,
          -0.38116730827138484,
          -0.881039496056569,
          0.3561620126336619,
          1.9636376771967603,
          -0.28098973199069216,
          0.9459807073237207,
          -0.8239976940070456,
          -0.17177805579083164,
          -0.45150497803643086,
          -1.2242830407172463,
          -0.517747453633957,
          -0.36853353096114033,
          -1.2660077556792828,
          0.43153341357301894,
          -2.0148730397232644,
          0.0619611179969558,
          -0.4933547729948514,
          -0.017350503213527536,
          0.39218455393464097,
          -1.0120832654272587,
          0.5137759979125835,
          0.3470347547097227,
          -0.7803624770413473,
          -0.9984240624711453,
          1.1226579397756151,
          -0.9531621899896159,
          -1.1400610100436397,
          0.7227567747392188,
          -1.7986076971636866,
          0.3523808637582861,
          1.5994152665586299,
          0.25776039243829135,
          -1.430537457590503,
          -0.39255184153996725,
          0.4910379010155916,
          2.480487659287149,
          -1.465343791671094,
          -0.9108807912459752,
          -0.07630301283561905,
          1.9404065668343375,
          0.4990136693681264,
          0.3541865406050927,
          -0.6549640067820476
         ],
         "yaxis": "y9"
        },
        {
         "line": {
          "color": "rgba(128, 128, 128, 1.0)",
          "dash": "solid",
          "shape": "linear",
          "width": 1.3
         },
         "marker": {
          "size": 2,
          "symbol": "circle"
         },
         "mode": "markers",
         "name": "C",
         "text": "",
         "type": "scatter",
         "x": [
          0.06947627645146132,
          -1.1607331144368884,
          -1.0497237200184943,
          -1.5019722344727746,
          -0.35258467341524236,
          -0.2613228779269877,
          -0.06139124485561016,
          -0.44360043268460614,
          0.5872810423296456,
          1.6453995448818386,
          -0.7900626782826925,
          0.18850992933071747,
          1.7249806781280306,
          1.7419381851834321,
          0.12978630101315522,
          -0.6184924891150716,
          1.3239594395322758,
          -0.8221817143634784,
          0.1729970616350675,
          -0.06451233675875263,
          1.806990957117825,
          -0.07398636085416085,
          0.8577491295231231,
          0.7950606607627105,
          -0.21130922179843403,
          -0.33469796249196276,
          1.4981538840123534,
          -0.37300060573819865,
          -0.6636143565365548,
          0.21665831066383276,
          -0.6704273842363159,
          -0.5419693348508918,
          0.4827874038183322,
          0.11512264384583679,
          -1.995149410421762,
          -0.24652486006627924,
          -2.0379604789618577,
          1.5251422775071708,
          -0.09475683944237748,
          -0.4152216032207558,
          1.0538852176943854,
          0.9601525791285485,
          0.5000010334891224,
          1.2485272427426186,
          0.8235984689487181,
          0.474745927388093,
          -1.4936499081932895,
          0.1426436720132142,
          0.37031345404667415,
          0.31292079605749484,
          0.05974849585601801,
          0.12891917352285698,
          0.6460500265917863,
          0.7892432827025327,
          -0.4842582356008212,
          0.7010336915602854,
          2.0534288048468974,
          -0.675806191857299,
          -0.5346894222900018,
          0.11199315394758796,
          -1.6037419859915685,
          1.4675262838719447,
          -0.7155811026629516,
          -0.5697123833533212,
          0.13424980737666348,
          0.5363928716736676,
          -0.664561078210953,
          -0.5909996720870854,
          -1.1243652440851621,
          2.4349656634141517,
          0.0850612426247251,
          -0.0372770038794375,
          -0.6028590721689905,
          0.9092158213811373,
          1.402430473603624,
          0.41745183831560073,
          -0.20313523445200599,
          1.0764350847389748,
          1.4423102931701026,
          1.218346375994514,
          0.3355120938252802,
          0.4733931746569244,
          -0.2393567851765012,
          1.9489466889539204,
          -0.5848238215674598,
          -1.6455253042673064,
          1.4180247584903094,
          -0.8569693533754201,
          1.0282726134368507,
          -0.515658480873396,
          0.06909637953208433,
          -1.1426104768023915,
          0.051162969647525966,
          -0.1644305552111428,
          0.01357270195562589,
          1.5799064467391917,
          0.1833104094552434,
          -2.323886990231017,
          -0.21440703575713888,
          -0.3262744037676085
         ],
         "xaxis": "x10",
         "y": [
          0.38624200232466965,
          -1.103053781166063,
          0.8747230151714097,
          1.1427618086131146,
          1.0884770767948007,
          0.018359523694216263,
          0.05840997798192588,
          -1.2391290014141552,
          -1.296181045731021,
          -0.8887332871538806,
          -0.23456032680491165,
          0.8331448638773145,
          0.24946389872828809,
          -0.5583851428414339,
          -1.6825339615031922,
          1.1883565952538475,
          0.8553794074661895,
          0.600574420419182,
          0.6322393057773141,
          -0.6111798102511441,
          -0.7129929993343201,
          -0.13191366960066728,
          -2.086549345634095,
          -1.2944282860750111,
          -0.7668382337430868,
          -0.012030414860574743,
          1.0473654903555025,
          -0.677110218515026,
          -0.6909783025399621,
          0.6049468036074455,
          -0.33925801968699215,
          -0.19735030582817678,
          -1.3767593235238877,
          -1.8268986918367425,
          -0.8246164142011257,
          -1.2461764710336531,
          1.0779803445030067,
          0.592753213646832,
          -1.7661736170871576,
          -0.9697867014971933,
          1.662630823447494,
          0.41045393970333455,
          -0.7803868114552753,
          -0.3403884430122021,
          2.0139348199611584,
          -1.5400588993376187,
          -1.2155525186307272,
          -0.3413266240642806,
          0.2688487285658409,
          -0.4547811988897437,
          0.4008500978073652,
          0.5333243966653178,
          1.9293198084109082,
          -1.412673932806497,
          -0.9400824076378804,
          0.48502163853338665,
          0.1491532803026734,
          -0.38116730827138484,
          -0.881039496056569,
          0.3561620126336619,
          1.9636376771967603,
          -0.28098973199069216,
          0.9459807073237207,
          -0.8239976940070456,
          -0.17177805579083164,
          -0.45150497803643086,
          -1.2242830407172463,
          -0.517747453633957,
          -0.36853353096114033,
          -1.2660077556792828,
          0.43153341357301894,
          -2.0148730397232644,
          0.0619611179969558,
          -0.4933547729948514,
          -0.017350503213527536,
          0.39218455393464097,
          -1.0120832654272587,
          0.5137759979125835,
          0.3470347547097227,
          -0.7803624770413473,
          -0.9984240624711453,
          1.1226579397756151,
          -0.9531621899896159,
          -1.1400610100436397,
          0.7227567747392188,
          -1.7986076971636866,
          0.3523808637582861,
          1.5994152665586299,
          0.25776039243829135,
          -1.430537457590503,
          -0.39255184153996725,
          0.4910379010155916,
          2.480487659287149,
          -1.465343791671094,
          -0.9108807912459752,
          -0.07630301283561905,
          1.9404065668343375,
          0.4990136693681264,
          0.3541865406050927,
          -0.6549640067820476
         ],
         "yaxis": "y10"
        },
        {
         "histfunc": "count",
         "histnorm": "",
         "marker": {
          "color": "rgba(50, 171, 96, 1.0)",
          "line": {
           "color": "#4D5663",
           "width": 1.3
          }
         },
         "name": "C",
         "nbinsx": 10,
         "opacity": 0.8,
         "orientation": "v",
         "type": "histogram",
         "x": [
          0.38624200232466965,
          -1.103053781166063,
          0.8747230151714097,
          1.1427618086131146,
          1.0884770767948007,
          0.018359523694216263,
          0.05840997798192588,
          -1.2391290014141552,
          -1.296181045731021,
          -0.8887332871538806,
          -0.23456032680491165,
          0.8331448638773145,
          0.24946389872828809,
          -0.5583851428414339,
          -1.6825339615031922,
          1.1883565952538475,
          0.8553794074661895,
          0.600574420419182,
          0.6322393057773141,
          -0.6111798102511441,
          -0.7129929993343201,
          -0.13191366960066728,
          -2.086549345634095,
          -1.2944282860750111,
          -0.7668382337430868,
          -0.012030414860574743,
          1.0473654903555025,
          -0.677110218515026,
          -0.6909783025399621,
          0.6049468036074455,
          -0.33925801968699215,
          -0.19735030582817678,
          -1.3767593235238877,
          -1.8268986918367425,
          -0.8246164142011257,
          -1.2461764710336531,
          1.0779803445030067,
          0.592753213646832,
          -1.7661736170871576,
          -0.9697867014971933,
          1.662630823447494,
          0.41045393970333455,
          -0.7803868114552753,
          -0.3403884430122021,
          2.0139348199611584,
          -1.5400588993376187,
          -1.2155525186307272,
          -0.3413266240642806,
          0.2688487285658409,
          -0.4547811988897437,
          0.4008500978073652,
          0.5333243966653178,
          1.9293198084109082,
          -1.412673932806497,
          -0.9400824076378804,
          0.48502163853338665,
          0.1491532803026734,
          -0.38116730827138484,
          -0.881039496056569,
          0.3561620126336619,
          1.9636376771967603,
          -0.28098973199069216,
          0.9459807073237207,
          -0.8239976940070456,
          -0.17177805579083164,
          -0.45150497803643086,
          -1.2242830407172463,
          -0.517747453633957,
          -0.36853353096114033,
          -1.2660077556792828,
          0.43153341357301894,
          -2.0148730397232644,
          0.0619611179969558,
          -0.4933547729948514,
          -0.017350503213527536,
          0.39218455393464097,
          -1.0120832654272587,
          0.5137759979125835,
          0.3470347547097227,
          -0.7803624770413473,
          -0.9984240624711453,
          1.1226579397756151,
          -0.9531621899896159,
          -1.1400610100436397,
          0.7227567747392188,
          -1.7986076971636866,
          0.3523808637582861,
          1.5994152665586299,
          0.25776039243829135,
          -1.430537457590503,
          -0.39255184153996725,
          0.4910379010155916,
          2.480487659287149,
          -1.465343791671094,
          -0.9108807912459752,
          -0.07630301283561905,
          1.9404065668343375,
          0.4990136693681264,
          0.3541865406050927,
          -0.6549640067820476
         ],
         "xaxis": "x11",
         "yaxis": "y11"
        },
        {
         "line": {
          "color": "rgba(128, 128, 128, 1.0)",
          "dash": "solid",
          "shape": "linear",
          "width": 1.3
         },
         "marker": {
          "size": 2,
          "symbol": "circle"
         },
         "mode": "markers",
         "name": "C",
         "text": "",
         "type": "scatter",
         "x": [
          1.35799650121603,
          0.49031384851341386,
          0.8217900412184245,
          1.8480179079450132,
          1.2891957674160297,
          -1.65365200127266,
          0.10454661884657883,
          0.9506716710464106,
          -0.19641922014168325,
          0.9768571708759514,
          0.14020495319766363,
          -0.12537426752293807,
          0.44930617740675016,
          -2.2208536613578977,
          0.6170470273080931,
          1.185972681436933,
          1.1733625582842218,
          1.2292256810101445,
          0.07450998345320564,
          0.1151458760479426,
          0.28018438840182763,
          0.7223513102801838,
          -0.9954998509921545,
          1.7762467394262884,
          -1.798771758232789,
          -1.1355961233029268,
          1.0336082924616914,
          1.9064446864252091,
          0.8724039750469477,
          0.4739927604174638,
          0.332547688686496,
          -0.7417122895328502,
          -0.1306805505201772,
          0.8269101080866751,
          -1.0850132095479876,
          0.5395081602646972,
          -0.7948842629278595,
          0.46230114848173987,
          1.3988864697472683,
          -0.10820150105426884,
          -0.6364044200995346,
          0.66999827882666,
          0.708590161971385,
          0.5553804699720557,
          0.6816179967639676,
          -0.9941929601339952,
          -0.5808554254498477,
          0.9383726682347696,
          0.3240423424455391,
          -1.0385439846087516,
          -1.539542792561218,
          -0.961406758760432,
          0.02261058611178702,
          1.1002121793781972,
          0.6788455444403805,
          0.4927823986423535,
          0.3060554625276701,
          -0.206657643593115,
          0.12525764004808265,
          -2.0128651495818763,
          1.1276818269886617,
          0.9544309829196077,
          -0.20702002152668894,
          -0.9425080889409485,
          0.8166432279944357,
          0.7917779827298608,
          -0.7773306725417373,
          0.006113206575926991,
          0.2653593473830176,
          0.2968504982679135,
          0.8137227607709042,
          -0.17544034351489765,
          -0.33825098739707593,
          -1.699307948886646,
          0.758732502114384,
          -0.08836103472531166,
          2.251033328323059,
          -0.3242265920860937,
          -1.550932289507223,
          1.416420560331823,
          0.8228168780693008,
          0.3411632332780876,
          1.1235084777975795,
          0.26843534920251977,
          1.2380229735851842,
          -2.31966589624832,
          1.2194283245867084,
          -0.5927184450268074,
          0.12502297443507235,
          -0.520998348360788,
          0.08042225483731544,
          -1.3599580302861842,
          1.3514526144843164,
          -0.8689695804604732,
          0.10737726783367744,
          0.09641323245696796,
          2.285685243349205,
          -0.055633511678821815,
          -0.0018428827838383338,
          0.319891646443404
         ],
         "xaxis": "x12",
         "y": [
          0.38624200232466965,
          -1.103053781166063,
          0.8747230151714097,
          1.1427618086131146,
          1.0884770767948007,
          0.018359523694216263,
          0.05840997798192588,
          -1.2391290014141552,
          -1.296181045731021,
          -0.8887332871538806,
          -0.23456032680491165,
          0.8331448638773145,
          0.24946389872828809,
          -0.5583851428414339,
          -1.6825339615031922,
          1.1883565952538475,
          0.8553794074661895,
          0.600574420419182,
          0.6322393057773141,
          -0.6111798102511441,
          -0.7129929993343201,
          -0.13191366960066728,
          -2.086549345634095,
          -1.2944282860750111,
          -0.7668382337430868,
          -0.012030414860574743,
          1.0473654903555025,
          -0.677110218515026,
          -0.6909783025399621,
          0.6049468036074455,
          -0.33925801968699215,
          -0.19735030582817678,
          -1.3767593235238877,
          -1.8268986918367425,
          -0.8246164142011257,
          -1.2461764710336531,
          1.0779803445030067,
          0.592753213646832,
          -1.7661736170871576,
          -0.9697867014971933,
          1.662630823447494,
          0.41045393970333455,
          -0.7803868114552753,
          -0.3403884430122021,
          2.0139348199611584,
          -1.5400588993376187,
          -1.2155525186307272,
          -0.3413266240642806,
          0.2688487285658409,
          -0.4547811988897437,
          0.4008500978073652,
          0.5333243966653178,
          1.9293198084109082,
          -1.412673932806497,
          -0.9400824076378804,
          0.48502163853338665,
          0.1491532803026734,
          -0.38116730827138484,
          -0.881039496056569,
          0.3561620126336619,
          1.9636376771967603,
          -0.28098973199069216,
          0.9459807073237207,
          -0.8239976940070456,
          -0.17177805579083164,
          -0.45150497803643086,
          -1.2242830407172463,
          -0.517747453633957,
          -0.36853353096114033,
          -1.2660077556792828,
          0.43153341357301894,
          -2.0148730397232644,
          0.0619611179969558,
          -0.4933547729948514,
          -0.017350503213527536,
          0.39218455393464097,
          -1.0120832654272587,
          0.5137759979125835,
          0.3470347547097227,
          -0.7803624770413473,
          -0.9984240624711453,
          1.1226579397756151,
          -0.9531621899896159,
          -1.1400610100436397,
          0.7227567747392188,
          -1.7986076971636866,
          0.3523808637582861,
          1.5994152665586299,
          0.25776039243829135,
          -1.430537457590503,
          -0.39255184153996725,
          0.4910379010155916,
          2.480487659287149,
          -1.465343791671094,
          -0.9108807912459752,
          -0.07630301283561905,
          1.9404065668343375,
          0.4990136693681264,
          0.3541865406050927,
          -0.6549640067820476
         ],
         "yaxis": "y12"
        },
        {
         "line": {
          "color": "rgba(128, 128, 128, 1.0)",
          "dash": "solid",
          "shape": "linear",
          "width": 1.3
         },
         "marker": {
          "size": 2,
          "symbol": "circle"
         },
         "mode": "markers",
         "name": "D",
         "text": "",
         "type": "scatter",
         "x": [
          0.9533923532252154,
          0.7962578503151079,
          0.9446265933015333,
          -0.42864094189536345,
          -0.6905822967359128,
          0.545787353838866,
          -0.7495000133758046,
          -0.3762815578281219,
          0.3338145439069094,
          1.8164322972195024,
          -0.45792968633020076,
          0.37527095200432803,
          1.6257569004557955,
          -1.0553284569165717,
          -1.5696652241668305,
          -0.3228740712113491,
          0.1507472809239381,
          -0.5236479525340905,
          -1.4136103156819133,
          -0.25450762723785664,
          -0.3528814569744451,
          -0.5218846044634726,
          1.4625662999874716,
          -0.29412671346680097,
          1.0894037294964314,
          0.8454922650572088,
          1.1524461039633298,
          -0.3993380856970902,
          1.4481690182844273,
          0.5306664780946375,
          -0.3353654523770128,
          1.0164031310864774,
          0.5688651882963847,
          -0.7526355976340225,
          0.678666989205376,
          -0.676297494024862,
          -0.9994460323512003,
          -0.09574448606538073,
          -0.44460656961300205,
          -0.44951144023012246,
          -1.2048471417206936,
          0.7085546291673673,
          0.6547152374806319,
          -0.7423025231136463,
          -2.1840448982989344,
          -1.0761526288632624,
          -0.8821739194264769,
          0.16686387735840705,
          -1.6161118772902994,
          -2.20726383604153,
          1.0311954284225517,
          -0.242110444341512,
          -0.13962810666291445,
          0.5792425627063781,
          1.7064911400976197,
          1.0447748476017658,
          0.5514204827280627,
          -0.2762503662657573,
          0.7549544200480618,
          0.2775470665053151,
          -0.5982610550270542,
          -0.22943336333057485,
          -0.9634299159356345,
          0.9426435162691165,
          -2.78429824560043,
          -1.0727632114734371,
          -0.6725702929710772,
          -1.3972696238020141,
          -0.09263107503903131,
          -0.0852572909075391,
          1.6541989070099647,
          0.9381501595964749,
          1.0954607253099615,
          0.0963009934795626,
          -0.3485949014755212,
          -0.4694509996304064,
          0.24703932030270714,
          1.4068080908410796,
          -0.6683069699263524,
          1.0235858873351433,
          0.4496249563956825,
          0.39823683814607497,
          1.7915890976254676,
          -1.3276782228531736,
          0.9539407573453836,
          -0.11839409168110034,
          -0.4908515286224764,
          0.7214190615733209,
          -1.2964801667391652,
          0.8113597656016831,
          1.0927746445277344,
          0.15306711543042487,
          0.5150282622650163,
          -0.7743053253986879,
          -1.3428282038945936,
          -0.6916081901577839,
          -0.3848626572878707,
          -0.7531296637862062,
          -0.06521943121422427,
          -0.4175317297317254
         ],
         "xaxis": "x13",
         "y": [
          1.35799650121603,
          0.49031384851341386,
          0.8217900412184245,
          1.8480179079450132,
          1.2891957674160297,
          -1.65365200127266,
          0.10454661884657883,
          0.9506716710464106,
          -0.19641922014168325,
          0.9768571708759514,
          0.14020495319766363,
          -0.12537426752293807,
          0.44930617740675016,
          -2.2208536613578977,
          0.6170470273080931,
          1.185972681436933,
          1.1733625582842218,
          1.2292256810101445,
          0.07450998345320564,
          0.1151458760479426,
          0.28018438840182763,
          0.7223513102801838,
          -0.9954998509921545,
          1.7762467394262884,
          -1.798771758232789,
          -1.1355961233029268,
          1.0336082924616914,
          1.9064446864252091,
          0.8724039750469477,
          0.4739927604174638,
          0.332547688686496,
          -0.7417122895328502,
          -0.1306805505201772,
          0.8269101080866751,
          -1.0850132095479876,
          0.5395081602646972,
          -0.7948842629278595,
          0.46230114848173987,
          1.3988864697472683,
          -0.10820150105426884,
          -0.6364044200995346,
          0.66999827882666,
          0.708590161971385,
          0.5553804699720557,
          0.6816179967639676,
          -0.9941929601339952,
          -0.5808554254498477,
          0.9383726682347696,
          0.3240423424455391,
          -1.0385439846087516,
          -1.539542792561218,
          -0.961406758760432,
          0.02261058611178702,
          1.1002121793781972,
          0.6788455444403805,
          0.4927823986423535,
          0.3060554625276701,
          -0.206657643593115,
          0.12525764004808265,
          -2.0128651495818763,
          1.1276818269886617,
          0.9544309829196077,
          -0.20702002152668894,
          -0.9425080889409485,
          0.8166432279944357,
          0.7917779827298608,
          -0.7773306725417373,
          0.006113206575926991,
          0.2653593473830176,
          0.2968504982679135,
          0.8137227607709042,
          -0.17544034351489765,
          -0.33825098739707593,
          -1.699307948886646,
          0.758732502114384,
          -0.08836103472531166,
          2.251033328323059,
          -0.3242265920860937,
          -1.550932289507223,
          1.416420560331823,
          0.8228168780693008,
          0.3411632332780876,
          1.1235084777975795,
          0.26843534920251977,
          1.2380229735851842,
          -2.31966589624832,
          1.2194283245867084,
          -0.5927184450268074,
          0.12502297443507235,
          -0.520998348360788,
          0.08042225483731544,
          -1.3599580302861842,
          1.3514526144843164,
          -0.8689695804604732,
          0.10737726783367744,
          0.09641323245696796,
          2.285685243349205,
          -0.055633511678821815,
          -0.0018428827838383338,
          0.319891646443404
         ],
         "yaxis": "y13"
        },
        {
         "line": {
          "color": "rgba(128, 128, 128, 1.0)",
          "dash": "solid",
          "shape": "linear",
          "width": 1.3
         },
         "marker": {
          "size": 2,
          "symbol": "circle"
         },
         "mode": "markers",
         "name": "D",
         "text": "",
         "type": "scatter",
         "x": [
          0.06947627645146132,
          -1.1607331144368884,
          -1.0497237200184943,
          -1.5019722344727746,
          -0.35258467341524236,
          -0.2613228779269877,
          -0.06139124485561016,
          -0.44360043268460614,
          0.5872810423296456,
          1.6453995448818386,
          -0.7900626782826925,
          0.18850992933071747,
          1.7249806781280306,
          1.7419381851834321,
          0.12978630101315522,
          -0.6184924891150716,
          1.3239594395322758,
          -0.8221817143634784,
          0.1729970616350675,
          -0.06451233675875263,
          1.806990957117825,
          -0.07398636085416085,
          0.8577491295231231,
          0.7950606607627105,
          -0.21130922179843403,
          -0.33469796249196276,
          1.4981538840123534,
          -0.37300060573819865,
          -0.6636143565365548,
          0.21665831066383276,
          -0.6704273842363159,
          -0.5419693348508918,
          0.4827874038183322,
          0.11512264384583679,
          -1.995149410421762,
          -0.24652486006627924,
          -2.0379604789618577,
          1.5251422775071708,
          -0.09475683944237748,
          -0.4152216032207558,
          1.0538852176943854,
          0.9601525791285485,
          0.5000010334891224,
          1.2485272427426186,
          0.8235984689487181,
          0.474745927388093,
          -1.4936499081932895,
          0.1426436720132142,
          0.37031345404667415,
          0.31292079605749484,
          0.05974849585601801,
          0.12891917352285698,
          0.6460500265917863,
          0.7892432827025327,
          -0.4842582356008212,
          0.7010336915602854,
          2.0534288048468974,
          -0.675806191857299,
          -0.5346894222900018,
          0.11199315394758796,
          -1.6037419859915685,
          1.4675262838719447,
          -0.7155811026629516,
          -0.5697123833533212,
          0.13424980737666348,
          0.5363928716736676,
          -0.664561078210953,
          -0.5909996720870854,
          -1.1243652440851621,
          2.4349656634141517,
          0.0850612426247251,
          -0.0372770038794375,
          -0.6028590721689905,
          0.9092158213811373,
          1.402430473603624,
          0.41745183831560073,
          -0.20313523445200599,
          1.0764350847389748,
          1.4423102931701026,
          1.218346375994514,
          0.3355120938252802,
          0.4733931746569244,
          -0.2393567851765012,
          1.9489466889539204,
          -0.5848238215674598,
          -1.6455253042673064,
          1.4180247584903094,
          -0.8569693533754201,
          1.0282726134368507,
          -0.515658480873396,
          0.06909637953208433,
          -1.1426104768023915,
          0.051162969647525966,
          -0.1644305552111428,
          0.01357270195562589,
          1.5799064467391917,
          0.1833104094552434,
          -2.323886990231017,
          -0.21440703575713888,
          -0.3262744037676085
         ],
         "xaxis": "x14",
         "y": [
          1.35799650121603,
          0.49031384851341386,
          0.8217900412184245,
          1.8480179079450132,
          1.2891957674160297,
          -1.65365200127266,
          0.10454661884657883,
          0.9506716710464106,
          -0.19641922014168325,
          0.9768571708759514,
          0.14020495319766363,
          -0.12537426752293807,
          0.44930617740675016,
          -2.2208536613578977,
          0.6170470273080931,
          1.185972681436933,
          1.1733625582842218,
          1.2292256810101445,
          0.07450998345320564,
          0.1151458760479426,
          0.28018438840182763,
          0.7223513102801838,
          -0.9954998509921545,
          1.7762467394262884,
          -1.798771758232789,
          -1.1355961233029268,
          1.0336082924616914,
          1.9064446864252091,
          0.8724039750469477,
          0.4739927604174638,
          0.332547688686496,
          -0.7417122895328502,
          -0.1306805505201772,
          0.8269101080866751,
          -1.0850132095479876,
          0.5395081602646972,
          -0.7948842629278595,
          0.46230114848173987,
          1.3988864697472683,
          -0.10820150105426884,
          -0.6364044200995346,
          0.66999827882666,
          0.708590161971385,
          0.5553804699720557,
          0.6816179967639676,
          -0.9941929601339952,
          -0.5808554254498477,
          0.9383726682347696,
          0.3240423424455391,
          -1.0385439846087516,
          -1.539542792561218,
          -0.961406758760432,
          0.02261058611178702,
          1.1002121793781972,
          0.6788455444403805,
          0.4927823986423535,
          0.3060554625276701,
          -0.206657643593115,
          0.12525764004808265,
          -2.0128651495818763,
          1.1276818269886617,
          0.9544309829196077,
          -0.20702002152668894,
          -0.9425080889409485,
          0.8166432279944357,
          0.7917779827298608,
          -0.7773306725417373,
          0.006113206575926991,
          0.2653593473830176,
          0.2968504982679135,
          0.8137227607709042,
          -0.17544034351489765,
          -0.33825098739707593,
          -1.699307948886646,
          0.758732502114384,
          -0.08836103472531166,
          2.251033328323059,
          -0.3242265920860937,
          -1.550932289507223,
          1.416420560331823,
          0.8228168780693008,
          0.3411632332780876,
          1.1235084777975795,
          0.26843534920251977,
          1.2380229735851842,
          -2.31966589624832,
          1.2194283245867084,
          -0.5927184450268074,
          0.12502297443507235,
          -0.520998348360788,
          0.08042225483731544,
          -1.3599580302861842,
          1.3514526144843164,
          -0.8689695804604732,
          0.10737726783367744,
          0.09641323245696796,
          2.285685243349205,
          -0.055633511678821815,
          -0.0018428827838383338,
          0.319891646443404
         ],
         "yaxis": "y14"
        },
        {
         "line": {
          "color": "rgba(128, 128, 128, 1.0)",
          "dash": "solid",
          "shape": "linear",
          "width": 1.3
         },
         "marker": {
          "size": 2,
          "symbol": "circle"
         },
         "mode": "markers",
         "name": "D",
         "text": "",
         "type": "scatter",
         "x": [
          0.38624200232466965,
          -1.103053781166063,
          0.8747230151714097,
          1.1427618086131146,
          1.0884770767948007,
          0.018359523694216263,
          0.05840997798192588,
          -1.2391290014141552,
          -1.296181045731021,
          -0.8887332871538806,
          -0.23456032680491165,
          0.8331448638773145,
          0.24946389872828809,
          -0.5583851428414339,
          -1.6825339615031922,
          1.1883565952538475,
          0.8553794074661895,
          0.600574420419182,
          0.6322393057773141,
          -0.6111798102511441,
          -0.7129929993343201,
          -0.13191366960066728,
          -2.086549345634095,
          -1.2944282860750111,
          -0.7668382337430868,
          -0.012030414860574743,
          1.0473654903555025,
          -0.677110218515026,
          -0.6909783025399621,
          0.6049468036074455,
          -0.33925801968699215,
          -0.19735030582817678,
          -1.3767593235238877,
          -1.8268986918367425,
          -0.8246164142011257,
          -1.2461764710336531,
          1.0779803445030067,
          0.592753213646832,
          -1.7661736170871576,
          -0.9697867014971933,
          1.662630823447494,
          0.41045393970333455,
          -0.7803868114552753,
          -0.3403884430122021,
          2.0139348199611584,
          -1.5400588993376187,
          -1.2155525186307272,
          -0.3413266240642806,
          0.2688487285658409,
          -0.4547811988897437,
          0.4008500978073652,
          0.5333243966653178,
          1.9293198084109082,
          -1.412673932806497,
          -0.9400824076378804,
          0.48502163853338665,
          0.1491532803026734,
          -0.38116730827138484,
          -0.881039496056569,
          0.3561620126336619,
          1.9636376771967603,
          -0.28098973199069216,
          0.9459807073237207,
          -0.8239976940070456,
          -0.17177805579083164,
          -0.45150497803643086,
          -1.2242830407172463,
          -0.517747453633957,
          -0.36853353096114033,
          -1.2660077556792828,
          0.43153341357301894,
          -2.0148730397232644,
          0.0619611179969558,
          -0.4933547729948514,
          -0.017350503213527536,
          0.39218455393464097,
          -1.0120832654272587,
          0.5137759979125835,
          0.3470347547097227,
          -0.7803624770413473,
          -0.9984240624711453,
          1.1226579397756151,
          -0.9531621899896159,
          -1.1400610100436397,
          0.7227567747392188,
          -1.7986076971636866,
          0.3523808637582861,
          1.5994152665586299,
          0.25776039243829135,
          -1.430537457590503,
          -0.39255184153996725,
          0.4910379010155916,
          2.480487659287149,
          -1.465343791671094,
          -0.9108807912459752,
          -0.07630301283561905,
          1.9404065668343375,
          0.4990136693681264,
          0.3541865406050927,
          -0.6549640067820476
         ],
         "xaxis": "x15",
         "y": [
          1.35799650121603,
          0.49031384851341386,
          0.8217900412184245,
          1.8480179079450132,
          1.2891957674160297,
          -1.65365200127266,
          0.10454661884657883,
          0.9506716710464106,
          -0.19641922014168325,
          0.9768571708759514,
          0.14020495319766363,
          -0.12537426752293807,
          0.44930617740675016,
          -2.2208536613578977,
          0.6170470273080931,
          1.185972681436933,
          1.1733625582842218,
          1.2292256810101445,
          0.07450998345320564,
          0.1151458760479426,
          0.28018438840182763,
          0.7223513102801838,
          -0.9954998509921545,
          1.7762467394262884,
          -1.798771758232789,
          -1.1355961233029268,
          1.0336082924616914,
          1.9064446864252091,
          0.8724039750469477,
          0.4739927604174638,
          0.332547688686496,
          -0.7417122895328502,
          -0.1306805505201772,
          0.8269101080866751,
          -1.0850132095479876,
          0.5395081602646972,
          -0.7948842629278595,
          0.46230114848173987,
          1.3988864697472683,
          -0.10820150105426884,
          -0.6364044200995346,
          0.66999827882666,
          0.708590161971385,
          0.5553804699720557,
          0.6816179967639676,
          -0.9941929601339952,
          -0.5808554254498477,
          0.9383726682347696,
          0.3240423424455391,
          -1.0385439846087516,
          -1.539542792561218,
          -0.961406758760432,
          0.02261058611178702,
          1.1002121793781972,
          0.6788455444403805,
          0.4927823986423535,
          0.3060554625276701,
          -0.206657643593115,
          0.12525764004808265,
          -2.0128651495818763,
          1.1276818269886617,
          0.9544309829196077,
          -0.20702002152668894,
          -0.9425080889409485,
          0.8166432279944357,
          0.7917779827298608,
          -0.7773306725417373,
          0.006113206575926991,
          0.2653593473830176,
          0.2968504982679135,
          0.8137227607709042,
          -0.17544034351489765,
          -0.33825098739707593,
          -1.699307948886646,
          0.758732502114384,
          -0.08836103472531166,
          2.251033328323059,
          -0.3242265920860937,
          -1.550932289507223,
          1.416420560331823,
          0.8228168780693008,
          0.3411632332780876,
          1.1235084777975795,
          0.26843534920251977,
          1.2380229735851842,
          -2.31966589624832,
          1.2194283245867084,
          -0.5927184450268074,
          0.12502297443507235,
          -0.520998348360788,
          0.08042225483731544,
          -1.3599580302861842,
          1.3514526144843164,
          -0.8689695804604732,
          0.10737726783367744,
          0.09641323245696796,
          2.285685243349205,
          -0.055633511678821815,
          -0.0018428827838383338,
          0.319891646443404
         ],
         "yaxis": "y15"
        },
        {
         "histfunc": "count",
         "histnorm": "",
         "marker": {
          "color": "rgba(128, 0, 128, 1.0)",
          "line": {
           "color": "#4D5663",
           "width": 1.3
          }
         },
         "name": "D",
         "nbinsx": 10,
         "opacity": 0.8,
         "orientation": "v",
         "type": "histogram",
         "x": [
          1.35799650121603,
          0.49031384851341386,
          0.8217900412184245,
          1.8480179079450132,
          1.2891957674160297,
          -1.65365200127266,
          0.10454661884657883,
          0.9506716710464106,
          -0.19641922014168325,
          0.9768571708759514,
          0.14020495319766363,
          -0.12537426752293807,
          0.44930617740675016,
          -2.2208536613578977,
          0.6170470273080931,
          1.185972681436933,
          1.1733625582842218,
          1.2292256810101445,
          0.07450998345320564,
          0.1151458760479426,
          0.28018438840182763,
          0.7223513102801838,
          -0.9954998509921545,
          1.7762467394262884,
          -1.798771758232789,
          -1.1355961233029268,
          1.0336082924616914,
          1.9064446864252091,
          0.8724039750469477,
          0.4739927604174638,
          0.332547688686496,
          -0.7417122895328502,
          -0.1306805505201772,
          0.8269101080866751,
          -1.0850132095479876,
          0.5395081602646972,
          -0.7948842629278595,
          0.46230114848173987,
          1.3988864697472683,
          -0.10820150105426884,
          -0.6364044200995346,
          0.66999827882666,
          0.708590161971385,
          0.5553804699720557,
          0.6816179967639676,
          -0.9941929601339952,
          -0.5808554254498477,
          0.9383726682347696,
          0.3240423424455391,
          -1.0385439846087516,
          -1.539542792561218,
          -0.961406758760432,
          0.02261058611178702,
          1.1002121793781972,
          0.6788455444403805,
          0.4927823986423535,
          0.3060554625276701,
          -0.206657643593115,
          0.12525764004808265,
          -2.0128651495818763,
          1.1276818269886617,
          0.9544309829196077,
          -0.20702002152668894,
          -0.9425080889409485,
          0.8166432279944357,
          0.7917779827298608,
          -0.7773306725417373,
          0.006113206575926991,
          0.2653593473830176,
          0.2968504982679135,
          0.8137227607709042,
          -0.17544034351489765,
          -0.33825098739707593,
          -1.699307948886646,
          0.758732502114384,
          -0.08836103472531166,
          2.251033328323059,
          -0.3242265920860937,
          -1.550932289507223,
          1.416420560331823,
          0.8228168780693008,
          0.3411632332780876,
          1.1235084777975795,
          0.26843534920251977,
          1.2380229735851842,
          -2.31966589624832,
          1.2194283245867084,
          -0.5927184450268074,
          0.12502297443507235,
          -0.520998348360788,
          0.08042225483731544,
          -1.3599580302861842,
          1.3514526144843164,
          -0.8689695804604732,
          0.10737726783367744,
          0.09641323245696796,
          2.285685243349205,
          -0.055633511678821815,
          -0.0018428827838383338,
          0.319891646443404
         ],
         "xaxis": "x16",
         "yaxis": "y16"
        }
       ],
       "layout": {
        "bargap": 0.02,
        "legend": {
         "bgcolor": "#F5F6F9",
         "font": {
          "color": "#4D5663"
         }
        },
        "paper_bgcolor": "#F5F6F9",
        "plot_bgcolor": "#F5F6F9",
        "showlegend": false,
        "template": {
         "data": {
          "bar": [
           {
            "error_x": {
             "color": "#2a3f5f"
            },
            "error_y": {
             "color": "#2a3f5f"
            },
            "marker": {
             "line": {
              "color": "#E5ECF6",
              "width": 0.5
             }
            },
            "type": "bar"
           }
          ],
          "barpolar": [
           {
            "marker": {
             "line": {
              "color": "#E5ECF6",
              "width": 0.5
             }
            },
            "type": "barpolar"
           }
          ],
          "carpet": [
           {
            "aaxis": {
             "endlinecolor": "#2a3f5f",
             "gridcolor": "white",
             "linecolor": "white",
             "minorgridcolor": "white",
             "startlinecolor": "#2a3f5f"
            },
            "baxis": {
             "endlinecolor": "#2a3f5f",
             "gridcolor": "white",
             "linecolor": "white",
             "minorgridcolor": "white",
             "startlinecolor": "#2a3f5f"
            },
            "type": "carpet"
           }
          ],
          "choropleth": [
           {
            "colorbar": {
             "outlinewidth": 0,
             "ticks": ""
            },
            "type": "choropleth"
           }
          ],
          "contour": [
           {
            "colorbar": {
             "outlinewidth": 0,
             "ticks": ""
            },
            "colorscale": [
             [
              0,
              "#0d0887"
             ],
             [
              0.1111111111111111,
              "#46039f"
             ],
             [
              0.2222222222222222,
              "#7201a8"
             ],
             [
              0.3333333333333333,
              "#9c179e"
             ],
             [
              0.4444444444444444,
              "#bd3786"
             ],
             [
              0.5555555555555556,
              "#d8576b"
             ],
             [
              0.6666666666666666,
              "#ed7953"
             ],
             [
              0.7777777777777778,
              "#fb9f3a"
             ],
             [
              0.8888888888888888,
              "#fdca26"
             ],
             [
              1,
              "#f0f921"
             ]
            ],
            "type": "contour"
           }
          ],
          "contourcarpet": [
           {
            "colorbar": {
             "outlinewidth": 0,
             "ticks": ""
            },
            "type": "contourcarpet"
           }
          ],
          "heatmap": [
           {
            "colorbar": {
             "outlinewidth": 0,
             "ticks": ""
            },
            "colorscale": [
             [
              0,
              "#0d0887"
             ],
             [
              0.1111111111111111,
              "#46039f"
             ],
             [
              0.2222222222222222,
              "#7201a8"
             ],
             [
              0.3333333333333333,
              "#9c179e"
             ],
             [
              0.4444444444444444,
              "#bd3786"
             ],
             [
              0.5555555555555556,
              "#d8576b"
             ],
             [
              0.6666666666666666,
              "#ed7953"
             ],
             [
              0.7777777777777778,
              "#fb9f3a"
             ],
             [
              0.8888888888888888,
              "#fdca26"
             ],
             [
              1,
              "#f0f921"
             ]
            ],
            "type": "heatmap"
           }
          ],
          "heatmapgl": [
           {
            "colorbar": {
             "outlinewidth": 0,
             "ticks": ""
            },
            "colorscale": [
             [
              0,
              "#0d0887"
             ],
             [
              0.1111111111111111,
              "#46039f"
             ],
             [
              0.2222222222222222,
              "#7201a8"
             ],
             [
              0.3333333333333333,
              "#9c179e"
             ],
             [
              0.4444444444444444,
              "#bd3786"
             ],
             [
              0.5555555555555556,
              "#d8576b"
             ],
             [
              0.6666666666666666,
              "#ed7953"
             ],
             [
              0.7777777777777778,
              "#fb9f3a"
             ],
             [
              0.8888888888888888,
              "#fdca26"
             ],
             [
              1,
              "#f0f921"
             ]
            ],
            "type": "heatmapgl"
           }
          ],
          "histogram": [
           {
            "marker": {
             "colorbar": {
              "outlinewidth": 0,
              "ticks": ""
             }
            },
            "type": "histogram"
           }
          ],
          "histogram2d": [
           {
            "colorbar": {
             "outlinewidth": 0,
             "ticks": ""
            },
            "colorscale": [
             [
              0,
              "#0d0887"
             ],
             [
              0.1111111111111111,
              "#46039f"
             ],
             [
              0.2222222222222222,
              "#7201a8"
             ],
             [
              0.3333333333333333,
              "#9c179e"
             ],
             [
              0.4444444444444444,
              "#bd3786"
             ],
             [
              0.5555555555555556,
              "#d8576b"
             ],
             [
              0.6666666666666666,
              "#ed7953"
             ],
             [
              0.7777777777777778,
              "#fb9f3a"
             ],
             [
              0.8888888888888888,
              "#fdca26"
             ],
             [
              1,
              "#f0f921"
             ]
            ],
            "type": "histogram2d"
           }
          ],
          "histogram2dcontour": [
           {
            "colorbar": {
             "outlinewidth": 0,
             "ticks": ""
            },
            "colorscale": [
             [
              0,
              "#0d0887"
             ],
             [
              0.1111111111111111,
              "#46039f"
             ],
             [
              0.2222222222222222,
              "#7201a8"
             ],
             [
              0.3333333333333333,
              "#9c179e"
             ],
             [
              0.4444444444444444,
              "#bd3786"
             ],
             [
              0.5555555555555556,
              "#d8576b"
             ],
             [
              0.6666666666666666,
              "#ed7953"
             ],
             [
              0.7777777777777778,
              "#fb9f3a"
             ],
             [
              0.8888888888888888,
              "#fdca26"
             ],
             [
              1,
              "#f0f921"
             ]
            ],
            "type": "histogram2dcontour"
           }
          ],
          "mesh3d": [
           {
            "colorbar": {
             "outlinewidth": 0,
             "ticks": ""
            },
            "type": "mesh3d"
           }
          ],
          "parcoords": [
           {
            "line": {
             "colorbar": {
              "outlinewidth": 0,
              "ticks": ""
             }
            },
            "type": "parcoords"
           }
          ],
          "pie": [
           {
            "automargin": true,
            "type": "pie"
           }
          ],
          "scatter": [
           {
            "marker": {
             "colorbar": {
              "outlinewidth": 0,
              "ticks": ""
             }
            },
            "type": "scatter"
           }
          ],
          "scatter3d": [
           {
            "line": {
             "colorbar": {
              "outlinewidth": 0,
              "ticks": ""
             }
            },
            "marker": {
             "colorbar": {
              "outlinewidth": 0,
              "ticks": ""
             }
            },
            "type": "scatter3d"
           }
          ],
          "scattercarpet": [
           {
            "marker": {
             "colorbar": {
              "outlinewidth": 0,
              "ticks": ""
             }
            },
            "type": "scattercarpet"
           }
          ],
          "scattergeo": [
           {
            "marker": {
             "colorbar": {
              "outlinewidth": 0,
              "ticks": ""
             }
            },
            "type": "scattergeo"
           }
          ],
          "scattergl": [
           {
            "marker": {
             "colorbar": {
              "outlinewidth": 0,
              "ticks": ""
             }
            },
            "type": "scattergl"
           }
          ],
          "scattermapbox": [
           {
            "marker": {
             "colorbar": {
              "outlinewidth": 0,
              "ticks": ""
             }
            },
            "type": "scattermapbox"
           }
          ],
          "scatterpolar": [
           {
            "marker": {
             "colorbar": {
              "outlinewidth": 0,
              "ticks": ""
             }
            },
            "type": "scatterpolar"
           }
          ],
          "scatterpolargl": [
           {
            "marker": {
             "colorbar": {
              "outlinewidth": 0,
              "ticks": ""
             }
            },
            "type": "scatterpolargl"
           }
          ],
          "scatterternary": [
           {
            "marker": {
             "colorbar": {
              "outlinewidth": 0,
              "ticks": ""
             }
            },
            "type": "scatterternary"
           }
          ],
          "surface": [
           {
            "colorbar": {
             "outlinewidth": 0,
             "ticks": ""
            },
            "colorscale": [
             [
              0,
              "#0d0887"
             ],
             [
              0.1111111111111111,
              "#46039f"
             ],
             [
              0.2222222222222222,
              "#7201a8"
             ],
             [
              0.3333333333333333,
              "#9c179e"
             ],
             [
              0.4444444444444444,
              "#bd3786"
             ],
             [
              0.5555555555555556,
              "#d8576b"
             ],
             [
              0.6666666666666666,
              "#ed7953"
             ],
             [
              0.7777777777777778,
              "#fb9f3a"
             ],
             [
              0.8888888888888888,
              "#fdca26"
             ],
             [
              1,
              "#f0f921"
             ]
            ],
            "type": "surface"
           }
          ],
          "table": [
           {
            "cells": {
             "fill": {
              "color": "#EBF0F8"
             },
             "line": {
              "color": "white"
             }
            },
            "header": {
             "fill": {
              "color": "#C8D4E3"
             },
             "line": {
              "color": "white"
             }
            },
            "type": "table"
           }
          ]
         },
         "layout": {
          "annotationdefaults": {
           "arrowcolor": "#2a3f5f",
           "arrowhead": 0,
           "arrowwidth": 1
          },
          "coloraxis": {
           "colorbar": {
            "outlinewidth": 0,
            "ticks": ""
           }
          },
          "colorscale": {
           "diverging": [
            [
             0,
             "#8e0152"
            ],
            [
             0.1,
             "#c51b7d"
            ],
            [
             0.2,
             "#de77ae"
            ],
            [
             0.3,
             "#f1b6da"
            ],
            [
             0.4,
             "#fde0ef"
            ],
            [
             0.5,
             "#f7f7f7"
            ],
            [
             0.6,
             "#e6f5d0"
            ],
            [
             0.7,
             "#b8e186"
            ],
            [
             0.8,
             "#7fbc41"
            ],
            [
             0.9,
             "#4d9221"
            ],
            [
             1,
             "#276419"
            ]
           ],
           "sequential": [
            [
             0,
             "#0d0887"
            ],
            [
             0.1111111111111111,
             "#46039f"
            ],
            [
             0.2222222222222222,
             "#7201a8"
            ],
            [
             0.3333333333333333,
             "#9c179e"
            ],
            [
             0.4444444444444444,
             "#bd3786"
            ],
            [
             0.5555555555555556,
             "#d8576b"
            ],
            [
             0.6666666666666666,
             "#ed7953"
            ],
            [
             0.7777777777777778,
             "#fb9f3a"
            ],
            [
             0.8888888888888888,
             "#fdca26"
            ],
            [
             1,
             "#f0f921"
            ]
           ],
           "sequentialminus": [
            [
             0,
             "#0d0887"
            ],
            [
             0.1111111111111111,
             "#46039f"
            ],
            [
             0.2222222222222222,
             "#7201a8"
            ],
            [
             0.3333333333333333,
             "#9c179e"
            ],
            [
             0.4444444444444444,
             "#bd3786"
            ],
            [
             0.5555555555555556,
             "#d8576b"
            ],
            [
             0.6666666666666666,
             "#ed7953"
            ],
            [
             0.7777777777777778,
             "#fb9f3a"
            ],
            [
             0.8888888888888888,
             "#fdca26"
            ],
            [
             1,
             "#f0f921"
            ]
           ]
          },
          "colorway": [
           "#636efa",
           "#EF553B",
           "#00cc96",
           "#ab63fa",
           "#FFA15A",
           "#19d3f3",
           "#FF6692",
           "#B6E880",
           "#FF97FF",
           "#FECB52"
          ],
          "font": {
           "color": "#2a3f5f"
          },
          "geo": {
           "bgcolor": "white",
           "lakecolor": "white",
           "landcolor": "#E5ECF6",
           "showlakes": true,
           "showland": true,
           "subunitcolor": "white"
          },
          "hoverlabel": {
           "align": "left"
          },
          "hovermode": "closest",
          "mapbox": {
           "style": "light"
          },
          "paper_bgcolor": "white",
          "plot_bgcolor": "#E5ECF6",
          "polar": {
           "angularaxis": {
            "gridcolor": "white",
            "linecolor": "white",
            "ticks": ""
           },
           "bgcolor": "#E5ECF6",
           "radialaxis": {
            "gridcolor": "white",
            "linecolor": "white",
            "ticks": ""
           }
          },
          "scene": {
           "xaxis": {
            "backgroundcolor": "#E5ECF6",
            "gridcolor": "white",
            "gridwidth": 2,
            "linecolor": "white",
            "showbackground": true,
            "ticks": "",
            "zerolinecolor": "white"
           },
           "yaxis": {
            "backgroundcolor": "#E5ECF6",
            "gridcolor": "white",
            "gridwidth": 2,
            "linecolor": "white",
            "showbackground": true,
            "ticks": "",
            "zerolinecolor": "white"
           },
           "zaxis": {
            "backgroundcolor": "#E5ECF6",
            "gridcolor": "white",
            "gridwidth": 2,
            "linecolor": "white",
            "showbackground": true,
            "ticks": "",
            "zerolinecolor": "white"
           }
          },
          "shapedefaults": {
           "line": {
            "color": "#2a3f5f"
           }
          },
          "ternary": {
           "aaxis": {
            "gridcolor": "white",
            "linecolor": "white",
            "ticks": ""
           },
           "baxis": {
            "gridcolor": "white",
            "linecolor": "white",
            "ticks": ""
           },
           "bgcolor": "#E5ECF6",
           "caxis": {
            "gridcolor": "white",
            "linecolor": "white",
            "ticks": ""
           }
          },
          "title": {
           "x": 0.05
          },
          "xaxis": {
           "automargin": true,
           "gridcolor": "white",
           "linecolor": "white",
           "ticks": "",
           "title": {
            "standoff": 15
           },
           "zerolinecolor": "white",
           "zerolinewidth": 2
          },
          "yaxis": {
           "automargin": true,
           "gridcolor": "white",
           "linecolor": "white",
           "ticks": "",
           "title": {
            "standoff": 15
           },
           "zerolinecolor": "white",
           "zerolinewidth": 2
          }
         }
        },
        "title": {
         "font": {
          "color": "#4D5663"
         }
        },
        "xaxis": {
         "anchor": "y",
         "domain": [
          0,
          0.2125
         ],
         "gridcolor": "#E1E5ED",
         "showgrid": false,
         "tickfont": {
          "color": "#4D5663"
         },
         "title": {
          "font": {
           "color": "#4D5663"
          },
          "text": ""
         },
         "zerolinecolor": "#E1E5ED"
        },
        "xaxis10": {
         "anchor": "y10",
         "domain": [
          0.2625,
          0.475
         ],
         "gridcolor": "#E1E5ED",
         "showgrid": false,
         "tickfont": {
          "color": "#4D5663"
         },
         "title": {
          "font": {
           "color": "#4D5663"
          },
          "text": ""
         },
         "zerolinecolor": "#E1E5ED"
        },
        "xaxis11": {
         "anchor": "y11",
         "domain": [
          0.525,
          0.7375
         ],
         "gridcolor": "#E1E5ED",
         "showgrid": false,
         "tickfont": {
          "color": "#4D5663"
         },
         "title": {
          "font": {
           "color": "#4D5663"
          },
          "text": ""
         },
         "zerolinecolor": "#E1E5ED"
        },
        "xaxis12": {
         "anchor": "y12",
         "domain": [
          0.7875,
          1
         ],
         "gridcolor": "#E1E5ED",
         "showgrid": false,
         "tickfont": {
          "color": "#4D5663"
         },
         "title": {
          "font": {
           "color": "#4D5663"
          },
          "text": ""
         },
         "zerolinecolor": "#E1E5ED"
        },
        "xaxis13": {
         "anchor": "y13",
         "domain": [
          0,
          0.2125
         ],
         "gridcolor": "#E1E5ED",
         "showgrid": false,
         "tickfont": {
          "color": "#4D5663"
         },
         "title": {
          "font": {
           "color": "#4D5663"
          },
          "text": ""
         },
         "zerolinecolor": "#E1E5ED"
        },
        "xaxis14": {
         "anchor": "y14",
         "domain": [
          0.2625,
          0.475
         ],
         "gridcolor": "#E1E5ED",
         "showgrid": false,
         "tickfont": {
          "color": "#4D5663"
         },
         "title": {
          "font": {
           "color": "#4D5663"
          },
          "text": ""
         },
         "zerolinecolor": "#E1E5ED"
        },
        "xaxis15": {
         "anchor": "y15",
         "domain": [
          0.525,
          0.7375
         ],
         "gridcolor": "#E1E5ED",
         "showgrid": false,
         "tickfont": {
          "color": "#4D5663"
         },
         "title": {
          "font": {
           "color": "#4D5663"
          },
          "text": ""
         },
         "zerolinecolor": "#E1E5ED"
        },
        "xaxis16": {
         "anchor": "y16",
         "domain": [
          0.7875,
          1
         ],
         "gridcolor": "#E1E5ED",
         "showgrid": false,
         "tickfont": {
          "color": "#4D5663"
         },
         "title": {
          "font": {
           "color": "#4D5663"
          },
          "text": ""
         },
         "zerolinecolor": "#E1E5ED"
        },
        "xaxis2": {
         "anchor": "y2",
         "domain": [
          0.2625,
          0.475
         ],
         "gridcolor": "#E1E5ED",
         "showgrid": false,
         "tickfont": {
          "color": "#4D5663"
         },
         "title": {
          "font": {
           "color": "#4D5663"
          },
          "text": ""
         },
         "zerolinecolor": "#E1E5ED"
        },
        "xaxis3": {
         "anchor": "y3",
         "domain": [
          0.525,
          0.7375
         ],
         "gridcolor": "#E1E5ED",
         "showgrid": false,
         "tickfont": {
          "color": "#4D5663"
         },
         "title": {
          "font": {
           "color": "#4D5663"
          },
          "text": ""
         },
         "zerolinecolor": "#E1E5ED"
        },
        "xaxis4": {
         "anchor": "y4",
         "domain": [
          0.7875,
          1
         ],
         "gridcolor": "#E1E5ED",
         "showgrid": false,
         "tickfont": {
          "color": "#4D5663"
         },
         "title": {
          "font": {
           "color": "#4D5663"
          },
          "text": ""
         },
         "zerolinecolor": "#E1E5ED"
        },
        "xaxis5": {
         "anchor": "y5",
         "domain": [
          0,
          0.2125
         ],
         "gridcolor": "#E1E5ED",
         "showgrid": false,
         "tickfont": {
          "color": "#4D5663"
         },
         "title": {
          "font": {
           "color": "#4D5663"
          },
          "text": ""
         },
         "zerolinecolor": "#E1E5ED"
        },
        "xaxis6": {
         "anchor": "y6",
         "domain": [
          0.2625,
          0.475
         ],
         "gridcolor": "#E1E5ED",
         "showgrid": false,
         "tickfont": {
          "color": "#4D5663"
         },
         "title": {
          "font": {
           "color": "#4D5663"
          },
          "text": ""
         },
         "zerolinecolor": "#E1E5ED"
        },
        "xaxis7": {
         "anchor": "y7",
         "domain": [
          0.525,
          0.7375
         ],
         "gridcolor": "#E1E5ED",
         "showgrid": false,
         "tickfont": {
          "color": "#4D5663"
         },
         "title": {
          "font": {
           "color": "#4D5663"
          },
          "text": ""
         },
         "zerolinecolor": "#E1E5ED"
        },
        "xaxis8": {
         "anchor": "y8",
         "domain": [
          0.7875,
          1
         ],
         "gridcolor": "#E1E5ED",
         "showgrid": false,
         "tickfont": {
          "color": "#4D5663"
         },
         "title": {
          "font": {
           "color": "#4D5663"
          },
          "text": ""
         },
         "zerolinecolor": "#E1E5ED"
        },
        "xaxis9": {
         "anchor": "y9",
         "domain": [
          0,
          0.2125
         ],
         "gridcolor": "#E1E5ED",
         "showgrid": false,
         "tickfont": {
          "color": "#4D5663"
         },
         "title": {
          "font": {
           "color": "#4D5663"
          },
          "text": ""
         },
         "zerolinecolor": "#E1E5ED"
        },
        "yaxis": {
         "anchor": "x",
         "domain": [
          0.8025,
          1
         ],
         "gridcolor": "#E1E5ED",
         "showgrid": false,
         "tickfont": {
          "color": "#4D5663"
         },
         "title": {
          "font": {
           "color": "#4D5663"
          },
          "text": ""
         },
         "zerolinecolor": "#E1E5ED"
        },
        "yaxis10": {
         "anchor": "x10",
         "domain": [
          0.2675,
          0.465
         ],
         "gridcolor": "#E1E5ED",
         "showgrid": false,
         "tickfont": {
          "color": "#4D5663"
         },
         "title": {
          "font": {
           "color": "#4D5663"
          },
          "text": ""
         },
         "zerolinecolor": "#E1E5ED"
        },
        "yaxis11": {
         "anchor": "x11",
         "domain": [
          0.2675,
          0.465
         ],
         "gridcolor": "#E1E5ED",
         "showgrid": false,
         "tickfont": {
          "color": "#4D5663"
         },
         "title": {
          "font": {
           "color": "#4D5663"
          },
          "text": ""
         },
         "zerolinecolor": "#E1E5ED"
        },
        "yaxis12": {
         "anchor": "x12",
         "domain": [
          0.2675,
          0.465
         ],
         "gridcolor": "#E1E5ED",
         "showgrid": false,
         "tickfont": {
          "color": "#4D5663"
         },
         "title": {
          "font": {
           "color": "#4D5663"
          },
          "text": ""
         },
         "zerolinecolor": "#E1E5ED"
        },
        "yaxis13": {
         "anchor": "x13",
         "domain": [
          0,
          0.1975
         ],
         "gridcolor": "#E1E5ED",
         "showgrid": false,
         "tickfont": {
          "color": "#4D5663"
         },
         "title": {
          "font": {
           "color": "#4D5663"
          },
          "text": ""
         },
         "zerolinecolor": "#E1E5ED"
        },
        "yaxis14": {
         "anchor": "x14",
         "domain": [
          0,
          0.1975
         ],
         "gridcolor": "#E1E5ED",
         "showgrid": false,
         "tickfont": {
          "color": "#4D5663"
         },
         "title": {
          "font": {
           "color": "#4D5663"
          },
          "text": ""
         },
         "zerolinecolor": "#E1E5ED"
        },
        "yaxis15": {
         "anchor": "x15",
         "domain": [
          0,
          0.1975
         ],
         "gridcolor": "#E1E5ED",
         "showgrid": false,
         "tickfont": {
          "color": "#4D5663"
         },
         "title": {
          "font": {
           "color": "#4D5663"
          },
          "text": ""
         },
         "zerolinecolor": "#E1E5ED"
        },
        "yaxis16": {
         "anchor": "x16",
         "domain": [
          0,
          0.1975
         ],
         "gridcolor": "#E1E5ED",
         "showgrid": false,
         "tickfont": {
          "color": "#4D5663"
         },
         "title": {
          "font": {
           "color": "#4D5663"
          },
          "text": ""
         },
         "zerolinecolor": "#E1E5ED"
        },
        "yaxis2": {
         "anchor": "x2",
         "domain": [
          0.8025,
          1
         ],
         "gridcolor": "#E1E5ED",
         "showgrid": false,
         "tickfont": {
          "color": "#4D5663"
         },
         "title": {
          "font": {
           "color": "#4D5663"
          },
          "text": ""
         },
         "zerolinecolor": "#E1E5ED"
        },
        "yaxis3": {
         "anchor": "x3",
         "domain": [
          0.8025,
          1
         ],
         "gridcolor": "#E1E5ED",
         "showgrid": false,
         "tickfont": {
          "color": "#4D5663"
         },
         "title": {
          "font": {
           "color": "#4D5663"
          },
          "text": ""
         },
         "zerolinecolor": "#E1E5ED"
        },
        "yaxis4": {
         "anchor": "x4",
         "domain": [
          0.8025,
          1
         ],
         "gridcolor": "#E1E5ED",
         "showgrid": false,
         "tickfont": {
          "color": "#4D5663"
         },
         "title": {
          "font": {
           "color": "#4D5663"
          },
          "text": ""
         },
         "zerolinecolor": "#E1E5ED"
        },
        "yaxis5": {
         "anchor": "x5",
         "domain": [
          0.535,
          0.7325
         ],
         "gridcolor": "#E1E5ED",
         "showgrid": false,
         "tickfont": {
          "color": "#4D5663"
         },
         "title": {
          "font": {
           "color": "#4D5663"
          },
          "text": ""
         },
         "zerolinecolor": "#E1E5ED"
        },
        "yaxis6": {
         "anchor": "x6",
         "domain": [
          0.535,
          0.7325
         ],
         "gridcolor": "#E1E5ED",
         "showgrid": false,
         "tickfont": {
          "color": "#4D5663"
         },
         "title": {
          "font": {
           "color": "#4D5663"
          },
          "text": ""
         },
         "zerolinecolor": "#E1E5ED"
        },
        "yaxis7": {
         "anchor": "x7",
         "domain": [
          0.535,
          0.7325
         ],
         "gridcolor": "#E1E5ED",
         "showgrid": false,
         "tickfont": {
          "color": "#4D5663"
         },
         "title": {
          "font": {
           "color": "#4D5663"
          },
          "text": ""
         },
         "zerolinecolor": "#E1E5ED"
        },
        "yaxis8": {
         "anchor": "x8",
         "domain": [
          0.535,
          0.7325
         ],
         "gridcolor": "#E1E5ED",
         "showgrid": false,
         "tickfont": {
          "color": "#4D5663"
         },
         "title": {
          "font": {
           "color": "#4D5663"
          },
          "text": ""
         },
         "zerolinecolor": "#E1E5ED"
        },
        "yaxis9": {
         "anchor": "x9",
         "domain": [
          0.2675,
          0.465
         ],
         "gridcolor": "#E1E5ED",
         "showgrid": false,
         "tickfont": {
          "color": "#4D5663"
         },
         "title": {
          "font": {
           "color": "#4D5663"
          },
          "text": ""
         },
         "zerolinecolor": "#E1E5ED"
        }
       }
      },
      "text/html": [
       "<div>\n",
       "        \n",
       "        \n",
       "            <div id=\"35e5b2e8-8416-4b66-8198-531427552453\" class=\"plotly-graph-div\" style=\"height:525px; width:100%;\"></div>\n",
       "            <script type=\"text/javascript\">\n",
       "                require([\"plotly\"], function(Plotly) {\n",
       "                    window.PLOTLYENV=window.PLOTLYENV || {};\n",
       "                    window.PLOTLYENV.BASE_URL='https://plot.ly';\n",
       "                    \n",
       "                if (document.getElementById(\"35e5b2e8-8416-4b66-8198-531427552453\")) {\n",
       "                    Plotly.newPlot(\n",
       "                        '35e5b2e8-8416-4b66-8198-531427552453',\n",
       "                        [{\"histfunc\": \"count\", \"histnorm\": \"\", \"marker\": {\"color\": \"rgba(255, 153, 51, 1.0)\", \"line\": {\"color\": \"#4D5663\", \"width\": 1.3}}, \"name\": \"A\", \"nbinsx\": 10, \"opacity\": 0.8, \"orientation\": \"v\", \"type\": \"histogram\", \"x\": [0.9533923532252154, 0.7962578503151079, 0.9446265933015333, -0.42864094189536345, -0.6905822967359128, 0.545787353838866, -0.7495000133758046, -0.3762815578281219, 0.3338145439069094, 1.8164322972195024, -0.45792968633020076, 0.37527095200432803, 1.6257569004557955, -1.0553284569165717, -1.5696652241668305, -0.3228740712113491, 0.1507472809239381, -0.5236479525340905, -1.4136103156819133, -0.25450762723785664, -0.3528814569744451, -0.5218846044634726, 1.4625662999874716, -0.29412671346680097, 1.0894037294964314, 0.8454922650572088, 1.1524461039633298, -0.3993380856970902, 1.4481690182844273, 0.5306664780946375, -0.3353654523770128, 1.0164031310864774, 0.5688651882963847, -0.7526355976340225, 0.678666989205376, -0.676297494024862, -0.9994460323512003, -0.09574448606538073, -0.44460656961300205, -0.44951144023012246, -1.2048471417206936, 0.7085546291673673, 0.6547152374806319, -0.7423025231136463, -2.1840448982989344, -1.0761526288632624, -0.8821739194264769, 0.16686387735840705, -1.6161118772902994, -2.20726383604153, 1.0311954284225517, -0.242110444341512, -0.13962810666291445, 0.5792425627063781, 1.7064911400976197, 1.0447748476017658, 0.5514204827280627, -0.2762503662657573, 0.7549544200480618, 0.2775470665053151, -0.5982610550270542, -0.22943336333057485, -0.9634299159356345, 0.9426435162691165, -2.78429824560043, -1.0727632114734371, -0.6725702929710772, -1.3972696238020141, -0.09263107503903131, -0.0852572909075391, 1.6541989070099647, 0.9381501595964749, 1.0954607253099615, 0.0963009934795626, -0.3485949014755212, -0.4694509996304064, 0.24703932030270714, 1.4068080908410796, -0.6683069699263524, 1.0235858873351433, 0.4496249563956825, 0.39823683814607497, 1.7915890976254676, -1.3276782228531736, 0.9539407573453836, -0.11839409168110034, -0.4908515286224764, 0.7214190615733209, -1.2964801667391652, 0.8113597656016831, 1.0927746445277344, 0.15306711543042487, 0.5150282622650163, -0.7743053253986879, -1.3428282038945936, -0.6916081901577839, -0.3848626572878707, -0.7531296637862062, -0.06521943121422427, -0.4175317297317254], \"xaxis\": \"x\", \"yaxis\": \"y\"}, {\"line\": {\"color\": \"rgba(128, 128, 128, 1.0)\", \"dash\": \"solid\", \"shape\": \"linear\", \"width\": 1.3}, \"marker\": {\"size\": 2, \"symbol\": \"circle\"}, \"mode\": \"markers\", \"name\": \"A\", \"text\": \"\", \"type\": \"scatter\", \"x\": [0.06947627645146132, -1.1607331144368884, -1.0497237200184943, -1.5019722344727746, -0.35258467341524236, -0.2613228779269877, -0.06139124485561016, -0.44360043268460614, 0.5872810423296456, 1.6453995448818386, -0.7900626782826925, 0.18850992933071747, 1.7249806781280306, 1.7419381851834321, 0.12978630101315522, -0.6184924891150716, 1.3239594395322758, -0.8221817143634784, 0.1729970616350675, -0.06451233675875263, 1.806990957117825, -0.07398636085416085, 0.8577491295231231, 0.7950606607627105, -0.21130922179843403, -0.33469796249196276, 1.4981538840123534, -0.37300060573819865, -0.6636143565365548, 0.21665831066383276, -0.6704273842363159, -0.5419693348508918, 0.4827874038183322, 0.11512264384583679, -1.995149410421762, -0.24652486006627924, -2.0379604789618577, 1.5251422775071708, -0.09475683944237748, -0.4152216032207558, 1.0538852176943854, 0.9601525791285485, 0.5000010334891224, 1.2485272427426186, 0.8235984689487181, 0.474745927388093, -1.4936499081932895, 0.1426436720132142, 0.37031345404667415, 0.31292079605749484, 0.05974849585601801, 0.12891917352285698, 0.6460500265917863, 0.7892432827025327, -0.4842582356008212, 0.7010336915602854, 2.0534288048468974, -0.675806191857299, -0.5346894222900018, 0.11199315394758796, -1.6037419859915685, 1.4675262838719447, -0.7155811026629516, -0.5697123833533212, 0.13424980737666348, 0.5363928716736676, -0.664561078210953, -0.5909996720870854, -1.1243652440851621, 2.4349656634141517, 0.0850612426247251, -0.0372770038794375, -0.6028590721689905, 0.9092158213811373, 1.402430473603624, 0.41745183831560073, -0.20313523445200599, 1.0764350847389748, 1.4423102931701026, 1.218346375994514, 0.3355120938252802, 0.4733931746569244, -0.2393567851765012, 1.9489466889539204, -0.5848238215674598, -1.6455253042673064, 1.4180247584903094, -0.8569693533754201, 1.0282726134368507, -0.515658480873396, 0.06909637953208433, -1.1426104768023915, 0.051162969647525966, -0.1644305552111428, 0.01357270195562589, 1.5799064467391917, 0.1833104094552434, -2.323886990231017, -0.21440703575713888, -0.3262744037676085], \"xaxis\": \"x2\", \"y\": [0.9533923532252154, 0.7962578503151079, 0.9446265933015333, -0.42864094189536345, -0.6905822967359128, 0.545787353838866, -0.7495000133758046, -0.3762815578281219, 0.3338145439069094, 1.8164322972195024, -0.45792968633020076, 0.37527095200432803, 1.6257569004557955, -1.0553284569165717, -1.5696652241668305, -0.3228740712113491, 0.1507472809239381, -0.5236479525340905, -1.4136103156819133, -0.25450762723785664, -0.3528814569744451, -0.5218846044634726, 1.4625662999874716, -0.29412671346680097, 1.0894037294964314, 0.8454922650572088, 1.1524461039633298, -0.3993380856970902, 1.4481690182844273, 0.5306664780946375, -0.3353654523770128, 1.0164031310864774, 0.5688651882963847, -0.7526355976340225, 0.678666989205376, -0.676297494024862, -0.9994460323512003, -0.09574448606538073, -0.44460656961300205, -0.44951144023012246, -1.2048471417206936, 0.7085546291673673, 0.6547152374806319, -0.7423025231136463, -2.1840448982989344, -1.0761526288632624, -0.8821739194264769, 0.16686387735840705, -1.6161118772902994, -2.20726383604153, 1.0311954284225517, -0.242110444341512, -0.13962810666291445, 0.5792425627063781, 1.7064911400976197, 1.0447748476017658, 0.5514204827280627, -0.2762503662657573, 0.7549544200480618, 0.2775470665053151, -0.5982610550270542, -0.22943336333057485, -0.9634299159356345, 0.9426435162691165, -2.78429824560043, -1.0727632114734371, -0.6725702929710772, -1.3972696238020141, -0.09263107503903131, -0.0852572909075391, 1.6541989070099647, 0.9381501595964749, 1.0954607253099615, 0.0963009934795626, -0.3485949014755212, -0.4694509996304064, 0.24703932030270714, 1.4068080908410796, -0.6683069699263524, 1.0235858873351433, 0.4496249563956825, 0.39823683814607497, 1.7915890976254676, -1.3276782228531736, 0.9539407573453836, -0.11839409168110034, -0.4908515286224764, 0.7214190615733209, -1.2964801667391652, 0.8113597656016831, 1.0927746445277344, 0.15306711543042487, 0.5150282622650163, -0.7743053253986879, -1.3428282038945936, -0.6916081901577839, -0.3848626572878707, -0.7531296637862062, -0.06521943121422427, -0.4175317297317254], \"yaxis\": \"y2\"}, {\"line\": {\"color\": \"rgba(128, 128, 128, 1.0)\", \"dash\": \"solid\", \"shape\": \"linear\", \"width\": 1.3}, \"marker\": {\"size\": 2, \"symbol\": \"circle\"}, \"mode\": \"markers\", \"name\": \"A\", \"text\": \"\", \"type\": \"scatter\", \"x\": [0.38624200232466965, -1.103053781166063, 0.8747230151714097, 1.1427618086131146, 1.0884770767948007, 0.018359523694216263, 0.05840997798192588, -1.2391290014141552, -1.296181045731021, -0.8887332871538806, -0.23456032680491165, 0.8331448638773145, 0.24946389872828809, -0.5583851428414339, -1.6825339615031922, 1.1883565952538475, 0.8553794074661895, 0.600574420419182, 0.6322393057773141, -0.6111798102511441, -0.7129929993343201, -0.13191366960066728, -2.086549345634095, -1.2944282860750111, -0.7668382337430868, -0.012030414860574743, 1.0473654903555025, -0.677110218515026, -0.6909783025399621, 0.6049468036074455, -0.33925801968699215, -0.19735030582817678, -1.3767593235238877, -1.8268986918367425, -0.8246164142011257, -1.2461764710336531, 1.0779803445030067, 0.592753213646832, -1.7661736170871576, -0.9697867014971933, 1.662630823447494, 0.41045393970333455, -0.7803868114552753, -0.3403884430122021, 2.0139348199611584, -1.5400588993376187, -1.2155525186307272, -0.3413266240642806, 0.2688487285658409, -0.4547811988897437, 0.4008500978073652, 0.5333243966653178, 1.9293198084109082, -1.412673932806497, -0.9400824076378804, 0.48502163853338665, 0.1491532803026734, -0.38116730827138484, -0.881039496056569, 0.3561620126336619, 1.9636376771967603, -0.28098973199069216, 0.9459807073237207, -0.8239976940070456, -0.17177805579083164, -0.45150497803643086, -1.2242830407172463, -0.517747453633957, -0.36853353096114033, -1.2660077556792828, 0.43153341357301894, -2.0148730397232644, 0.0619611179969558, -0.4933547729948514, -0.017350503213527536, 0.39218455393464097, -1.0120832654272587, 0.5137759979125835, 0.3470347547097227, -0.7803624770413473, -0.9984240624711453, 1.1226579397756151, -0.9531621899896159, -1.1400610100436397, 0.7227567747392188, -1.7986076971636866, 0.3523808637582861, 1.5994152665586299, 0.25776039243829135, -1.430537457590503, -0.39255184153996725, 0.4910379010155916, 2.480487659287149, -1.465343791671094, -0.9108807912459752, -0.07630301283561905, 1.9404065668343375, 0.4990136693681264, 0.3541865406050927, -0.6549640067820476], \"xaxis\": \"x3\", \"y\": [0.9533923532252154, 0.7962578503151079, 0.9446265933015333, -0.42864094189536345, -0.6905822967359128, 0.545787353838866, -0.7495000133758046, -0.3762815578281219, 0.3338145439069094, 1.8164322972195024, -0.45792968633020076, 0.37527095200432803, 1.6257569004557955, -1.0553284569165717, -1.5696652241668305, -0.3228740712113491, 0.1507472809239381, -0.5236479525340905, -1.4136103156819133, -0.25450762723785664, -0.3528814569744451, -0.5218846044634726, 1.4625662999874716, -0.29412671346680097, 1.0894037294964314, 0.8454922650572088, 1.1524461039633298, -0.3993380856970902, 1.4481690182844273, 0.5306664780946375, -0.3353654523770128, 1.0164031310864774, 0.5688651882963847, -0.7526355976340225, 0.678666989205376, -0.676297494024862, -0.9994460323512003, -0.09574448606538073, -0.44460656961300205, -0.44951144023012246, -1.2048471417206936, 0.7085546291673673, 0.6547152374806319, -0.7423025231136463, -2.1840448982989344, -1.0761526288632624, -0.8821739194264769, 0.16686387735840705, -1.6161118772902994, -2.20726383604153, 1.0311954284225517, -0.242110444341512, -0.13962810666291445, 0.5792425627063781, 1.7064911400976197, 1.0447748476017658, 0.5514204827280627, -0.2762503662657573, 0.7549544200480618, 0.2775470665053151, -0.5982610550270542, -0.22943336333057485, -0.9634299159356345, 0.9426435162691165, -2.78429824560043, -1.0727632114734371, -0.6725702929710772, -1.3972696238020141, -0.09263107503903131, -0.0852572909075391, 1.6541989070099647, 0.9381501595964749, 1.0954607253099615, 0.0963009934795626, -0.3485949014755212, -0.4694509996304064, 0.24703932030270714, 1.4068080908410796, -0.6683069699263524, 1.0235858873351433, 0.4496249563956825, 0.39823683814607497, 1.7915890976254676, -1.3276782228531736, 0.9539407573453836, -0.11839409168110034, -0.4908515286224764, 0.7214190615733209, -1.2964801667391652, 0.8113597656016831, 1.0927746445277344, 0.15306711543042487, 0.5150282622650163, -0.7743053253986879, -1.3428282038945936, -0.6916081901577839, -0.3848626572878707, -0.7531296637862062, -0.06521943121422427, -0.4175317297317254], \"yaxis\": \"y3\"}, {\"line\": {\"color\": \"rgba(128, 128, 128, 1.0)\", \"dash\": \"solid\", \"shape\": \"linear\", \"width\": 1.3}, \"marker\": {\"size\": 2, \"symbol\": \"circle\"}, \"mode\": \"markers\", \"name\": \"A\", \"text\": \"\", \"type\": \"scatter\", \"x\": [1.35799650121603, 0.49031384851341386, 0.8217900412184245, 1.8480179079450132, 1.2891957674160297, -1.65365200127266, 0.10454661884657883, 0.9506716710464106, -0.19641922014168325, 0.9768571708759514, 0.14020495319766363, -0.12537426752293807, 0.44930617740675016, -2.2208536613578977, 0.6170470273080931, 1.185972681436933, 1.1733625582842218, 1.2292256810101445, 0.07450998345320564, 0.1151458760479426, 0.28018438840182763, 0.7223513102801838, -0.9954998509921545, 1.7762467394262884, -1.798771758232789, -1.1355961233029268, 1.0336082924616914, 1.9064446864252091, 0.8724039750469477, 0.4739927604174638, 0.332547688686496, -0.7417122895328502, -0.1306805505201772, 0.8269101080866751, -1.0850132095479876, 0.5395081602646972, -0.7948842629278595, 0.46230114848173987, 1.3988864697472683, -0.10820150105426884, -0.6364044200995346, 0.66999827882666, 0.708590161971385, 0.5553804699720557, 0.6816179967639676, -0.9941929601339952, -0.5808554254498477, 0.9383726682347696, 0.3240423424455391, -1.0385439846087516, -1.539542792561218, -0.961406758760432, 0.02261058611178702, 1.1002121793781972, 0.6788455444403805, 0.4927823986423535, 0.3060554625276701, -0.206657643593115, 0.12525764004808265, -2.0128651495818763, 1.1276818269886617, 0.9544309829196077, -0.20702002152668894, -0.9425080889409485, 0.8166432279944357, 0.7917779827298608, -0.7773306725417373, 0.006113206575926991, 0.2653593473830176, 0.2968504982679135, 0.8137227607709042, -0.17544034351489765, -0.33825098739707593, -1.699307948886646, 0.758732502114384, -0.08836103472531166, 2.251033328323059, -0.3242265920860937, -1.550932289507223, 1.416420560331823, 0.8228168780693008, 0.3411632332780876, 1.1235084777975795, 0.26843534920251977, 1.2380229735851842, -2.31966589624832, 1.2194283245867084, -0.5927184450268074, 0.12502297443507235, -0.520998348360788, 0.08042225483731544, -1.3599580302861842, 1.3514526144843164, -0.8689695804604732, 0.10737726783367744, 0.09641323245696796, 2.285685243349205, -0.055633511678821815, -0.0018428827838383338, 0.319891646443404], \"xaxis\": \"x4\", \"y\": [0.9533923532252154, 0.7962578503151079, 0.9446265933015333, -0.42864094189536345, -0.6905822967359128, 0.545787353838866, -0.7495000133758046, -0.3762815578281219, 0.3338145439069094, 1.8164322972195024, -0.45792968633020076, 0.37527095200432803, 1.6257569004557955, -1.0553284569165717, -1.5696652241668305, -0.3228740712113491, 0.1507472809239381, -0.5236479525340905, -1.4136103156819133, -0.25450762723785664, -0.3528814569744451, -0.5218846044634726, 1.4625662999874716, -0.29412671346680097, 1.0894037294964314, 0.8454922650572088, 1.1524461039633298, -0.3993380856970902, 1.4481690182844273, 0.5306664780946375, -0.3353654523770128, 1.0164031310864774, 0.5688651882963847, -0.7526355976340225, 0.678666989205376, -0.676297494024862, -0.9994460323512003, -0.09574448606538073, -0.44460656961300205, -0.44951144023012246, -1.2048471417206936, 0.7085546291673673, 0.6547152374806319, -0.7423025231136463, -2.1840448982989344, -1.0761526288632624, -0.8821739194264769, 0.16686387735840705, -1.6161118772902994, -2.20726383604153, 1.0311954284225517, -0.242110444341512, -0.13962810666291445, 0.5792425627063781, 1.7064911400976197, 1.0447748476017658, 0.5514204827280627, -0.2762503662657573, 0.7549544200480618, 0.2775470665053151, -0.5982610550270542, -0.22943336333057485, -0.9634299159356345, 0.9426435162691165, -2.78429824560043, -1.0727632114734371, -0.6725702929710772, -1.3972696238020141, -0.09263107503903131, -0.0852572909075391, 1.6541989070099647, 0.9381501595964749, 1.0954607253099615, 0.0963009934795626, -0.3485949014755212, -0.4694509996304064, 0.24703932030270714, 1.4068080908410796, -0.6683069699263524, 1.0235858873351433, 0.4496249563956825, 0.39823683814607497, 1.7915890976254676, -1.3276782228531736, 0.9539407573453836, -0.11839409168110034, -0.4908515286224764, 0.7214190615733209, -1.2964801667391652, 0.8113597656016831, 1.0927746445277344, 0.15306711543042487, 0.5150282622650163, -0.7743053253986879, -1.3428282038945936, -0.6916081901577839, -0.3848626572878707, -0.7531296637862062, -0.06521943121422427, -0.4175317297317254], \"yaxis\": \"y4\"}, {\"line\": {\"color\": \"rgba(128, 128, 128, 1.0)\", \"dash\": \"solid\", \"shape\": \"linear\", \"width\": 1.3}, \"marker\": {\"size\": 2, \"symbol\": \"circle\"}, \"mode\": \"markers\", \"name\": \"B\", \"text\": \"\", \"type\": \"scatter\", \"x\": [0.9533923532252154, 0.7962578503151079, 0.9446265933015333, -0.42864094189536345, -0.6905822967359128, 0.545787353838866, -0.7495000133758046, -0.3762815578281219, 0.3338145439069094, 1.8164322972195024, -0.45792968633020076, 0.37527095200432803, 1.6257569004557955, -1.0553284569165717, -1.5696652241668305, -0.3228740712113491, 0.1507472809239381, -0.5236479525340905, -1.4136103156819133, -0.25450762723785664, -0.3528814569744451, -0.5218846044634726, 1.4625662999874716, -0.29412671346680097, 1.0894037294964314, 0.8454922650572088, 1.1524461039633298, -0.3993380856970902, 1.4481690182844273, 0.5306664780946375, -0.3353654523770128, 1.0164031310864774, 0.5688651882963847, -0.7526355976340225, 0.678666989205376, -0.676297494024862, -0.9994460323512003, -0.09574448606538073, -0.44460656961300205, -0.44951144023012246, -1.2048471417206936, 0.7085546291673673, 0.6547152374806319, -0.7423025231136463, -2.1840448982989344, -1.0761526288632624, -0.8821739194264769, 0.16686387735840705, -1.6161118772902994, -2.20726383604153, 1.0311954284225517, -0.242110444341512, -0.13962810666291445, 0.5792425627063781, 1.7064911400976197, 1.0447748476017658, 0.5514204827280627, -0.2762503662657573, 0.7549544200480618, 0.2775470665053151, -0.5982610550270542, -0.22943336333057485, -0.9634299159356345, 0.9426435162691165, -2.78429824560043, -1.0727632114734371, -0.6725702929710772, -1.3972696238020141, -0.09263107503903131, -0.0852572909075391, 1.6541989070099647, 0.9381501595964749, 1.0954607253099615, 0.0963009934795626, -0.3485949014755212, -0.4694509996304064, 0.24703932030270714, 1.4068080908410796, -0.6683069699263524, 1.0235858873351433, 0.4496249563956825, 0.39823683814607497, 1.7915890976254676, -1.3276782228531736, 0.9539407573453836, -0.11839409168110034, -0.4908515286224764, 0.7214190615733209, -1.2964801667391652, 0.8113597656016831, 1.0927746445277344, 0.15306711543042487, 0.5150282622650163, -0.7743053253986879, -1.3428282038945936, -0.6916081901577839, -0.3848626572878707, -0.7531296637862062, -0.06521943121422427, -0.4175317297317254], \"xaxis\": \"x5\", \"y\": [0.06947627645146132, -1.1607331144368884, -1.0497237200184943, -1.5019722344727746, -0.35258467341524236, -0.2613228779269877, -0.06139124485561016, -0.44360043268460614, 0.5872810423296456, 1.6453995448818386, -0.7900626782826925, 0.18850992933071747, 1.7249806781280306, 1.7419381851834321, 0.12978630101315522, -0.6184924891150716, 1.3239594395322758, -0.8221817143634784, 0.1729970616350675, -0.06451233675875263, 1.806990957117825, -0.07398636085416085, 0.8577491295231231, 0.7950606607627105, -0.21130922179843403, -0.33469796249196276, 1.4981538840123534, -0.37300060573819865, -0.6636143565365548, 0.21665831066383276, -0.6704273842363159, -0.5419693348508918, 0.4827874038183322, 0.11512264384583679, -1.995149410421762, -0.24652486006627924, -2.0379604789618577, 1.5251422775071708, -0.09475683944237748, -0.4152216032207558, 1.0538852176943854, 0.9601525791285485, 0.5000010334891224, 1.2485272427426186, 0.8235984689487181, 0.474745927388093, -1.4936499081932895, 0.1426436720132142, 0.37031345404667415, 0.31292079605749484, 0.05974849585601801, 0.12891917352285698, 0.6460500265917863, 0.7892432827025327, -0.4842582356008212, 0.7010336915602854, 2.0534288048468974, -0.675806191857299, -0.5346894222900018, 0.11199315394758796, -1.6037419859915685, 1.4675262838719447, -0.7155811026629516, -0.5697123833533212, 0.13424980737666348, 0.5363928716736676, -0.664561078210953, -0.5909996720870854, -1.1243652440851621, 2.4349656634141517, 0.0850612426247251, -0.0372770038794375, -0.6028590721689905, 0.9092158213811373, 1.402430473603624, 0.41745183831560073, -0.20313523445200599, 1.0764350847389748, 1.4423102931701026, 1.218346375994514, 0.3355120938252802, 0.4733931746569244, -0.2393567851765012, 1.9489466889539204, -0.5848238215674598, -1.6455253042673064, 1.4180247584903094, -0.8569693533754201, 1.0282726134368507, -0.515658480873396, 0.06909637953208433, -1.1426104768023915, 0.051162969647525966, -0.1644305552111428, 0.01357270195562589, 1.5799064467391917, 0.1833104094552434, -2.323886990231017, -0.21440703575713888, -0.3262744037676085], \"yaxis\": \"y5\"}, {\"histfunc\": \"count\", \"histnorm\": \"\", \"marker\": {\"color\": \"rgba(55, 128, 191, 1.0)\", \"line\": {\"color\": \"#4D5663\", \"width\": 1.3}}, \"name\": \"B\", \"nbinsx\": 10, \"opacity\": 0.8, \"orientation\": \"v\", \"type\": \"histogram\", \"x\": [0.06947627645146132, -1.1607331144368884, -1.0497237200184943, -1.5019722344727746, -0.35258467341524236, -0.2613228779269877, -0.06139124485561016, -0.44360043268460614, 0.5872810423296456, 1.6453995448818386, -0.7900626782826925, 0.18850992933071747, 1.7249806781280306, 1.7419381851834321, 0.12978630101315522, -0.6184924891150716, 1.3239594395322758, -0.8221817143634784, 0.1729970616350675, -0.06451233675875263, 1.806990957117825, -0.07398636085416085, 0.8577491295231231, 0.7950606607627105, -0.21130922179843403, -0.33469796249196276, 1.4981538840123534, -0.37300060573819865, -0.6636143565365548, 0.21665831066383276, -0.6704273842363159, -0.5419693348508918, 0.4827874038183322, 0.11512264384583679, -1.995149410421762, -0.24652486006627924, -2.0379604789618577, 1.5251422775071708, -0.09475683944237748, -0.4152216032207558, 1.0538852176943854, 0.9601525791285485, 0.5000010334891224, 1.2485272427426186, 0.8235984689487181, 0.474745927388093, -1.4936499081932895, 0.1426436720132142, 0.37031345404667415, 0.31292079605749484, 0.05974849585601801, 0.12891917352285698, 0.6460500265917863, 0.7892432827025327, -0.4842582356008212, 0.7010336915602854, 2.0534288048468974, -0.675806191857299, -0.5346894222900018, 0.11199315394758796, -1.6037419859915685, 1.4675262838719447, -0.7155811026629516, -0.5697123833533212, 0.13424980737666348, 0.5363928716736676, -0.664561078210953, -0.5909996720870854, -1.1243652440851621, 2.4349656634141517, 0.0850612426247251, -0.0372770038794375, -0.6028590721689905, 0.9092158213811373, 1.402430473603624, 0.41745183831560073, -0.20313523445200599, 1.0764350847389748, 1.4423102931701026, 1.218346375994514, 0.3355120938252802, 0.4733931746569244, -0.2393567851765012, 1.9489466889539204, -0.5848238215674598, -1.6455253042673064, 1.4180247584903094, -0.8569693533754201, 1.0282726134368507, -0.515658480873396, 0.06909637953208433, -1.1426104768023915, 0.051162969647525966, -0.1644305552111428, 0.01357270195562589, 1.5799064467391917, 0.1833104094552434, -2.323886990231017, -0.21440703575713888, -0.3262744037676085], \"xaxis\": \"x6\", \"yaxis\": \"y6\"}, {\"line\": {\"color\": \"rgba(128, 128, 128, 1.0)\", \"dash\": \"solid\", \"shape\": \"linear\", \"width\": 1.3}, \"marker\": {\"size\": 2, \"symbol\": \"circle\"}, \"mode\": \"markers\", \"name\": \"B\", \"text\": \"\", \"type\": \"scatter\", \"x\": [0.38624200232466965, -1.103053781166063, 0.8747230151714097, 1.1427618086131146, 1.0884770767948007, 0.018359523694216263, 0.05840997798192588, -1.2391290014141552, -1.296181045731021, -0.8887332871538806, -0.23456032680491165, 0.8331448638773145, 0.24946389872828809, -0.5583851428414339, -1.6825339615031922, 1.1883565952538475, 0.8553794074661895, 0.600574420419182, 0.6322393057773141, -0.6111798102511441, -0.7129929993343201, -0.13191366960066728, -2.086549345634095, -1.2944282860750111, -0.7668382337430868, -0.012030414860574743, 1.0473654903555025, -0.677110218515026, -0.6909783025399621, 0.6049468036074455, -0.33925801968699215, -0.19735030582817678, -1.3767593235238877, -1.8268986918367425, -0.8246164142011257, -1.2461764710336531, 1.0779803445030067, 0.592753213646832, -1.7661736170871576, -0.9697867014971933, 1.662630823447494, 0.41045393970333455, -0.7803868114552753, -0.3403884430122021, 2.0139348199611584, -1.5400588993376187, -1.2155525186307272, -0.3413266240642806, 0.2688487285658409, -0.4547811988897437, 0.4008500978073652, 0.5333243966653178, 1.9293198084109082, -1.412673932806497, -0.9400824076378804, 0.48502163853338665, 0.1491532803026734, -0.38116730827138484, -0.881039496056569, 0.3561620126336619, 1.9636376771967603, -0.28098973199069216, 0.9459807073237207, -0.8239976940070456, -0.17177805579083164, -0.45150497803643086, -1.2242830407172463, -0.517747453633957, -0.36853353096114033, -1.2660077556792828, 0.43153341357301894, -2.0148730397232644, 0.0619611179969558, -0.4933547729948514, -0.017350503213527536, 0.39218455393464097, -1.0120832654272587, 0.5137759979125835, 0.3470347547097227, -0.7803624770413473, -0.9984240624711453, 1.1226579397756151, -0.9531621899896159, -1.1400610100436397, 0.7227567747392188, -1.7986076971636866, 0.3523808637582861, 1.5994152665586299, 0.25776039243829135, -1.430537457590503, -0.39255184153996725, 0.4910379010155916, 2.480487659287149, -1.465343791671094, -0.9108807912459752, -0.07630301283561905, 1.9404065668343375, 0.4990136693681264, 0.3541865406050927, -0.6549640067820476], \"xaxis\": \"x7\", \"y\": [0.06947627645146132, -1.1607331144368884, -1.0497237200184943, -1.5019722344727746, -0.35258467341524236, -0.2613228779269877, -0.06139124485561016, -0.44360043268460614, 0.5872810423296456, 1.6453995448818386, -0.7900626782826925, 0.18850992933071747, 1.7249806781280306, 1.7419381851834321, 0.12978630101315522, -0.6184924891150716, 1.3239594395322758, -0.8221817143634784, 0.1729970616350675, -0.06451233675875263, 1.806990957117825, -0.07398636085416085, 0.8577491295231231, 0.7950606607627105, -0.21130922179843403, -0.33469796249196276, 1.4981538840123534, -0.37300060573819865, -0.6636143565365548, 0.21665831066383276, -0.6704273842363159, -0.5419693348508918, 0.4827874038183322, 0.11512264384583679, -1.995149410421762, -0.24652486006627924, -2.0379604789618577, 1.5251422775071708, -0.09475683944237748, -0.4152216032207558, 1.0538852176943854, 0.9601525791285485, 0.5000010334891224, 1.2485272427426186, 0.8235984689487181, 0.474745927388093, -1.4936499081932895, 0.1426436720132142, 0.37031345404667415, 0.31292079605749484, 0.05974849585601801, 0.12891917352285698, 0.6460500265917863, 0.7892432827025327, -0.4842582356008212, 0.7010336915602854, 2.0534288048468974, -0.675806191857299, -0.5346894222900018, 0.11199315394758796, -1.6037419859915685, 1.4675262838719447, -0.7155811026629516, -0.5697123833533212, 0.13424980737666348, 0.5363928716736676, -0.664561078210953, -0.5909996720870854, -1.1243652440851621, 2.4349656634141517, 0.0850612426247251, -0.0372770038794375, -0.6028590721689905, 0.9092158213811373, 1.402430473603624, 0.41745183831560073, -0.20313523445200599, 1.0764350847389748, 1.4423102931701026, 1.218346375994514, 0.3355120938252802, 0.4733931746569244, -0.2393567851765012, 1.9489466889539204, -0.5848238215674598, -1.6455253042673064, 1.4180247584903094, -0.8569693533754201, 1.0282726134368507, -0.515658480873396, 0.06909637953208433, -1.1426104768023915, 0.051162969647525966, -0.1644305552111428, 0.01357270195562589, 1.5799064467391917, 0.1833104094552434, -2.323886990231017, -0.21440703575713888, -0.3262744037676085], \"yaxis\": \"y7\"}, {\"line\": {\"color\": \"rgba(128, 128, 128, 1.0)\", \"dash\": \"solid\", \"shape\": \"linear\", \"width\": 1.3}, \"marker\": {\"size\": 2, \"symbol\": \"circle\"}, \"mode\": \"markers\", \"name\": \"B\", \"text\": \"\", \"type\": \"scatter\", \"x\": [1.35799650121603, 0.49031384851341386, 0.8217900412184245, 1.8480179079450132, 1.2891957674160297, -1.65365200127266, 0.10454661884657883, 0.9506716710464106, -0.19641922014168325, 0.9768571708759514, 0.14020495319766363, -0.12537426752293807, 0.44930617740675016, -2.2208536613578977, 0.6170470273080931, 1.185972681436933, 1.1733625582842218, 1.2292256810101445, 0.07450998345320564, 0.1151458760479426, 0.28018438840182763, 0.7223513102801838, -0.9954998509921545, 1.7762467394262884, -1.798771758232789, -1.1355961233029268, 1.0336082924616914, 1.9064446864252091, 0.8724039750469477, 0.4739927604174638, 0.332547688686496, -0.7417122895328502, -0.1306805505201772, 0.8269101080866751, -1.0850132095479876, 0.5395081602646972, -0.7948842629278595, 0.46230114848173987, 1.3988864697472683, -0.10820150105426884, -0.6364044200995346, 0.66999827882666, 0.708590161971385, 0.5553804699720557, 0.6816179967639676, -0.9941929601339952, -0.5808554254498477, 0.9383726682347696, 0.3240423424455391, -1.0385439846087516, -1.539542792561218, -0.961406758760432, 0.02261058611178702, 1.1002121793781972, 0.6788455444403805, 0.4927823986423535, 0.3060554625276701, -0.206657643593115, 0.12525764004808265, -2.0128651495818763, 1.1276818269886617, 0.9544309829196077, -0.20702002152668894, -0.9425080889409485, 0.8166432279944357, 0.7917779827298608, -0.7773306725417373, 0.006113206575926991, 0.2653593473830176, 0.2968504982679135, 0.8137227607709042, -0.17544034351489765, -0.33825098739707593, -1.699307948886646, 0.758732502114384, -0.08836103472531166, 2.251033328323059, -0.3242265920860937, -1.550932289507223, 1.416420560331823, 0.8228168780693008, 0.3411632332780876, 1.1235084777975795, 0.26843534920251977, 1.2380229735851842, -2.31966589624832, 1.2194283245867084, -0.5927184450268074, 0.12502297443507235, -0.520998348360788, 0.08042225483731544, -1.3599580302861842, 1.3514526144843164, -0.8689695804604732, 0.10737726783367744, 0.09641323245696796, 2.285685243349205, -0.055633511678821815, -0.0018428827838383338, 0.319891646443404], \"xaxis\": \"x8\", \"y\": [0.06947627645146132, -1.1607331144368884, -1.0497237200184943, -1.5019722344727746, -0.35258467341524236, -0.2613228779269877, -0.06139124485561016, -0.44360043268460614, 0.5872810423296456, 1.6453995448818386, -0.7900626782826925, 0.18850992933071747, 1.7249806781280306, 1.7419381851834321, 0.12978630101315522, -0.6184924891150716, 1.3239594395322758, -0.8221817143634784, 0.1729970616350675, -0.06451233675875263, 1.806990957117825, -0.07398636085416085, 0.8577491295231231, 0.7950606607627105, -0.21130922179843403, -0.33469796249196276, 1.4981538840123534, -0.37300060573819865, -0.6636143565365548, 0.21665831066383276, -0.6704273842363159, -0.5419693348508918, 0.4827874038183322, 0.11512264384583679, -1.995149410421762, -0.24652486006627924, -2.0379604789618577, 1.5251422775071708, -0.09475683944237748, -0.4152216032207558, 1.0538852176943854, 0.9601525791285485, 0.5000010334891224, 1.2485272427426186, 0.8235984689487181, 0.474745927388093, -1.4936499081932895, 0.1426436720132142, 0.37031345404667415, 0.31292079605749484, 0.05974849585601801, 0.12891917352285698, 0.6460500265917863, 0.7892432827025327, -0.4842582356008212, 0.7010336915602854, 2.0534288048468974, -0.675806191857299, -0.5346894222900018, 0.11199315394758796, -1.6037419859915685, 1.4675262838719447, -0.7155811026629516, -0.5697123833533212, 0.13424980737666348, 0.5363928716736676, -0.664561078210953, -0.5909996720870854, -1.1243652440851621, 2.4349656634141517, 0.0850612426247251, -0.0372770038794375, -0.6028590721689905, 0.9092158213811373, 1.402430473603624, 0.41745183831560073, -0.20313523445200599, 1.0764350847389748, 1.4423102931701026, 1.218346375994514, 0.3355120938252802, 0.4733931746569244, -0.2393567851765012, 1.9489466889539204, -0.5848238215674598, -1.6455253042673064, 1.4180247584903094, -0.8569693533754201, 1.0282726134368507, -0.515658480873396, 0.06909637953208433, -1.1426104768023915, 0.051162969647525966, -0.1644305552111428, 0.01357270195562589, 1.5799064467391917, 0.1833104094552434, -2.323886990231017, -0.21440703575713888, -0.3262744037676085], \"yaxis\": \"y8\"}, {\"line\": {\"color\": \"rgba(128, 128, 128, 1.0)\", \"dash\": \"solid\", \"shape\": \"linear\", \"width\": 1.3}, \"marker\": {\"size\": 2, \"symbol\": \"circle\"}, \"mode\": \"markers\", \"name\": \"C\", \"text\": \"\", \"type\": \"scatter\", \"x\": [0.9533923532252154, 0.7962578503151079, 0.9446265933015333, -0.42864094189536345, -0.6905822967359128, 0.545787353838866, -0.7495000133758046, -0.3762815578281219, 0.3338145439069094, 1.8164322972195024, -0.45792968633020076, 0.37527095200432803, 1.6257569004557955, -1.0553284569165717, -1.5696652241668305, -0.3228740712113491, 0.1507472809239381, -0.5236479525340905, -1.4136103156819133, -0.25450762723785664, -0.3528814569744451, -0.5218846044634726, 1.4625662999874716, -0.29412671346680097, 1.0894037294964314, 0.8454922650572088, 1.1524461039633298, -0.3993380856970902, 1.4481690182844273, 0.5306664780946375, -0.3353654523770128, 1.0164031310864774, 0.5688651882963847, -0.7526355976340225, 0.678666989205376, -0.676297494024862, -0.9994460323512003, -0.09574448606538073, -0.44460656961300205, -0.44951144023012246, -1.2048471417206936, 0.7085546291673673, 0.6547152374806319, -0.7423025231136463, -2.1840448982989344, -1.0761526288632624, -0.8821739194264769, 0.16686387735840705, -1.6161118772902994, -2.20726383604153, 1.0311954284225517, -0.242110444341512, -0.13962810666291445, 0.5792425627063781, 1.7064911400976197, 1.0447748476017658, 0.5514204827280627, -0.2762503662657573, 0.7549544200480618, 0.2775470665053151, -0.5982610550270542, -0.22943336333057485, -0.9634299159356345, 0.9426435162691165, -2.78429824560043, -1.0727632114734371, -0.6725702929710772, -1.3972696238020141, -0.09263107503903131, -0.0852572909075391, 1.6541989070099647, 0.9381501595964749, 1.0954607253099615, 0.0963009934795626, -0.3485949014755212, -0.4694509996304064, 0.24703932030270714, 1.4068080908410796, -0.6683069699263524, 1.0235858873351433, 0.4496249563956825, 0.39823683814607497, 1.7915890976254676, -1.3276782228531736, 0.9539407573453836, -0.11839409168110034, -0.4908515286224764, 0.7214190615733209, -1.2964801667391652, 0.8113597656016831, 1.0927746445277344, 0.15306711543042487, 0.5150282622650163, -0.7743053253986879, -1.3428282038945936, -0.6916081901577839, -0.3848626572878707, -0.7531296637862062, -0.06521943121422427, -0.4175317297317254], \"xaxis\": \"x9\", \"y\": [0.38624200232466965, -1.103053781166063, 0.8747230151714097, 1.1427618086131146, 1.0884770767948007, 0.018359523694216263, 0.05840997798192588, -1.2391290014141552, -1.296181045731021, -0.8887332871538806, -0.23456032680491165, 0.8331448638773145, 0.24946389872828809, -0.5583851428414339, -1.6825339615031922, 1.1883565952538475, 0.8553794074661895, 0.600574420419182, 0.6322393057773141, -0.6111798102511441, -0.7129929993343201, -0.13191366960066728, -2.086549345634095, -1.2944282860750111, -0.7668382337430868, -0.012030414860574743, 1.0473654903555025, -0.677110218515026, -0.6909783025399621, 0.6049468036074455, -0.33925801968699215, -0.19735030582817678, -1.3767593235238877, -1.8268986918367425, -0.8246164142011257, -1.2461764710336531, 1.0779803445030067, 0.592753213646832, -1.7661736170871576, -0.9697867014971933, 1.662630823447494, 0.41045393970333455, -0.7803868114552753, -0.3403884430122021, 2.0139348199611584, -1.5400588993376187, -1.2155525186307272, -0.3413266240642806, 0.2688487285658409, -0.4547811988897437, 0.4008500978073652, 0.5333243966653178, 1.9293198084109082, -1.412673932806497, -0.9400824076378804, 0.48502163853338665, 0.1491532803026734, -0.38116730827138484, -0.881039496056569, 0.3561620126336619, 1.9636376771967603, -0.28098973199069216, 0.9459807073237207, -0.8239976940070456, -0.17177805579083164, -0.45150497803643086, -1.2242830407172463, -0.517747453633957, -0.36853353096114033, -1.2660077556792828, 0.43153341357301894, -2.0148730397232644, 0.0619611179969558, -0.4933547729948514, -0.017350503213527536, 0.39218455393464097, -1.0120832654272587, 0.5137759979125835, 0.3470347547097227, -0.7803624770413473, -0.9984240624711453, 1.1226579397756151, -0.9531621899896159, -1.1400610100436397, 0.7227567747392188, -1.7986076971636866, 0.3523808637582861, 1.5994152665586299, 0.25776039243829135, -1.430537457590503, -0.39255184153996725, 0.4910379010155916, 2.480487659287149, -1.465343791671094, -0.9108807912459752, -0.07630301283561905, 1.9404065668343375, 0.4990136693681264, 0.3541865406050927, -0.6549640067820476], \"yaxis\": \"y9\"}, {\"line\": {\"color\": \"rgba(128, 128, 128, 1.0)\", \"dash\": \"solid\", \"shape\": \"linear\", \"width\": 1.3}, \"marker\": {\"size\": 2, \"symbol\": \"circle\"}, \"mode\": \"markers\", \"name\": \"C\", \"text\": \"\", \"type\": \"scatter\", \"x\": [0.06947627645146132, -1.1607331144368884, -1.0497237200184943, -1.5019722344727746, -0.35258467341524236, -0.2613228779269877, -0.06139124485561016, -0.44360043268460614, 0.5872810423296456, 1.6453995448818386, -0.7900626782826925, 0.18850992933071747, 1.7249806781280306, 1.7419381851834321, 0.12978630101315522, -0.6184924891150716, 1.3239594395322758, -0.8221817143634784, 0.1729970616350675, -0.06451233675875263, 1.806990957117825, -0.07398636085416085, 0.8577491295231231, 0.7950606607627105, -0.21130922179843403, -0.33469796249196276, 1.4981538840123534, -0.37300060573819865, -0.6636143565365548, 0.21665831066383276, -0.6704273842363159, -0.5419693348508918, 0.4827874038183322, 0.11512264384583679, -1.995149410421762, -0.24652486006627924, -2.0379604789618577, 1.5251422775071708, -0.09475683944237748, -0.4152216032207558, 1.0538852176943854, 0.9601525791285485, 0.5000010334891224, 1.2485272427426186, 0.8235984689487181, 0.474745927388093, -1.4936499081932895, 0.1426436720132142, 0.37031345404667415, 0.31292079605749484, 0.05974849585601801, 0.12891917352285698, 0.6460500265917863, 0.7892432827025327, -0.4842582356008212, 0.7010336915602854, 2.0534288048468974, -0.675806191857299, -0.5346894222900018, 0.11199315394758796, -1.6037419859915685, 1.4675262838719447, -0.7155811026629516, -0.5697123833533212, 0.13424980737666348, 0.5363928716736676, -0.664561078210953, -0.5909996720870854, -1.1243652440851621, 2.4349656634141517, 0.0850612426247251, -0.0372770038794375, -0.6028590721689905, 0.9092158213811373, 1.402430473603624, 0.41745183831560073, -0.20313523445200599, 1.0764350847389748, 1.4423102931701026, 1.218346375994514, 0.3355120938252802, 0.4733931746569244, -0.2393567851765012, 1.9489466889539204, -0.5848238215674598, -1.6455253042673064, 1.4180247584903094, -0.8569693533754201, 1.0282726134368507, -0.515658480873396, 0.06909637953208433, -1.1426104768023915, 0.051162969647525966, -0.1644305552111428, 0.01357270195562589, 1.5799064467391917, 0.1833104094552434, -2.323886990231017, -0.21440703575713888, -0.3262744037676085], \"xaxis\": \"x10\", \"y\": [0.38624200232466965, -1.103053781166063, 0.8747230151714097, 1.1427618086131146, 1.0884770767948007, 0.018359523694216263, 0.05840997798192588, -1.2391290014141552, -1.296181045731021, -0.8887332871538806, -0.23456032680491165, 0.8331448638773145, 0.24946389872828809, -0.5583851428414339, -1.6825339615031922, 1.1883565952538475, 0.8553794074661895, 0.600574420419182, 0.6322393057773141, -0.6111798102511441, -0.7129929993343201, -0.13191366960066728, -2.086549345634095, -1.2944282860750111, -0.7668382337430868, -0.012030414860574743, 1.0473654903555025, -0.677110218515026, -0.6909783025399621, 0.6049468036074455, -0.33925801968699215, -0.19735030582817678, -1.3767593235238877, -1.8268986918367425, -0.8246164142011257, -1.2461764710336531, 1.0779803445030067, 0.592753213646832, -1.7661736170871576, -0.9697867014971933, 1.662630823447494, 0.41045393970333455, -0.7803868114552753, -0.3403884430122021, 2.0139348199611584, -1.5400588993376187, -1.2155525186307272, -0.3413266240642806, 0.2688487285658409, -0.4547811988897437, 0.4008500978073652, 0.5333243966653178, 1.9293198084109082, -1.412673932806497, -0.9400824076378804, 0.48502163853338665, 0.1491532803026734, -0.38116730827138484, -0.881039496056569, 0.3561620126336619, 1.9636376771967603, -0.28098973199069216, 0.9459807073237207, -0.8239976940070456, -0.17177805579083164, -0.45150497803643086, -1.2242830407172463, -0.517747453633957, -0.36853353096114033, -1.2660077556792828, 0.43153341357301894, -2.0148730397232644, 0.0619611179969558, -0.4933547729948514, -0.017350503213527536, 0.39218455393464097, -1.0120832654272587, 0.5137759979125835, 0.3470347547097227, -0.7803624770413473, -0.9984240624711453, 1.1226579397756151, -0.9531621899896159, -1.1400610100436397, 0.7227567747392188, -1.7986076971636866, 0.3523808637582861, 1.5994152665586299, 0.25776039243829135, -1.430537457590503, -0.39255184153996725, 0.4910379010155916, 2.480487659287149, -1.465343791671094, -0.9108807912459752, -0.07630301283561905, 1.9404065668343375, 0.4990136693681264, 0.3541865406050927, -0.6549640067820476], \"yaxis\": \"y10\"}, {\"histfunc\": \"count\", \"histnorm\": \"\", \"marker\": {\"color\": \"rgba(50, 171, 96, 1.0)\", \"line\": {\"color\": \"#4D5663\", \"width\": 1.3}}, \"name\": \"C\", \"nbinsx\": 10, \"opacity\": 0.8, \"orientation\": \"v\", \"type\": \"histogram\", \"x\": [0.38624200232466965, -1.103053781166063, 0.8747230151714097, 1.1427618086131146, 1.0884770767948007, 0.018359523694216263, 0.05840997798192588, -1.2391290014141552, -1.296181045731021, -0.8887332871538806, -0.23456032680491165, 0.8331448638773145, 0.24946389872828809, -0.5583851428414339, -1.6825339615031922, 1.1883565952538475, 0.8553794074661895, 0.600574420419182, 0.6322393057773141, -0.6111798102511441, -0.7129929993343201, -0.13191366960066728, -2.086549345634095, -1.2944282860750111, -0.7668382337430868, -0.012030414860574743, 1.0473654903555025, -0.677110218515026, -0.6909783025399621, 0.6049468036074455, -0.33925801968699215, -0.19735030582817678, -1.3767593235238877, -1.8268986918367425, -0.8246164142011257, -1.2461764710336531, 1.0779803445030067, 0.592753213646832, -1.7661736170871576, -0.9697867014971933, 1.662630823447494, 0.41045393970333455, -0.7803868114552753, -0.3403884430122021, 2.0139348199611584, -1.5400588993376187, -1.2155525186307272, -0.3413266240642806, 0.2688487285658409, -0.4547811988897437, 0.4008500978073652, 0.5333243966653178, 1.9293198084109082, -1.412673932806497, -0.9400824076378804, 0.48502163853338665, 0.1491532803026734, -0.38116730827138484, -0.881039496056569, 0.3561620126336619, 1.9636376771967603, -0.28098973199069216, 0.9459807073237207, -0.8239976940070456, -0.17177805579083164, -0.45150497803643086, -1.2242830407172463, -0.517747453633957, -0.36853353096114033, -1.2660077556792828, 0.43153341357301894, -2.0148730397232644, 0.0619611179969558, -0.4933547729948514, -0.017350503213527536, 0.39218455393464097, -1.0120832654272587, 0.5137759979125835, 0.3470347547097227, -0.7803624770413473, -0.9984240624711453, 1.1226579397756151, -0.9531621899896159, -1.1400610100436397, 0.7227567747392188, -1.7986076971636866, 0.3523808637582861, 1.5994152665586299, 0.25776039243829135, -1.430537457590503, -0.39255184153996725, 0.4910379010155916, 2.480487659287149, -1.465343791671094, -0.9108807912459752, -0.07630301283561905, 1.9404065668343375, 0.4990136693681264, 0.3541865406050927, -0.6549640067820476], \"xaxis\": \"x11\", \"yaxis\": \"y11\"}, {\"line\": {\"color\": \"rgba(128, 128, 128, 1.0)\", \"dash\": \"solid\", \"shape\": \"linear\", \"width\": 1.3}, \"marker\": {\"size\": 2, \"symbol\": \"circle\"}, \"mode\": \"markers\", \"name\": \"C\", \"text\": \"\", \"type\": \"scatter\", \"x\": [1.35799650121603, 0.49031384851341386, 0.8217900412184245, 1.8480179079450132, 1.2891957674160297, -1.65365200127266, 0.10454661884657883, 0.9506716710464106, -0.19641922014168325, 0.9768571708759514, 0.14020495319766363, -0.12537426752293807, 0.44930617740675016, -2.2208536613578977, 0.6170470273080931, 1.185972681436933, 1.1733625582842218, 1.2292256810101445, 0.07450998345320564, 0.1151458760479426, 0.28018438840182763, 0.7223513102801838, -0.9954998509921545, 1.7762467394262884, -1.798771758232789, -1.1355961233029268, 1.0336082924616914, 1.9064446864252091, 0.8724039750469477, 0.4739927604174638, 0.332547688686496, -0.7417122895328502, -0.1306805505201772, 0.8269101080866751, -1.0850132095479876, 0.5395081602646972, -0.7948842629278595, 0.46230114848173987, 1.3988864697472683, -0.10820150105426884, -0.6364044200995346, 0.66999827882666, 0.708590161971385, 0.5553804699720557, 0.6816179967639676, -0.9941929601339952, -0.5808554254498477, 0.9383726682347696, 0.3240423424455391, -1.0385439846087516, -1.539542792561218, -0.961406758760432, 0.02261058611178702, 1.1002121793781972, 0.6788455444403805, 0.4927823986423535, 0.3060554625276701, -0.206657643593115, 0.12525764004808265, -2.0128651495818763, 1.1276818269886617, 0.9544309829196077, -0.20702002152668894, -0.9425080889409485, 0.8166432279944357, 0.7917779827298608, -0.7773306725417373, 0.006113206575926991, 0.2653593473830176, 0.2968504982679135, 0.8137227607709042, -0.17544034351489765, -0.33825098739707593, -1.699307948886646, 0.758732502114384, -0.08836103472531166, 2.251033328323059, -0.3242265920860937, -1.550932289507223, 1.416420560331823, 0.8228168780693008, 0.3411632332780876, 1.1235084777975795, 0.26843534920251977, 1.2380229735851842, -2.31966589624832, 1.2194283245867084, -0.5927184450268074, 0.12502297443507235, -0.520998348360788, 0.08042225483731544, -1.3599580302861842, 1.3514526144843164, -0.8689695804604732, 0.10737726783367744, 0.09641323245696796, 2.285685243349205, -0.055633511678821815, -0.0018428827838383338, 0.319891646443404], \"xaxis\": \"x12\", \"y\": [0.38624200232466965, -1.103053781166063, 0.8747230151714097, 1.1427618086131146, 1.0884770767948007, 0.018359523694216263, 0.05840997798192588, -1.2391290014141552, -1.296181045731021, -0.8887332871538806, -0.23456032680491165, 0.8331448638773145, 0.24946389872828809, -0.5583851428414339, -1.6825339615031922, 1.1883565952538475, 0.8553794074661895, 0.600574420419182, 0.6322393057773141, -0.6111798102511441, -0.7129929993343201, -0.13191366960066728, -2.086549345634095, -1.2944282860750111, -0.7668382337430868, -0.012030414860574743, 1.0473654903555025, -0.677110218515026, -0.6909783025399621, 0.6049468036074455, -0.33925801968699215, -0.19735030582817678, -1.3767593235238877, -1.8268986918367425, -0.8246164142011257, -1.2461764710336531, 1.0779803445030067, 0.592753213646832, -1.7661736170871576, -0.9697867014971933, 1.662630823447494, 0.41045393970333455, -0.7803868114552753, -0.3403884430122021, 2.0139348199611584, -1.5400588993376187, -1.2155525186307272, -0.3413266240642806, 0.2688487285658409, -0.4547811988897437, 0.4008500978073652, 0.5333243966653178, 1.9293198084109082, -1.412673932806497, -0.9400824076378804, 0.48502163853338665, 0.1491532803026734, -0.38116730827138484, -0.881039496056569, 0.3561620126336619, 1.9636376771967603, -0.28098973199069216, 0.9459807073237207, -0.8239976940070456, -0.17177805579083164, -0.45150497803643086, -1.2242830407172463, -0.517747453633957, -0.36853353096114033, -1.2660077556792828, 0.43153341357301894, -2.0148730397232644, 0.0619611179969558, -0.4933547729948514, -0.017350503213527536, 0.39218455393464097, -1.0120832654272587, 0.5137759979125835, 0.3470347547097227, -0.7803624770413473, -0.9984240624711453, 1.1226579397756151, -0.9531621899896159, -1.1400610100436397, 0.7227567747392188, -1.7986076971636866, 0.3523808637582861, 1.5994152665586299, 0.25776039243829135, -1.430537457590503, -0.39255184153996725, 0.4910379010155916, 2.480487659287149, -1.465343791671094, -0.9108807912459752, -0.07630301283561905, 1.9404065668343375, 0.4990136693681264, 0.3541865406050927, -0.6549640067820476], \"yaxis\": \"y12\"}, {\"line\": {\"color\": \"rgba(128, 128, 128, 1.0)\", \"dash\": \"solid\", \"shape\": \"linear\", \"width\": 1.3}, \"marker\": {\"size\": 2, \"symbol\": \"circle\"}, \"mode\": \"markers\", \"name\": \"D\", \"text\": \"\", \"type\": \"scatter\", \"x\": [0.9533923532252154, 0.7962578503151079, 0.9446265933015333, -0.42864094189536345, -0.6905822967359128, 0.545787353838866, -0.7495000133758046, -0.3762815578281219, 0.3338145439069094, 1.8164322972195024, -0.45792968633020076, 0.37527095200432803, 1.6257569004557955, -1.0553284569165717, -1.5696652241668305, -0.3228740712113491, 0.1507472809239381, -0.5236479525340905, -1.4136103156819133, -0.25450762723785664, -0.3528814569744451, -0.5218846044634726, 1.4625662999874716, -0.29412671346680097, 1.0894037294964314, 0.8454922650572088, 1.1524461039633298, -0.3993380856970902, 1.4481690182844273, 0.5306664780946375, -0.3353654523770128, 1.0164031310864774, 0.5688651882963847, -0.7526355976340225, 0.678666989205376, -0.676297494024862, -0.9994460323512003, -0.09574448606538073, -0.44460656961300205, -0.44951144023012246, -1.2048471417206936, 0.7085546291673673, 0.6547152374806319, -0.7423025231136463, -2.1840448982989344, -1.0761526288632624, -0.8821739194264769, 0.16686387735840705, -1.6161118772902994, -2.20726383604153, 1.0311954284225517, -0.242110444341512, -0.13962810666291445, 0.5792425627063781, 1.7064911400976197, 1.0447748476017658, 0.5514204827280627, -0.2762503662657573, 0.7549544200480618, 0.2775470665053151, -0.5982610550270542, -0.22943336333057485, -0.9634299159356345, 0.9426435162691165, -2.78429824560043, -1.0727632114734371, -0.6725702929710772, -1.3972696238020141, -0.09263107503903131, -0.0852572909075391, 1.6541989070099647, 0.9381501595964749, 1.0954607253099615, 0.0963009934795626, -0.3485949014755212, -0.4694509996304064, 0.24703932030270714, 1.4068080908410796, -0.6683069699263524, 1.0235858873351433, 0.4496249563956825, 0.39823683814607497, 1.7915890976254676, -1.3276782228531736, 0.9539407573453836, -0.11839409168110034, -0.4908515286224764, 0.7214190615733209, -1.2964801667391652, 0.8113597656016831, 1.0927746445277344, 0.15306711543042487, 0.5150282622650163, -0.7743053253986879, -1.3428282038945936, -0.6916081901577839, -0.3848626572878707, -0.7531296637862062, -0.06521943121422427, -0.4175317297317254], \"xaxis\": \"x13\", \"y\": [1.35799650121603, 0.49031384851341386, 0.8217900412184245, 1.8480179079450132, 1.2891957674160297, -1.65365200127266, 0.10454661884657883, 0.9506716710464106, -0.19641922014168325, 0.9768571708759514, 0.14020495319766363, -0.12537426752293807, 0.44930617740675016, -2.2208536613578977, 0.6170470273080931, 1.185972681436933, 1.1733625582842218, 1.2292256810101445, 0.07450998345320564, 0.1151458760479426, 0.28018438840182763, 0.7223513102801838, -0.9954998509921545, 1.7762467394262884, -1.798771758232789, -1.1355961233029268, 1.0336082924616914, 1.9064446864252091, 0.8724039750469477, 0.4739927604174638, 0.332547688686496, -0.7417122895328502, -0.1306805505201772, 0.8269101080866751, -1.0850132095479876, 0.5395081602646972, -0.7948842629278595, 0.46230114848173987, 1.3988864697472683, -0.10820150105426884, -0.6364044200995346, 0.66999827882666, 0.708590161971385, 0.5553804699720557, 0.6816179967639676, -0.9941929601339952, -0.5808554254498477, 0.9383726682347696, 0.3240423424455391, -1.0385439846087516, -1.539542792561218, -0.961406758760432, 0.02261058611178702, 1.1002121793781972, 0.6788455444403805, 0.4927823986423535, 0.3060554625276701, -0.206657643593115, 0.12525764004808265, -2.0128651495818763, 1.1276818269886617, 0.9544309829196077, -0.20702002152668894, -0.9425080889409485, 0.8166432279944357, 0.7917779827298608, -0.7773306725417373, 0.006113206575926991, 0.2653593473830176, 0.2968504982679135, 0.8137227607709042, -0.17544034351489765, -0.33825098739707593, -1.699307948886646, 0.758732502114384, -0.08836103472531166, 2.251033328323059, -0.3242265920860937, -1.550932289507223, 1.416420560331823, 0.8228168780693008, 0.3411632332780876, 1.1235084777975795, 0.26843534920251977, 1.2380229735851842, -2.31966589624832, 1.2194283245867084, -0.5927184450268074, 0.12502297443507235, -0.520998348360788, 0.08042225483731544, -1.3599580302861842, 1.3514526144843164, -0.8689695804604732, 0.10737726783367744, 0.09641323245696796, 2.285685243349205, -0.055633511678821815, -0.0018428827838383338, 0.319891646443404], \"yaxis\": \"y13\"}, {\"line\": {\"color\": \"rgba(128, 128, 128, 1.0)\", \"dash\": \"solid\", \"shape\": \"linear\", \"width\": 1.3}, \"marker\": {\"size\": 2, \"symbol\": \"circle\"}, \"mode\": \"markers\", \"name\": \"D\", \"text\": \"\", \"type\": \"scatter\", \"x\": [0.06947627645146132, -1.1607331144368884, -1.0497237200184943, -1.5019722344727746, -0.35258467341524236, -0.2613228779269877, -0.06139124485561016, -0.44360043268460614, 0.5872810423296456, 1.6453995448818386, -0.7900626782826925, 0.18850992933071747, 1.7249806781280306, 1.7419381851834321, 0.12978630101315522, -0.6184924891150716, 1.3239594395322758, -0.8221817143634784, 0.1729970616350675, -0.06451233675875263, 1.806990957117825, -0.07398636085416085, 0.8577491295231231, 0.7950606607627105, -0.21130922179843403, -0.33469796249196276, 1.4981538840123534, -0.37300060573819865, -0.6636143565365548, 0.21665831066383276, -0.6704273842363159, -0.5419693348508918, 0.4827874038183322, 0.11512264384583679, -1.995149410421762, -0.24652486006627924, -2.0379604789618577, 1.5251422775071708, -0.09475683944237748, -0.4152216032207558, 1.0538852176943854, 0.9601525791285485, 0.5000010334891224, 1.2485272427426186, 0.8235984689487181, 0.474745927388093, -1.4936499081932895, 0.1426436720132142, 0.37031345404667415, 0.31292079605749484, 0.05974849585601801, 0.12891917352285698, 0.6460500265917863, 0.7892432827025327, -0.4842582356008212, 0.7010336915602854, 2.0534288048468974, -0.675806191857299, -0.5346894222900018, 0.11199315394758796, -1.6037419859915685, 1.4675262838719447, -0.7155811026629516, -0.5697123833533212, 0.13424980737666348, 0.5363928716736676, -0.664561078210953, -0.5909996720870854, -1.1243652440851621, 2.4349656634141517, 0.0850612426247251, -0.0372770038794375, -0.6028590721689905, 0.9092158213811373, 1.402430473603624, 0.41745183831560073, -0.20313523445200599, 1.0764350847389748, 1.4423102931701026, 1.218346375994514, 0.3355120938252802, 0.4733931746569244, -0.2393567851765012, 1.9489466889539204, -0.5848238215674598, -1.6455253042673064, 1.4180247584903094, -0.8569693533754201, 1.0282726134368507, -0.515658480873396, 0.06909637953208433, -1.1426104768023915, 0.051162969647525966, -0.1644305552111428, 0.01357270195562589, 1.5799064467391917, 0.1833104094552434, -2.323886990231017, -0.21440703575713888, -0.3262744037676085], \"xaxis\": \"x14\", \"y\": [1.35799650121603, 0.49031384851341386, 0.8217900412184245, 1.8480179079450132, 1.2891957674160297, -1.65365200127266, 0.10454661884657883, 0.9506716710464106, -0.19641922014168325, 0.9768571708759514, 0.14020495319766363, -0.12537426752293807, 0.44930617740675016, -2.2208536613578977, 0.6170470273080931, 1.185972681436933, 1.1733625582842218, 1.2292256810101445, 0.07450998345320564, 0.1151458760479426, 0.28018438840182763, 0.7223513102801838, -0.9954998509921545, 1.7762467394262884, -1.798771758232789, -1.1355961233029268, 1.0336082924616914, 1.9064446864252091, 0.8724039750469477, 0.4739927604174638, 0.332547688686496, -0.7417122895328502, -0.1306805505201772, 0.8269101080866751, -1.0850132095479876, 0.5395081602646972, -0.7948842629278595, 0.46230114848173987, 1.3988864697472683, -0.10820150105426884, -0.6364044200995346, 0.66999827882666, 0.708590161971385, 0.5553804699720557, 0.6816179967639676, -0.9941929601339952, -0.5808554254498477, 0.9383726682347696, 0.3240423424455391, -1.0385439846087516, -1.539542792561218, -0.961406758760432, 0.02261058611178702, 1.1002121793781972, 0.6788455444403805, 0.4927823986423535, 0.3060554625276701, -0.206657643593115, 0.12525764004808265, -2.0128651495818763, 1.1276818269886617, 0.9544309829196077, -0.20702002152668894, -0.9425080889409485, 0.8166432279944357, 0.7917779827298608, -0.7773306725417373, 0.006113206575926991, 0.2653593473830176, 0.2968504982679135, 0.8137227607709042, -0.17544034351489765, -0.33825098739707593, -1.699307948886646, 0.758732502114384, -0.08836103472531166, 2.251033328323059, -0.3242265920860937, -1.550932289507223, 1.416420560331823, 0.8228168780693008, 0.3411632332780876, 1.1235084777975795, 0.26843534920251977, 1.2380229735851842, -2.31966589624832, 1.2194283245867084, -0.5927184450268074, 0.12502297443507235, -0.520998348360788, 0.08042225483731544, -1.3599580302861842, 1.3514526144843164, -0.8689695804604732, 0.10737726783367744, 0.09641323245696796, 2.285685243349205, -0.055633511678821815, -0.0018428827838383338, 0.319891646443404], \"yaxis\": \"y14\"}, {\"line\": {\"color\": \"rgba(128, 128, 128, 1.0)\", \"dash\": \"solid\", \"shape\": \"linear\", \"width\": 1.3}, \"marker\": {\"size\": 2, \"symbol\": \"circle\"}, \"mode\": \"markers\", \"name\": \"D\", \"text\": \"\", \"type\": \"scatter\", \"x\": [0.38624200232466965, -1.103053781166063, 0.8747230151714097, 1.1427618086131146, 1.0884770767948007, 0.018359523694216263, 0.05840997798192588, -1.2391290014141552, -1.296181045731021, -0.8887332871538806, -0.23456032680491165, 0.8331448638773145, 0.24946389872828809, -0.5583851428414339, -1.6825339615031922, 1.1883565952538475, 0.8553794074661895, 0.600574420419182, 0.6322393057773141, -0.6111798102511441, -0.7129929993343201, -0.13191366960066728, -2.086549345634095, -1.2944282860750111, -0.7668382337430868, -0.012030414860574743, 1.0473654903555025, -0.677110218515026, -0.6909783025399621, 0.6049468036074455, -0.33925801968699215, -0.19735030582817678, -1.3767593235238877, -1.8268986918367425, -0.8246164142011257, -1.2461764710336531, 1.0779803445030067, 0.592753213646832, -1.7661736170871576, -0.9697867014971933, 1.662630823447494, 0.41045393970333455, -0.7803868114552753, -0.3403884430122021, 2.0139348199611584, -1.5400588993376187, -1.2155525186307272, -0.3413266240642806, 0.2688487285658409, -0.4547811988897437, 0.4008500978073652, 0.5333243966653178, 1.9293198084109082, -1.412673932806497, -0.9400824076378804, 0.48502163853338665, 0.1491532803026734, -0.38116730827138484, -0.881039496056569, 0.3561620126336619, 1.9636376771967603, -0.28098973199069216, 0.9459807073237207, -0.8239976940070456, -0.17177805579083164, -0.45150497803643086, -1.2242830407172463, -0.517747453633957, -0.36853353096114033, -1.2660077556792828, 0.43153341357301894, -2.0148730397232644, 0.0619611179969558, -0.4933547729948514, -0.017350503213527536, 0.39218455393464097, -1.0120832654272587, 0.5137759979125835, 0.3470347547097227, -0.7803624770413473, -0.9984240624711453, 1.1226579397756151, -0.9531621899896159, -1.1400610100436397, 0.7227567747392188, -1.7986076971636866, 0.3523808637582861, 1.5994152665586299, 0.25776039243829135, -1.430537457590503, -0.39255184153996725, 0.4910379010155916, 2.480487659287149, -1.465343791671094, -0.9108807912459752, -0.07630301283561905, 1.9404065668343375, 0.4990136693681264, 0.3541865406050927, -0.6549640067820476], \"xaxis\": \"x15\", \"y\": [1.35799650121603, 0.49031384851341386, 0.8217900412184245, 1.8480179079450132, 1.2891957674160297, -1.65365200127266, 0.10454661884657883, 0.9506716710464106, -0.19641922014168325, 0.9768571708759514, 0.14020495319766363, -0.12537426752293807, 0.44930617740675016, -2.2208536613578977, 0.6170470273080931, 1.185972681436933, 1.1733625582842218, 1.2292256810101445, 0.07450998345320564, 0.1151458760479426, 0.28018438840182763, 0.7223513102801838, -0.9954998509921545, 1.7762467394262884, -1.798771758232789, -1.1355961233029268, 1.0336082924616914, 1.9064446864252091, 0.8724039750469477, 0.4739927604174638, 0.332547688686496, -0.7417122895328502, -0.1306805505201772, 0.8269101080866751, -1.0850132095479876, 0.5395081602646972, -0.7948842629278595, 0.46230114848173987, 1.3988864697472683, -0.10820150105426884, -0.6364044200995346, 0.66999827882666, 0.708590161971385, 0.5553804699720557, 0.6816179967639676, -0.9941929601339952, -0.5808554254498477, 0.9383726682347696, 0.3240423424455391, -1.0385439846087516, -1.539542792561218, -0.961406758760432, 0.02261058611178702, 1.1002121793781972, 0.6788455444403805, 0.4927823986423535, 0.3060554625276701, -0.206657643593115, 0.12525764004808265, -2.0128651495818763, 1.1276818269886617, 0.9544309829196077, -0.20702002152668894, -0.9425080889409485, 0.8166432279944357, 0.7917779827298608, -0.7773306725417373, 0.006113206575926991, 0.2653593473830176, 0.2968504982679135, 0.8137227607709042, -0.17544034351489765, -0.33825098739707593, -1.699307948886646, 0.758732502114384, -0.08836103472531166, 2.251033328323059, -0.3242265920860937, -1.550932289507223, 1.416420560331823, 0.8228168780693008, 0.3411632332780876, 1.1235084777975795, 0.26843534920251977, 1.2380229735851842, -2.31966589624832, 1.2194283245867084, -0.5927184450268074, 0.12502297443507235, -0.520998348360788, 0.08042225483731544, -1.3599580302861842, 1.3514526144843164, -0.8689695804604732, 0.10737726783367744, 0.09641323245696796, 2.285685243349205, -0.055633511678821815, -0.0018428827838383338, 0.319891646443404], \"yaxis\": \"y15\"}, {\"histfunc\": \"count\", \"histnorm\": \"\", \"marker\": {\"color\": \"rgba(128, 0, 128, 1.0)\", \"line\": {\"color\": \"#4D5663\", \"width\": 1.3}}, \"name\": \"D\", \"nbinsx\": 10, \"opacity\": 0.8, \"orientation\": \"v\", \"type\": \"histogram\", \"x\": [1.35799650121603, 0.49031384851341386, 0.8217900412184245, 1.8480179079450132, 1.2891957674160297, -1.65365200127266, 0.10454661884657883, 0.9506716710464106, -0.19641922014168325, 0.9768571708759514, 0.14020495319766363, -0.12537426752293807, 0.44930617740675016, -2.2208536613578977, 0.6170470273080931, 1.185972681436933, 1.1733625582842218, 1.2292256810101445, 0.07450998345320564, 0.1151458760479426, 0.28018438840182763, 0.7223513102801838, -0.9954998509921545, 1.7762467394262884, -1.798771758232789, -1.1355961233029268, 1.0336082924616914, 1.9064446864252091, 0.8724039750469477, 0.4739927604174638, 0.332547688686496, -0.7417122895328502, -0.1306805505201772, 0.8269101080866751, -1.0850132095479876, 0.5395081602646972, -0.7948842629278595, 0.46230114848173987, 1.3988864697472683, -0.10820150105426884, -0.6364044200995346, 0.66999827882666, 0.708590161971385, 0.5553804699720557, 0.6816179967639676, -0.9941929601339952, -0.5808554254498477, 0.9383726682347696, 0.3240423424455391, -1.0385439846087516, -1.539542792561218, -0.961406758760432, 0.02261058611178702, 1.1002121793781972, 0.6788455444403805, 0.4927823986423535, 0.3060554625276701, -0.206657643593115, 0.12525764004808265, -2.0128651495818763, 1.1276818269886617, 0.9544309829196077, -0.20702002152668894, -0.9425080889409485, 0.8166432279944357, 0.7917779827298608, -0.7773306725417373, 0.006113206575926991, 0.2653593473830176, 0.2968504982679135, 0.8137227607709042, -0.17544034351489765, -0.33825098739707593, -1.699307948886646, 0.758732502114384, -0.08836103472531166, 2.251033328323059, -0.3242265920860937, -1.550932289507223, 1.416420560331823, 0.8228168780693008, 0.3411632332780876, 1.1235084777975795, 0.26843534920251977, 1.2380229735851842, -2.31966589624832, 1.2194283245867084, -0.5927184450268074, 0.12502297443507235, -0.520998348360788, 0.08042225483731544, -1.3599580302861842, 1.3514526144843164, -0.8689695804604732, 0.10737726783367744, 0.09641323245696796, 2.285685243349205, -0.055633511678821815, -0.0018428827838383338, 0.319891646443404], \"xaxis\": \"x16\", \"yaxis\": \"y16\"}],\n",
       "                        {\"bargap\": 0.02, \"legend\": {\"bgcolor\": \"#F5F6F9\", \"font\": {\"color\": \"#4D5663\"}}, \"paper_bgcolor\": \"#F5F6F9\", \"plot_bgcolor\": \"#F5F6F9\", \"showlegend\": false, \"template\": {\"data\": {\"bar\": [{\"error_x\": {\"color\": \"#2a3f5f\"}, \"error_y\": {\"color\": \"#2a3f5f\"}, \"marker\": {\"line\": {\"color\": \"#E5ECF6\", \"width\": 0.5}}, \"type\": \"bar\"}], \"barpolar\": [{\"marker\": {\"line\": {\"color\": \"#E5ECF6\", \"width\": 0.5}}, \"type\": \"barpolar\"}], \"carpet\": [{\"aaxis\": {\"endlinecolor\": \"#2a3f5f\", \"gridcolor\": \"white\", \"linecolor\": \"white\", \"minorgridcolor\": \"white\", \"startlinecolor\": \"#2a3f5f\"}, \"baxis\": {\"endlinecolor\": \"#2a3f5f\", \"gridcolor\": \"white\", \"linecolor\": \"white\", \"minorgridcolor\": \"white\", \"startlinecolor\": \"#2a3f5f\"}, \"type\": \"carpet\"}], \"choropleth\": [{\"colorbar\": {\"outlinewidth\": 0, \"ticks\": \"\"}, \"type\": \"choropleth\"}], \"contour\": [{\"colorbar\": {\"outlinewidth\": 0, \"ticks\": \"\"}, \"colorscale\": [[0.0, \"#0d0887\"], [0.1111111111111111, \"#46039f\"], [0.2222222222222222, \"#7201a8\"], [0.3333333333333333, \"#9c179e\"], [0.4444444444444444, \"#bd3786\"], [0.5555555555555556, \"#d8576b\"], [0.6666666666666666, \"#ed7953\"], [0.7777777777777778, \"#fb9f3a\"], [0.8888888888888888, \"#fdca26\"], [1.0, \"#f0f921\"]], \"type\": \"contour\"}], \"contourcarpet\": [{\"colorbar\": {\"outlinewidth\": 0, \"ticks\": \"\"}, \"type\": \"contourcarpet\"}], \"heatmap\": [{\"colorbar\": {\"outlinewidth\": 0, \"ticks\": \"\"}, \"colorscale\": [[0.0, \"#0d0887\"], [0.1111111111111111, \"#46039f\"], [0.2222222222222222, \"#7201a8\"], [0.3333333333333333, \"#9c179e\"], [0.4444444444444444, \"#bd3786\"], [0.5555555555555556, \"#d8576b\"], [0.6666666666666666, \"#ed7953\"], [0.7777777777777778, \"#fb9f3a\"], [0.8888888888888888, \"#fdca26\"], [1.0, \"#f0f921\"]], \"type\": \"heatmap\"}], \"heatmapgl\": [{\"colorbar\": {\"outlinewidth\": 0, \"ticks\": \"\"}, \"colorscale\": [[0.0, \"#0d0887\"], [0.1111111111111111, \"#46039f\"], [0.2222222222222222, \"#7201a8\"], [0.3333333333333333, \"#9c179e\"], [0.4444444444444444, \"#bd3786\"], [0.5555555555555556, \"#d8576b\"], [0.6666666666666666, \"#ed7953\"], [0.7777777777777778, \"#fb9f3a\"], [0.8888888888888888, \"#fdca26\"], [1.0, \"#f0f921\"]], \"type\": \"heatmapgl\"}], \"histogram\": [{\"marker\": {\"colorbar\": {\"outlinewidth\": 0, \"ticks\": \"\"}}, \"type\": \"histogram\"}], \"histogram2d\": [{\"colorbar\": {\"outlinewidth\": 0, \"ticks\": \"\"}, \"colorscale\": [[0.0, \"#0d0887\"], [0.1111111111111111, \"#46039f\"], [0.2222222222222222, \"#7201a8\"], [0.3333333333333333, \"#9c179e\"], [0.4444444444444444, \"#bd3786\"], [0.5555555555555556, \"#d8576b\"], [0.6666666666666666, \"#ed7953\"], [0.7777777777777778, \"#fb9f3a\"], [0.8888888888888888, \"#fdca26\"], [1.0, \"#f0f921\"]], \"type\": \"histogram2d\"}], \"histogram2dcontour\": [{\"colorbar\": {\"outlinewidth\": 0, \"ticks\": \"\"}, \"colorscale\": [[0.0, \"#0d0887\"], [0.1111111111111111, \"#46039f\"], [0.2222222222222222, \"#7201a8\"], [0.3333333333333333, \"#9c179e\"], [0.4444444444444444, \"#bd3786\"], [0.5555555555555556, \"#d8576b\"], [0.6666666666666666, \"#ed7953\"], [0.7777777777777778, \"#fb9f3a\"], [0.8888888888888888, \"#fdca26\"], [1.0, \"#f0f921\"]], \"type\": \"histogram2dcontour\"}], \"mesh3d\": [{\"colorbar\": {\"outlinewidth\": 0, \"ticks\": \"\"}, \"type\": \"mesh3d\"}], \"parcoords\": [{\"line\": {\"colorbar\": {\"outlinewidth\": 0, \"ticks\": \"\"}}, \"type\": \"parcoords\"}], \"pie\": [{\"automargin\": true, \"type\": \"pie\"}], \"scatter\": [{\"marker\": {\"colorbar\": {\"outlinewidth\": 0, \"ticks\": \"\"}}, \"type\": \"scatter\"}], \"scatter3d\": [{\"line\": {\"colorbar\": {\"outlinewidth\": 0, \"ticks\": \"\"}}, \"marker\": {\"colorbar\": {\"outlinewidth\": 0, \"ticks\": \"\"}}, \"type\": \"scatter3d\"}], \"scattercarpet\": [{\"marker\": {\"colorbar\": {\"outlinewidth\": 0, \"ticks\": \"\"}}, \"type\": \"scattercarpet\"}], \"scattergeo\": [{\"marker\": {\"colorbar\": {\"outlinewidth\": 0, \"ticks\": \"\"}}, \"type\": \"scattergeo\"}], \"scattergl\": [{\"marker\": {\"colorbar\": {\"outlinewidth\": 0, \"ticks\": \"\"}}, \"type\": \"scattergl\"}], \"scattermapbox\": [{\"marker\": {\"colorbar\": {\"outlinewidth\": 0, \"ticks\": \"\"}}, \"type\": \"scattermapbox\"}], \"scatterpolar\": [{\"marker\": {\"colorbar\": {\"outlinewidth\": 0, \"ticks\": \"\"}}, \"type\": \"scatterpolar\"}], \"scatterpolargl\": [{\"marker\": {\"colorbar\": {\"outlinewidth\": 0, \"ticks\": \"\"}}, \"type\": \"scatterpolargl\"}], \"scatterternary\": [{\"marker\": {\"colorbar\": {\"outlinewidth\": 0, \"ticks\": \"\"}}, \"type\": \"scatterternary\"}], \"surface\": [{\"colorbar\": {\"outlinewidth\": 0, \"ticks\": \"\"}, \"colorscale\": [[0.0, \"#0d0887\"], [0.1111111111111111, \"#46039f\"], [0.2222222222222222, \"#7201a8\"], [0.3333333333333333, \"#9c179e\"], [0.4444444444444444, \"#bd3786\"], [0.5555555555555556, \"#d8576b\"], [0.6666666666666666, \"#ed7953\"], [0.7777777777777778, \"#fb9f3a\"], [0.8888888888888888, \"#fdca26\"], [1.0, \"#f0f921\"]], \"type\": \"surface\"}], \"table\": [{\"cells\": {\"fill\": {\"color\": \"#EBF0F8\"}, \"line\": {\"color\": \"white\"}}, \"header\": {\"fill\": {\"color\": \"#C8D4E3\"}, \"line\": {\"color\": \"white\"}}, \"type\": \"table\"}]}, \"layout\": {\"annotationdefaults\": {\"arrowcolor\": \"#2a3f5f\", \"arrowhead\": 0, \"arrowwidth\": 1}, \"coloraxis\": {\"colorbar\": {\"outlinewidth\": 0, \"ticks\": \"\"}}, \"colorscale\": {\"diverging\": [[0, \"#8e0152\"], [0.1, \"#c51b7d\"], [0.2, \"#de77ae\"], [0.3, \"#f1b6da\"], [0.4, \"#fde0ef\"], [0.5, \"#f7f7f7\"], [0.6, \"#e6f5d0\"], [0.7, \"#b8e186\"], [0.8, \"#7fbc41\"], [0.9, \"#4d9221\"], [1, \"#276419\"]], \"sequential\": [[0.0, \"#0d0887\"], [0.1111111111111111, \"#46039f\"], [0.2222222222222222, \"#7201a8\"], [0.3333333333333333, \"#9c179e\"], [0.4444444444444444, \"#bd3786\"], [0.5555555555555556, \"#d8576b\"], [0.6666666666666666, \"#ed7953\"], [0.7777777777777778, \"#fb9f3a\"], [0.8888888888888888, \"#fdca26\"], [1.0, \"#f0f921\"]], \"sequentialminus\": [[0.0, \"#0d0887\"], [0.1111111111111111, \"#46039f\"], [0.2222222222222222, \"#7201a8\"], [0.3333333333333333, \"#9c179e\"], [0.4444444444444444, \"#bd3786\"], [0.5555555555555556, \"#d8576b\"], [0.6666666666666666, \"#ed7953\"], [0.7777777777777778, \"#fb9f3a\"], [0.8888888888888888, \"#fdca26\"], [1.0, \"#f0f921\"]]}, \"colorway\": [\"#636efa\", \"#EF553B\", \"#00cc96\", \"#ab63fa\", \"#FFA15A\", \"#19d3f3\", \"#FF6692\", \"#B6E880\", \"#FF97FF\", \"#FECB52\"], \"font\": {\"color\": \"#2a3f5f\"}, \"geo\": {\"bgcolor\": \"white\", \"lakecolor\": \"white\", \"landcolor\": \"#E5ECF6\", \"showlakes\": true, \"showland\": true, \"subunitcolor\": \"white\"}, \"hoverlabel\": {\"align\": \"left\"}, \"hovermode\": \"closest\", \"mapbox\": {\"style\": \"light\"}, \"paper_bgcolor\": \"white\", \"plot_bgcolor\": \"#E5ECF6\", \"polar\": {\"angularaxis\": {\"gridcolor\": \"white\", \"linecolor\": \"white\", \"ticks\": \"\"}, \"bgcolor\": \"#E5ECF6\", \"radialaxis\": {\"gridcolor\": \"white\", \"linecolor\": \"white\", \"ticks\": \"\"}}, \"scene\": {\"xaxis\": {\"backgroundcolor\": \"#E5ECF6\", \"gridcolor\": \"white\", \"gridwidth\": 2, \"linecolor\": \"white\", \"showbackground\": true, \"ticks\": \"\", \"zerolinecolor\": \"white\"}, \"yaxis\": {\"backgroundcolor\": \"#E5ECF6\", \"gridcolor\": \"white\", \"gridwidth\": 2, \"linecolor\": \"white\", \"showbackground\": true, \"ticks\": \"\", \"zerolinecolor\": \"white\"}, \"zaxis\": {\"backgroundcolor\": \"#E5ECF6\", \"gridcolor\": \"white\", \"gridwidth\": 2, \"linecolor\": \"white\", \"showbackground\": true, \"ticks\": \"\", \"zerolinecolor\": \"white\"}}, \"shapedefaults\": {\"line\": {\"color\": \"#2a3f5f\"}}, \"ternary\": {\"aaxis\": {\"gridcolor\": \"white\", \"linecolor\": \"white\", \"ticks\": \"\"}, \"baxis\": {\"gridcolor\": \"white\", \"linecolor\": \"white\", \"ticks\": \"\"}, \"bgcolor\": \"#E5ECF6\", \"caxis\": {\"gridcolor\": \"white\", \"linecolor\": \"white\", \"ticks\": \"\"}}, \"title\": {\"x\": 0.05}, \"xaxis\": {\"automargin\": true, \"gridcolor\": \"white\", \"linecolor\": \"white\", \"ticks\": \"\", \"title\": {\"standoff\": 15}, \"zerolinecolor\": \"white\", \"zerolinewidth\": 2}, \"yaxis\": {\"automargin\": true, \"gridcolor\": \"white\", \"linecolor\": \"white\", \"ticks\": \"\", \"title\": {\"standoff\": 15}, \"zerolinecolor\": \"white\", \"zerolinewidth\": 2}}}, \"title\": {\"font\": {\"color\": \"#4D5663\"}}, \"xaxis\": {\"anchor\": \"y\", \"domain\": [0.0, 0.2125], \"gridcolor\": \"#E1E5ED\", \"showgrid\": false, \"tickfont\": {\"color\": \"#4D5663\"}, \"title\": {\"font\": {\"color\": \"#4D5663\"}, \"text\": \"\"}, \"zerolinecolor\": \"#E1E5ED\"}, \"xaxis10\": {\"anchor\": \"y10\", \"domain\": [0.2625, 0.475], \"gridcolor\": \"#E1E5ED\", \"showgrid\": false, \"tickfont\": {\"color\": \"#4D5663\"}, \"title\": {\"font\": {\"color\": \"#4D5663\"}, \"text\": \"\"}, \"zerolinecolor\": \"#E1E5ED\"}, \"xaxis11\": {\"anchor\": \"y11\", \"domain\": [0.525, 0.7375], \"gridcolor\": \"#E1E5ED\", \"showgrid\": false, \"tickfont\": {\"color\": \"#4D5663\"}, \"title\": {\"font\": {\"color\": \"#4D5663\"}, \"text\": \"\"}, \"zerolinecolor\": \"#E1E5ED\"}, \"xaxis12\": {\"anchor\": \"y12\", \"domain\": [0.7875, 1.0], \"gridcolor\": \"#E1E5ED\", \"showgrid\": false, \"tickfont\": {\"color\": \"#4D5663\"}, \"title\": {\"font\": {\"color\": \"#4D5663\"}, \"text\": \"\"}, \"zerolinecolor\": \"#E1E5ED\"}, \"xaxis13\": {\"anchor\": \"y13\", \"domain\": [0.0, 0.2125], \"gridcolor\": \"#E1E5ED\", \"showgrid\": false, \"tickfont\": {\"color\": \"#4D5663\"}, \"title\": {\"font\": {\"color\": \"#4D5663\"}, \"text\": \"\"}, \"zerolinecolor\": \"#E1E5ED\"}, \"xaxis14\": {\"anchor\": \"y14\", \"domain\": [0.2625, 0.475], \"gridcolor\": \"#E1E5ED\", \"showgrid\": false, \"tickfont\": {\"color\": \"#4D5663\"}, \"title\": {\"font\": {\"color\": \"#4D5663\"}, \"text\": \"\"}, \"zerolinecolor\": \"#E1E5ED\"}, \"xaxis15\": {\"anchor\": \"y15\", \"domain\": [0.525, 0.7375], \"gridcolor\": \"#E1E5ED\", \"showgrid\": false, \"tickfont\": {\"color\": \"#4D5663\"}, \"title\": {\"font\": {\"color\": \"#4D5663\"}, \"text\": \"\"}, \"zerolinecolor\": \"#E1E5ED\"}, \"xaxis16\": {\"anchor\": \"y16\", \"domain\": [0.7875, 1.0], \"gridcolor\": \"#E1E5ED\", \"showgrid\": false, \"tickfont\": {\"color\": \"#4D5663\"}, \"title\": {\"font\": {\"color\": \"#4D5663\"}, \"text\": \"\"}, \"zerolinecolor\": \"#E1E5ED\"}, \"xaxis2\": {\"anchor\": \"y2\", \"domain\": [0.2625, 0.475], \"gridcolor\": \"#E1E5ED\", \"showgrid\": false, \"tickfont\": {\"color\": \"#4D5663\"}, \"title\": {\"font\": {\"color\": \"#4D5663\"}, \"text\": \"\"}, \"zerolinecolor\": \"#E1E5ED\"}, \"xaxis3\": {\"anchor\": \"y3\", \"domain\": [0.525, 0.7375], \"gridcolor\": \"#E1E5ED\", \"showgrid\": false, \"tickfont\": {\"color\": \"#4D5663\"}, \"title\": {\"font\": {\"color\": \"#4D5663\"}, \"text\": \"\"}, \"zerolinecolor\": \"#E1E5ED\"}, \"xaxis4\": {\"anchor\": \"y4\", \"domain\": [0.7875, 1.0], \"gridcolor\": \"#E1E5ED\", \"showgrid\": false, \"tickfont\": {\"color\": \"#4D5663\"}, \"title\": {\"font\": {\"color\": \"#4D5663\"}, \"text\": \"\"}, \"zerolinecolor\": \"#E1E5ED\"}, \"xaxis5\": {\"anchor\": \"y5\", \"domain\": [0.0, 0.2125], \"gridcolor\": \"#E1E5ED\", \"showgrid\": false, \"tickfont\": {\"color\": \"#4D5663\"}, \"title\": {\"font\": {\"color\": \"#4D5663\"}, \"text\": \"\"}, \"zerolinecolor\": \"#E1E5ED\"}, \"xaxis6\": {\"anchor\": \"y6\", \"domain\": [0.2625, 0.475], \"gridcolor\": \"#E1E5ED\", \"showgrid\": false, \"tickfont\": {\"color\": \"#4D5663\"}, \"title\": {\"font\": {\"color\": \"#4D5663\"}, \"text\": \"\"}, \"zerolinecolor\": \"#E1E5ED\"}, \"xaxis7\": {\"anchor\": \"y7\", \"domain\": [0.525, 0.7375], \"gridcolor\": \"#E1E5ED\", \"showgrid\": false, \"tickfont\": {\"color\": \"#4D5663\"}, \"title\": {\"font\": {\"color\": \"#4D5663\"}, \"text\": \"\"}, \"zerolinecolor\": \"#E1E5ED\"}, \"xaxis8\": {\"anchor\": \"y8\", \"domain\": [0.7875, 1.0], \"gridcolor\": \"#E1E5ED\", \"showgrid\": false, \"tickfont\": {\"color\": \"#4D5663\"}, \"title\": {\"font\": {\"color\": \"#4D5663\"}, \"text\": \"\"}, \"zerolinecolor\": \"#E1E5ED\"}, \"xaxis9\": {\"anchor\": \"y9\", \"domain\": [0.0, 0.2125], \"gridcolor\": \"#E1E5ED\", \"showgrid\": false, \"tickfont\": {\"color\": \"#4D5663\"}, \"title\": {\"font\": {\"color\": \"#4D5663\"}, \"text\": \"\"}, \"zerolinecolor\": \"#E1E5ED\"}, \"yaxis\": {\"anchor\": \"x\", \"domain\": [0.8025, 1.0], \"gridcolor\": \"#E1E5ED\", \"showgrid\": false, \"tickfont\": {\"color\": \"#4D5663\"}, \"title\": {\"font\": {\"color\": \"#4D5663\"}, \"text\": \"\"}, \"zerolinecolor\": \"#E1E5ED\"}, \"yaxis10\": {\"anchor\": \"x10\", \"domain\": [0.2675, 0.465], \"gridcolor\": \"#E1E5ED\", \"showgrid\": false, \"tickfont\": {\"color\": \"#4D5663\"}, \"title\": {\"font\": {\"color\": \"#4D5663\"}, \"text\": \"\"}, \"zerolinecolor\": \"#E1E5ED\"}, \"yaxis11\": {\"anchor\": \"x11\", \"domain\": [0.2675, 0.465], \"gridcolor\": \"#E1E5ED\", \"showgrid\": false, \"tickfont\": {\"color\": \"#4D5663\"}, \"title\": {\"font\": {\"color\": \"#4D5663\"}, \"text\": \"\"}, \"zerolinecolor\": \"#E1E5ED\"}, \"yaxis12\": {\"anchor\": \"x12\", \"domain\": [0.2675, 0.465], \"gridcolor\": \"#E1E5ED\", \"showgrid\": false, \"tickfont\": {\"color\": \"#4D5663\"}, \"title\": {\"font\": {\"color\": \"#4D5663\"}, \"text\": \"\"}, \"zerolinecolor\": \"#E1E5ED\"}, \"yaxis13\": {\"anchor\": \"x13\", \"domain\": [0.0, 0.1975], \"gridcolor\": \"#E1E5ED\", \"showgrid\": false, \"tickfont\": {\"color\": \"#4D5663\"}, \"title\": {\"font\": {\"color\": \"#4D5663\"}, \"text\": \"\"}, \"zerolinecolor\": \"#E1E5ED\"}, \"yaxis14\": {\"anchor\": \"x14\", \"domain\": [0.0, 0.1975], \"gridcolor\": \"#E1E5ED\", \"showgrid\": false, \"tickfont\": {\"color\": \"#4D5663\"}, \"title\": {\"font\": {\"color\": \"#4D5663\"}, \"text\": \"\"}, \"zerolinecolor\": \"#E1E5ED\"}, \"yaxis15\": {\"anchor\": \"x15\", \"domain\": [0.0, 0.1975], \"gridcolor\": \"#E1E5ED\", \"showgrid\": false, \"tickfont\": {\"color\": \"#4D5663\"}, \"title\": {\"font\": {\"color\": \"#4D5663\"}, \"text\": \"\"}, \"zerolinecolor\": \"#E1E5ED\"}, \"yaxis16\": {\"anchor\": \"x16\", \"domain\": [0.0, 0.1975], \"gridcolor\": \"#E1E5ED\", \"showgrid\": false, \"tickfont\": {\"color\": \"#4D5663\"}, \"title\": {\"font\": {\"color\": \"#4D5663\"}, \"text\": \"\"}, \"zerolinecolor\": \"#E1E5ED\"}, \"yaxis2\": {\"anchor\": \"x2\", \"domain\": [0.8025, 1.0], \"gridcolor\": \"#E1E5ED\", \"showgrid\": false, \"tickfont\": {\"color\": \"#4D5663\"}, \"title\": {\"font\": {\"color\": \"#4D5663\"}, \"text\": \"\"}, \"zerolinecolor\": \"#E1E5ED\"}, \"yaxis3\": {\"anchor\": \"x3\", \"domain\": [0.8025, 1.0], \"gridcolor\": \"#E1E5ED\", \"showgrid\": false, \"tickfont\": {\"color\": \"#4D5663\"}, \"title\": {\"font\": {\"color\": \"#4D5663\"}, \"text\": \"\"}, \"zerolinecolor\": \"#E1E5ED\"}, \"yaxis4\": {\"anchor\": \"x4\", \"domain\": [0.8025, 1.0], \"gridcolor\": \"#E1E5ED\", \"showgrid\": false, \"tickfont\": {\"color\": \"#4D5663\"}, \"title\": {\"font\": {\"color\": \"#4D5663\"}, \"text\": \"\"}, \"zerolinecolor\": \"#E1E5ED\"}, \"yaxis5\": {\"anchor\": \"x5\", \"domain\": [0.535, 0.7325], \"gridcolor\": \"#E1E5ED\", \"showgrid\": false, \"tickfont\": {\"color\": \"#4D5663\"}, \"title\": {\"font\": {\"color\": \"#4D5663\"}, \"text\": \"\"}, \"zerolinecolor\": \"#E1E5ED\"}, \"yaxis6\": {\"anchor\": \"x6\", \"domain\": [0.535, 0.7325], \"gridcolor\": \"#E1E5ED\", \"showgrid\": false, \"tickfont\": {\"color\": \"#4D5663\"}, \"title\": {\"font\": {\"color\": \"#4D5663\"}, \"text\": \"\"}, \"zerolinecolor\": \"#E1E5ED\"}, \"yaxis7\": {\"anchor\": \"x7\", \"domain\": [0.535, 0.7325], \"gridcolor\": \"#E1E5ED\", \"showgrid\": false, \"tickfont\": {\"color\": \"#4D5663\"}, \"title\": {\"font\": {\"color\": \"#4D5663\"}, \"text\": \"\"}, \"zerolinecolor\": \"#E1E5ED\"}, \"yaxis8\": {\"anchor\": \"x8\", \"domain\": [0.535, 0.7325], \"gridcolor\": \"#E1E5ED\", \"showgrid\": false, \"tickfont\": {\"color\": \"#4D5663\"}, \"title\": {\"font\": {\"color\": \"#4D5663\"}, \"text\": \"\"}, \"zerolinecolor\": \"#E1E5ED\"}, \"yaxis9\": {\"anchor\": \"x9\", \"domain\": [0.2675, 0.465], \"gridcolor\": \"#E1E5ED\", \"showgrid\": false, \"tickfont\": {\"color\": \"#4D5663\"}, \"title\": {\"font\": {\"color\": \"#4D5663\"}, \"text\": \"\"}, \"zerolinecolor\": \"#E1E5ED\"}},\n",
       "                        {\"showLink\": true, \"linkText\": \"Export to plot.ly\", \"plotlyServerURL\": \"https://plot.ly\", \"responsive\": true}\n",
       "                    ).then(function(){\n",
       "                            \n",
       "var gd = document.getElementById('35e5b2e8-8416-4b66-8198-531427552453');\n",
       "var x = new MutationObserver(function (mutations, observer) {{\n",
       "        var display = window.getComputedStyle(gd).display;\n",
       "        if (!display || display === 'none') {{\n",
       "            console.log([gd, 'removed!']);\n",
       "            Plotly.purge(gd);\n",
       "            observer.disconnect();\n",
       "        }}\n",
       "}});\n",
       "\n",
       "// Listen for the removal of the full notebook cells\n",
       "var notebookContainer = gd.closest('#notebook-container');\n",
       "if (notebookContainer) {{\n",
       "    x.observe(notebookContainer, {childList: true});\n",
       "}}\n",
       "\n",
       "// Listen for the clearing of the current output cell\n",
       "var outputEl = gd.closest('.output');\n",
       "if (outputEl) {{\n",
       "    x.observe(outputEl, {childList: true});\n",
       "}}\n",
       "\n",
       "                        })\n",
       "                };\n",
       "                });\n",
       "            </script>\n",
       "        </div>"
      ]
     },
     "metadata": {},
     "output_type": "display_data"
    }
   ],
   "source": [
    "# Scatter matrix plot: it is simmilar to pairplot\n",
    "df.scatter_matrix() # make sure that all teh columns are numerical"
   ]
  }
 ],
 "metadata": {
  "kernelspec": {
   "display_name": "Python 3",
   "language": "python",
   "name": "python3"
  },
  "language_info": {
   "codemirror_mode": {
    "name": "ipython",
    "version": 3
   },
   "file_extension": ".py",
   "mimetype": "text/x-python",
   "name": "python",
   "nbconvert_exporter": "python",
   "pygments_lexer": "ipython3",
   "version": "3.6.9"
  }
 },
 "nbformat": 4,
 "nbformat_minor": 4
}
