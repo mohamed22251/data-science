{
 "cells": [
  {
   "cell_type": "markdown",
   "metadata": {},
   "source": [
    "# numpy is a linear algebra library for python, almost all of the libraries in the PyData ecosystem rely on numpy \n",
    "## you can install it ```conda install numpy``` or ```pip install numpy``` depending on package manager you are using"
   ]
  },
  {
   "cell_type": "code",
   "execution_count": 1,
   "metadata": {},
   "outputs": [],
   "source": [
    "# importing the library\n",
    "import numpy as np"
   ]
  },
  {
   "cell_type": "code",
   "execution_count": 2,
   "metadata": {},
   "outputs": [],
   "source": [
    "# we are gonna deal with numpy arrays which comes in two flavors [Vectors <1-d arrays> , Matrices <2-d arrays>]\n",
    "# NOTE: a matrix can have one row or one column."
   ]
  },
  {
   "cell_type": "code",
   "execution_count": 3,
   "metadata": {},
   "outputs": [
    {
     "data": {
      "text/plain": "array([1, 2, 3])"
     },
     "execution_count": 3,
     "metadata": {},
     "output_type": "execute_result"
    }
   ],
   "source": [
    "# creating a numpy array from a list\n",
    "lisa = [1,2,3]\n",
    "arr = np.array(lisa)\n",
    "arr # this is gonna return an one dimensional array"
   ]
  },
  {
   "cell_type": "code",
   "execution_count": 4,
   "metadata": {},
   "outputs": [
    {
     "data": {
      "text/plain": "array([[1, 2, 3],\n       [4, 5, 6],\n       [7, 8, 9]])"
     },
     "execution_count": 4,
     "metadata": {},
     "output_type": "execute_result"
    }
   ],
   "source": [
    "lisa = [[1,2,3],[4,5,6],[7,8,9]]\n",
    "arr = np.array(lisa)\n",
    "arr # this is gonna return a two dimensional array (rows and columns)"
   ]
  },
  {
   "cell_type": "code",
   "execution_count": 5,
   "metadata": {},
   "outputs": [
    {
     "data": {
      "text/plain": "array([  0,   2,   4,   6,   8,  10,  12,  14,  16,  18,  20,  22,  24,\n        26,  28,  30,  32,  34,  36,  38,  40,  42,  44,  46,  48,  50,\n        52,  54,  56,  58,  60,  62,  64,  66,  68,  70,  72,  74,  76,\n        78,  80,  82,  84,  86,  88,  90,  92,  94,  96,  98, 100])"
     },
     "execution_count": 5,
     "metadata": {},
     "output_type": "execute_result"
    }
   ],
   "source": [
    "# GENETAING NUMPY ARRAY\n",
    "# np.arange(start, stop, step) for a 2d array <step is optional> or np.arange(number of vlaues) for a 1d array\n",
    "np.arange(0,101,2) # this is gonna return all the even numbers from 0 to 100"
   ]
  },
  {
   "cell_type": "code",
   "execution_count": 6,
   "metadata": {},
   "outputs": [
    {
     "data": {
      "text/plain": "array([[0., 0., 0., 0.],\n       [0., 0., 0., 0.],\n       [0., 0., 0., 0.],\n       [0., 0., 0., 0.],\n       [0., 0., 0., 0.]])"
     },
     "execution_count": 6,
     "metadata": {},
     "output_type": "execute_result"
    }
   ],
   "source": [
    "# np.zeros((no. rows, no. columns))\n",
    "np.zeros((5,4)) # this is gonna return an array of zeros with the shape (5,4) meaning 5 rows and 4 columns."
   ]
  },
  {
   "cell_type": "code",
   "execution_count": 7,
   "metadata": {},
   "outputs": [
    {
     "data": {
      "text/plain": "array([[1., 1., 1., 1.],\n       [1., 1., 1., 1.],\n       [1., 1., 1., 1.]])"
     },
     "execution_count": 7,
     "metadata": {},
     "output_type": "execute_result"
    }
   ],
   "source": [
    "# np.ones((no. rows, no. columns))\n",
    "np.ones((3,4)) # this is gonna return an array of zeros with the shape (3,4) meaning 3 rows and 4 columns."
   ]
  },
  {
   "cell_type": "code",
   "execution_count": 8,
   "metadata": {},
   "outputs": [
    {
     "data": {
      "text/plain": "array([[5., 5., 5., 5.],\n       [5., 5., 5., 5.],\n       [5., 5., 5., 5.]])"
     },
     "execution_count": 8,
     "metadata": {},
     "output_type": "execute_result"
    }
   ],
   "source": [
    "# and you can manipulate the ones array as follow\n",
    "np.ones((3,4)) * 5"
   ]
  },
  {
   "cell_type": "code",
   "execution_count": 9,
   "metadata": {},
   "outputs": [
    {
     "data": {
      "text/plain": "array([ 0. ,  2.5,  5. ,  7.5, 10. ])"
     },
     "execution_count": 9,
     "metadata": {},
     "output_type": "execute_result"
    }
   ],
   "source": [
    "# np.linspace(start, stop, number_of_values_wanted)\n",
    "np.linspace(0,10,5) # this is gonna return a 5 values equally spced within range(0,11)"
   ]
  },
  {
   "cell_type": "code",
   "execution_count": 10,
   "metadata": {},
   "outputs": [
    {
     "data": {
      "text/plain": "array([[1., 0., 0., 0., 0., 0.],\n       [0., 1., 0., 0., 0., 0.],\n       [0., 0., 1., 0., 0., 0.],\n       [0., 0., 0., 1., 0., 0.],\n       [0., 0., 0., 0., 1., 0.],\n       [0., 0., 0., 0., 0., 1.]])"
     },
     "execution_count": 10,
     "metadata": {},
     "output_type": "execute_result"
    }
   ],
   "source": [
    "# creaing identity mtatrix\n",
    "# np.eye(number_of_rows) NOTE: the number of columns equal the number of rows and with diagonal of ones\n",
    "np.eye(6) # this is gonna return identity matrix of 6 c. and r."
   ]
  },
  {
   "cell_type": "markdown",
   "execution_count": null,
   "metadata": {},
   "outputs": [],
   "source": [
    "## RANDOM ARRAYS"
   ]
  },
  {
   "cell_type": "code",
   "execution_count": 11,
   "metadata": {},
   "outputs": [
    {
     "data": {
      "text/plain": "array([[0.99813562, 0.4599498 , 0.29936015, 0.9553891 , 0.76380103],\n       [0.61444156, 0.95709763, 0.27023899, 0.91321087, 0.3075029 ],\n       [0.05733122, 0.82598494, 0.52485095, 0.9933929 , 0.73290787],\n       [0.60125797, 0.47565369, 0.7898169 , 0.02075379, 0.81716372],\n       [0.64506607, 0.68459572, 0.46637014, 0.333181  , 0.33568966],\n       [0.2580216 , 0.39023845, 0.78712047, 0.99617797, 0.02038963]])"
     },
     "execution_count": 11,
     "metadata": {},
     "output_type": "execute_result"
    }
   ],
   "source": [
    "# np.random.rand(1) for one dimensional array or np.random.rand(5,5) for multi dimensional array\n",
    "# populate the array with a random samples from a uniform distribution from [0:1]\n",
    "np.random.rand(6,5)"
   ]
  },
  {
   "cell_type": "code",
   "execution_count": 12,
   "metadata": {},
   "outputs": [
    {
     "data": {
      "text/plain": "array([0.51274264, 0.34507809, 0.30037846, 0.87367214, 0.26628996])"
     },
     "execution_count": 12,
     "metadata": {},
     "output_type": "execute_result"
    }
   ],
   "source": [
    "np.random.rand(5) # for one dimensional rand array"
   ]
  },
  {
   "cell_type": "code",
   "execution_count": 13,
   "metadata": {},
   "outputs": [
    {
     "data": {
      "text/plain": "array([[-0.99902398,  1.30830947, -0.85258198, -0.56393159,  0.04510981,\n        -1.14387869],\n       [-0.36170605,  0.67447964,  0.09059523, -2.05314325,  0.42542247,\n         0.89061957],\n       [-0.08706653, -1.88283937, -0.93370517,  0.28906419,  2.11822771,\n        -1.66071293],\n       [-1.37058248,  0.43639399, -1.30698973, -0.52549205, -1.04374282,\n         0.45081196],\n       [ 2.78432867, -0.38946163, -0.78175609, -1.2842035 , -0.3004065 ,\n         0.61817157]])"
     },
     "execution_count": 13,
     "metadata": {},
     "output_type": "execute_result"
    }
   ],
   "source": [
    "# np.random.randn(number) for 1d array or np.random.randn(shape) for 2d array\n",
    "# populate the array with a standered normal distribution centered around zero 0\n",
    "np.random.randn(5,6)"
   ]
  },
  {
   "cell_type": "code",
   "execution_count": 14,
   "metadata": {},
   "outputs": [
    {
     "data": {
      "text/plain": "array([[56, 22, 22, 31, 95],\n       [35, 85, 60, 31, 29],\n       [ 9, 52, 34, 75, 39],\n       [73, 69,  8, 12, 60],\n       [76, 74, 26, 73, 94]])"
     },
     "execution_count": 14,
     "metadata": {},
     "output_type": "execute_result"
    }
   ],
   "source": [
    "# np.random.randint(low, high, (shape)) this returns a random array of integers from low vlaue to a high vlaue\n",
    "np.random.randint(0,100,(5,5))"
   ]
  },
  {
   "cell_type": "code",
   "execution_count": 15,
   "metadata": {},
   "outputs": [
    {
     "data": {
      "text/plain": "(25,)"
     },
     "execution_count": 15,
     "metadata": {},
     "output_type": "execute_result"
    }
   ],
   "source": [
    "# USEFUL ATTRIBUTES AND METHODS FOR AN ARRAY:\n",
    "arr = np.arange(25)\n",
    "arr.shape # returns the shape of a function"
   ]
  },
  {
   "cell_type": "code",
   "execution_count": 16,
   "metadata": {},
   "outputs": [
    {
     "data": {
      "text/plain": "array([12, 29,  7,  5, 34, 18, 33, 13,  2, 10])"
     },
     "execution_count": 16,
     "metadata": {},
     "output_type": "execute_result"
    }
   ],
   "source": [
    "rnarr = np.random.randint(0,50,10)\n",
    "rnarr"
   ]
  },
  {
   "cell_type": "code",
   "execution_count": 17,
   "metadata": {},
   "outputs": [
    {
     "data": {
      "text/plain": "array([[ 0,  1,  2,  3,  4],\n       [ 5,  6,  7,  8,  9],\n       [10, 11, 12, 13, 14],\n       [15, 16, 17, 18, 19],\n       [20, 21, 22, 23, 24]])"
     },
     "execution_count": 17,
     "metadata": {},
     "output_type": "execute_result"
    }
   ],
   "source": [
    "# reshaping an array\n",
    "arr.reshape(5,5) # NOTE: the number of rows times the number of columns should equal the total number of elements in the array"
   ]
  },
  {
   "cell_type": "code",
   "execution_count": 18,
   "metadata": {},
   "outputs": [
    {
     "name": "stdout",
     "output_type": "stream",
     "text": "24\n0\n24\n0\n"
    }
   ],
   "source": [
    "print(arr.max()) # return the max value of an array\n",
    "print(arr.min()) # return the min value of an array\n",
    "print(arr.argmax()) # return the location of the max vlaue fo an array\n",
    "print(arr.argmin()) # return the location of the min value of an array"
   ]
  },
  {
   "cell_type": "code",
   "execution_count": 19,
   "metadata": {},
   "outputs": [
    {
     "data": {
      "text/plain": "'minimum value = 2, index of minimum value = 8, min value from the the index = 7'"
     },
     "execution_count": 19,
     "metadata": {},
     "output_type": "execute_result"
    }
   ],
   "source": [
    "\"minimum value = {}, index of minimum value = {}, min value from the the index = {}\".format(rnarr.min(), rnarr.argmin(), rnarr[2])"
   ]
  },
  {
   "cell_type": "code",
   "execution_count": 20,
   "metadata": {},
   "outputs": [
    {
     "data": {
      "text/plain": "dtype('int64')"
     },
     "execution_count": 20,
     "metadata": {},
     "output_type": "execute_result"
    }
   ],
   "source": [
    "rnarr.dtype # this returns the actual data type in your array"
   ]
  },
  {
   "cell_type": "markdown",
   "execution_count": null,
   "metadata": {},
   "outputs": [],
   "source": [
    "## Numpy idexing and selection"
   ]
  },
  {
   "cell_type": "code",
   "execution_count": 22,
   "metadata": {},
   "outputs": [
    {
     "data": {
      "text/plain": "array([ 0,  1,  2,  3,  4,  5,  6,  7,  8,  9, 10])"
     },
     "execution_count": 22,
     "metadata": {},
     "output_type": "execute_result"
    }
   ],
   "source": [
    "arr = np.arange(0,11)\n",
    "arr"
   ]
  },
  {
   "cell_type": "code",
   "execution_count": 23,
   "metadata": {},
   "outputs": [
    {
     "data": {
      "text/plain": "2"
     },
     "execution_count": 23,
     "metadata": {},
     "output_type": "execute_result"
    }
   ],
   "source": [
    "arr[2] # getting the value by using the index"
   ]
  },
  {
   "cell_type": "code",
   "execution_count": 25,
   "metadata": {},
   "outputs": [
    {
     "data": {
      "text/plain": "(array([2, 3, 4, 5]),\n array([0, 1, 2, 3, 4, 5]),\n array([ 5,  6,  7,  8,  9, 10]))"
     },
     "execution_count": 25,
     "metadata": {},
     "output_type": "execute_result"
    }
   ],
   "source": [
    "# using slice notaion to get values in a range [start_index: stop_index]\n",
    "arr[2:6], arr[:6], arr[5:]"
   ]
  },
  {
   "cell_type": "code",
   "execution_count": 28,
   "metadata": {},
   "outputs": [
    {
     "data": {
      "text/plain": "array([100, 100, 100, 100, 100,   5,   6,   7,   8,   9,  10])"
     },
     "execution_count": 28,
     "metadata": {},
     "output_type": "execute_result"
    }
   ],
   "source": [
    "# one of the main differences between a python list and numpy array is that the array have the ability to broadcast\n",
    "arr[0:5] = 100 # changing all the values from index 0 to index 4 with 100\n",
    "arr"
   ]
  },
  {
   "cell_type": "code",
   "execution_count": 29,
   "metadata": {},
   "outputs": [
    {
     "data": {
      "text/plain": "(array([99, 99, 99, 99, 99]),\n array([99, 99, 99, 99, 99,  5,  6,  7,  8,  9, 10]))"
     },
     "execution_count": 29,
     "metadata": {},
     "output_type": "execute_result"
    }
   ],
   "source": [
    "arr = np.arange(0,11) # recreating the array\n",
    "slice_of_arr = arr[0:5]\n",
    "slice_of_arr[:] = 99 # broad casting all the values in the slice_of_arr\n",
    "slice_of_arr , arr # notice that the slice_of_arr is just a view of the arr and any change applied\n",
    "# to slice of arr is also applied to the original arr array, this is to avoid memory issues when dealing with\n",
    "# large arrays."
   ]
  },
  {
   "cell_type": "code",
   "execution_count": 30,
   "metadata": {},
   "outputs": [
    {
     "data": {
      "text/plain": "(array([55, 55, 55, 55, 55, 55, 55, 55, 55, 55, 55]),\n array([99, 99, 99, 99, 99,  5,  6,  7,  8,  9, 10]))"
     },
     "execution_count": 30,
     "metadata": {},
     "output_type": "execute_result"
    }
   ],
   "source": [
    "# to specifically indicate that you want a copy from an array\n",
    "arr_copy = arr.copy()\n",
    "arr_copy[:] = 55\n",
    "arr_copy, arr # notice that changes on arr_copy are not applied on the original arr array"
   ]
  },
  {
   "cell_type": "code",
   "execution_count": 34,
   "metadata": {},
   "outputs": [
    {
     "data": {
      "text/plain": "array([[ 8, 24,  3,  7, 23],\n       [15, 16, 10, 20,  2],\n       [21,  2,  2, 14,  2],\n       [17, 16, 24, 15,  4],\n       [11, 16,  9, 22,  2]])"
     },
     "execution_count": 34,
     "metadata": {},
     "output_type": "execute_result"
    }
   ],
   "source": [
    "np.random.seed(100) # this is gonna make the randomly generated arrays stay the same each time program runs.\n",
    "arr = np.random.randint(0,26, (5,5)) # creating a 2d array\n",
    "arr"
   ]
  },
  {
   "cell_type": "code",
   "execution_count": 36,
   "metadata": {},
   "outputs": [
    {
     "data": {
      "text/plain": "(24, 24)"
     },
     "execution_count": 36,
     "metadata": {},
     "output_type": "execute_result"
    }
   ],
   "source": [
    "# arr[row][column]: double bracket notation <or> arr[row, column]: comma notation\n",
    "arr[0][1], arr[0,1] # both should give the element 24"
   ]
  },
  {
   "cell_type": "code",
   "execution_count": 39,
   "metadata": {},
   "outputs": [
    {
     "data": {
      "text/plain": "array([[ 3,  7, 23],\n       [10, 20,  2]])"
     },
     "execution_count": 39,
     "metadata": {},
     "output_type": "execute_result"
    }
   ],
   "source": [
    "# slice notation: getting a slice from an array\n",
    "arr[:2, 2:] # grap every row from row 0 to row 1 (2 excluded) and every columns from column 2 till the end."
   ]
  },
  {
   "cell_type": "code",
   "execution_count": 40,
   "metadata": {},
   "outputs": [
    {
     "data": {
      "text/plain": "array([[668, 877, 901, 416, 898, 142, 758, 724, 613,   5, 604, 956, 836,\n        136,  50, 432, 706, 318, 783, 696, 968, 764, 337,   3, 890, 618,\n        479, 404, 995,  64, 182, 284, 825, 239, 370, 927, 945, 304, 680,\n        878, 807, 173, 275, 193, 953, 931, 438, 715, 274, 585, 526, 619,\n         31,  18,  54,  69, 947, 489, 348, 476, 980, 694, 847,   1,  14,\n        186, 461, 363, 132, 583, 644, 213, 720, 395, 216, 503, 496, 957,\n        644, 874, 177, 181, 812,  37, 774, 840,  39, 215,  95, 739, 171,\n        853,  96, 627, 750, 632,  77, 802, 315, 103, 939, 407, 257, 763,\n        696, 227, 916, 822, 197, 447, 819, 453, 420, 408, 766, 522, 945,\n        497, 790, 410, 439, 263, 678, 871, 123, 629, 187, 296, 620, 735,\n        820, 287, 890, 579, 244, 921, 440, 274, 814, 486,  90, 430, 804,\n         17, 525, 855, 467, 622,  68, 221, 224, 789, 139, 777, 474, 713,\n        415, 909, 659, 350, 888, 605, 557, 246,  58, 384, 769, 586, 745,\n        695, 989, 835, 657, 390, 436, 347,  35, 452, 863, 975, 695,  78,\n        213, 386,  15, 884, 290, 149, 169, 537, 478, 443, 797, 979, 723,\n        648, 479, 515, 576, 882],\n       [131, 216, 146, 238, 731, 251, 478, 737,  75, 438, 799,  68, 669,\n        934,  83, 999, 402, 907, 654, 594, 886, 794, 195, 656, 365, 123,\n         12, 614,  39, 885, 791, 824, 314,  88, 692, 945, 755, 507, 694,\n        658, 706, 299, 862, 173, 145, 820, 183, 184,  84, 503, 357, 555,\n        958, 761, 759, 806, 625, 721, 114, 868, 259, 319, 868, 466, 529,\n         71, 310, 995, 737, 944, 945, 906, 690, 822, 880, 675, 132, 871,\n        140, 306, 798, 805, 862, 452, 923, 882,  53, 677, 714, 416, 598,\n        503, 605, 628, 383, 325, 724, 120,  72, 830,  94, 499, 805, 124,\n        555, 782, 305, 467, 545, 295, 297, 498, 694,  94, 399,  39, 629,\n        215, 166, 129, 873, 700, 873, 358, 810, 941, 916, 717, 323, 142,\n         88,  66, 325, 183, 641, 344, 596, 779, 746, 834, 131, 216, 205,\n         40, 759, 293, 292, 612,  27, 660, 133,  40, 728, 587, 976, 477,\n        821, 941, 910, 674, 656, 146, 345, 664, 235, 572, 505,   9, 937,\n        590, 304, 760, 430, 794, 369, 928, 523, 551, 465, 216, 469, 358,\n         61, 658, 784, 598, 374, 404, 661, 132, 358, 203, 444,  12, 625,\n        305, 903, 987, 658, 362],\n       [717, 187, 457, 764, 769, 436, 378, 636, 159, 623, 211, 284, 747,\n        327, 438, 614, 168, 948, 993, 814, 296, 345, 435, 943, 317, 465,\n        966,  81, 634,  35, 210, 471, 529, 816, 896, 900, 376, 372, 973,\n        730, 262, 707,  65,  46, 956, 650, 398, 324, 127, 848, 247, 595,\n        341, 848, 910, 332, 562, 345, 742, 850, 213, 296, 893, 807, 422,\n        601, 916, 412,  22,   1, 842, 750, 898, 293, 180,  34, 353, 855,\n        762, 411, 122, 508, 599, 221, 647, 479, 900, 541,  36, 928, 788,\n        760, 243, 693, 938, 891, 975, 819, 815,  72, 562, 691, 233,  78,\n        699, 845, 868,   3, 634, 574, 829, 659,  36, 899,  56, 353, 576,\n         71, 410, 895, 736, 620, 441, 699,  83, 333, 701,  18, 546, 195,\n        991,  19, 487, 749,  67, 677, 998, 882, 520, 486, 869, 191, 130,\n        768, 470, 334, 186, 927, 349, 657, 466, 353,  21, 420, 339, 536,\n        939, 487, 356, 776, 334, 560, 787, 556, 856,  93, 252, 473, 470,\n        514, 492, 479, 989, 604, 810, 407, 334, 689,  90, 880, 188, 906,\n        454,  51,  63, 939, 968, 818,  15,  91,   2, 648, 320, 121,  48,\n        370, 873, 499, 442, 506],\n       [795, 595, 401, 564, 344, 779, 453, 680, 496, 867, 129, 258, 980,\n        389, 827, 938,   7,  38,  85, 721, 461, 294, 298, 508, 422, 452,\n        944, 929, 545, 919, 285, 825,  87, 679, 386, 178, 478, 604, 200,\n        878, 301, 441, 783,   6,  97, 736, 953, 540, 482, 351, 783, 427,\n        605, 246, 114, 344, 893, 798, 850, 947, 231, 751, 454,   8, 517,\n        472, 195, 788, 855,  83, 867, 181, 852,  77, 652, 294, 848, 380,\n        906, 754, 524, 287, 454, 962, 308, 155, 696, 116,  38, 246, 753,\n        474, 805, 296, 339, 388,  34, 934, 298,  54, 519, 113,  15, 895,\n        275, 787, 896,  95, 916, 853, 458,  16, 237, 590, 282, 560, 422,\n        570,  27, 879, 238, 444, 310, 943, 304,  87, 114, 558, 975, 445,\n        429, 649,  94, 136, 694, 549, 961, 744, 163, 261, 141, 937, 803,\n        606, 636, 993, 784, 979, 909, 854, 152, 324, 880, 829,  80, 394,\n        576, 952, 841, 145, 476, 128, 667, 247, 540, 601, 745, 419, 152,\n        252,  59, 459, 764, 141, 173, 183, 212, 392, 869, 436,  83, 682,\n        542, 766,  76, 327, 992, 655,  10,  79, 663, 924,  56, 131, 880,\n         21, 384, 996, 431,  59],\n       [  8,  61, 129, 962, 195, 277, 961, 847, 580, 393, 100, 397, 380,\n        352, 149,  38, 937, 595, 796, 652, 328, 293,  48, 447, 871, 660,\n        988,  39, 420, 130, 352, 815, 995, 565, 372, 861, 910, 497, 663,\n        746, 744, 728,  84, 844, 755, 780, 544, 935, 306, 401, 487, 813,\n        249, 380, 548, 571, 917, 225, 678, 466, 832,   4, 577, 967, 641,\n        617, 445, 145, 456, 255, 857, 318, 748,  90,  43, 579,  60, 209,\n        893, 151,  28, 566, 325, 162, 608, 598, 582, 869, 885, 477, 924,\n        805, 579, 335, 328, 514, 618, 320,  60, 624, 700, 580, 731, 864,\n        279, 923, 989, 313, 816, 694, 434, 338, 350, 114, 204, 311, 359,\n        960, 794, 378, 932, 127, 194, 502, 253,  19, 795, 365, 492, 247,\n        584, 495, 800, 374, 525, 855, 548, 953, 505, 308,  85, 207, 124,\n        515, 365, 728,  22, 673, 209, 577, 847, 914, 764, 818, 236, 658,\n        565, 256, 389, 288, 306, 922, 318, 721, 872, 898, 110,  14, 536,\n         34, 100, 906, 879, 234, 292, 966, 380, 597, 567, 484, 721,  28,\n        708, 492, 806, 545, 303, 621, 849, 133, 389, 283, 573, 956, 612,\n        987, 325, 664, 685, 921]])"
     },
     "execution_count": 40,
     "metadata": {},
     "output_type": "execute_result"
    }
   ],
   "source": [
    "# some exercise on slicing arrays\n",
    "tara = np.random.randint(1,1001,(5,200)) # 2d array with 5 rows and 200 columns\n",
    "tara"
   ]
  },
  {
   "cell_type": "code",
   "execution_count": 41,
   "metadata": {},
   "outputs": [
    {
     "data": {
      "text/plain": "array([[668, 877, 901, 416, 898],\n       [131, 216, 146, 238, 731]])"
     },
     "execution_count": 41,
     "metadata": {},
     "output_type": "execute_result"
    }
   ],
   "source": [
    "tara[:2, :5] # rows up to 2 and columns up to 5"
   ]
  },
  {
   "cell_type": "code",
   "execution_count": 43,
   "metadata": {},
   "outputs": [
    {
     "data": {
      "text/plain": "array([478, 443, 797, 979, 723, 648, 479, 515, 576, 882, 358, 203, 444,\n        12, 625, 305, 903, 987, 658, 362,   2, 648, 320, 121,  48, 370,\n       873, 499, 442, 506, 663, 924,  56, 131, 880,  21, 384, 996, 431,\n        59, 389, 283, 573, 956, 612, 987, 325, 664, 685, 921])"
     },
     "execution_count": 43,
     "metadata": {},
     "output_type": "execute_result"
    }
   ],
   "source": [
    "tara[0:6, 190:201].reshape(50) # reshaping a 2d slice array to 1d slice array"
   ]
  },
  {
   "cell_type": "markdown",
   "execution_count": null,
   "metadata": {},
   "outputs": [],
   "source": [
    "## Conditional Selection"
   ]
  },
  {
   "cell_type": "code",
   "execution_count": 44,
   "metadata": {},
   "outputs": [
    {
     "data": {
      "text/plain": "array([ 1,  2,  3,  4,  5,  6,  7,  8,  9, 10])"
     },
     "execution_count": 44,
     "metadata": {},
     "output_type": "execute_result"
    }
   ],
   "source": [
    "arr = np.arange(1,11)\n",
    "arr"
   ]
  },
  {
   "cell_type": "code",
   "execution_count": 47,
   "metadata": {},
   "outputs": [
    {
     "data": {
      "text/plain": "array([False, False, False, False, False,  True,  True,  True,  True,\n        True])"
     },
     "execution_count": 47,
     "metadata": {},
     "output_type": "execute_result"
    }
   ],
   "source": [
    "bool_arr = arr > 5 # this gives true or false for each value in the array based on the condition (arr > 5)\n",
    "bool_arr # then you can use this boolean array for the conditional selection"
   ]
  },
  {
   "cell_type": "code",
   "execution_count": 48,
   "metadata": {},
   "outputs": [
    {
     "data": {
      "text/plain": "array([ 6,  7,  8,  9, 10])"
     },
     "execution_count": 48,
     "metadata": {},
     "output_type": "execute_result"
    }
   ],
   "source": [
    "arr[bool_arr] # this is gonna return all the array elements greater than 5"
   ]
  },
  {
   "cell_type": "code",
   "execution_count": 50,
   "metadata": {},
   "outputs": [
    {
     "data": {
      "text/plain": "(array([ 6,  7,  8,  9, 10]), array([1, 2]))"
     },
     "execution_count": 50,
     "metadata": {},
     "output_type": "execute_result"
    }
   ],
   "source": [
    "# instead of doing this on two steps we can do this on one step: arr[conditional statement]\n",
    "arr[arr>5], arr[arr<3]"
   ]
  },
  {
   "cell_type": "markdown",
   "execution_count": null,
   "metadata": {},
   "outputs": [],
   "source": [
    "# Numpy operations\n",
    "### 1- array with array\n",
    "### 2- array with scalars\n",
    "### 3-universal array fnctions"
   ]
  },
  {
   "cell_type": "code",
   "execution_count": 51,
   "metadata": {},
   "outputs": [
    {
     "data": {
      "text/plain": "array([ 0,  1,  2,  3,  4,  5,  6,  7,  8,  9, 10])"
     },
     "execution_count": 51,
     "metadata": {},
     "output_type": "execute_result"
    }
   ],
   "source": [
    "arr = np.arange(0,11)\n",
    "arr"
   ]
  },
  {
   "cell_type": "code",
   "execution_count": 52,
   "metadata": {},
   "outputs": [
    {
     "data": {
      "text/plain": "array([ 0,  2,  4,  6,  8, 10, 12, 14, 16, 18, 20])"
     },
     "execution_count": 52,
     "metadata": {},
     "output_type": "execute_result"
    }
   ],
   "source": [
    "# using simple arthmatic signs\n",
    "arr + arr # adding two array (here each number is doubled)"
   ]
  },
  {
   "cell_type": "code",
   "execution_count": 53,
   "metadata": {},
   "outputs": [
    {
     "data": {
      "text/plain": "array([0, 0, 0, 0, 0, 0, 0, 0, 0, 0, 0])"
     },
     "execution_count": 53,
     "metadata": {},
     "output_type": "execute_result"
    }
   ],
   "source": [
    "arr - arr"
   ]
  },
  {
   "cell_type": "code",
   "execution_count": 54,
   "metadata": {},
   "outputs": [
    {
     "data": {
      "text/plain": "array([  0,   1,   4,   9,  16,  25,  36,  49,  64,  81, 100])"
     },
     "execution_count": 54,
     "metadata": {},
     "output_type": "execute_result"
    }
   ],
   "source": [
    "arr* arr"
   ]
  },
  {
   "cell_type": "code",
   "execution_count": 55,
   "metadata": {},
   "outputs": [
    {
     "data": {
      "text/plain": "array([   0,  100,  200,  300,  400,  500,  600,  700,  800,  900, 1000])"
     },
     "execution_count": 55,
     "metadata": {},
     "output_type": "execute_result"
    }
   ],
   "source": [
    "# scalars \n",
    "arr * 100 # adds or do any operation on all the array elements"
   ]
  },
  {
   "cell_type": "code",
   "execution_count": 56,
   "metadata": {},
   "outputs": [
    {
     "name": "stderr",
     "output_type": "stream",
     "text": "/home/nemo/anaconda3/lib/python3.7/site-packages/ipykernel_launcher.py:2: RuntimeWarning: invalid value encountered in true_divide\n  \n"
    },
    {
     "data": {
      "text/plain": "array([nan,  1.,  1.,  1.,  1.,  1.,  1.,  1.,  1.,  1.,  1.])"
     },
     "execution_count": 56,
     "metadata": {},
     "output_type": "execute_result"
    }
   ],
   "source": [
    "# however numpy will issue warning in case of some arithmatic operations\n",
    "arr / arr # here nan is given as \"0/0\" is not a known number"
   ]
  },
  {
   "cell_type": "code",
   "execution_count": 58,
   "metadata": {},
   "outputs": [
    {
     "name": "stderr",
     "output_type": "stream",
     "text": "/home/nemo/anaconda3/lib/python3.7/site-packages/ipykernel_launcher.py:1: RuntimeWarning: divide by zero encountered in true_divide\n  \"\"\"Entry point for launching an IPython kernel.\n"
    },
    {
     "data": {
      "text/plain": "array([       inf, 1.        , 0.5       , 0.33333333, 0.25      ,\n       0.2       , 0.16666667, 0.14285714, 0.125     , 0.11111111,\n       0.1       ])"
     },
     "execution_count": 58,
     "metadata": {},
     "output_type": "execute_result"
    }
   ],
   "source": [
    "1 / arr # warning as \"1/0\" equals infinity"
   ]
  },
  {
   "cell_type": "code",
   "execution_count": 59,
   "metadata": {},
   "outputs": [
    {
     "data": {
      "text/plain": "array([  0,   1,   4,   9,  16,  25,  36,  49,  64,  81, 100])"
     },
     "execution_count": 59,
     "metadata": {},
     "output_type": "execute_result"
    }
   ],
   "source": [
    "arr**2"
   ]
  },
  {
   "cell_type": "code",
   "execution_count": 60,
   "metadata": {},
   "outputs": [
    {
     "data": {
      "text/plain": "array([0.        , 1.        , 1.41421356, 1.73205081, 2.        ,\n       2.23606798, 2.44948974, 2.64575131, 2.82842712, 3.        ,\n       3.16227766])"
     },
     "execution_count": 60,
     "metadata": {},
     "output_type": "execute_result"
    }
   ],
   "source": [
    "np.sqrt(arr) # the root of every thing in the array"
   ]
  },
  {
   "cell_type": "code",
   "execution_count": 61,
   "metadata": {},
   "outputs": [
    {
     "data": {
      "text/plain": "(10, 10)"
     },
     "execution_count": 61,
     "metadata": {},
     "output_type": "execute_result"
    }
   ],
   "source": [
    "np.max(arr), arr.max()"
   ]
  },
  {
   "cell_type": "code",
   "execution_count": 62,
   "metadata": {},
   "outputs": [
    {
     "name": "stderr",
     "output_type": "stream",
     "text": "/home/nemo/anaconda3/lib/python3.7/site-packages/ipykernel_launcher.py:1: RuntimeWarning: divide by zero encountered in log\n  \"\"\"Entry point for launching an IPython kernel.\n"
    },
    {
     "data": {
      "text/plain": "array([      -inf, 0.        , 0.69314718, 1.09861229, 1.38629436,\n       1.60943791, 1.79175947, 1.94591015, 2.07944154, 2.19722458,\n       2.30258509])"
     },
     "execution_count": 62,
     "metadata": {},
     "output_type": "execute_result"
    }
   ],
   "source": [
    "np.log(arr) # note that the log(0) = -inf"
   ]
  },
  {
   "cell_type": "markdown",
   "execution_count": null,
   "metadata": {},
   "outputs": [],
   "source": [
    "### universal array functions documentations:\n",
    "[here you can find more information about universal functions](docs.scipy.org/doc/numpy/reference/ufuncs.html)"
   ]
  }
 ],
 "metadata": {
  "file_extension": ".py",
  "kernelspec": {
   "display_name": "Python 3.7.4 64-bit ('anaconda3': virtualenv)",
   "language": "python",
   "name": "python37464bitanaconda3virtualenv9f00f4b04c9e49ea9ebc7b6b879ba9d6"
  },
  "language_info": {
   "codemirror_mode": {
    "name": "ipython",
    "version": 3
   },
   "file_extension": ".py",
   "mimetype": "text/x-python",
   "name": "python",
   "nbconvert_exporter": "python",
   "pygments_lexer": "ipython3",
   "version": "3.7.4-final"
  },
  "mimetype": "text/x-python",
  "name": "python",
  "npconvert_exporter": "python",
  "pygments_lexer": "ipython3",
  "version": 3
 },
 "nbformat": 4,
 "nbformat_minor": 2
}